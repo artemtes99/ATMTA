{
 "cells": [
  {
   "cell_type": "code",
   "execution_count": 348,
   "id": "56df5a28",
   "metadata": {
    "_cell_guid": "b1076dfc-b9ad-4769-8c92-a6c4dae69d19",
    "_uuid": "8f2839f25d086af736a60e9eeb907d3b93b6e0e5",
    "execution": {
     "iopub.execute_input": "2022-01-08T10:14:41.435521Z",
     "iopub.status.busy": "2022-01-08T10:14:41.433778Z",
     "iopub.status.idle": "2022-01-08T10:14:42.680465Z",
     "shell.execute_reply": "2022-01-08T10:14:42.681356Z",
     "shell.execute_reply.started": "2022-01-08T09:19:50.537604Z"
    },
    "papermill": {
     "duration": 1.381809,
     "end_time": "2022-01-08T10:14:42.681803",
     "exception": false,
     "start_time": "2022-01-08T10:14:41.299994",
     "status": "completed"
    },
    "tags": []
   },
   "outputs": [],
   "source": [
    "# This Python 3 environment comes with many helpful analytics libraries installed\n",
    "# It is defined by the kaggle/python Docker image: https://github.com/kaggle/docker-python\n",
    "# For example, here's several helpful packages to load\n",
    "\n",
    "import numpy as np # linear algebra\n",
    "import pandas as pd # data processing, CSV file I/O (e.g. pd.read_csv)\n",
    "import matplotlib.pyplot as plt\n",
    "import seaborn as sns\n",
    "from sklearn.linear_model import LogisticRegression\n",
    "from sklearn.preprocessing import MinMaxScaler, StandardScaler, RobustScaler, LabelBinarizer, LabelEncoder\n",
    "from sklearn.neighbors import KNeighborsClassifier\n",
    "from sklearn.tree import DecisionTreeClassifier\n",
    "from sklearn.model_selection import train_test_split\n",
    "from sklearn.model_selection import KFold, cross_val_score\n",
    "from sklearn.model_selection import GridSearchCV\n",
    "from sklearn.pipeline import make_pipeline\n",
    "from sklearn.pipeline import Pipeline\n",
    "from sklearn.feature_selection import RFECV, RFE\n",
    "\n",
    "# Input data files are available in the read-only \"../input/\" directory\n",
    "# For example, running this (by clicking run or pressing Shift+Enter) will list all files under the input directory\n",
    "\n",
    "# import os\n",
    "# for dirname, _, filenames in os.walk('/kaggle/input'):\n",
    "#     for filename in filenames:\n",
    "#         print(os.path.join(dirname, filename))\n",
    "\n",
    "# You can write up to 20GB to the current directory (/kaggle/working/) that gets preserved as output when you create a version using \"Save & Run All\" \n",
    "# You can also write temporary files to /kaggle/temp/, but they won't be saved outside of the current session"
   ]
  },
  {
   "cell_type": "markdown",
   "id": "e16dfa09",
   "metadata": {
    "papermill": {
     "duration": 0.104868,
     "end_time": "2022-01-08T10:14:42.887553",
     "exception": false,
     "start_time": "2022-01-08T10:14:42.782685",
     "status": "completed"
    },
    "tags": []
   },
   "source": [
    "# 1.Исследовательский анализ данных"
   ]
  },
  {
   "cell_type": "markdown",
   "id": "5540f360",
   "metadata": {
    "papermill": {
     "duration": 0.097102,
     "end_time": "2022-01-08T10:14:43.101497",
     "exception": false,
     "start_time": "2022-01-08T10:14:43.004395",
     "status": "completed"
    },
    "tags": []
   },
   "source": [
    "## 1.1 Словесное описание признаков"
   ]
  },
  {
   "cell_type": "markdown",
   "id": "728bc587",
   "metadata": {
    "papermill": {
     "duration": 0.096578,
     "end_time": "2022-01-08T10:14:43.296536",
     "exception": false,
     "start_time": "2022-01-08T10:14:43.199958",
     "status": "completed"
    },
    "tags": []
   },
   "source": [
    "* PassengerId - Уникальный идентификатор пассажира. \n",
    "* Survived - (Целевой столбец) Выжил ли пассажир или нет. Значения: 1 - выжил, 0 - не выжил.\n",
    "* Pclass - Класс билета. Значения: 1 = 1st, 2 = 2nd, 3 = 3rd\n",
    "* Name - Имя пассажира. \n",
    "* Sex - Пол пассажира. Значения: male, female.\n",
    "* Age - Возраст пассажира. Значения: численные.\n",
    "* SibSp - Количество братьев и сестер / супругов на борту Титаника. Значения: численные.\n",
    "* Parch - Количество родителей / детей на борту Титаника. Значения: численные.\n",
    "* Ticket - Номер билет пассажира. Значения: уникальный идентификатор билета (строковое).\n",
    "* Fare - Пассажирский тариф. Значения: численные.\n",
    "* Cabin - Номер каюты. Значения: строковый идентификатор каюты.\n",
    "* Embarked - Порт посадки. Значения: C = Cherbourg, Q = Queenstown, S = Southampton."
   ]
  },
  {
   "cell_type": "markdown",
   "id": "6f267d95",
   "metadata": {
    "papermill": {
     "duration": 0.09705,
     "end_time": "2022-01-08T10:14:43.490839",
     "exception": false,
     "start_time": "2022-01-08T10:14:43.393789",
     "status": "completed"
    },
    "tags": []
   },
   "source": [
    "## 1.2 Загрузка данных, общее описание набора данных"
   ]
  },
  {
   "cell_type": "markdown",
   "id": "be4ee27f",
   "metadata": {
    "papermill": {
     "duration": 0.096917,
     "end_time": "2022-01-08T10:14:43.685388",
     "exception": false,
     "start_time": "2022-01-08T10:14:43.588471",
     "status": "completed"
    },
    "tags": []
   },
   "source": [
    "* Загрузка и первый взгляд на данные."
   ]
  },
  {
   "cell_type": "code",
   "execution_count": 349,
   "id": "8c06517d",
   "metadata": {
    "execution": {
     "iopub.execute_input": "2022-01-08T10:14:43.888479Z",
     "iopub.status.busy": "2022-01-08T10:14:43.887799Z",
     "iopub.status.idle": "2022-01-08T10:14:43.920846Z",
     "shell.execute_reply": "2022-01-08T10:14:43.921411Z",
     "shell.execute_reply.started": "2022-01-08T09:19:52.007022Z"
    },
    "papermill": {
     "duration": 0.137663,
     "end_time": "2022-01-08T10:14:43.921593",
     "exception": false,
     "start_time": "2022-01-08T10:14:43.783930",
     "status": "completed"
    },
    "tags": []
   },
   "outputs": [
    {
     "data": {
      "text/html": [
       "<div>\n",
       "<style scoped>\n",
       "    .dataframe tbody tr th:only-of-type {\n",
       "        vertical-align: middle;\n",
       "    }\n",
       "\n",
       "    .dataframe tbody tr th {\n",
       "        vertical-align: top;\n",
       "    }\n",
       "\n",
       "    .dataframe thead th {\n",
       "        text-align: right;\n",
       "    }\n",
       "</style>\n",
       "<table border=\"1\" class=\"dataframe\">\n",
       "  <thead>\n",
       "    <tr style=\"text-align: right;\">\n",
       "      <th></th>\n",
       "      <th>PassengerId</th>\n",
       "      <th>Survived</th>\n",
       "      <th>Pclass</th>\n",
       "      <th>Name</th>\n",
       "      <th>Sex</th>\n",
       "      <th>Age</th>\n",
       "      <th>SibSp</th>\n",
       "      <th>Parch</th>\n",
       "      <th>Ticket</th>\n",
       "      <th>Fare</th>\n",
       "      <th>Cabin</th>\n",
       "      <th>Embarked</th>\n",
       "    </tr>\n",
       "  </thead>\n",
       "  <tbody>\n",
       "    <tr>\n",
       "      <th>0</th>\n",
       "      <td>1</td>\n",
       "      <td>0</td>\n",
       "      <td>3</td>\n",
       "      <td>Braund, Mr. Owen Harris</td>\n",
       "      <td>male</td>\n",
       "      <td>22.0</td>\n",
       "      <td>1</td>\n",
       "      <td>0</td>\n",
       "      <td>A/5 21171</td>\n",
       "      <td>7.2500</td>\n",
       "      <td>NaN</td>\n",
       "      <td>S</td>\n",
       "    </tr>\n",
       "    <tr>\n",
       "      <th>1</th>\n",
       "      <td>2</td>\n",
       "      <td>1</td>\n",
       "      <td>1</td>\n",
       "      <td>Cumings, Mrs. John Bradley (Florence Briggs Th...</td>\n",
       "      <td>female</td>\n",
       "      <td>38.0</td>\n",
       "      <td>1</td>\n",
       "      <td>0</td>\n",
       "      <td>PC 17599</td>\n",
       "      <td>71.2833</td>\n",
       "      <td>C85</td>\n",
       "      <td>C</td>\n",
       "    </tr>\n",
       "    <tr>\n",
       "      <th>2</th>\n",
       "      <td>3</td>\n",
       "      <td>1</td>\n",
       "      <td>3</td>\n",
       "      <td>Heikkinen, Miss. Laina</td>\n",
       "      <td>female</td>\n",
       "      <td>26.0</td>\n",
       "      <td>0</td>\n",
       "      <td>0</td>\n",
       "      <td>STON/O2. 3101282</td>\n",
       "      <td>7.9250</td>\n",
       "      <td>NaN</td>\n",
       "      <td>S</td>\n",
       "    </tr>\n",
       "    <tr>\n",
       "      <th>3</th>\n",
       "      <td>4</td>\n",
       "      <td>1</td>\n",
       "      <td>1</td>\n",
       "      <td>Futrelle, Mrs. Jacques Heath (Lily May Peel)</td>\n",
       "      <td>female</td>\n",
       "      <td>35.0</td>\n",
       "      <td>1</td>\n",
       "      <td>0</td>\n",
       "      <td>113803</td>\n",
       "      <td>53.1000</td>\n",
       "      <td>C123</td>\n",
       "      <td>S</td>\n",
       "    </tr>\n",
       "    <tr>\n",
       "      <th>4</th>\n",
       "      <td>5</td>\n",
       "      <td>0</td>\n",
       "      <td>3</td>\n",
       "      <td>Allen, Mr. William Henry</td>\n",
       "      <td>male</td>\n",
       "      <td>35.0</td>\n",
       "      <td>0</td>\n",
       "      <td>0</td>\n",
       "      <td>373450</td>\n",
       "      <td>8.0500</td>\n",
       "      <td>NaN</td>\n",
       "      <td>S</td>\n",
       "    </tr>\n",
       "  </tbody>\n",
       "</table>\n",
       "</div>"
      ],
      "text/plain": [
       "   PassengerId  Survived  Pclass  \\\n",
       "0            1         0       3   \n",
       "1            2         1       1   \n",
       "2            3         1       3   \n",
       "3            4         1       1   \n",
       "4            5         0       3   \n",
       "\n",
       "                                                Name     Sex   Age  SibSp  \\\n",
       "0                            Braund, Mr. Owen Harris    male  22.0      1   \n",
       "1  Cumings, Mrs. John Bradley (Florence Briggs Th...  female  38.0      1   \n",
       "2                             Heikkinen, Miss. Laina  female  26.0      0   \n",
       "3       Futrelle, Mrs. Jacques Heath (Lily May Peel)  female  35.0      1   \n",
       "4                           Allen, Mr. William Henry    male  35.0      0   \n",
       "\n",
       "   Parch            Ticket     Fare Cabin Embarked  \n",
       "0      0         A/5 21171   7.2500   NaN        S  \n",
       "1      0          PC 17599  71.2833   C85        C  \n",
       "2      0  STON/O2. 3101282   7.9250   NaN        S  \n",
       "3      0            113803  53.1000  C123        S  \n",
       "4      0            373450   8.0500   NaN        S  "
      ]
     },
     "execution_count": 349,
     "metadata": {},
     "output_type": "execute_result"
    }
   ],
   "source": [
    "df = pd.read_csv(\"train.csv\")\n",
    "\n",
    "df.head()"
   ]
  },
  {
   "cell_type": "code",
   "execution_count": 350,
   "id": "a2ea2078",
   "metadata": {
    "execution": {
     "iopub.execute_input": "2022-01-08T10:14:44.121855Z",
     "iopub.status.busy": "2022-01-08T10:14:44.120871Z",
     "iopub.status.idle": "2022-01-08T10:14:44.132805Z",
     "shell.execute_reply": "2022-01-08T10:14:44.133402Z",
     "shell.execute_reply.started": "2022-01-08T09:19:52.056778Z"
    },
    "papermill": {
     "duration": 0.113401,
     "end_time": "2022-01-08T10:14:44.133566",
     "exception": false,
     "start_time": "2022-01-08T10:14:44.020165",
     "status": "completed"
    },
    "tags": []
   },
   "outputs": [
    {
     "name": "stdout",
     "output_type": "stream",
     "text": [
      "(891, 12)\n",
      "0    549\n",
      "1    342\n",
      "Name: Survived, dtype: int64\n",
      "0    0.616162\n",
      "1    0.383838\n",
      "Name: Survived, dtype: float64\n"
     ]
    }
   ],
   "source": [
    "print(df.shape)\n",
    "print(df.Survived.value_counts())\n",
    "print(df.Survived.value_counts(normalize=True))"
   ]
  },
  {
   "cell_type": "markdown",
   "id": "defe2c1f",
   "metadata": {
    "papermill": {
     "duration": 0.098253,
     "end_time": "2022-01-08T10:14:44.329634",
     "exception": false,
     "start_time": "2022-01-08T10:14:44.231381",
     "status": "completed"
    },
    "tags": []
   },
   "source": [
    "Общая информация:"
   ]
  },
  {
   "cell_type": "code",
   "execution_count": 351,
   "id": "9ba2c957",
   "metadata": {
    "execution": {
     "iopub.execute_input": "2022-01-08T10:14:44.539874Z",
     "iopub.status.busy": "2022-01-08T10:14:44.538618Z",
     "iopub.status.idle": "2022-01-08T10:14:44.564797Z",
     "shell.execute_reply": "2022-01-08T10:14:44.565337Z",
     "shell.execute_reply.started": "2022-01-08T09:19:52.081384Z"
    },
    "papermill": {
     "duration": 0.137184,
     "end_time": "2022-01-08T10:14:44.565521",
     "exception": false,
     "start_time": "2022-01-08T10:14:44.428337",
     "status": "completed"
    },
    "tags": []
   },
   "outputs": [
    {
     "data": {
      "text/html": [
       "<div>\n",
       "<style scoped>\n",
       "    .dataframe tbody tr th:only-of-type {\n",
       "        vertical-align: middle;\n",
       "    }\n",
       "\n",
       "    .dataframe tbody tr th {\n",
       "        vertical-align: top;\n",
       "    }\n",
       "\n",
       "    .dataframe thead th {\n",
       "        text-align: right;\n",
       "    }\n",
       "</style>\n",
       "<table border=\"1\" class=\"dataframe\">\n",
       "  <thead>\n",
       "    <tr style=\"text-align: right;\">\n",
       "      <th></th>\n",
       "      <th>PassengerId</th>\n",
       "      <th>Survived</th>\n",
       "      <th>Pclass</th>\n",
       "      <th>Age</th>\n",
       "      <th>SibSp</th>\n",
       "      <th>Parch</th>\n",
       "      <th>Fare</th>\n",
       "    </tr>\n",
       "  </thead>\n",
       "  <tbody>\n",
       "    <tr>\n",
       "      <th>count</th>\n",
       "      <td>891.000000</td>\n",
       "      <td>891.000000</td>\n",
       "      <td>891.000000</td>\n",
       "      <td>714.000000</td>\n",
       "      <td>891.000000</td>\n",
       "      <td>891.000000</td>\n",
       "      <td>891.000000</td>\n",
       "    </tr>\n",
       "    <tr>\n",
       "      <th>mean</th>\n",
       "      <td>446.000000</td>\n",
       "      <td>0.383838</td>\n",
       "      <td>2.308642</td>\n",
       "      <td>29.699118</td>\n",
       "      <td>0.523008</td>\n",
       "      <td>0.381594</td>\n",
       "      <td>32.204208</td>\n",
       "    </tr>\n",
       "    <tr>\n",
       "      <th>std</th>\n",
       "      <td>257.353842</td>\n",
       "      <td>0.486592</td>\n",
       "      <td>0.836071</td>\n",
       "      <td>14.526497</td>\n",
       "      <td>1.102743</td>\n",
       "      <td>0.806057</td>\n",
       "      <td>49.693429</td>\n",
       "    </tr>\n",
       "    <tr>\n",
       "      <th>min</th>\n",
       "      <td>1.000000</td>\n",
       "      <td>0.000000</td>\n",
       "      <td>1.000000</td>\n",
       "      <td>0.420000</td>\n",
       "      <td>0.000000</td>\n",
       "      <td>0.000000</td>\n",
       "      <td>0.000000</td>\n",
       "    </tr>\n",
       "    <tr>\n",
       "      <th>25%</th>\n",
       "      <td>223.500000</td>\n",
       "      <td>0.000000</td>\n",
       "      <td>2.000000</td>\n",
       "      <td>20.125000</td>\n",
       "      <td>0.000000</td>\n",
       "      <td>0.000000</td>\n",
       "      <td>7.910400</td>\n",
       "    </tr>\n",
       "    <tr>\n",
       "      <th>50%</th>\n",
       "      <td>446.000000</td>\n",
       "      <td>0.000000</td>\n",
       "      <td>3.000000</td>\n",
       "      <td>28.000000</td>\n",
       "      <td>0.000000</td>\n",
       "      <td>0.000000</td>\n",
       "      <td>14.454200</td>\n",
       "    </tr>\n",
       "    <tr>\n",
       "      <th>75%</th>\n",
       "      <td>668.500000</td>\n",
       "      <td>1.000000</td>\n",
       "      <td>3.000000</td>\n",
       "      <td>38.000000</td>\n",
       "      <td>1.000000</td>\n",
       "      <td>0.000000</td>\n",
       "      <td>31.000000</td>\n",
       "    </tr>\n",
       "    <tr>\n",
       "      <th>max</th>\n",
       "      <td>891.000000</td>\n",
       "      <td>1.000000</td>\n",
       "      <td>3.000000</td>\n",
       "      <td>80.000000</td>\n",
       "      <td>8.000000</td>\n",
       "      <td>6.000000</td>\n",
       "      <td>512.329200</td>\n",
       "    </tr>\n",
       "  </tbody>\n",
       "</table>\n",
       "</div>"
      ],
      "text/plain": [
       "       PassengerId    Survived      Pclass         Age       SibSp  \\\n",
       "count   891.000000  891.000000  891.000000  714.000000  891.000000   \n",
       "mean    446.000000    0.383838    2.308642   29.699118    0.523008   \n",
       "std     257.353842    0.486592    0.836071   14.526497    1.102743   \n",
       "min       1.000000    0.000000    1.000000    0.420000    0.000000   \n",
       "25%     223.500000    0.000000    2.000000   20.125000    0.000000   \n",
       "50%     446.000000    0.000000    3.000000   28.000000    0.000000   \n",
       "75%     668.500000    1.000000    3.000000   38.000000    1.000000   \n",
       "max     891.000000    1.000000    3.000000   80.000000    8.000000   \n",
       "\n",
       "            Parch        Fare  \n",
       "count  891.000000  891.000000  \n",
       "mean     0.381594   32.204208  \n",
       "std      0.806057   49.693429  \n",
       "min      0.000000    0.000000  \n",
       "25%      0.000000    7.910400  \n",
       "50%      0.000000   14.454200  \n",
       "75%      0.000000   31.000000  \n",
       "max      6.000000  512.329200  "
      ]
     },
     "execution_count": 351,
     "metadata": {},
     "output_type": "execute_result"
    }
   ],
   "source": [
    "df.describe()"
   ]
  },
  {
   "cell_type": "markdown",
   "id": "65984bf3",
   "metadata": {
    "papermill": {
     "duration": 0.101057,
     "end_time": "2022-01-08T10:14:44.765548",
     "exception": false,
     "start_time": "2022-01-08T10:14:44.664491",
     "status": "completed"
    },
    "tags": []
   },
   "source": [
    "**Первичные выводы:**\n",
    "* У большинства пассажиров (50%) класс билета - 3. \n",
    "* Возраст пассажиров в выборке от 5 месяцев до 80 лет. Предполагая, что возраст имеет нормальное распределение, 68% пассажиров имеют возраст от 15 до 43 лет.\n",
    "* У большинства пассажиров (50%) на борту не было братьев, сестёр или супругов. 25% всей выборки имели 1 братьев, сестёр или супругов на борту, а максимум один пассажир на борту имеет 8 братьев, сестёр или супругов.\n",
    "* Основная часть (75%) пассажиров была на борту без родителей или детей. Максимум один пассажир имеет 8 родственников.\n",
    "* Предполагая, что тариф имеет нормальное распределение, 68% пассажиров запалатили от 0 до 81.\n",
    "* **Как уже было сказано выше среди выживших наблюдается дисбаланс классов: в данной выборке выживших на 20% меньше.**"
   ]
  },
  {
   "cell_type": "code",
   "execution_count": 352,
   "id": "63143c07",
   "metadata": {
    "execution": {
     "iopub.execute_input": "2022-01-08T10:14:44.973278Z",
     "iopub.status.busy": "2022-01-08T10:14:44.972599Z",
     "iopub.status.idle": "2022-01-08T10:14:44.990129Z",
     "shell.execute_reply": "2022-01-08T10:14:44.990610Z",
     "shell.execute_reply.started": "2022-01-08T09:19:52.136628Z"
    },
    "papermill": {
     "duration": 0.12518,
     "end_time": "2022-01-08T10:14:44.990776",
     "exception": false,
     "start_time": "2022-01-08T10:14:44.865596",
     "status": "completed"
    },
    "tags": []
   },
   "outputs": [
    {
     "data": {
      "text/html": [
       "<div>\n",
       "<style scoped>\n",
       "    .dataframe tbody tr th:only-of-type {\n",
       "        vertical-align: middle;\n",
       "    }\n",
       "\n",
       "    .dataframe tbody tr th {\n",
       "        vertical-align: top;\n",
       "    }\n",
       "\n",
       "    .dataframe thead th {\n",
       "        text-align: right;\n",
       "    }\n",
       "</style>\n",
       "<table border=\"1\" class=\"dataframe\">\n",
       "  <thead>\n",
       "    <tr style=\"text-align: right;\">\n",
       "      <th></th>\n",
       "      <th>Name</th>\n",
       "      <th>Sex</th>\n",
       "      <th>Ticket</th>\n",
       "      <th>Cabin</th>\n",
       "      <th>Embarked</th>\n",
       "    </tr>\n",
       "  </thead>\n",
       "  <tbody>\n",
       "    <tr>\n",
       "      <th>count</th>\n",
       "      <td>891</td>\n",
       "      <td>891</td>\n",
       "      <td>891</td>\n",
       "      <td>204</td>\n",
       "      <td>889</td>\n",
       "    </tr>\n",
       "    <tr>\n",
       "      <th>unique</th>\n",
       "      <td>891</td>\n",
       "      <td>2</td>\n",
       "      <td>681</td>\n",
       "      <td>147</td>\n",
       "      <td>3</td>\n",
       "    </tr>\n",
       "    <tr>\n",
       "      <th>top</th>\n",
       "      <td>Turpin, Mrs. William John Robert (Dorothy Ann ...</td>\n",
       "      <td>male</td>\n",
       "      <td>CA. 2343</td>\n",
       "      <td>C23 C25 C27</td>\n",
       "      <td>S</td>\n",
       "    </tr>\n",
       "    <tr>\n",
       "      <th>freq</th>\n",
       "      <td>1</td>\n",
       "      <td>577</td>\n",
       "      <td>7</td>\n",
       "      <td>4</td>\n",
       "      <td>644</td>\n",
       "    </tr>\n",
       "  </tbody>\n",
       "</table>\n",
       "</div>"
      ],
      "text/plain": [
       "                                                     Name   Sex    Ticket  \\\n",
       "count                                                 891   891       891   \n",
       "unique                                                891     2       681   \n",
       "top     Turpin, Mrs. William John Robert (Dorothy Ann ...  male  CA. 2343   \n",
       "freq                                                    1   577         7   \n",
       "\n",
       "              Cabin Embarked  \n",
       "count           204      889  \n",
       "unique          147        3  \n",
       "top     C23 C25 C27        S  \n",
       "freq              4      644  "
      ]
     },
     "execution_count": 352,
     "metadata": {},
     "output_type": "execute_result"
    }
   ],
   "source": [
    "df.describe(include=[object])"
   ]
  },
  {
   "cell_type": "markdown",
   "id": "2c9d0068",
   "metadata": {
    "papermill": {
     "duration": 0.098445,
     "end_time": "2022-01-08T10:14:45.189026",
     "exception": false,
     "start_time": "2022-01-08T10:14:45.090581",
     "status": "completed"
    },
    "tags": []
   },
   "source": [
    "**Первичные выводы**\n",
    "* Все имена пассажиров уникальны.\n",
    "* В данной выборке мужчины составляют 64%.\n",
    "* Среди 891 записи уникальных номеров билетов только 681. Предположительно это связано с тем, что один билет мог быть на несколько человек, например, на одну семью.\n",
    "* Только в 23% записей указана каюта пассажира. В одной каюте могли располагаться до 4 человек.\n",
    "* 72% всех пассажиров сели на борт в Southampton."
   ]
  },
  {
   "cell_type": "code",
   "execution_count": 353,
   "id": "30e18ec0",
   "metadata": {
    "execution": {
     "iopub.execute_input": "2022-01-08T10:14:45.390205Z",
     "iopub.status.busy": "2022-01-08T10:14:45.389512Z",
     "iopub.status.idle": "2022-01-08T10:14:45.403854Z",
     "shell.execute_reply": "2022-01-08T10:14:45.403201Z",
     "shell.execute_reply.started": "2022-01-08T09:19:52.168669Z"
    },
    "papermill": {
     "duration": 0.116592,
     "end_time": "2022-01-08T10:14:45.404013",
     "exception": false,
     "start_time": "2022-01-08T10:14:45.287421",
     "status": "completed"
    },
    "tags": []
   },
   "outputs": [
    {
     "name": "stdout",
     "output_type": "stream",
     "text": [
      "<class 'pandas.core.frame.DataFrame'>\n",
      "RangeIndex: 891 entries, 0 to 890\n",
      "Data columns (total 12 columns):\n",
      " #   Column       Non-Null Count  Dtype  \n",
      "---  ------       --------------  -----  \n",
      " 0   PassengerId  891 non-null    int64  \n",
      " 1   Survived     891 non-null    int64  \n",
      " 2   Pclass       891 non-null    int64  \n",
      " 3   Name         891 non-null    object \n",
      " 4   Sex          891 non-null    object \n",
      " 5   Age          714 non-null    float64\n",
      " 6   SibSp        891 non-null    int64  \n",
      " 7   Parch        891 non-null    int64  \n",
      " 8   Ticket       891 non-null    object \n",
      " 9   Fare         891 non-null    float64\n",
      " 10  Cabin        204 non-null    object \n",
      " 11  Embarked     889 non-null    object \n",
      "dtypes: float64(2), int64(5), object(5)\n",
      "memory usage: 83.7+ KB\n"
     ]
    }
   ],
   "source": [
    "df.info()"
   ]
  },
  {
   "cell_type": "markdown",
   "id": "7cdf6258",
   "metadata": {
    "papermill": {
     "duration": 0.09964,
     "end_time": "2022-01-08T10:14:45.604461",
     "exception": false,
     "start_time": "2022-01-08T10:14:45.504821",
     "status": "completed"
    },
    "tags": []
   },
   "source": [
    "Можно наблюдать небольшое количество пропусков в колонках Age и Embarked.\n",
    "\n",
    "Очень много пропусков в столбце Cabin."
   ]
  },
  {
   "cell_type": "markdown",
   "id": "c811bf57",
   "metadata": {
    "papermill": {
     "duration": 0.100389,
     "end_time": "2022-01-08T10:14:45.804282",
     "exception": false,
     "start_time": "2022-01-08T10:14:45.703893",
     "status": "completed"
    },
    "tags": []
   },
   "source": [
    "## 1.3 Визуальный и статистический анализ."
   ]
  },
  {
   "cell_type": "code",
   "execution_count": 354,
   "id": "255153be",
   "metadata": {
    "execution": {
     "iopub.execute_input": "2022-01-08T10:14:46.019667Z",
     "iopub.status.busy": "2022-01-08T10:14:46.017559Z",
     "iopub.status.idle": "2022-01-08T10:14:46.383566Z",
     "shell.execute_reply": "2022-01-08T10:14:46.383070Z",
     "shell.execute_reply.started": "2022-01-08T09:19:52.189147Z"
    },
    "papermill": {
     "duration": 0.478365,
     "end_time": "2022-01-08T10:14:46.383704",
     "exception": false,
     "start_time": "2022-01-08T10:14:45.905339",
     "status": "completed"
    },
    "tags": []
   },
   "outputs": [
    {
     "data": {
      "text/plain": [
       "<AxesSubplot:xlabel='Pclass', ylabel='Count'>"
      ]
     },
     "execution_count": 354,
     "metadata": {},
     "output_type": "execute_result"
    },
    {
     "data": {
      "image/png": "[encoded data removed]",
      "text/plain": [
       "<Figure size 576x288 with 1 Axes>"
      ]
     },
     "metadata": {
      "needs_background": "light"
     },
     "output_type": "display_data"
    }
   ],
   "source": [
    "plt.figure(figsize=(8,4))\n",
    "sns.histplot(data=df, x=\"Pclass\", hue = \"Survived\", multiple=\"stack\")"
   ]
  },
  {
   "cell_type": "markdown",
   "id": "1c0f08d3",
   "metadata": {
    "papermill": {
     "duration": 0.102231,
     "end_time": "2022-01-08T10:14:46.586769",
     "exception": false,
     "start_time": "2022-01-08T10:14:46.484538",
     "status": "completed"
    },
    "tags": []
   },
   "source": [
    "На данном графике видно, что:\n",
    "* Больше всего было пассажиров 3 класса, но из них большинство не выжило.\n",
    "* Количество выживших разных классов примерно равное."
   ]
  },
  {
   "cell_type": "code",
   "execution_count": 355,
   "id": "9b923912",
   "metadata": {
    "execution": {
     "iopub.execute_input": "2022-01-08T10:14:46.798689Z",
     "iopub.status.busy": "2022-01-08T10:14:46.797651Z",
     "iopub.status.idle": "2022-01-08T10:14:47.017867Z",
     "shell.execute_reply": "2022-01-08T10:14:47.019041Z",
     "shell.execute_reply.started": "2022-01-08T09:19:52.609616Z"
    },
    "papermill": {
     "duration": 0.33181,
     "end_time": "2022-01-08T10:14:47.019222",
     "exception": false,
     "start_time": "2022-01-08T10:14:46.687412",
     "status": "completed"
    },
    "scrolled": true,
    "tags": []
   },
   "outputs": [
    {
     "data": {
      "text/plain": [
       "<AxesSubplot:xlabel='Sex', ylabel='Count'>"
      ]
     },
     "execution_count": 355,
     "metadata": {},
     "output_type": "execute_result"
    },
    {
     "data": {
      "image/png": "[encoded data removed]",
      "text/plain": [
       "<Figure size 360x360 with 1 Axes>"
      ]
     },
     "metadata": {
      "needs_background": "light"
     },
     "output_type": "display_data"
    }
   ],
   "source": [
    "plt.figure(figsize=(5,5))\n",
    "sns.histplot(data=df, x=\"Sex\", hue = \"Survived\", multiple=\"stack\")"
   ]
  },
  {
   "cell_type": "markdown",
   "id": "bcbc3aa4",
   "metadata": {
    "papermill": {
     "duration": 0.100221,
     "end_time": "2022-01-08T10:14:47.220963",
     "exception": false,
     "start_time": "2022-01-08T10:14:47.120742",
     "status": "completed"
    },
    "tags": []
   },
   "source": [
    "На данном графике видно, что:\n",
    "* Большинство мужчин (~77%) не выжило\n",
    "* Большинство женщин (~65%) выжило"
   ]
  },
  {
   "cell_type": "code",
   "execution_count": 356,
   "id": "b019eb74",
   "metadata": {
    "execution": {
     "iopub.execute_input": "2022-01-08T10:14:47.427299Z",
     "iopub.status.busy": "2022-01-08T10:14:47.426336Z",
     "iopub.status.idle": "2022-01-08T10:14:47.837787Z",
     "shell.execute_reply": "2022-01-08T10:14:47.838292Z",
     "shell.execute_reply.started": "2022-01-08T09:19:52.850510Z"
    },
    "papermill": {
     "duration": 0.516214,
     "end_time": "2022-01-08T10:14:47.838469",
     "exception": false,
     "start_time": "2022-01-08T10:14:47.322255",
     "status": "completed"
    },
    "tags": []
   },
   "outputs": [
    {
     "data": {
      "text/plain": [
       "<AxesSubplot:xlabel='Age', ylabel='Count'>"
      ]
     },
     "execution_count": 356,
     "metadata": {},
     "output_type": "execute_result"
    },
    {
     "data": {
      "image/png": "[encoded data removed]",
      "text/plain": [
       "<Figure size 1296x576 with 1 Axes>"
      ]
     },
     "metadata": {
      "needs_background": "light"
     },
     "output_type": "display_data"
    }
   ],
   "source": [
    "plt.figure(figsize=(18,8))\n",
    "sns.histplot(data=df, x=\"Age\",hue = \"Survived\",kde=True, multiple=\"stack\")"
   ]
  },
  {
   "cell_type": "markdown",
   "id": "1b5abf8c",
   "metadata": {
    "papermill": {
     "duration": 0.104297,
     "end_time": "2022-01-08T10:14:48.046250",
     "exception": false,
     "start_time": "2022-01-08T10:14:47.941953",
     "status": "completed"
    },
    "tags": []
   },
   "source": [
    "На данном графике видно, что: \n",
    "* Распределение возраста близко к нормальному, только в самом начале есть выброс.\n",
    "* Большинство детей до 10 лет выжило"
   ]
  },
  {
   "cell_type": "code",
   "execution_count": 357,
   "id": "94d8ea40",
   "metadata": {
    "execution": {
     "iopub.execute_input": "2022-01-08T10:14:48.258565Z",
     "iopub.status.busy": "2022-01-08T10:14:48.257591Z",
     "iopub.status.idle": "2022-01-08T10:14:48.577296Z",
     "shell.execute_reply": "2022-01-08T10:14:48.577800Z",
     "shell.execute_reply.started": "2022-01-08T09:19:53.300649Z"
    },
    "papermill": {
     "duration": 0.427436,
     "end_time": "2022-01-08T10:14:48.577992",
     "exception": false,
     "start_time": "2022-01-08T10:14:48.150556",
     "status": "completed"
    },
    "tags": []
   },
   "outputs": [
    {
     "data": {
      "text/plain": [
       "<AxesSubplot:xlabel='HasFamily', ylabel='Count'>"
      ]
     },
     "execution_count": 357,
     "metadata": {},
     "output_type": "execute_result"
    },
    {
     "data": {
      "image/png": "[encoded data removed]",
      "text/plain": [
       "<Figure size 1296x576 with 1 Axes>"
      ]
     },
     "metadata": {
      "needs_background": "light"
     },
     "output_type": "display_data"
    }
   ],
   "source": [
    "plt.figure(figsize=(18,8))\n",
    "t = (df.Parch > 0) | (df.SibSp > 0)\n",
    "t = t.apply(lambda x: int(x))\n",
    "t.name = \"HasFamily\"\n",
    "sns.histplot(data=df.join(t), x=\"HasFamily\", hue='Survived', binwidth=0.8, multiple=\"stack\")"
   ]
  },
  {
   "cell_type": "markdown",
   "id": "dfdc8eca",
   "metadata": {
    "papermill": {
     "duration": 0.10358,
     "end_time": "2022-01-08T10:14:48.785342",
     "exception": false,
     "start_time": "2022-01-08T10:14:48.681762",
     "status": "completed"
    },
    "tags": []
   },
   "source": [
    "Из данного графика видно, что:\n",
    "* Те у кого были родственники на борту раздулилились на выживших/не выживших в пропорции 1:1.\n",
    "* Те у кого не было родственников на борту разделились на выживших/не выживших в пропорции 1:2. "
   ]
  },
  {
   "cell_type": "code",
   "execution_count": 358,
   "id": "a14fed8a",
   "metadata": {},
   "outputs": [
    {
     "data": {
      "text/plain": [
       "S    644\n",
       "C    168\n",
       "Q     77\n",
       "Name: Embarked, dtype: int64"
      ]
     },
     "execution_count": 358,
     "metadata": {},
     "output_type": "execute_result"
    }
   ],
   "source": [
    "df['Embarked'].value_counts()"
   ]
  },
  {
   "cell_type": "code",
   "execution_count": 359,
   "id": "da97ae81",
   "metadata": {},
   "outputs": [],
   "source": [
    "df['Embarked'] = df['Embarked'].fillna('S')"
   ]
  },
  {
   "cell_type": "code",
   "execution_count": 360,
   "id": "e872dd27",
   "metadata": {
    "execution": {
     "iopub.execute_input": "2022-01-08T10:14:49.805022Z",
     "iopub.status.busy": "2022-01-08T10:14:49.804393Z",
     "iopub.status.idle": "2022-01-08T10:14:50.224586Z",
     "shell.execute_reply": "2022-01-08T10:14:50.225135Z",
     "shell.execute_reply.started": "2022-01-08T09:19:53.992519Z"
    },
    "papermill": {
     "duration": 0.52981,
     "end_time": "2022-01-08T10:14:50.225308",
     "exception": false,
     "start_time": "2022-01-08T10:14:49.695498",
     "status": "completed"
    },
    "tags": []
   },
   "outputs": [
    {
     "data": {
      "text/plain": [
       "<AxesSubplot:xlabel='Embarked', ylabel='Count'>"
      ]
     },
     "execution_count": 360,
     "metadata": {},
     "output_type": "execute_result"
    },
    {
     "data": {
      "image/png": "[encoded data removed]",
      "text/plain": [
       "<Figure size 1296x576 with 1 Axes>"
      ]
     },
     "metadata": {
      "needs_background": "light"
     },
     "output_type": "display_data"
    }
   ],
   "source": [
    "plt.figure(figsize=(18,8))\n",
    "sns.histplot(data=df, x=\"Embarked\", hue='Survived',multiple=\"stack\")"
   ]
  },
  {
   "cell_type": "markdown",
   "id": "db55cd97",
   "metadata": {
    "papermill": {
     "duration": 0.107688,
     "end_time": "2022-01-08T10:14:50.440881",
     "exception": false,
     "start_time": "2022-01-08T10:14:50.333193",
     "status": "completed"
    },
    "tags": []
   },
   "source": [
    "На данном графике видно, что: \n",
    "* Пассажиры из порта Southampton разделились на выживших/не выживших в пропорции 1:2 \n",
    "* Пассажиры из порта Queenstown разделились примерно в той же пропорции, что и пассажиры из порта Southampton\n",
    "* Только пассажиры из порта Cherbourg в большинстве своём выжили, в остальных портах пассажиры преимущественно утонули"
   ]
  },
  {
   "cell_type": "code",
   "execution_count": 361,
   "id": "747a1996",
   "metadata": {
    "execution": {
     "iopub.execute_input": "2022-01-08T10:14:50.659042Z",
     "iopub.status.busy": "2022-01-08T10:14:50.658360Z",
     "iopub.status.idle": "2022-01-08T10:14:50.971171Z",
     "shell.execute_reply": "2022-01-08T10:14:50.971617Z",
     "shell.execute_reply.started": "2022-01-08T09:19:54.400963Z"
    },
    "papermill": {
     "duration": 0.422183,
     "end_time": "2022-01-08T10:14:50.971791",
     "exception": false,
     "start_time": "2022-01-08T10:14:50.549608",
     "status": "completed"
    },
    "tags": []
   },
   "outputs": [
    {
     "data": {
      "text/plain": [
       "<AxesSubplot:xlabel='HasCabin', ylabel='Count'>"
      ]
     },
     "execution_count": 361,
     "metadata": {},
     "output_type": "execute_result"
    },
    {
     "data": {
      "image/png": "[encoded data removed]",
      "text/plain": [
       "<Figure size 1296x576 with 1 Axes>"
      ]
     },
     "metadata": {
      "needs_background": "light"
     },
     "output_type": "display_data"
    }
   ],
   "source": [
    "plt.figure(figsize=(18,8))\n",
    "t = (df.Cabin.isna())\n",
    "t = t.apply(lambda x: int(x))\n",
    "t.name = \"HasCabin\"\n",
    "sns.histplot(data=df.join(t), x=\"HasCabin\", hue='Survived', multiple=\"stack\")"
   ]
  },
  {
   "cell_type": "markdown",
   "id": "f50be56a",
   "metadata": {
    "papermill": {
     "duration": 0.107929,
     "end_time": "2022-01-08T10:14:51.188452",
     "exception": false,
     "start_time": "2022-01-08T10:14:51.080523",
     "status": "completed"
    },
    "tags": []
   },
   "source": [
    "Из данного графика видно, что большинство из тех, у кого есть кабина, не выжило, а большинство тех у кого кабина не указана - выжили."
   ]
  },
  {
   "cell_type": "code",
   "execution_count": 362,
   "id": "53a89ed7",
   "metadata": {
    "execution": {
     "iopub.execute_input": "2022-01-08T10:14:52.192978Z",
     "iopub.status.busy": "2022-01-08T10:14:52.192326Z",
     "iopub.status.idle": "2022-01-08T10:15:03.939155Z",
     "shell.execute_reply": "2022-01-08T10:15:03.939676Z",
     "shell.execute_reply.started": "2022-01-08T09:19:55.065490Z"
    },
    "papermill": {
     "duration": 11.859388,
     "end_time": "2022-01-08T10:15:03.939843",
     "exception": false,
     "start_time": "2022-01-08T10:14:52.080455",
     "status": "completed"
    },
    "tags": []
   },
   "outputs": [
    {
     "data": {
      "image/png": "[encoded data removed]",
      "text/plain": [
       "<Figure size 1131.88x1080 with 42 Axes>"
      ]
     },
     "metadata": {
      "needs_background": "light"
     },
     "output_type": "display_data"
    }
   ],
   "source": [
    "columns_to_plot =['Age', 'SibSp', 'Parch', 'Fare']\n",
    "sns.pairplot(df, hue='Survived');"
   ]
  },
  {
   "cell_type": "markdown",
   "id": "c09aade2",
   "metadata": {
    "papermill": {
     "duration": 0.133026,
     "end_time": "2022-01-08T10:15:04.203198",
     "exception": false,
     "start_time": "2022-01-08T10:15:04.070172",
     "status": "completed"
    },
    "tags": []
   },
   "source": [
    "Из данных графиков рассеивания можно сделать следующие выводы:\n",
    "* Большинство пассажиров первого класса выжили.\n",
    "* Большинство пассажиров третьего класса не выжили.\n",
    "* Чем больше возраст пассажира, тем меньше у него братьев/сестер/супругов на борту Титаника.С родителями/детьми такой последовательности не прослеживается.\n",
    "* Также есть интересный момент с количеством родственников на борту и стоимостью билета. На паре было предположение, что стоимость зависит от количества родственников на борту, но на графиках Fare/SibSp и Fare/Parch можно видеть, что есть пассажир у которого нет родственников, но у него самая высокая стоимость билета."
   ]
  },
  {
   "cell_type": "markdown",
   "id": "c000ba28",
   "metadata": {
    "papermill": {
     "duration": 0.120161,
     "end_time": "2022-01-08T10:15:04.448012",
     "exception": false,
     "start_time": "2022-01-08T10:15:04.327851",
     "status": "completed"
    },
    "tags": []
   },
   "source": [
    "### Корреляционная матрица"
   ]
  },
  {
   "cell_type": "code",
   "execution_count": 363,
   "id": "e5ad5863",
   "metadata": {
    "execution": {
     "iopub.execute_input": "2022-01-08T10:15:04.702270Z",
     "iopub.status.busy": "2022-01-08T10:15:04.701274Z",
     "iopub.status.idle": "2022-01-08T10:15:05.063322Z",
     "shell.execute_reply": "2022-01-08T10:15:05.063804Z",
     "shell.execute_reply.started": "2022-01-08T09:20:06.517990Z"
    },
    "papermill": {
     "duration": 0.486603,
     "end_time": "2022-01-08T10:15:05.064028",
     "exception": false,
     "start_time": "2022-01-08T10:15:04.577425",
     "status": "completed"
    },
    "tags": []
   },
   "outputs": [
    {
     "data": {
      "text/plain": [
       "<AxesSubplot:>"
      ]
     },
     "execution_count": 363,
     "metadata": {},
     "output_type": "execute_result"
    },
    {
     "data": {
      "image/png": "[encoded data removed]",
      "text/plain": [
       "<Figure size 432x288 with 2 Axes>"
      ]
     },
     "metadata": {
      "needs_background": "light"
     },
     "output_type": "display_data"
    }
   ],
   "source": [
    "sns.heatmap(df.corr())"
   ]
  },
  {
   "cell_type": "markdown",
   "id": "b6febf2b",
   "metadata": {
    "papermill": {
     "duration": 0.126256,
     "end_time": "2022-01-08T10:15:05.313545",
     "exception": false,
     "start_time": "2022-01-08T10:15:05.187289",
     "status": "completed"
    },
    "tags": []
   },
   "source": [
    "Исходя из полученой матрицы можно сделать выводы, что:\n",
    "\n",
    "* между признаками Pclass и Fare наблюдается обратная корреляция\n",
    "* между признаками Parch и SibSp наблюдается прямая корреляция (что в принипе логично)\n",
    "\n",
    "У остальных признаков корреляция не наблюдается."
   ]
  },
  {
   "cell_type": "markdown",
   "id": "eaec24d0",
   "metadata": {
    "papermill": {
     "duration": 0.127572,
     "end_time": "2022-01-08T10:15:05.565753",
     "exception": false,
     "start_time": "2022-01-08T10:15:05.438181",
     "status": "completed"
    },
    "tags": []
   },
   "source": [
    "# 2. Заполнение пропусков и обработка выбросов в данных"
   ]
  },
  {
   "cell_type": "markdown",
   "id": "fca27403",
   "metadata": {
    "papermill": {
     "duration": 0.12693,
     "end_time": "2022-01-08T10:15:05.814492",
     "exception": false,
     "start_time": "2022-01-08T10:15:05.687562",
     "status": "completed"
    },
    "tags": []
   },
   "source": [
    "## 2.1 Заполнение пропусков"
   ]
  },
  {
   "cell_type": "code",
   "execution_count": 364,
   "id": "7c9b7b3c",
   "metadata": {
    "execution": {
     "iopub.execute_input": "2022-01-08T10:15:06.082966Z",
     "iopub.status.busy": "2022-01-08T10:15:06.082252Z",
     "iopub.status.idle": "2022-01-08T10:15:06.087761Z",
     "shell.execute_reply": "2022-01-08T10:15:06.087233Z",
     "shell.execute_reply.started": "2022-01-08T09:20:06.841595Z"
    },
    "papermill": {
     "duration": 0.147741,
     "end_time": "2022-01-08T10:15:06.087941",
     "exception": false,
     "start_time": "2022-01-08T10:15:05.940200",
     "status": "completed"
    },
    "tags": []
   },
   "outputs": [],
   "source": [
    "df.Age = df.Age.fillna(df.Age.median())"
   ]
  },
  {
   "cell_type": "code",
   "execution_count": 365,
   "id": "44e07af5",
   "metadata": {
    "execution": {
     "iopub.execute_input": "2022-01-08T10:15:06.349242Z",
     "iopub.status.busy": "2022-01-08T10:15:06.348333Z",
     "iopub.status.idle": "2022-01-08T10:15:06.351513Z",
     "shell.execute_reply": "2022-01-08T10:15:06.350814Z",
     "shell.execute_reply.started": "2022-01-08T09:20:06.848101Z"
    },
    "papermill": {
     "duration": 0.134574,
     "end_time": "2022-01-08T10:15:06.351664",
     "exception": false,
     "start_time": "2022-01-08T10:15:06.217090",
     "status": "completed"
    },
    "tags": []
   },
   "outputs": [],
   "source": [
    "# Возможно данный столбец не стоит учитывать, ввиду отсутствия большого количества данных.\n",
    "# df.Cabin = df.Cabin.fillna(df.Cabin.mode()[0])"
   ]
  },
  {
   "cell_type": "code",
   "execution_count": 366,
   "id": "4efdcc01",
   "metadata": {
    "execution": {
     "iopub.execute_input": "2022-01-08T10:15:06.608102Z",
     "iopub.status.busy": "2022-01-08T10:15:06.607047Z",
     "iopub.status.idle": "2022-01-08T10:15:06.613865Z",
     "shell.execute_reply": "2022-01-08T10:15:06.613300Z",
     "shell.execute_reply.started": "2022-01-08T09:20:06.859376Z"
    },
    "papermill": {
     "duration": 0.137689,
     "end_time": "2022-01-08T10:15:06.614048",
     "exception": false,
     "start_time": "2022-01-08T10:15:06.476359",
     "status": "completed"
    },
    "tags": []
   },
   "outputs": [],
   "source": [
    "df.Embarked = df.Embarked.fillna(df.Embarked.mode()[0])"
   ]
  },
  {
   "cell_type": "code",
   "execution_count": 367,
   "id": "ba5897b5",
   "metadata": {
    "execution": {
     "iopub.execute_input": "2022-01-08T10:15:06.875789Z",
     "iopub.status.busy": "2022-01-08T10:15:06.874806Z",
     "iopub.status.idle": "2022-01-08T10:15:06.887883Z",
     "shell.execute_reply": "2022-01-08T10:15:06.888516Z",
     "shell.execute_reply.started": "2022-01-08T09:20:06.872094Z"
    },
    "papermill": {
     "duration": 0.149916,
     "end_time": "2022-01-08T10:15:06.888691",
     "exception": false,
     "start_time": "2022-01-08T10:15:06.738775",
     "status": "completed"
    },
    "scrolled": true,
    "tags": []
   },
   "outputs": [
    {
     "name": "stdout",
     "output_type": "stream",
     "text": [
      "<class 'pandas.core.frame.DataFrame'>\n",
      "RangeIndex: 891 entries, 0 to 890\n",
      "Data columns (total 12 columns):\n",
      " #   Column       Non-Null Count  Dtype  \n",
      "---  ------       --------------  -----  \n",
      " 0   PassengerId  891 non-null    int64  \n",
      " 1   Survived     891 non-null    int64  \n",
      " 2   Pclass       891 non-null    int64  \n",
      " 3   Name         891 non-null    object \n",
      " 4   Sex          891 non-null    object \n",
      " 5   Age          891 non-null    float64\n",
      " 6   SibSp        891 non-null    int64  \n",
      " 7   Parch        891 non-null    int64  \n",
      " 8   Ticket       891 non-null    object \n",
      " 9   Fare         891 non-null    float64\n",
      " 10  Cabin        204 non-null    object \n",
      " 11  Embarked     891 non-null    object \n",
      "dtypes: float64(2), int64(5), object(5)\n",
      "memory usage: 83.7+ KB\n"
     ]
    }
   ],
   "source": [
    "df.info()"
   ]
  },
  {
   "cell_type": "code",
   "execution_count": 368,
   "id": "0dd8fe9e",
   "metadata": {},
   "outputs": [
    {
     "data": {
      "text/html": [
       "<div>\n",
       "<style scoped>\n",
       "    .dataframe tbody tr th:only-of-type {\n",
       "        vertical-align: middle;\n",
       "    }\n",
       "\n",
       "    .dataframe tbody tr th {\n",
       "        vertical-align: top;\n",
       "    }\n",
       "\n",
       "    .dataframe thead th {\n",
       "        text-align: right;\n",
       "    }\n",
       "</style>\n",
       "<table border=\"1\" class=\"dataframe\">\n",
       "  <thead>\n",
       "    <tr style=\"text-align: right;\">\n",
       "      <th></th>\n",
       "      <th>PassengerId</th>\n",
       "      <th>Survived</th>\n",
       "      <th>Pclass</th>\n",
       "      <th>Age</th>\n",
       "      <th>SibSp</th>\n",
       "      <th>Parch</th>\n",
       "      <th>Fare</th>\n",
       "    </tr>\n",
       "  </thead>\n",
       "  <tbody>\n",
       "    <tr>\n",
       "      <th>count</th>\n",
       "      <td>891.000000</td>\n",
       "      <td>891.000000</td>\n",
       "      <td>891.000000</td>\n",
       "      <td>891.000000</td>\n",
       "      <td>891.000000</td>\n",
       "      <td>891.000000</td>\n",
       "      <td>891.000000</td>\n",
       "    </tr>\n",
       "    <tr>\n",
       "      <th>mean</th>\n",
       "      <td>446.000000</td>\n",
       "      <td>0.383838</td>\n",
       "      <td>2.308642</td>\n",
       "      <td>29.361582</td>\n",
       "      <td>0.523008</td>\n",
       "      <td>0.381594</td>\n",
       "      <td>32.204208</td>\n",
       "    </tr>\n",
       "    <tr>\n",
       "      <th>std</th>\n",
       "      <td>257.353842</td>\n",
       "      <td>0.486592</td>\n",
       "      <td>0.836071</td>\n",
       "      <td>13.019697</td>\n",
       "      <td>1.102743</td>\n",
       "      <td>0.806057</td>\n",
       "      <td>49.693429</td>\n",
       "    </tr>\n",
       "    <tr>\n",
       "      <th>min</th>\n",
       "      <td>1.000000</td>\n",
       "      <td>0.000000</td>\n",
       "      <td>1.000000</td>\n",
       "      <td>0.420000</td>\n",
       "      <td>0.000000</td>\n",
       "      <td>0.000000</td>\n",
       "      <td>0.000000</td>\n",
       "    </tr>\n",
       "    <tr>\n",
       "      <th>25%</th>\n",
       "      <td>223.500000</td>\n",
       "      <td>0.000000</td>\n",
       "      <td>2.000000</td>\n",
       "      <td>22.000000</td>\n",
       "      <td>0.000000</td>\n",
       "      <td>0.000000</td>\n",
       "      <td>7.910400</td>\n",
       "    </tr>\n",
       "    <tr>\n",
       "      <th>50%</th>\n",
       "      <td>446.000000</td>\n",
       "      <td>0.000000</td>\n",
       "      <td>3.000000</td>\n",
       "      <td>28.000000</td>\n",
       "      <td>0.000000</td>\n",
       "      <td>0.000000</td>\n",
       "      <td>14.454200</td>\n",
       "    </tr>\n",
       "    <tr>\n",
       "      <th>75%</th>\n",
       "      <td>668.500000</td>\n",
       "      <td>1.000000</td>\n",
       "      <td>3.000000</td>\n",
       "      <td>35.000000</td>\n",
       "      <td>1.000000</td>\n",
       "      <td>0.000000</td>\n",
       "      <td>31.000000</td>\n",
       "    </tr>\n",
       "    <tr>\n",
       "      <th>max</th>\n",
       "      <td>891.000000</td>\n",
       "      <td>1.000000</td>\n",
       "      <td>3.000000</td>\n",
       "      <td>80.000000</td>\n",
       "      <td>8.000000</td>\n",
       "      <td>6.000000</td>\n",
       "      <td>512.329200</td>\n",
       "    </tr>\n",
       "  </tbody>\n",
       "</table>\n",
       "</div>"
      ],
      "text/plain": [
       "       PassengerId    Survived      Pclass         Age       SibSp  \\\n",
       "count   891.000000  891.000000  891.000000  891.000000  891.000000   \n",
       "mean    446.000000    0.383838    2.308642   29.361582    0.523008   \n",
       "std     257.353842    0.486592    0.836071   13.019697    1.102743   \n",
       "min       1.000000    0.000000    1.000000    0.420000    0.000000   \n",
       "25%     223.500000    0.000000    2.000000   22.000000    0.000000   \n",
       "50%     446.000000    0.000000    3.000000   28.000000    0.000000   \n",
       "75%     668.500000    1.000000    3.000000   35.000000    1.000000   \n",
       "max     891.000000    1.000000    3.000000   80.000000    8.000000   \n",
       "\n",
       "            Parch        Fare  \n",
       "count  891.000000  891.000000  \n",
       "mean     0.381594   32.204208  \n",
       "std      0.806057   49.693429  \n",
       "min      0.000000    0.000000  \n",
       "25%      0.000000    7.910400  \n",
       "50%      0.000000   14.454200  \n",
       "75%      0.000000   31.000000  \n",
       "max      6.000000  512.329200  "
      ]
     },
     "execution_count": 368,
     "metadata": {},
     "output_type": "execute_result"
    }
   ],
   "source": [
    "df.describe()"
   ]
  },
  {
   "cell_type": "markdown",
   "id": "cfd00199",
   "metadata": {
    "papermill": {
     "duration": 0.129597,
     "end_time": "2022-01-08T10:15:07.149157",
     "exception": false,
     "start_time": "2022-01-08T10:15:07.019560",
     "status": "completed"
    },
    "tags": []
   },
   "source": [
    "## 2.2 Обработка выбросов"
   ]
  },
  {
   "cell_type": "code",
   "execution_count": 369,
   "id": "8e2be850",
   "metadata": {
    "execution": {
     "iopub.execute_input": "2022-01-08T10:15:07.417090Z",
     "iopub.status.busy": "2022-01-08T10:15:07.416053Z",
     "iopub.status.idle": "2022-01-08T10:15:08.601240Z",
     "shell.execute_reply": "2022-01-08T10:15:08.600587Z",
     "shell.execute_reply.started": "2022-01-08T09:20:06.892974Z"
    },
    "papermill": {
     "duration": 1.31793,
     "end_time": "2022-01-08T10:15:08.601390",
     "exception": false,
     "start_time": "2022-01-08T10:15:07.283460",
     "status": "completed"
    },
    "tags": []
   },
   "outputs": [
    {
     "data": {
      "image/png": "[encoded data removed]",
      "text/plain": [
       "<Figure size 432x288 with 1 Axes>"
      ]
     },
     "metadata": {
      "needs_background": "light"
     },
     "output_type": "display_data"
    },
    {
     "data": {
      "image/png": "[encoded data removed]",
      "text/plain": [
       "<Figure size 432x288 with 1 Axes>"
      ]
     },
     "metadata": {
      "needs_background": "light"
     },
     "output_type": "display_data"
    },
    {
     "data": {
      "image/png": "[encoded data removed]",
      "text/plain": [
       "<Figure size 432x288 with 1 Axes>"
      ]
     },
     "metadata": {
      "needs_background": "light"
     },
     "output_type": "display_data"
    },
    {
     "data": {
      "image/png": "[encoded data removed]",
      "text/plain": [
       "<Figure size 432x288 with 1 Axes>"
      ]
     },
     "metadata": {
      "needs_background": "light"
     },
     "output_type": "display_data"
    },
    {
     "data": {
      "image/png": "[encoded data removed]",
      "text/plain": [
       "<Figure size 432x288 with 1 Axes>"
      ]
     },
     "metadata": {
      "needs_background": "light"
     },
     "output_type": "display_data"
    },
    {
     "data": {
      "image/png": "[encoded data removed]",
      "text/plain": [
       "<Figure size 432x288 with 1 Axes>"
      ]
     },
     "metadata": {
      "needs_background": "light"
     },
     "output_type": "display_data"
    },
    {
     "data": {
      "image/png": "[encoded data removed]",
      "text/plain": [
       "<Figure size 432x288 with 1 Axes>"
      ]
     },
     "metadata": {
      "needs_background": "light"
     },
     "output_type": "display_data"
    }
   ],
   "source": [
    "for i in df.select_dtypes(include=['float64', 'int64']).columns:\n",
    "    sns.boxplot( y=df[i] );\n",
    "    plt.show()"
   ]
  },
  {
   "cell_type": "markdown",
   "id": "4ecaf784",
   "metadata": {
    "papermill": {
     "duration": 0.141366,
     "end_time": "2022-01-08T10:15:08.883853",
     "exception": false,
     "start_time": "2022-01-08T10:15:08.742487",
     "status": "completed"
    },
    "tags": []
   },
   "source": [
    "Из *\\\"усатых ящиков\\\"* видно, что выбросы есть только у признаков Age, SibSp, Parch и Fare. Так как данные не являются ошибочными, то выбросы надо не удалять, а сгладить."
   ]
  },
  {
   "cell_type": "markdown",
   "id": "168e6731",
   "metadata": {
    "papermill": {
     "duration": 0.135874,
     "end_time": "2022-01-08T10:15:09.162713",
     "exception": false,
     "start_time": "2022-01-08T10:15:09.026839",
     "status": "completed"
    },
    "tags": []
   },
   "source": [
    "Посмотрим на количество выбросов в каждом столбце:"
   ]
  },
  {
   "cell_type": "code",
   "execution_count": 370,
   "id": "c891bb19",
   "metadata": {
    "execution": {
     "iopub.execute_input": "2022-01-08T10:15:09.446976Z",
     "iopub.status.busy": "2022-01-08T10:15:09.446111Z",
     "iopub.status.idle": "2022-01-08T10:15:09.461400Z",
     "shell.execute_reply": "2022-01-08T10:15:09.461995Z",
     "shell.execute_reply.started": "2022-01-08T09:20:07.677092Z"
    },
    "papermill": {
     "duration": 0.15622,
     "end_time": "2022-01-08T10:15:09.462169",
     "exception": false,
     "start_time": "2022-01-08T10:15:09.305949",
     "status": "completed"
    },
    "tags": []
   },
   "outputs": [
    {
     "name": "stdout",
     "output_type": "stream",
     "text": [
      "Признак Survived содержит 0 выбросов из 891 наблюдений\n",
      "Признак Age содержит 66 выбросов из 891 наблюдений\n",
      "Признак SibSp содержит 46 выбросов из 891 наблюдений\n",
      "Признак Parch содержит 213 выбросов из 891 наблюдений\n",
      "Признак Fare содержит 116 выбросов из 891 наблюдений\n"
     ]
    }
   ],
   "source": [
    "def search_outliers(feature):\n",
    "    \"\"\"Функция принимает набор значений 1-го признака и\n",
    "    возвращает массив индексов тех значений, которые являются выбросами\"\"\"\n",
    "    q1, q3 = np.percentile(feature, [25, 75])\n",
    "    iqr = q3 - q1\n",
    "    lower_bound = q1 - 1.5 * iqr\n",
    "    upper_bound = q3 + 1.5 * iqr\n",
    "    return np.where((feature < lower_bound) | (feature > upper_bound))[0]\n",
    "for feature in df.select_dtypes(include=['float64', 'int64']).drop(['PassengerId','Pclass'], 1).columns:\n",
    "    sum_outliers = len(search_outliers(df[feature]))\n",
    "    print(f\"Признак {feature} содержит {sum_outliers} выбросов из {df[feature].shape[0]} наблюдений\")"
   ]
  },
  {
   "cell_type": "markdown",
   "id": "b25d2c19",
   "metadata": {
    "papermill": {
     "duration": 0.142465,
     "end_time": "2022-01-08T10:15:09.738470",
     "exception": false,
     "start_time": "2022-01-08T10:15:09.596005",
     "status": "completed"
    },
    "tags": []
   },
   "source": [
    "**1) Сглаживание логорифмом:**"
   ]
  },
  {
   "cell_type": "code",
   "execution_count": 371,
   "id": "cd83b38a",
   "metadata": {
    "execution": {
     "iopub.execute_input": "2022-01-08T10:15:10.025325Z",
     "iopub.status.busy": "2022-01-08T10:15:10.024249Z",
     "iopub.status.idle": "2022-01-08T10:15:10.039596Z",
     "shell.execute_reply": "2022-01-08T10:15:10.040082Z",
     "shell.execute_reply.started": "2022-01-08T09:20:07.698553Z"
    },
    "papermill": {
     "duration": 0.159767,
     "end_time": "2022-01-08T10:15:10.040252",
     "exception": false,
     "start_time": "2022-01-08T10:15:09.880485",
     "status": "completed"
    },
    "scrolled": true,
    "tags": []
   },
   "outputs": [
    {
     "name": "stdout",
     "output_type": "stream",
     "text": [
      "Признак Survived содержит 0 выбросов из 891 наблюдений\n",
      "Признак Age содержит 71 выбросов из 891 наблюдений\n",
      "Признак SibSp содержит 12 выбросов из 891 наблюдений\n",
      "Признак Parch содержит 213 выбросов из 891 наблюдений\n",
      "Признак Fare содержит 31 выбросов из 891 наблюдений\n"
     ]
    }
   ],
   "source": [
    "df_with_log_smooth = df.copy()\n",
    "for feature in df_with_log_smooth.select_dtypes(include=['float64', 'int64']).drop(['PassengerId','Pclass'], 1).columns:\n",
    "    df_with_log_smooth[feature] = np.log1p(df_with_log_smooth[feature])\n",
    "    sum_outliers = len(search_outliers(df_with_log_smooth[feature]))\n",
    "    print(f\"Признак {feature} содержит {sum_outliers} выбросов из {df[feature].shape[0]} наблюдений\")"
   ]
  },
  {
   "cell_type": "code",
   "execution_count": 372,
   "id": "b52971f6",
   "metadata": {},
   "outputs": [
    {
     "data": {
      "text/html": [
       "<div>\n",
       "<style scoped>\n",
       "    .dataframe tbody tr th:only-of-type {\n",
       "        vertical-align: middle;\n",
       "    }\n",
       "\n",
       "    .dataframe tbody tr th {\n",
       "        vertical-align: top;\n",
       "    }\n",
       "\n",
       "    .dataframe thead th {\n",
       "        text-align: right;\n",
       "    }\n",
       "</style>\n",
       "<table border=\"1\" class=\"dataframe\">\n",
       "  <thead>\n",
       "    <tr style=\"text-align: right;\">\n",
       "      <th></th>\n",
       "      <th>PassengerId</th>\n",
       "      <th>Survived</th>\n",
       "      <th>Pclass</th>\n",
       "      <th>Name</th>\n",
       "      <th>Sex</th>\n",
       "      <th>Age</th>\n",
       "      <th>SibSp</th>\n",
       "      <th>Parch</th>\n",
       "      <th>Ticket</th>\n",
       "      <th>Fare</th>\n",
       "      <th>Cabin</th>\n",
       "      <th>Embarked</th>\n",
       "    </tr>\n",
       "  </thead>\n",
       "  <tbody>\n",
       "    <tr>\n",
       "      <th>0</th>\n",
       "      <td>1</td>\n",
       "      <td>0.000000</td>\n",
       "      <td>3</td>\n",
       "      <td>Braund, Mr. Owen Harris</td>\n",
       "      <td>male</td>\n",
       "      <td>3.135494</td>\n",
       "      <td>0.693147</td>\n",
       "      <td>0.000000</td>\n",
       "      <td>A/5 21171</td>\n",
       "      <td>2.110213</td>\n",
       "      <td>NaN</td>\n",
       "      <td>S</td>\n",
       "    </tr>\n",
       "    <tr>\n",
       "      <th>1</th>\n",
       "      <td>2</td>\n",
       "      <td>0.693147</td>\n",
       "      <td>1</td>\n",
       "      <td>Cumings, Mrs. John Bradley (Florence Briggs Th...</td>\n",
       "      <td>female</td>\n",
       "      <td>3.663562</td>\n",
       "      <td>0.693147</td>\n",
       "      <td>0.000000</td>\n",
       "      <td>PC 17599</td>\n",
       "      <td>4.280593</td>\n",
       "      <td>C85</td>\n",
       "      <td>C</td>\n",
       "    </tr>\n",
       "    <tr>\n",
       "      <th>2</th>\n",
       "      <td>3</td>\n",
       "      <td>0.693147</td>\n",
       "      <td>3</td>\n",
       "      <td>Heikkinen, Miss. Laina</td>\n",
       "      <td>female</td>\n",
       "      <td>3.295837</td>\n",
       "      <td>0.000000</td>\n",
       "      <td>0.000000</td>\n",
       "      <td>STON/O2. 3101282</td>\n",
       "      <td>2.188856</td>\n",
       "      <td>NaN</td>\n",
       "      <td>S</td>\n",
       "    </tr>\n",
       "    <tr>\n",
       "      <th>3</th>\n",
       "      <td>4</td>\n",
       "      <td>0.693147</td>\n",
       "      <td>1</td>\n",
       "      <td>Futrelle, Mrs. Jacques Heath (Lily May Peel)</td>\n",
       "      <td>female</td>\n",
       "      <td>3.583519</td>\n",
       "      <td>0.693147</td>\n",
       "      <td>0.000000</td>\n",
       "      <td>113803</td>\n",
       "      <td>3.990834</td>\n",
       "      <td>C123</td>\n",
       "      <td>S</td>\n",
       "    </tr>\n",
       "    <tr>\n",
       "      <th>4</th>\n",
       "      <td>5</td>\n",
       "      <td>0.000000</td>\n",
       "      <td>3</td>\n",
       "      <td>Allen, Mr. William Henry</td>\n",
       "      <td>male</td>\n",
       "      <td>3.583519</td>\n",
       "      <td>0.000000</td>\n",
       "      <td>0.000000</td>\n",
       "      <td>373450</td>\n",
       "      <td>2.202765</td>\n",
       "      <td>NaN</td>\n",
       "      <td>S</td>\n",
       "    </tr>\n",
       "    <tr>\n",
       "      <th>...</th>\n",
       "      <td>...</td>\n",
       "      <td>...</td>\n",
       "      <td>...</td>\n",
       "      <td>...</td>\n",
       "      <td>...</td>\n",
       "      <td>...</td>\n",
       "      <td>...</td>\n",
       "      <td>...</td>\n",
       "      <td>...</td>\n",
       "      <td>...</td>\n",
       "      <td>...</td>\n",
       "      <td>...</td>\n",
       "    </tr>\n",
       "    <tr>\n",
       "      <th>886</th>\n",
       "      <td>887</td>\n",
       "      <td>0.000000</td>\n",
       "      <td>2</td>\n",
       "      <td>Montvila, Rev. Juozas</td>\n",
       "      <td>male</td>\n",
       "      <td>3.332205</td>\n",
       "      <td>0.000000</td>\n",
       "      <td>0.000000</td>\n",
       "      <td>211536</td>\n",
       "      <td>2.639057</td>\n",
       "      <td>NaN</td>\n",
       "      <td>S</td>\n",
       "    </tr>\n",
       "    <tr>\n",
       "      <th>887</th>\n",
       "      <td>888</td>\n",
       "      <td>0.693147</td>\n",
       "      <td>1</td>\n",
       "      <td>Graham, Miss. Margaret Edith</td>\n",
       "      <td>female</td>\n",
       "      <td>2.995732</td>\n",
       "      <td>0.000000</td>\n",
       "      <td>0.000000</td>\n",
       "      <td>112053</td>\n",
       "      <td>3.433987</td>\n",
       "      <td>B42</td>\n",
       "      <td>S</td>\n",
       "    </tr>\n",
       "    <tr>\n",
       "      <th>888</th>\n",
       "      <td>889</td>\n",
       "      <td>0.000000</td>\n",
       "      <td>3</td>\n",
       "      <td>Johnston, Miss. Catherine Helen \"Carrie\"</td>\n",
       "      <td>female</td>\n",
       "      <td>3.367296</td>\n",
       "      <td>0.693147</td>\n",
       "      <td>1.098612</td>\n",
       "      <td>W./C. 6607</td>\n",
       "      <td>3.196630</td>\n",
       "      <td>NaN</td>\n",
       "      <td>S</td>\n",
       "    </tr>\n",
       "    <tr>\n",
       "      <th>889</th>\n",
       "      <td>890</td>\n",
       "      <td>0.693147</td>\n",
       "      <td>1</td>\n",
       "      <td>Behr, Mr. Karl Howell</td>\n",
       "      <td>male</td>\n",
       "      <td>3.295837</td>\n",
       "      <td>0.000000</td>\n",
       "      <td>0.000000</td>\n",
       "      <td>111369</td>\n",
       "      <td>3.433987</td>\n",
       "      <td>C148</td>\n",
       "      <td>C</td>\n",
       "    </tr>\n",
       "    <tr>\n",
       "      <th>890</th>\n",
       "      <td>891</td>\n",
       "      <td>0.000000</td>\n",
       "      <td>3</td>\n",
       "      <td>Dooley, Mr. Patrick</td>\n",
       "      <td>male</td>\n",
       "      <td>3.496508</td>\n",
       "      <td>0.000000</td>\n",
       "      <td>0.000000</td>\n",
       "      <td>370376</td>\n",
       "      <td>2.169054</td>\n",
       "      <td>NaN</td>\n",
       "      <td>Q</td>\n",
       "    </tr>\n",
       "  </tbody>\n",
       "</table>\n",
       "<p>891 rows × 12 columns</p>\n",
       "</div>"
      ],
      "text/plain": [
       "     PassengerId  Survived  Pclass  \\\n",
       "0              1  0.000000       3   \n",
       "1              2  0.693147       1   \n",
       "2              3  0.693147       3   \n",
       "3              4  0.693147       1   \n",
       "4              5  0.000000       3   \n",
       "..           ...       ...     ...   \n",
       "886          887  0.000000       2   \n",
       "887          888  0.693147       1   \n",
       "888          889  0.000000       3   \n",
       "889          890  0.693147       1   \n",
       "890          891  0.000000       3   \n",
       "\n",
       "                                                  Name     Sex       Age  \\\n",
       "0                              Braund, Mr. Owen Harris    male  3.135494   \n",
       "1    Cumings, Mrs. John Bradley (Florence Briggs Th...  female  3.663562   \n",
       "2                               Heikkinen, Miss. Laina  female  3.295837   \n",
       "3         Futrelle, Mrs. Jacques Heath (Lily May Peel)  female  3.583519   \n",
       "4                             Allen, Mr. William Henry    male  3.583519   \n",
       "..                                                 ...     ...       ...   \n",
       "886                              Montvila, Rev. Juozas    male  3.332205   \n",
       "887                       Graham, Miss. Margaret Edith  female  2.995732   \n",
       "888           Johnston, Miss. Catherine Helen \"Carrie\"  female  3.367296   \n",
       "889                              Behr, Mr. Karl Howell    male  3.295837   \n",
       "890                                Dooley, Mr. Patrick    male  3.496508   \n",
       "\n",
       "        SibSp     Parch            Ticket      Fare Cabin Embarked  \n",
       "0    0.693147  0.000000         A/5 21171  2.110213   NaN        S  \n",
       "1    0.693147  0.000000          PC 17599  4.280593   C85        C  \n",
       "2    0.000000  0.000000  STON/O2. 3101282  2.188856   NaN        S  \n",
       "3    0.693147  0.000000            113803  3.990834  C123        S  \n",
       "4    0.000000  0.000000            373450  2.202765   NaN        S  \n",
       "..        ...       ...               ...       ...   ...      ...  \n",
       "886  0.000000  0.000000            211536  2.639057   NaN        S  \n",
       "887  0.000000  0.000000            112053  3.433987   B42        S  \n",
       "888  0.693147  1.098612        W./C. 6607  3.196630   NaN        S  \n",
       "889  0.000000  0.000000            111369  3.433987  C148        C  \n",
       "890  0.000000  0.000000            370376  2.169054   NaN        Q  \n",
       "\n",
       "[891 rows x 12 columns]"
      ]
     },
     "execution_count": 372,
     "metadata": {},
     "output_type": "execute_result"
    }
   ],
   "source": [
    "df_with_log_smooth"
   ]
  },
  {
   "cell_type": "markdown",
   "id": "55618353",
   "metadata": {
    "papermill": {
     "duration": 0.139166,
     "end_time": "2022-01-08T10:15:10.314290",
     "exception": false,
     "start_time": "2022-01-08T10:15:10.175124",
     "status": "completed"
    },
    "tags": []
   },
   "source": [
    "**2) Сглаживание по верхней и нижней границам**"
   ]
  },
  {
   "cell_type": "code",
   "execution_count": 373,
   "id": "c7d74511",
   "metadata": {
    "execution": {
     "iopub.execute_input": "2022-01-08T10:15:10.590709Z",
     "iopub.status.busy": "2022-01-08T10:15:10.589568Z",
     "iopub.status.idle": "2022-01-08T10:15:10.606001Z",
     "shell.execute_reply": "2022-01-08T10:15:10.606518Z",
     "shell.execute_reply.started": "2022-01-08T09:20:07.721511Z"
    },
    "papermill": {
     "duration": 0.15912,
     "end_time": "2022-01-08T10:15:10.606692",
     "exception": false,
     "start_time": "2022-01-08T10:15:10.447572",
     "status": "completed"
    },
    "tags": []
   },
   "outputs": [
    {
     "name": "stdout",
     "output_type": "stream",
     "text": [
      "Признак Survived содержит 0 выбросов из 891 наблюдений\n",
      "Признак Age содержит 0 выбросов из 891 наблюдений\n",
      "Признак SibSp содержит 0 выбросов из 891 наблюдений\n",
      "Признак Parch содержит 0 выбросов из 891 наблюдений\n",
      "Признак Fare содержит 0 выбросов из 891 наблюдений\n"
     ]
    }
   ],
   "source": [
    "df_with_bound_smooth = df.copy()\n",
    "def outliers_smoothing(feature):\n",
    "    \"\"\"Функция принимает набор значений 1-го признака и\n",
    "    возвращает массив индексов тех значений, которые являются выбросами\"\"\"\n",
    "    q1, q3 = np.percentile(feature, [25, 75])\n",
    "    iqr = q3 - q1\n",
    "    lower_bound = q1 - 1.5 * iqr\n",
    "    upper_bound = q3 + 1.5 * iqr\n",
    "    feature = np.where(feature < lower_bound, lower_bound, feature)\n",
    "    feature = np.where(feature > upper_bound, upper_bound, feature)\n",
    "    return feature\n",
    "for feature in df.select_dtypes(include=['float64', 'int64']).drop(['PassengerId','Pclass'], 1).columns:\n",
    "    df_with_bound_smooth[feature] = outliers_smoothing(df_with_bound_smooth[feature])\n",
    "    sum_outliers = len(search_outliers(df_with_bound_smooth[feature]))\n",
    "    print(f\"Признак {feature} содержит {sum_outliers} выбросов из {df[feature].shape[0]} наблюдений\")"
   ]
  },
  {
   "cell_type": "code",
   "execution_count": 374,
   "id": "70aaa505",
   "metadata": {
    "execution": {
     "iopub.execute_input": "2022-01-08T10:15:10.911621Z",
     "iopub.status.busy": "2022-01-08T10:15:10.910731Z",
     "iopub.status.idle": "2022-01-08T10:15:10.922682Z",
     "shell.execute_reply": "2022-01-08T10:15:10.923228Z",
     "shell.execute_reply.started": "2022-01-08T09:20:07.744410Z"
    },
    "papermill": {
     "duration": 0.168186,
     "end_time": "2022-01-08T10:15:10.923411",
     "exception": false,
     "start_time": "2022-01-08T10:15:10.755225",
     "status": "completed"
    },
    "tags": []
   },
   "outputs": [
    {
     "name": "stdout",
     "output_type": "stream",
     "text": [
      "<class 'pandas.core.frame.DataFrame'>\n",
      "RangeIndex: 891 entries, 0 to 890\n",
      "Data columns (total 12 columns):\n",
      " #   Column       Non-Null Count  Dtype  \n",
      "---  ------       --------------  -----  \n",
      " 0   PassengerId  891 non-null    int64  \n",
      " 1   Survived     891 non-null    int64  \n",
      " 2   Pclass       891 non-null    int64  \n",
      " 3   Name         891 non-null    object \n",
      " 4   Sex          891 non-null    object \n",
      " 5   Age          891 non-null    float64\n",
      " 6   SibSp        891 non-null    int64  \n",
      " 7   Parch        891 non-null    int64  \n",
      " 8   Ticket       891 non-null    object \n",
      " 9   Fare         891 non-null    float64\n",
      " 10  Cabin        204 non-null    object \n",
      " 11  Embarked     891 non-null    object \n",
      "dtypes: float64(2), int64(5), object(5)\n",
      "memory usage: 83.7+ KB\n"
     ]
    }
   ],
   "source": [
    "df.info()"
   ]
  },
  {
   "cell_type": "markdown",
   "id": "a601db82",
   "metadata": {
    "papermill": {
     "duration": 0.15154,
     "end_time": "2022-01-08T10:15:11.226097",
     "exception": false,
     "start_time": "2022-01-08T10:15:11.074557",
     "status": "completed"
    },
    "tags": []
   },
   "source": [
    "# 3. Преобразование признаков"
   ]
  },
  {
   "cell_type": "markdown",
   "id": "5df3f7a3",
   "metadata": {
    "papermill": {
     "duration": 0.136107,
     "end_time": "2022-01-08T10:15:11.502947",
     "exception": false,
     "start_time": "2022-01-08T10:15:11.366840",
     "status": "completed"
    },
    "tags": []
   },
   "source": [
    "## 3.1 Преобразование категориальных признаков в количественные"
   ]
  },
  {
   "cell_type": "markdown",
   "id": "d0771647",
   "metadata": {
    "papermill": {
     "duration": 0.133259,
     "end_time": "2022-01-08T10:15:11.774096",
     "exception": false,
     "start_time": "2022-01-08T10:15:11.640837",
     "status": "completed"
    },
    "tags": []
   },
   "source": [
    "### 3.1.1 ~~LabelEncode~~"
   ]
  },
  {
   "cell_type": "markdown",
   "id": "c3a238cd",
   "metadata": {
    "papermill": {
     "duration": 0.130822,
     "end_time": "2022-01-08T10:15:12.039127",
     "exception": false,
     "start_time": "2022-01-08T10:15:11.908305",
     "status": "completed"
    },
    "tags": []
   },
   "source": [
    "Если верить статье на [хабре](https://habr.com/ru/company/ods/blog/326418/) данный метод не даст особой пользы, потому что данная операция создаёт евклидово пространство над категориальными признаками, что не имеет смысла в нашем случае."
   ]
  },
  {
   "cell_type": "markdown",
   "id": "91b162d4",
   "metadata": {
    "papermill": {
     "duration": 0.136883,
     "end_time": "2022-01-08T10:15:12.314855",
     "exception": false,
     "start_time": "2022-01-08T10:15:12.177972",
     "status": "completed"
    },
    "tags": []
   },
   "source": [
    "Единственный признак, которому имеет смысл применить данный метод, это Embarked."
   ]
  },
  {
   "cell_type": "code",
   "execution_count": 375,
   "id": "cebf592d",
   "metadata": {
    "execution": {
     "iopub.execute_input": "2022-01-08T10:15:12.615208Z",
     "iopub.status.busy": "2022-01-08T10:15:12.614501Z",
     "iopub.status.idle": "2022-01-08T10:15:12.624413Z",
     "shell.execute_reply": "2022-01-08T10:15:12.624931Z",
     "shell.execute_reply.started": "2022-01-08T09:20:07.759830Z"
    },
    "papermill": {
     "duration": 0.165261,
     "end_time": "2022-01-08T10:15:12.625131",
     "exception": false,
     "start_time": "2022-01-08T10:15:12.459870",
     "status": "completed"
    },
    "tags": []
   },
   "outputs": [],
   "source": [
    "#TODO: переделать с помощью skilearn.preprocessing.LabelEncode\n",
    "def get_sorted_classes_by_target_rate(data, column_name):\n",
    "    new_data = data.copy()\n",
    "    new_data = new_data.groupby(column_name).Survived.value_counts(normalize=True).to_frame()\n",
    "    new_data = new_data.rename(columns={\"Survived\":\"Rate\"}, inplace=False).reset_index()\n",
    "    survived = new_data[new_data.Survived == 1].sort_values(\"Rate\", ascending=False)\n",
    "    not_survived = new_data[new_data.Survived == 0].sort_values(\"Rate\", ascending=True)\n",
    "    return [survived, not_survived]\n",
    "def get_mapper(data, column_name):\n",
    "    [positive, negative] = get_sorted_classes_by_target_rate(data, column_name)\n",
    "    classes = np.hstack((positive[column_name].values, negative[-negative[column_name].isin(positive[column_name].values)][column_name].values))\n",
    "    mapper = {k:v for v, k in enumerate(classes)}\n",
    "    return mapper"
   ]
  },
  {
   "cell_type": "markdown",
   "id": "19c63a2e",
   "metadata": {
    "papermill": {
     "duration": 0.130338,
     "end_time": "2022-01-08T10:15:12.888270",
     "exception": false,
     "start_time": "2022-01-08T10:15:12.757932",
     "status": "completed"
    },
    "tags": []
   },
   "source": [
    "Мапперы для всех дискретных признаков:"
   ]
  },
  {
   "cell_type": "code",
   "execution_count": 376,
   "id": "3ebec216",
   "metadata": {
    "execution": {
     "iopub.execute_input": "2022-01-08T10:15:13.154266Z",
     "iopub.status.busy": "2022-01-08T10:15:13.151695Z",
     "iopub.status.idle": "2022-01-08T10:15:13.176211Z",
     "shell.execute_reply": "2022-01-08T10:15:13.176708Z",
     "shell.execute_reply.started": "2022-01-08T09:20:07.771396Z"
    },
    "papermill": {
     "duration": 0.156394,
     "end_time": "2022-01-08T10:15:13.176879",
     "exception": false,
     "start_time": "2022-01-08T10:15:13.020485",
     "status": "completed"
    },
    "tags": []
   },
   "outputs": [],
   "source": [
    "embarked_mapper = get_mapper(df, \"Embarked\")\n",
    "pclass_mapper = get_mapper(df, \"Pclass\")\n",
    "sex_mapper = get_mapper(df, \"Sex\")"
   ]
  },
  {
   "cell_type": "code",
   "execution_count": 377,
   "id": "2b97ecf0",
   "metadata": {
    "execution": {
     "iopub.execute_input": "2022-01-08T10:15:13.440408Z",
     "iopub.status.busy": "2022-01-08T10:15:13.439663Z",
     "iopub.status.idle": "2022-01-08T10:15:13.442318Z",
     "shell.execute_reply": "2022-01-08T10:15:13.442858Z",
     "shell.execute_reply.started": "2022-01-08T09:20:07.809384Z"
    },
    "papermill": {
     "duration": 0.13819,
     "end_time": "2022-01-08T10:15:13.443052",
     "exception": false,
     "start_time": "2022-01-08T10:15:13.304862",
     "status": "completed"
    },
    "tags": []
   },
   "outputs": [
    {
     "data": {
      "text/plain": [
       "{'C': 0, 'Q': 1, 'S': 2}"
      ]
     },
     "execution_count": 377,
     "metadata": {},
     "output_type": "execute_result"
    }
   ],
   "source": [
    "embarked_mapper"
   ]
  },
  {
   "cell_type": "code",
   "execution_count": 378,
   "id": "87014429",
   "metadata": {
    "execution": {
     "iopub.execute_input": "2022-01-08T10:15:13.714092Z",
     "iopub.status.busy": "2022-01-08T10:15:13.713342Z",
     "iopub.status.idle": "2022-01-08T10:15:13.724257Z",
     "shell.execute_reply": "2022-01-08T10:15:13.724733Z",
     "shell.execute_reply.started": "2022-01-08T09:20:07.816470Z"
    },
    "papermill": {
     "duration": 0.151692,
     "end_time": "2022-01-08T10:15:13.724937",
     "exception": false,
     "start_time": "2022-01-08T10:15:13.573245",
     "status": "completed"
    },
    "tags": []
   },
   "outputs": [
    {
     "data": {
      "text/plain": [
       "array([2, 0, 1], dtype=int64)"
      ]
     },
     "execution_count": 378,
     "metadata": {},
     "output_type": "execute_result"
    }
   ],
   "source": [
    "df_log_label = df_with_log_smooth.copy()\n",
    "df_bound_label = df_with_bound_smooth.copy()\n",
    "df_not_smooth_label = df.copy()\n",
    "df_log_label['Embarked'] = df_log_label['Embarked'].apply(lambda x: embarked_mapper[x])\n",
    "df_bound_label['Embarked'] = df_bound_label['Embarked'].apply(lambda x: embarked_mapper[x])\n",
    "df_not_smooth_label['Embarked'] = df_not_smooth_label['Embarked'].apply(lambda x: embarked_mapper[x])\n",
    "df_not_smooth_label.Embarked.unique()"
   ]
  },
  {
   "cell_type": "markdown",
   "id": "b52c7975",
   "metadata": {
    "papermill": {
     "duration": 0.129977,
     "end_time": "2022-01-08T10:15:13.983670",
     "exception": false,
     "start_time": "2022-01-08T10:15:13.853693",
     "status": "completed"
    },
    "tags": []
   },
   "source": [
    "### 3.1.2 One-hot encoding"
   ]
  },
  {
   "cell_type": "markdown",
   "id": "e63603f0",
   "metadata": {
    "papermill": {
     "duration": 0.132225,
     "end_time": "2022-01-08T10:15:14.249474",
     "exception": false,
     "start_time": "2022-01-08T10:15:14.117249",
     "status": "completed"
    },
    "tags": []
   },
   "source": [
    "Применим данный метод к признакам Pclass, Embarked и Sex."
   ]
  },
  {
   "cell_type": "code",
   "execution_count": 321,
   "id": "b9a3c747",
   "metadata": {
    "execution": {
     "iopub.execute_input": "2022-01-08T10:15:14.522368Z",
     "iopub.status.busy": "2022-01-08T10:15:14.521695Z",
     "iopub.status.idle": "2022-01-08T10:15:14.534369Z",
     "shell.execute_reply": "2022-01-08T10:15:14.534875Z",
     "shell.execute_reply.started": "2022-01-08T09:20:07.837240Z"
    },
    "papermill": {
     "duration": 0.148968,
     "end_time": "2022-01-08T10:15:14.535078",
     "exception": false,
     "start_time": "2022-01-08T10:15:14.386110",
     "status": "completed"
    },
    "tags": []
   },
   "outputs": [],
   "source": [
    "df_with_log_smooth = df_with_log_smooth.drop('Pclass', axis=1).join(pd.get_dummies(df_with_log_smooth['Pclass'], prefix='Pclass'))\n",
    "df_with_bound_smooth = df_with_bound_smooth.drop('Pclass', axis=1).join(pd.get_dummies(df_with_bound_smooth['Pclass'], prefix='Pclass'))\n",
    "df = df.drop('Pclass', axis=1).join(pd.get_dummies(df['Pclass'], prefix='Pclass'))"
   ]
  },
  {
   "cell_type": "code",
   "execution_count": 322,
   "id": "0f731205",
   "metadata": {
    "execution": {
     "iopub.execute_input": "2022-01-08T10:15:14.803073Z",
     "iopub.status.busy": "2022-01-08T10:15:14.802400Z",
     "iopub.status.idle": "2022-01-08T10:15:14.819094Z",
     "shell.execute_reply": "2022-01-08T10:15:14.819595Z",
     "shell.execute_reply.started": "2022-01-08T09:20:07.856807Z"
    },
    "papermill": {
     "duration": 0.152156,
     "end_time": "2022-01-08T10:15:14.819781",
     "exception": false,
     "start_time": "2022-01-08T10:15:14.667625",
     "status": "completed"
    },
    "tags": []
   },
   "outputs": [],
   "source": [
    "df_with_log_smooth = df_with_log_smooth.drop('Embarked', axis=1).join(pd.get_dummies(df_with_log_smooth['Embarked'], prefix='Embarked'))\n",
    "df_with_bound_smooth = df_with_bound_smooth.drop('Embarked', axis=1).join(pd.get_dummies(df_with_bound_smooth['Embarked'], prefix='Embarked'))\n",
    "df = df.drop('Embarked', axis=1).join(pd.get_dummies(df['Embarked'], prefix='Embarked'))"
   ]
  },
  {
   "cell_type": "code",
   "execution_count": 347,
   "id": "15c116c8",
   "metadata": {
    "execution": {
     "iopub.execute_input": "2022-01-08T10:15:15.092837Z",
     "iopub.status.busy": "2022-01-08T10:15:15.092191Z",
     "iopub.status.idle": "2022-01-08T10:15:15.106083Z",
     "shell.execute_reply": "2022-01-08T10:15:15.106550Z",
     "shell.execute_reply.started": "2022-01-08T09:20:07.878458Z"
    },
    "papermill": {
     "duration": 0.152892,
     "end_time": "2022-01-08T10:15:15.106729",
     "exception": false,
     "start_time": "2022-01-08T10:15:14.953837",
     "status": "completed"
    },
    "tags": []
   },
   "outputs": [
    {
     "ename": "KeyError",
     "evalue": "\"['Sex'] not found in axis\"",
     "output_type": "error",
     "traceback": [
      "\u001b[1;31m---------------------------------------------------------------------------\u001b[0m",
      "\u001b[1;31mKeyError\u001b[0m                                  Traceback (most recent call last)",
      "\u001b[1;32m<ipython-input-347-aee88d542883>\u001b[0m in \u001b[0;36m<module>\u001b[1;34m\u001b[0m\n\u001b[1;32m----> 1\u001b[1;33m \u001b[0mdf_with_log_smooth\u001b[0m \u001b[1;33m=\u001b[0m \u001b[0mdf_with_log_smooth\u001b[0m\u001b[1;33m.\u001b[0m\u001b[0mdrop\u001b[0m\u001b[1;33m(\u001b[0m\u001b[1;34m'Sex'\u001b[0m\u001b[1;33m,\u001b[0m \u001b[0maxis\u001b[0m\u001b[1;33m=\u001b[0m\u001b[1;36m1\u001b[0m\u001b[1;33m)\u001b[0m\u001b[1;33m.\u001b[0m\u001b[0mjoin\u001b[0m\u001b[1;33m(\u001b[0m\u001b[0mpd\u001b[0m\u001b[1;33m.\u001b[0m\u001b[0mget_dummies\u001b[0m\u001b[1;33m(\u001b[0m\u001b[0mdf_with_log_smooth\u001b[0m\u001b[1;33m[\u001b[0m\u001b[1;34m'Sex'\u001b[0m\u001b[1;33m]\u001b[0m\u001b[1;33m,\u001b[0m \u001b[0mprefix\u001b[0m\u001b[1;33m=\u001b[0m\u001b[1;34m'Sex'\u001b[0m\u001b[1;33m,\u001b[0m \u001b[0mdrop_first\u001b[0m\u001b[1;33m=\u001b[0m\u001b[1;32mTrue\u001b[0m\u001b[1;33m)\u001b[0m\u001b[1;33m)\u001b[0m\u001b[1;33m\u001b[0m\u001b[1;33m\u001b[0m\u001b[0m\n\u001b[0m\u001b[0;32m      2\u001b[0m \u001b[0mdf_with_bound_smooth\u001b[0m \u001b[1;33m=\u001b[0m \u001b[0mdf_with_bound_smooth\u001b[0m\u001b[1;33m.\u001b[0m\u001b[0mdrop\u001b[0m\u001b[1;33m(\u001b[0m\u001b[1;34m'Sex'\u001b[0m\u001b[1;33m,\u001b[0m \u001b[0maxis\u001b[0m\u001b[1;33m=\u001b[0m\u001b[1;36m1\u001b[0m\u001b[1;33m)\u001b[0m\u001b[1;33m.\u001b[0m\u001b[0mjoin\u001b[0m\u001b[1;33m(\u001b[0m\u001b[0mpd\u001b[0m\u001b[1;33m.\u001b[0m\u001b[0mget_dummies\u001b[0m\u001b[1;33m(\u001b[0m\u001b[0mdf_with_bound_smooth\u001b[0m\u001b[1;33m[\u001b[0m\u001b[1;34m'Sex'\u001b[0m\u001b[1;33m]\u001b[0m\u001b[1;33m,\u001b[0m \u001b[0mprefix\u001b[0m\u001b[1;33m=\u001b[0m\u001b[1;34m'Sex'\u001b[0m\u001b[1;33m,\u001b[0m \u001b[0mdrop_first\u001b[0m\u001b[1;33m=\u001b[0m\u001b[1;32mTrue\u001b[0m\u001b[1;33m)\u001b[0m\u001b[1;33m)\u001b[0m\u001b[1;33m\u001b[0m\u001b[1;33m\u001b[0m\u001b[0m\n\u001b[0;32m      3\u001b[0m \u001b[0mdf\u001b[0m \u001b[1;33m=\u001b[0m \u001b[0mdf\u001b[0m\u001b[1;33m.\u001b[0m\u001b[0mdrop\u001b[0m\u001b[1;33m(\u001b[0m\u001b[1;34m'Sex'\u001b[0m\u001b[1;33m,\u001b[0m \u001b[0maxis\u001b[0m\u001b[1;33m=\u001b[0m\u001b[1;36m1\u001b[0m\u001b[1;33m)\u001b[0m\u001b[1;33m.\u001b[0m\u001b[0mjoin\u001b[0m\u001b[1;33m(\u001b[0m\u001b[0mpd\u001b[0m\u001b[1;33m.\u001b[0m\u001b[0mget_dummies\u001b[0m\u001b[1;33m(\u001b[0m\u001b[0mdf\u001b[0m\u001b[1;33m[\u001b[0m\u001b[1;34m'Sex'\u001b[0m\u001b[1;33m]\u001b[0m\u001b[1;33m,\u001b[0m \u001b[0mprefix\u001b[0m\u001b[1;33m=\u001b[0m\u001b[1;34m'Sex'\u001b[0m\u001b[1;33m,\u001b[0m \u001b[0mdrop_first\u001b[0m\u001b[1;33m=\u001b[0m\u001b[1;32mTrue\u001b[0m\u001b[1;33m)\u001b[0m\u001b[1;33m)\u001b[0m\u001b[1;33m\u001b[0m\u001b[1;33m\u001b[0m\u001b[0m\n",
      "\u001b[1;32mC:\\ProgramData\\Anaconda3\\lib\\site-packages\\pandas\\core\\frame.py\u001b[0m in \u001b[0;36mdrop\u001b[1;34m(self, labels, axis, index, columns, level, inplace, errors)\u001b[0m\n\u001b[0;32m   4306\u001b[0m                 \u001b[0mweight\u001b[0m  \u001b[1;36m1.0\u001b[0m     \u001b[1;36m0.8\u001b[0m\u001b[1;33m\u001b[0m\u001b[1;33m\u001b[0m\u001b[0m\n\u001b[0;32m   4307\u001b[0m         \"\"\"\n\u001b[1;32m-> 4308\u001b[1;33m         return super().drop(\n\u001b[0m\u001b[0;32m   4309\u001b[0m             \u001b[0mlabels\u001b[0m\u001b[1;33m=\u001b[0m\u001b[0mlabels\u001b[0m\u001b[1;33m,\u001b[0m\u001b[1;33m\u001b[0m\u001b[1;33m\u001b[0m\u001b[0m\n\u001b[0;32m   4310\u001b[0m             \u001b[0maxis\u001b[0m\u001b[1;33m=\u001b[0m\u001b[0maxis\u001b[0m\u001b[1;33m,\u001b[0m\u001b[1;33m\u001b[0m\u001b[1;33m\u001b[0m\u001b[0m\n",
      "\u001b[1;32mC:\\ProgramData\\Anaconda3\\lib\\site-packages\\pandas\\core\\generic.py\u001b[0m in \u001b[0;36mdrop\u001b[1;34m(self, labels, axis, index, columns, level, inplace, errors)\u001b[0m\n\u001b[0;32m   4151\u001b[0m         \u001b[1;32mfor\u001b[0m \u001b[0maxis\u001b[0m\u001b[1;33m,\u001b[0m \u001b[0mlabels\u001b[0m \u001b[1;32min\u001b[0m \u001b[0maxes\u001b[0m\u001b[1;33m.\u001b[0m\u001b[0mitems\u001b[0m\u001b[1;33m(\u001b[0m\u001b[1;33m)\u001b[0m\u001b[1;33m:\u001b[0m\u001b[1;33m\u001b[0m\u001b[1;33m\u001b[0m\u001b[0m\n\u001b[0;32m   4152\u001b[0m             \u001b[1;32mif\u001b[0m \u001b[0mlabels\u001b[0m \u001b[1;32mis\u001b[0m \u001b[1;32mnot\u001b[0m \u001b[1;32mNone\u001b[0m\u001b[1;33m:\u001b[0m\u001b[1;33m\u001b[0m\u001b[1;33m\u001b[0m\u001b[0m\n\u001b[1;32m-> 4153\u001b[1;33m                 \u001b[0mobj\u001b[0m \u001b[1;33m=\u001b[0m \u001b[0mobj\u001b[0m\u001b[1;33m.\u001b[0m\u001b[0m_drop_axis\u001b[0m\u001b[1;33m(\u001b[0m\u001b[0mlabels\u001b[0m\u001b[1;33m,\u001b[0m \u001b[0maxis\u001b[0m\u001b[1;33m,\u001b[0m \u001b[0mlevel\u001b[0m\u001b[1;33m=\u001b[0m\u001b[0mlevel\u001b[0m\u001b[1;33m,\u001b[0m \u001b[0merrors\u001b[0m\u001b[1;33m=\u001b[0m\u001b[0merrors\u001b[0m\u001b[1;33m)\u001b[0m\u001b[1;33m\u001b[0m\u001b[1;33m\u001b[0m\u001b[0m\n\u001b[0m\u001b[0;32m   4154\u001b[0m \u001b[1;33m\u001b[0m\u001b[0m\n\u001b[0;32m   4155\u001b[0m         \u001b[1;32mif\u001b[0m \u001b[0minplace\u001b[0m\u001b[1;33m:\u001b[0m\u001b[1;33m\u001b[0m\u001b[1;33m\u001b[0m\u001b[0m\n",
      "\u001b[1;32mC:\\ProgramData\\Anaconda3\\lib\\site-packages\\pandas\\core\\generic.py\u001b[0m in \u001b[0;36m_drop_axis\u001b[1;34m(self, labels, axis, level, errors)\u001b[0m\n\u001b[0;32m   4186\u001b[0m                 \u001b[0mnew_axis\u001b[0m \u001b[1;33m=\u001b[0m \u001b[0maxis\u001b[0m\u001b[1;33m.\u001b[0m\u001b[0mdrop\u001b[0m\u001b[1;33m(\u001b[0m\u001b[0mlabels\u001b[0m\u001b[1;33m,\u001b[0m \u001b[0mlevel\u001b[0m\u001b[1;33m=\u001b[0m\u001b[0mlevel\u001b[0m\u001b[1;33m,\u001b[0m \u001b[0merrors\u001b[0m\u001b[1;33m=\u001b[0m\u001b[0merrors\u001b[0m\u001b[1;33m)\u001b[0m\u001b[1;33m\u001b[0m\u001b[1;33m\u001b[0m\u001b[0m\n\u001b[0;32m   4187\u001b[0m             \u001b[1;32melse\u001b[0m\u001b[1;33m:\u001b[0m\u001b[1;33m\u001b[0m\u001b[1;33m\u001b[0m\u001b[0m\n\u001b[1;32m-> 4188\u001b[1;33m                 \u001b[0mnew_axis\u001b[0m \u001b[1;33m=\u001b[0m \u001b[0maxis\u001b[0m\u001b[1;33m.\u001b[0m\u001b[0mdrop\u001b[0m\u001b[1;33m(\u001b[0m\u001b[0mlabels\u001b[0m\u001b[1;33m,\u001b[0m \u001b[0merrors\u001b[0m\u001b[1;33m=\u001b[0m\u001b[0merrors\u001b[0m\u001b[1;33m)\u001b[0m\u001b[1;33m\u001b[0m\u001b[1;33m\u001b[0m\u001b[0m\n\u001b[0m\u001b[0;32m   4189\u001b[0m             \u001b[0mresult\u001b[0m \u001b[1;33m=\u001b[0m \u001b[0mself\u001b[0m\u001b[1;33m.\u001b[0m\u001b[0mreindex\u001b[0m\u001b[1;33m(\u001b[0m\u001b[1;33m**\u001b[0m\u001b[1;33m{\u001b[0m\u001b[0maxis_name\u001b[0m\u001b[1;33m:\u001b[0m \u001b[0mnew_axis\u001b[0m\u001b[1;33m}\u001b[0m\u001b[1;33m)\u001b[0m\u001b[1;33m\u001b[0m\u001b[1;33m\u001b[0m\u001b[0m\n\u001b[0;32m   4190\u001b[0m \u001b[1;33m\u001b[0m\u001b[0m\n",
      "\u001b[1;32mC:\\ProgramData\\Anaconda3\\lib\\site-packages\\pandas\\core\\indexes\\base.py\u001b[0m in \u001b[0;36mdrop\u001b[1;34m(self, labels, errors)\u001b[0m\n\u001b[0;32m   5589\u001b[0m         \u001b[1;32mif\u001b[0m \u001b[0mmask\u001b[0m\u001b[1;33m.\u001b[0m\u001b[0many\u001b[0m\u001b[1;33m(\u001b[0m\u001b[1;33m)\u001b[0m\u001b[1;33m:\u001b[0m\u001b[1;33m\u001b[0m\u001b[1;33m\u001b[0m\u001b[0m\n\u001b[0;32m   5590\u001b[0m             \u001b[1;32mif\u001b[0m \u001b[0merrors\u001b[0m \u001b[1;33m!=\u001b[0m \u001b[1;34m\"ignore\"\u001b[0m\u001b[1;33m:\u001b[0m\u001b[1;33m\u001b[0m\u001b[1;33m\u001b[0m\u001b[0m\n\u001b[1;32m-> 5591\u001b[1;33m                 \u001b[1;32mraise\u001b[0m \u001b[0mKeyError\u001b[0m\u001b[1;33m(\u001b[0m\u001b[1;34mf\"{labels[mask]} not found in axis\"\u001b[0m\u001b[1;33m)\u001b[0m\u001b[1;33m\u001b[0m\u001b[1;33m\u001b[0m\u001b[0m\n\u001b[0m\u001b[0;32m   5592\u001b[0m             \u001b[0mindexer\u001b[0m \u001b[1;33m=\u001b[0m \u001b[0mindexer\u001b[0m\u001b[1;33m[\u001b[0m\u001b[1;33m~\u001b[0m\u001b[0mmask\u001b[0m\u001b[1;33m]\u001b[0m\u001b[1;33m\u001b[0m\u001b[1;33m\u001b[0m\u001b[0m\n\u001b[0;32m   5593\u001b[0m         \u001b[1;32mreturn\u001b[0m \u001b[0mself\u001b[0m\u001b[1;33m.\u001b[0m\u001b[0mdelete\u001b[0m\u001b[1;33m(\u001b[0m\u001b[0mindexer\u001b[0m\u001b[1;33m)\u001b[0m\u001b[1;33m\u001b[0m\u001b[1;33m\u001b[0m\u001b[0m\n",
      "\u001b[1;31mKeyError\u001b[0m: \"['Sex'] not found in axis\""
     ]
    }
   ],
   "source": [
    "df_with_log_smooth = df_with_log_smooth.drop('Sex', axis=1).join(pd.get_dummies(df_with_log_smooth['Sex'], prefix='Sex', drop_first=True))\n",
    "df_with_bound_smooth = df_with_bound_smooth.drop('Sex', axis=1).join(pd.get_dummies(df_with_bound_smooth['Sex'], prefix='Sex', drop_first=True))\n",
    "df = df.drop('Sex', axis=1).join(pd.get_dummies(df['Sex'], prefix='Sex', drop_first=True))"
   ]
  },
  {
   "cell_type": "code",
   "execution_count": 324,
   "id": "a2aa2163",
   "metadata": {
    "execution": {
     "iopub.execute_input": "2022-01-08T10:15:15.382826Z",
     "iopub.status.busy": "2022-01-08T10:15:15.381773Z",
     "iopub.status.idle": "2022-01-08T10:15:15.385471Z",
     "shell.execute_reply": "2022-01-08T10:15:15.385970Z",
     "shell.execute_reply.started": "2022-01-08T09:20:07.898657Z"
    },
    "papermill": {
     "duration": 0.149521,
     "end_time": "2022-01-08T10:15:15.386138",
     "exception": false,
     "start_time": "2022-01-08T10:15:15.236617",
     "status": "completed"
    },
    "tags": []
   },
   "outputs": [
    {
     "data": {
      "text/html": [
       "<div>\n",
       "<style scoped>\n",
       "    .dataframe tbody tr th:only-of-type {\n",
       "        vertical-align: middle;\n",
       "    }\n",
       "\n",
       "    .dataframe tbody tr th {\n",
       "        vertical-align: top;\n",
       "    }\n",
       "\n",
       "    .dataframe thead th {\n",
       "        text-align: right;\n",
       "    }\n",
       "</style>\n",
       "<table border=\"1\" class=\"dataframe\">\n",
       "  <thead>\n",
       "    <tr style=\"text-align: right;\">\n",
       "      <th></th>\n",
       "      <th>PassengerId</th>\n",
       "      <th>Survived</th>\n",
       "      <th>Name</th>\n",
       "      <th>Age</th>\n",
       "      <th>SibSp</th>\n",
       "      <th>Parch</th>\n",
       "      <th>Ticket</th>\n",
       "      <th>Fare</th>\n",
       "      <th>Cabin</th>\n",
       "      <th>Pclass_1</th>\n",
       "      <th>Pclass_2</th>\n",
       "      <th>Pclass_3</th>\n",
       "      <th>Embarked_C</th>\n",
       "      <th>Embarked_Q</th>\n",
       "      <th>Embarked_S</th>\n",
       "      <th>Sex_male</th>\n",
       "    </tr>\n",
       "  </thead>\n",
       "  <tbody>\n",
       "    <tr>\n",
       "      <th>0</th>\n",
       "      <td>1</td>\n",
       "      <td>0</td>\n",
       "      <td>Braund, Mr. Owen Harris</td>\n",
       "      <td>22.0</td>\n",
       "      <td>1</td>\n",
       "      <td>0</td>\n",
       "      <td>A/5 21171</td>\n",
       "      <td>7.2500</td>\n",
       "      <td>NaN</td>\n",
       "      <td>0</td>\n",
       "      <td>0</td>\n",
       "      <td>1</td>\n",
       "      <td>0</td>\n",
       "      <td>0</td>\n",
       "      <td>1</td>\n",
       "      <td>1</td>\n",
       "    </tr>\n",
       "    <tr>\n",
       "      <th>1</th>\n",
       "      <td>2</td>\n",
       "      <td>1</td>\n",
       "      <td>Cumings, Mrs. John Bradley (Florence Briggs Th...</td>\n",
       "      <td>38.0</td>\n",
       "      <td>1</td>\n",
       "      <td>0</td>\n",
       "      <td>PC 17599</td>\n",
       "      <td>71.2833</td>\n",
       "      <td>C85</td>\n",
       "      <td>1</td>\n",
       "      <td>0</td>\n",
       "      <td>0</td>\n",
       "      <td>1</td>\n",
       "      <td>0</td>\n",
       "      <td>0</td>\n",
       "      <td>0</td>\n",
       "    </tr>\n",
       "    <tr>\n",
       "      <th>2</th>\n",
       "      <td>3</td>\n",
       "      <td>1</td>\n",
       "      <td>Heikkinen, Miss. Laina</td>\n",
       "      <td>26.0</td>\n",
       "      <td>0</td>\n",
       "      <td>0</td>\n",
       "      <td>STON/O2. 3101282</td>\n",
       "      <td>7.9250</td>\n",
       "      <td>NaN</td>\n",
       "      <td>0</td>\n",
       "      <td>0</td>\n",
       "      <td>1</td>\n",
       "      <td>0</td>\n",
       "      <td>0</td>\n",
       "      <td>1</td>\n",
       "      <td>0</td>\n",
       "    </tr>\n",
       "    <tr>\n",
       "      <th>3</th>\n",
       "      <td>4</td>\n",
       "      <td>1</td>\n",
       "      <td>Futrelle, Mrs. Jacques Heath (Lily May Peel)</td>\n",
       "      <td>35.0</td>\n",
       "      <td>1</td>\n",
       "      <td>0</td>\n",
       "      <td>113803</td>\n",
       "      <td>53.1000</td>\n",
       "      <td>C123</td>\n",
       "      <td>1</td>\n",
       "      <td>0</td>\n",
       "      <td>0</td>\n",
       "      <td>0</td>\n",
       "      <td>0</td>\n",
       "      <td>1</td>\n",
       "      <td>0</td>\n",
       "    </tr>\n",
       "    <tr>\n",
       "      <th>4</th>\n",
       "      <td>5</td>\n",
       "      <td>0</td>\n",
       "      <td>Allen, Mr. William Henry</td>\n",
       "      <td>35.0</td>\n",
       "      <td>0</td>\n",
       "      <td>0</td>\n",
       "      <td>373450</td>\n",
       "      <td>8.0500</td>\n",
       "      <td>NaN</td>\n",
       "      <td>0</td>\n",
       "      <td>0</td>\n",
       "      <td>1</td>\n",
       "      <td>0</td>\n",
       "      <td>0</td>\n",
       "      <td>1</td>\n",
       "      <td>1</td>\n",
       "    </tr>\n",
       "  </tbody>\n",
       "</table>\n",
       "</div>"
      ],
      "text/plain": [
       "   PassengerId  Survived                                               Name  \\\n",
       "0            1         0                            Braund, Mr. Owen Harris   \n",
       "1            2         1  Cumings, Mrs. John Bradley (Florence Briggs Th...   \n",
       "2            3         1                             Heikkinen, Miss. Laina   \n",
       "3            4         1       Futrelle, Mrs. Jacques Heath (Lily May Peel)   \n",
       "4            5         0                           Allen, Mr. William Henry   \n",
       "\n",
       "    Age  SibSp  Parch            Ticket     Fare Cabin  Pclass_1  Pclass_2  \\\n",
       "0  22.0      1      0         A/5 21171   7.2500   NaN         0         0   \n",
       "1  38.0      1      0          PC 17599  71.2833   C85         1         0   \n",
       "2  26.0      0      0  STON/O2. 3101282   7.9250   NaN         0         0   \n",
       "3  35.0      1      0            113803  53.1000  C123         1         0   \n",
       "4  35.0      0      0            373450   8.0500   NaN         0         0   \n",
       "\n",
       "   Pclass_3  Embarked_C  Embarked_Q  Embarked_S  Sex_male  \n",
       "0         1           0           0           1         1  \n",
       "1         0           1           0           0         0  \n",
       "2         1           0           0           1         0  \n",
       "3         0           0           0           1         0  \n",
       "4         1           0           0           1         1  "
      ]
     },
     "execution_count": 324,
     "metadata": {},
     "output_type": "execute_result"
    }
   ],
   "source": [
    "df.head()"
   ]
  },
  {
   "cell_type": "code",
   "execution_count": 325,
   "id": "f8cf5976",
   "metadata": {
    "execution": {
     "iopub.execute_input": "2022-01-08T10:15:15.667324Z",
     "iopub.status.busy": "2022-01-08T10:15:15.652425Z",
     "iopub.status.idle": "2022-01-08T10:15:15.670450Z",
     "shell.execute_reply": "2022-01-08T10:15:15.670969Z",
     "shell.execute_reply.started": "2022-01-08T09:20:07.918048Z"
    },
    "papermill": {
     "duration": 0.154205,
     "end_time": "2022-01-08T10:15:15.671138",
     "exception": false,
     "start_time": "2022-01-08T10:15:15.516933",
     "status": "completed"
    },
    "tags": []
   },
   "outputs": [
    {
     "data": {
      "text/html": [
       "<div>\n",
       "<style scoped>\n",
       "    .dataframe tbody tr th:only-of-type {\n",
       "        vertical-align: middle;\n",
       "    }\n",
       "\n",
       "    .dataframe tbody tr th {\n",
       "        vertical-align: top;\n",
       "    }\n",
       "\n",
       "    .dataframe thead th {\n",
       "        text-align: right;\n",
       "    }\n",
       "</style>\n",
       "<table border=\"1\" class=\"dataframe\">\n",
       "  <thead>\n",
       "    <tr style=\"text-align: right;\">\n",
       "      <th></th>\n",
       "      <th>PassengerId</th>\n",
       "      <th>Survived</th>\n",
       "      <th>Name</th>\n",
       "      <th>Age</th>\n",
       "      <th>SibSp</th>\n",
       "      <th>Parch</th>\n",
       "      <th>Ticket</th>\n",
       "      <th>Fare</th>\n",
       "      <th>Cabin</th>\n",
       "      <th>Pclass_1</th>\n",
       "      <th>Pclass_2</th>\n",
       "      <th>Pclass_3</th>\n",
       "      <th>Embarked_C</th>\n",
       "      <th>Embarked_Q</th>\n",
       "      <th>Embarked_S</th>\n",
       "      <th>Sex_male</th>\n",
       "    </tr>\n",
       "  </thead>\n",
       "  <tbody>\n",
       "    <tr>\n",
       "      <th>0</th>\n",
       "      <td>1</td>\n",
       "      <td>0.000000</td>\n",
       "      <td>Braund, Mr. Owen Harris</td>\n",
       "      <td>3.135494</td>\n",
       "      <td>0.693147</td>\n",
       "      <td>0.0</td>\n",
       "      <td>A/5 21171</td>\n",
       "      <td>2.110213</td>\n",
       "      <td>NaN</td>\n",
       "      <td>0</td>\n",
       "      <td>0</td>\n",
       "      <td>1</td>\n",
       "      <td>0</td>\n",
       "      <td>0</td>\n",
       "      <td>1</td>\n",
       "      <td>1</td>\n",
       "    </tr>\n",
       "    <tr>\n",
       "      <th>1</th>\n",
       "      <td>2</td>\n",
       "      <td>0.693147</td>\n",
       "      <td>Cumings, Mrs. John Bradley (Florence Briggs Th...</td>\n",
       "      <td>3.663562</td>\n",
       "      <td>0.693147</td>\n",
       "      <td>0.0</td>\n",
       "      <td>PC 17599</td>\n",
       "      <td>4.280593</td>\n",
       "      <td>C85</td>\n",
       "      <td>1</td>\n",
       "      <td>0</td>\n",
       "      <td>0</td>\n",
       "      <td>1</td>\n",
       "      <td>0</td>\n",
       "      <td>0</td>\n",
       "      <td>0</td>\n",
       "    </tr>\n",
       "    <tr>\n",
       "      <th>2</th>\n",
       "      <td>3</td>\n",
       "      <td>0.693147</td>\n",
       "      <td>Heikkinen, Miss. Laina</td>\n",
       "      <td>3.295837</td>\n",
       "      <td>0.000000</td>\n",
       "      <td>0.0</td>\n",
       "      <td>STON/O2. 3101282</td>\n",
       "      <td>2.188856</td>\n",
       "      <td>NaN</td>\n",
       "      <td>0</td>\n",
       "      <td>0</td>\n",
       "      <td>1</td>\n",
       "      <td>0</td>\n",
       "      <td>0</td>\n",
       "      <td>1</td>\n",
       "      <td>0</td>\n",
       "    </tr>\n",
       "    <tr>\n",
       "      <th>3</th>\n",
       "      <td>4</td>\n",
       "      <td>0.693147</td>\n",
       "      <td>Futrelle, Mrs. Jacques Heath (Lily May Peel)</td>\n",
       "      <td>3.583519</td>\n",
       "      <td>0.693147</td>\n",
       "      <td>0.0</td>\n",
       "      <td>113803</td>\n",
       "      <td>3.990834</td>\n",
       "      <td>C123</td>\n",
       "      <td>1</td>\n",
       "      <td>0</td>\n",
       "      <td>0</td>\n",
       "      <td>0</td>\n",
       "      <td>0</td>\n",
       "      <td>1</td>\n",
       "      <td>0</td>\n",
       "    </tr>\n",
       "    <tr>\n",
       "      <th>4</th>\n",
       "      <td>5</td>\n",
       "      <td>0.000000</td>\n",
       "      <td>Allen, Mr. William Henry</td>\n",
       "      <td>3.583519</td>\n",
       "      <td>0.000000</td>\n",
       "      <td>0.0</td>\n",
       "      <td>373450</td>\n",
       "      <td>2.202765</td>\n",
       "      <td>NaN</td>\n",
       "      <td>0</td>\n",
       "      <td>0</td>\n",
       "      <td>1</td>\n",
       "      <td>0</td>\n",
       "      <td>0</td>\n",
       "      <td>1</td>\n",
       "      <td>1</td>\n",
       "    </tr>\n",
       "  </tbody>\n",
       "</table>\n",
       "</div>"
      ],
      "text/plain": [
       "   PassengerId  Survived                                               Name  \\\n",
       "0            1  0.000000                            Braund, Mr. Owen Harris   \n",
       "1            2  0.693147  Cumings, Mrs. John Bradley (Florence Briggs Th...   \n",
       "2            3  0.693147                             Heikkinen, Miss. Laina   \n",
       "3            4  0.693147       Futrelle, Mrs. Jacques Heath (Lily May Peel)   \n",
       "4            5  0.000000                           Allen, Mr. William Henry   \n",
       "\n",
       "        Age     SibSp  Parch            Ticket      Fare Cabin  Pclass_1  \\\n",
       "0  3.135494  0.693147    0.0         A/5 21171  2.110213   NaN         0   \n",
       "1  3.663562  0.693147    0.0          PC 17599  4.280593   C85         1   \n",
       "2  3.295837  0.000000    0.0  STON/O2. 3101282  2.188856   NaN         0   \n",
       "3  3.583519  0.693147    0.0            113803  3.990834  C123         1   \n",
       "4  3.583519  0.000000    0.0            373450  2.202765   NaN         0   \n",
       "\n",
       "   Pclass_2  Pclass_3  Embarked_C  Embarked_Q  Embarked_S  Sex_male  \n",
       "0         0         1           0           0           1         1  \n",
       "1         0         0           1           0           0         0  \n",
       "2         0         1           0           0           1         0  \n",
       "3         0         0           0           0           1         0  \n",
       "4         0         1           0           0           1         1  "
      ]
     },
     "execution_count": 325,
     "metadata": {},
     "output_type": "execute_result"
    }
   ],
   "source": [
    "df_with_log_smooth.head()"
   ]
  },
  {
   "cell_type": "code",
   "execution_count": 326,
   "id": "121ee712",
   "metadata": {
    "execution": {
     "iopub.execute_input": "2022-01-08T10:15:15.961362Z",
     "iopub.status.busy": "2022-01-08T10:15:15.960153Z",
     "iopub.status.idle": "2022-01-08T10:15:15.982125Z",
     "shell.execute_reply": "2022-01-08T10:15:15.983047Z",
     "shell.execute_reply.started": "2022-01-08T09:20:07.943741Z"
    },
    "papermill": {
     "duration": 0.180379,
     "end_time": "2022-01-08T10:15:15.983244",
     "exception": false,
     "start_time": "2022-01-08T10:15:15.802865",
     "status": "completed"
    },
    "tags": []
   },
   "outputs": [
    {
     "data": {
      "text/html": [
       "<div>\n",
       "<style scoped>\n",
       "    .dataframe tbody tr th:only-of-type {\n",
       "        vertical-align: middle;\n",
       "    }\n",
       "\n",
       "    .dataframe tbody tr th {\n",
       "        vertical-align: top;\n",
       "    }\n",
       "\n",
       "    .dataframe thead th {\n",
       "        text-align: right;\n",
       "    }\n",
       "</style>\n",
       "<table border=\"1\" class=\"dataframe\">\n",
       "  <thead>\n",
       "    <tr style=\"text-align: right;\">\n",
       "      <th></th>\n",
       "      <th>PassengerId</th>\n",
       "      <th>Survived</th>\n",
       "      <th>Name</th>\n",
       "      <th>Age</th>\n",
       "      <th>SibSp</th>\n",
       "      <th>Parch</th>\n",
       "      <th>Ticket</th>\n",
       "      <th>Fare</th>\n",
       "      <th>Cabin</th>\n",
       "      <th>Pclass_1</th>\n",
       "      <th>Pclass_2</th>\n",
       "      <th>Pclass_3</th>\n",
       "      <th>Embarked_C</th>\n",
       "      <th>Embarked_Q</th>\n",
       "      <th>Embarked_S</th>\n",
       "      <th>Sex_male</th>\n",
       "    </tr>\n",
       "  </thead>\n",
       "  <tbody>\n",
       "    <tr>\n",
       "      <th>0</th>\n",
       "      <td>1</td>\n",
       "      <td>0.0</td>\n",
       "      <td>Braund, Mr. Owen Harris</td>\n",
       "      <td>22.0</td>\n",
       "      <td>1.0</td>\n",
       "      <td>0.0</td>\n",
       "      <td>A/5 21171</td>\n",
       "      <td>7.2500</td>\n",
       "      <td>NaN</td>\n",
       "      <td>0</td>\n",
       "      <td>0</td>\n",
       "      <td>1</td>\n",
       "      <td>0</td>\n",
       "      <td>0</td>\n",
       "      <td>1</td>\n",
       "      <td>1</td>\n",
       "    </tr>\n",
       "    <tr>\n",
       "      <th>1</th>\n",
       "      <td>2</td>\n",
       "      <td>1.0</td>\n",
       "      <td>Cumings, Mrs. John Bradley (Florence Briggs Th...</td>\n",
       "      <td>38.0</td>\n",
       "      <td>1.0</td>\n",
       "      <td>0.0</td>\n",
       "      <td>PC 17599</td>\n",
       "      <td>65.6344</td>\n",
       "      <td>C85</td>\n",
       "      <td>1</td>\n",
       "      <td>0</td>\n",
       "      <td>0</td>\n",
       "      <td>1</td>\n",
       "      <td>0</td>\n",
       "      <td>0</td>\n",
       "      <td>0</td>\n",
       "    </tr>\n",
       "    <tr>\n",
       "      <th>2</th>\n",
       "      <td>3</td>\n",
       "      <td>1.0</td>\n",
       "      <td>Heikkinen, Miss. Laina</td>\n",
       "      <td>26.0</td>\n",
       "      <td>0.0</td>\n",
       "      <td>0.0</td>\n",
       "      <td>STON/O2. 3101282</td>\n",
       "      <td>7.9250</td>\n",
       "      <td>NaN</td>\n",
       "      <td>0</td>\n",
       "      <td>0</td>\n",
       "      <td>1</td>\n",
       "      <td>0</td>\n",
       "      <td>0</td>\n",
       "      <td>1</td>\n",
       "      <td>0</td>\n",
       "    </tr>\n",
       "    <tr>\n",
       "      <th>3</th>\n",
       "      <td>4</td>\n",
       "      <td>1.0</td>\n",
       "      <td>Futrelle, Mrs. Jacques Heath (Lily May Peel)</td>\n",
       "      <td>35.0</td>\n",
       "      <td>1.0</td>\n",
       "      <td>0.0</td>\n",
       "      <td>113803</td>\n",
       "      <td>53.1000</td>\n",
       "      <td>C123</td>\n",
       "      <td>1</td>\n",
       "      <td>0</td>\n",
       "      <td>0</td>\n",
       "      <td>0</td>\n",
       "      <td>0</td>\n",
       "      <td>1</td>\n",
       "      <td>0</td>\n",
       "    </tr>\n",
       "    <tr>\n",
       "      <th>4</th>\n",
       "      <td>5</td>\n",
       "      <td>0.0</td>\n",
       "      <td>Allen, Mr. William Henry</td>\n",
       "      <td>35.0</td>\n",
       "      <td>0.0</td>\n",
       "      <td>0.0</td>\n",
       "      <td>373450</td>\n",
       "      <td>8.0500</td>\n",
       "      <td>NaN</td>\n",
       "      <td>0</td>\n",
       "      <td>0</td>\n",
       "      <td>1</td>\n",
       "      <td>0</td>\n",
       "      <td>0</td>\n",
       "      <td>1</td>\n",
       "      <td>1</td>\n",
       "    </tr>\n",
       "  </tbody>\n",
       "</table>\n",
       "</div>"
      ],
      "text/plain": [
       "   PassengerId  Survived                                               Name  \\\n",
       "0            1       0.0                            Braund, Mr. Owen Harris   \n",
       "1            2       1.0  Cumings, Mrs. John Bradley (Florence Briggs Th...   \n",
       "2            3       1.0                             Heikkinen, Miss. Laina   \n",
       "3            4       1.0       Futrelle, Mrs. Jacques Heath (Lily May Peel)   \n",
       "4            5       0.0                           Allen, Mr. William Henry   \n",
       "\n",
       "    Age  SibSp  Parch            Ticket     Fare Cabin  Pclass_1  Pclass_2  \\\n",
       "0  22.0    1.0    0.0         A/5 21171   7.2500   NaN         0         0   \n",
       "1  38.0    1.0    0.0          PC 17599  65.6344   C85         1         0   \n",
       "2  26.0    0.0    0.0  STON/O2. 3101282   7.9250   NaN         0         0   \n",
       "3  35.0    1.0    0.0            113803  53.1000  C123         1         0   \n",
       "4  35.0    0.0    0.0            373450   8.0500   NaN         0         0   \n",
       "\n",
       "   Pclass_3  Embarked_C  Embarked_Q  Embarked_S  Sex_male  \n",
       "0         1           0           0           1         1  \n",
       "1         0           1           0           0         0  \n",
       "2         1           0           0           1         0  \n",
       "3         0           0           0           1         0  \n",
       "4         1           0           0           1         1  "
      ]
     },
     "execution_count": 326,
     "metadata": {},
     "output_type": "execute_result"
    }
   ],
   "source": [
    "df_with_bound_smooth.head()"
   ]
  },
  {
   "cell_type": "markdown",
   "id": "e7309a13",
   "metadata": {
    "papermill": {
     "duration": 0.133181,
     "end_time": "2022-01-08T10:15:16.255279",
     "exception": false,
     "start_time": "2022-01-08T10:15:16.122098",
     "status": "completed"
    },
    "tags": []
   },
   "source": [
    "## 3.2 Шкалирование данных"
   ]
  },
  {
   "cell_type": "markdown",
   "id": "ad2a4e47",
   "metadata": {
    "papermill": {
     "duration": 0.130356,
     "end_time": "2022-01-08T10:15:16.517130",
     "exception": false,
     "start_time": "2022-01-08T10:15:16.386774",
     "status": "completed"
    },
    "tags": []
   },
   "source": [
    "### 3.2.1 Нормализация"
   ]
  },
  {
   "cell_type": "code",
   "execution_count": 327,
   "id": "c34c9fc4",
   "metadata": {
    "execution": {
     "iopub.execute_input": "2022-01-08T10:15:16.794783Z",
     "iopub.status.busy": "2022-01-08T10:15:16.794127Z",
     "iopub.status.idle": "2022-01-08T10:15:16.837928Z",
     "shell.execute_reply": "2022-01-08T10:15:16.837322Z",
     "shell.execute_reply.started": "2022-01-08T09:20:07.965471Z"
    },
    "papermill": {
     "duration": 0.183198,
     "end_time": "2022-01-08T10:15:16.838089",
     "exception": false,
     "start_time": "2022-01-08T10:15:16.654891",
     "status": "completed"
    },
    "tags": []
   },
   "outputs": [
    {
     "data": {
      "text/html": [
       "<div>\n",
       "<style scoped>\n",
       "    .dataframe tbody tr th:only-of-type {\n",
       "        vertical-align: middle;\n",
       "    }\n",
       "\n",
       "    .dataframe tbody tr th {\n",
       "        vertical-align: top;\n",
       "    }\n",
       "\n",
       "    .dataframe thead th {\n",
       "        text-align: right;\n",
       "    }\n",
       "</style>\n",
       "<table border=\"1\" class=\"dataframe\">\n",
       "  <thead>\n",
       "    <tr style=\"text-align: right;\">\n",
       "      <th></th>\n",
       "      <th>PassengerId</th>\n",
       "      <th>Survived</th>\n",
       "      <th>Age</th>\n",
       "      <th>SibSp</th>\n",
       "      <th>Parch</th>\n",
       "      <th>Fare</th>\n",
       "      <th>Pclass_1</th>\n",
       "      <th>Pclass_2</th>\n",
       "      <th>Pclass_3</th>\n",
       "      <th>Embarked_C</th>\n",
       "      <th>Embarked_Q</th>\n",
       "      <th>Embarked_S</th>\n",
       "      <th>Sex_male</th>\n",
       "    </tr>\n",
       "  </thead>\n",
       "  <tbody>\n",
       "    <tr>\n",
       "      <th>count</th>\n",
       "      <td>891.000000</td>\n",
       "      <td>891.000000</td>\n",
       "      <td>891.000000</td>\n",
       "      <td>891.000000</td>\n",
       "      <td>891.000000</td>\n",
       "      <td>891.000000</td>\n",
       "      <td>891.000000</td>\n",
       "      <td>891.000000</td>\n",
       "      <td>891.000000</td>\n",
       "      <td>891.000000</td>\n",
       "      <td>891.000000</td>\n",
       "      <td>891.000000</td>\n",
       "      <td>891.000000</td>\n",
       "    </tr>\n",
       "    <tr>\n",
       "      <th>mean</th>\n",
       "      <td>446.000000</td>\n",
       "      <td>0.383838</td>\n",
       "      <td>29.361582</td>\n",
       "      <td>0.523008</td>\n",
       "      <td>0.381594</td>\n",
       "      <td>32.204208</td>\n",
       "      <td>0.242424</td>\n",
       "      <td>0.206510</td>\n",
       "      <td>0.551066</td>\n",
       "      <td>0.188552</td>\n",
       "      <td>0.086420</td>\n",
       "      <td>0.725028</td>\n",
       "      <td>0.647587</td>\n",
       "    </tr>\n",
       "    <tr>\n",
       "      <th>std</th>\n",
       "      <td>257.353842</td>\n",
       "      <td>0.486592</td>\n",
       "      <td>13.019697</td>\n",
       "      <td>1.102743</td>\n",
       "      <td>0.806057</td>\n",
       "      <td>49.693429</td>\n",
       "      <td>0.428790</td>\n",
       "      <td>0.405028</td>\n",
       "      <td>0.497665</td>\n",
       "      <td>0.391372</td>\n",
       "      <td>0.281141</td>\n",
       "      <td>0.446751</td>\n",
       "      <td>0.477990</td>\n",
       "    </tr>\n",
       "    <tr>\n",
       "      <th>min</th>\n",
       "      <td>1.000000</td>\n",
       "      <td>0.000000</td>\n",
       "      <td>0.420000</td>\n",
       "      <td>0.000000</td>\n",
       "      <td>0.000000</td>\n",
       "      <td>0.000000</td>\n",
       "      <td>0.000000</td>\n",
       "      <td>0.000000</td>\n",
       "      <td>0.000000</td>\n",
       "      <td>0.000000</td>\n",
       "      <td>0.000000</td>\n",
       "      <td>0.000000</td>\n",
       "      <td>0.000000</td>\n",
       "    </tr>\n",
       "    <tr>\n",
       "      <th>25%</th>\n",
       "      <td>223.500000</td>\n",
       "      <td>0.000000</td>\n",
       "      <td>22.000000</td>\n",
       "      <td>0.000000</td>\n",
       "      <td>0.000000</td>\n",
       "      <td>7.910400</td>\n",
       "      <td>0.000000</td>\n",
       "      <td>0.000000</td>\n",
       "      <td>0.000000</td>\n",
       "      <td>0.000000</td>\n",
       "      <td>0.000000</td>\n",
       "      <td>0.000000</td>\n",
       "      <td>0.000000</td>\n",
       "    </tr>\n",
       "    <tr>\n",
       "      <th>50%</th>\n",
       "      <td>446.000000</td>\n",
       "      <td>0.000000</td>\n",
       "      <td>28.000000</td>\n",
       "      <td>0.000000</td>\n",
       "      <td>0.000000</td>\n",
       "      <td>14.454200</td>\n",
       "      <td>0.000000</td>\n",
       "      <td>0.000000</td>\n",
       "      <td>1.000000</td>\n",
       "      <td>0.000000</td>\n",
       "      <td>0.000000</td>\n",
       "      <td>1.000000</td>\n",
       "      <td>1.000000</td>\n",
       "    </tr>\n",
       "    <tr>\n",
       "      <th>75%</th>\n",
       "      <td>668.500000</td>\n",
       "      <td>1.000000</td>\n",
       "      <td>35.000000</td>\n",
       "      <td>1.000000</td>\n",
       "      <td>0.000000</td>\n",
       "      <td>31.000000</td>\n",
       "      <td>0.000000</td>\n",
       "      <td>0.000000</td>\n",
       "      <td>1.000000</td>\n",
       "      <td>0.000000</td>\n",
       "      <td>0.000000</td>\n",
       "      <td>1.000000</td>\n",
       "      <td>1.000000</td>\n",
       "    </tr>\n",
       "    <tr>\n",
       "      <th>max</th>\n",
       "      <td>891.000000</td>\n",
       "      <td>1.000000</td>\n",
       "      <td>80.000000</td>\n",
       "      <td>8.000000</td>\n",
       "      <td>6.000000</td>\n",
       "      <td>512.329200</td>\n",
       "      <td>1.000000</td>\n",
       "      <td>1.000000</td>\n",
       "      <td>1.000000</td>\n",
       "      <td>1.000000</td>\n",
       "      <td>1.000000</td>\n",
       "      <td>1.000000</td>\n",
       "      <td>1.000000</td>\n",
       "    </tr>\n",
       "  </tbody>\n",
       "</table>\n",
       "</div>"
      ],
      "text/plain": [
       "       PassengerId    Survived         Age       SibSp       Parch  \\\n",
       "count   891.000000  891.000000  891.000000  891.000000  891.000000   \n",
       "mean    446.000000    0.383838   29.361582    0.523008    0.381594   \n",
       "std     257.353842    0.486592   13.019697    1.102743    0.806057   \n",
       "min       1.000000    0.000000    0.420000    0.000000    0.000000   \n",
       "25%     223.500000    0.000000   22.000000    0.000000    0.000000   \n",
       "50%     446.000000    0.000000   28.000000    0.000000    0.000000   \n",
       "75%     668.500000    1.000000   35.000000    1.000000    0.000000   \n",
       "max     891.000000    1.000000   80.000000    8.000000    6.000000   \n",
       "\n",
       "             Fare    Pclass_1    Pclass_2    Pclass_3  Embarked_C  Embarked_Q  \\\n",
       "count  891.000000  891.000000  891.000000  891.000000  891.000000  891.000000   \n",
       "mean    32.204208    0.242424    0.206510    0.551066    0.188552    0.086420   \n",
       "std     49.693429    0.428790    0.405028    0.497665    0.391372    0.281141   \n",
       "min      0.000000    0.000000    0.000000    0.000000    0.000000    0.000000   \n",
       "25%      7.910400    0.000000    0.000000    0.000000    0.000000    0.000000   \n",
       "50%     14.454200    0.000000    0.000000    1.000000    0.000000    0.000000   \n",
       "75%     31.000000    0.000000    0.000000    1.000000    0.000000    0.000000   \n",
       "max    512.329200    1.000000    1.000000    1.000000    1.000000    1.000000   \n",
       "\n",
       "       Embarked_S    Sex_male  \n",
       "count  891.000000  891.000000  \n",
       "mean     0.725028    0.647587  \n",
       "std      0.446751    0.477990  \n",
       "min      0.000000    0.000000  \n",
       "25%      0.000000    0.000000  \n",
       "50%      1.000000    1.000000  \n",
       "75%      1.000000    1.000000  \n",
       "max      1.000000    1.000000  "
      ]
     },
     "execution_count": 327,
     "metadata": {},
     "output_type": "execute_result"
    }
   ],
   "source": [
    "min_max_scaler = MinMaxScaler()\n",
    "df.describe()"
   ]
  },
  {
   "cell_type": "code",
   "execution_count": 328,
   "id": "90179528",
   "metadata": {
    "execution": {
     "iopub.execute_input": "2022-01-08T10:15:17.107377Z",
     "iopub.status.busy": "2022-01-08T10:15:17.106674Z",
     "iopub.status.idle": "2022-01-08T10:15:17.148191Z",
     "shell.execute_reply": "2022-01-08T10:15:17.148666Z",
     "shell.execute_reply.started": "2022-01-08T09:20:08.017439Z"
    },
    "papermill": {
     "duration": 0.177717,
     "end_time": "2022-01-08T10:15:17.148845",
     "exception": false,
     "start_time": "2022-01-08T10:15:16.971128",
     "status": "completed"
    },
    "tags": []
   },
   "outputs": [],
   "source": [
    "features_to_normalize = ['Age', 'SibSp', 'Parch', 'Fare']\n",
    "\n",
    "df_with_log_smooth_minmax = df_with_log_smooth.copy()\n",
    "df_with_bound_smooth_minmax = df_with_bound_smooth.copy()\n",
    "df_minmax = df.copy()\n",
    "\n",
    "for feature in features_to_normalize:\n",
    "    df_with_log_smooth_minmax[feature] = min_max_scaler.fit_transform(df_with_log_smooth_minmax[[feature]])\n",
    "    df_with_bound_smooth_minmax[feature] = min_max_scaler.fit_transform(df_with_bound_smooth_minmax[[feature]])\n",
    "    df_minmax[feature] = min_max_scaler.fit_transform(df_minmax[[feature]])"
   ]
  },
  {
   "cell_type": "code",
   "execution_count": 329,
   "id": "bbebf8dd",
   "metadata": {
    "execution": {
     "iopub.execute_input": "2022-01-08T10:15:17.422220Z",
     "iopub.status.busy": "2022-01-08T10:15:17.418522Z",
     "iopub.status.idle": "2022-01-08T10:15:17.462131Z",
     "shell.execute_reply": "2022-01-08T10:15:17.461610Z",
     "shell.execute_reply.started": "2022-01-08T09:20:08.064340Z"
    },
    "papermill": {
     "duration": 0.180943,
     "end_time": "2022-01-08T10:15:17.462274",
     "exception": false,
     "start_time": "2022-01-08T10:15:17.281331",
     "status": "completed"
    },
    "tags": []
   },
   "outputs": [
    {
     "data": {
      "text/html": [
       "<div>\n",
       "<style scoped>\n",
       "    .dataframe tbody tr th:only-of-type {\n",
       "        vertical-align: middle;\n",
       "    }\n",
       "\n",
       "    .dataframe tbody tr th {\n",
       "        vertical-align: top;\n",
       "    }\n",
       "\n",
       "    .dataframe thead th {\n",
       "        text-align: right;\n",
       "    }\n",
       "</style>\n",
       "<table border=\"1\" class=\"dataframe\">\n",
       "  <thead>\n",
       "    <tr style=\"text-align: right;\">\n",
       "      <th></th>\n",
       "      <th>PassengerId</th>\n",
       "      <th>Survived</th>\n",
       "      <th>Age</th>\n",
       "      <th>SibSp</th>\n",
       "      <th>Parch</th>\n",
       "      <th>Fare</th>\n",
       "      <th>Pclass_1</th>\n",
       "      <th>Pclass_2</th>\n",
       "      <th>Pclass_3</th>\n",
       "      <th>Embarked_C</th>\n",
       "      <th>Embarked_Q</th>\n",
       "      <th>Embarked_S</th>\n",
       "      <th>Sex_male</th>\n",
       "    </tr>\n",
       "  </thead>\n",
       "  <tbody>\n",
       "    <tr>\n",
       "      <th>count</th>\n",
       "      <td>891.000000</td>\n",
       "      <td>891.000000</td>\n",
       "      <td>891.000000</td>\n",
       "      <td>891.000000</td>\n",
       "      <td>891.000000</td>\n",
       "      <td>891.000000</td>\n",
       "      <td>891.000000</td>\n",
       "      <td>891.000000</td>\n",
       "      <td>891.000000</td>\n",
       "      <td>891.000000</td>\n",
       "      <td>891.000000</td>\n",
       "      <td>891.000000</td>\n",
       "      <td>891.000000</td>\n",
       "    </tr>\n",
       "    <tr>\n",
       "      <th>mean</th>\n",
       "      <td>446.000000</td>\n",
       "      <td>0.383838</td>\n",
       "      <td>0.363679</td>\n",
       "      <td>0.065376</td>\n",
       "      <td>0.063599</td>\n",
       "      <td>0.062858</td>\n",
       "      <td>0.242424</td>\n",
       "      <td>0.206510</td>\n",
       "      <td>0.551066</td>\n",
       "      <td>0.188552</td>\n",
       "      <td>0.086420</td>\n",
       "      <td>0.725028</td>\n",
       "      <td>0.647587</td>\n",
       "    </tr>\n",
       "    <tr>\n",
       "      <th>std</th>\n",
       "      <td>257.353842</td>\n",
       "      <td>0.486592</td>\n",
       "      <td>0.163605</td>\n",
       "      <td>0.137843</td>\n",
       "      <td>0.134343</td>\n",
       "      <td>0.096995</td>\n",
       "      <td>0.428790</td>\n",
       "      <td>0.405028</td>\n",
       "      <td>0.497665</td>\n",
       "      <td>0.391372</td>\n",
       "      <td>0.281141</td>\n",
       "      <td>0.446751</td>\n",
       "      <td>0.477990</td>\n",
       "    </tr>\n",
       "    <tr>\n",
       "      <th>min</th>\n",
       "      <td>1.000000</td>\n",
       "      <td>0.000000</td>\n",
       "      <td>0.000000</td>\n",
       "      <td>0.000000</td>\n",
       "      <td>0.000000</td>\n",
       "      <td>0.000000</td>\n",
       "      <td>0.000000</td>\n",
       "      <td>0.000000</td>\n",
       "      <td>0.000000</td>\n",
       "      <td>0.000000</td>\n",
       "      <td>0.000000</td>\n",
       "      <td>0.000000</td>\n",
       "      <td>0.000000</td>\n",
       "    </tr>\n",
       "    <tr>\n",
       "      <th>25%</th>\n",
       "      <td>223.500000</td>\n",
       "      <td>0.000000</td>\n",
       "      <td>0.271174</td>\n",
       "      <td>0.000000</td>\n",
       "      <td>0.000000</td>\n",
       "      <td>0.015440</td>\n",
       "      <td>0.000000</td>\n",
       "      <td>0.000000</td>\n",
       "      <td>0.000000</td>\n",
       "      <td>0.000000</td>\n",
       "      <td>0.000000</td>\n",
       "      <td>0.000000</td>\n",
       "      <td>0.000000</td>\n",
       "    </tr>\n",
       "    <tr>\n",
       "      <th>50%</th>\n",
       "      <td>446.000000</td>\n",
       "      <td>0.000000</td>\n",
       "      <td>0.346569</td>\n",
       "      <td>0.000000</td>\n",
       "      <td>0.000000</td>\n",
       "      <td>0.028213</td>\n",
       "      <td>0.000000</td>\n",
       "      <td>0.000000</td>\n",
       "      <td>1.000000</td>\n",
       "      <td>0.000000</td>\n",
       "      <td>0.000000</td>\n",
       "      <td>1.000000</td>\n",
       "      <td>1.000000</td>\n",
       "    </tr>\n",
       "    <tr>\n",
       "      <th>75%</th>\n",
       "      <td>668.500000</td>\n",
       "      <td>1.000000</td>\n",
       "      <td>0.434531</td>\n",
       "      <td>0.125000</td>\n",
       "      <td>0.000000</td>\n",
       "      <td>0.060508</td>\n",
       "      <td>0.000000</td>\n",
       "      <td>0.000000</td>\n",
       "      <td>1.000000</td>\n",
       "      <td>0.000000</td>\n",
       "      <td>0.000000</td>\n",
       "      <td>1.000000</td>\n",
       "      <td>1.000000</td>\n",
       "    </tr>\n",
       "    <tr>\n",
       "      <th>max</th>\n",
       "      <td>891.000000</td>\n",
       "      <td>1.000000</td>\n",
       "      <td>1.000000</td>\n",
       "      <td>1.000000</td>\n",
       "      <td>1.000000</td>\n",
       "      <td>1.000000</td>\n",
       "      <td>1.000000</td>\n",
       "      <td>1.000000</td>\n",
       "      <td>1.000000</td>\n",
       "      <td>1.000000</td>\n",
       "      <td>1.000000</td>\n",
       "      <td>1.000000</td>\n",
       "      <td>1.000000</td>\n",
       "    </tr>\n",
       "  </tbody>\n",
       "</table>\n",
       "</div>"
      ],
      "text/plain": [
       "       PassengerId    Survived         Age       SibSp       Parch  \\\n",
       "count   891.000000  891.000000  891.000000  891.000000  891.000000   \n",
       "mean    446.000000    0.383838    0.363679    0.065376    0.063599   \n",
       "std     257.353842    0.486592    0.163605    0.137843    0.134343   \n",
       "min       1.000000    0.000000    0.000000    0.000000    0.000000   \n",
       "25%     223.500000    0.000000    0.271174    0.000000    0.000000   \n",
       "50%     446.000000    0.000000    0.346569    0.000000    0.000000   \n",
       "75%     668.500000    1.000000    0.434531    0.125000    0.000000   \n",
       "max     891.000000    1.000000    1.000000    1.000000    1.000000   \n",
       "\n",
       "             Fare    Pclass_1    Pclass_2    Pclass_3  Embarked_C  Embarked_Q  \\\n",
       "count  891.000000  891.000000  891.000000  891.000000  891.000000  891.000000   \n",
       "mean     0.062858    0.242424    0.206510    0.551066    0.188552    0.086420   \n",
       "std      0.096995    0.428790    0.405028    0.497665    0.391372    0.281141   \n",
       "min      0.000000    0.000000    0.000000    0.000000    0.000000    0.000000   \n",
       "25%      0.015440    0.000000    0.000000    0.000000    0.000000    0.000000   \n",
       "50%      0.028213    0.000000    0.000000    1.000000    0.000000    0.000000   \n",
       "75%      0.060508    0.000000    0.000000    1.000000    0.000000    0.000000   \n",
       "max      1.000000    1.000000    1.000000    1.000000    1.000000    1.000000   \n",
       "\n",
       "       Embarked_S    Sex_male  \n",
       "count  891.000000  891.000000  \n",
       "mean     0.725028    0.647587  \n",
       "std      0.446751    0.477990  \n",
       "min      0.000000    0.000000  \n",
       "25%      0.000000    0.000000  \n",
       "50%      1.000000    1.000000  \n",
       "75%      1.000000    1.000000  \n",
       "max      1.000000    1.000000  "
      ]
     },
     "execution_count": 329,
     "metadata": {},
     "output_type": "execute_result"
    }
   ],
   "source": [
    "df_minmax.describe()"
   ]
  },
  {
   "cell_type": "markdown",
   "id": "810fad47",
   "metadata": {
    "papermill": {
     "duration": 0.133439,
     "end_time": "2022-01-08T10:15:17.727791",
     "exception": false,
     "start_time": "2022-01-08T10:15:17.594352",
     "status": "completed"
    },
    "tags": []
   },
   "source": [
    "### 3.2.2 Стандартизация"
   ]
  },
  {
   "cell_type": "markdown",
   "id": "e1e4defe",
   "metadata": {
    "papermill": {
     "duration": 0.13204,
     "end_time": "2022-01-08T10:15:17.993085",
     "exception": false,
     "start_time": "2022-01-08T10:15:17.861045",
     "status": "completed"
    },
    "tags": []
   },
   "source": [
    "#### 3.2.2.1 StandardScaler"
   ]
  },
  {
   "cell_type": "code",
   "execution_count": 330,
   "id": "4a32cc5a",
   "metadata": {
    "execution": {
     "iopub.execute_input": "2022-01-08T10:15:18.267346Z",
     "iopub.status.busy": "2022-01-08T10:15:18.266620Z",
     "iopub.status.idle": "2022-01-08T10:15:18.309387Z",
     "shell.execute_reply": "2022-01-08T10:15:18.308694Z",
     "shell.execute_reply.started": "2022-01-08T09:20:08.114958Z"
    },
    "papermill": {
     "duration": 0.183599,
     "end_time": "2022-01-08T10:15:18.309541",
     "exception": false,
     "start_time": "2022-01-08T10:15:18.125942",
     "status": "completed"
    },
    "scrolled": false,
    "tags": []
   },
   "outputs": [
    {
     "data": {
      "text/html": [
       "<div>\n",
       "<style scoped>\n",
       "    .dataframe tbody tr th:only-of-type {\n",
       "        vertical-align: middle;\n",
       "    }\n",
       "\n",
       "    .dataframe tbody tr th {\n",
       "        vertical-align: top;\n",
       "    }\n",
       "\n",
       "    .dataframe thead th {\n",
       "        text-align: right;\n",
       "    }\n",
       "</style>\n",
       "<table border=\"1\" class=\"dataframe\">\n",
       "  <thead>\n",
       "    <tr style=\"text-align: right;\">\n",
       "      <th></th>\n",
       "      <th>PassengerId</th>\n",
       "      <th>Survived</th>\n",
       "      <th>Age</th>\n",
       "      <th>SibSp</th>\n",
       "      <th>Parch</th>\n",
       "      <th>Fare</th>\n",
       "      <th>Pclass_1</th>\n",
       "      <th>Pclass_2</th>\n",
       "      <th>Pclass_3</th>\n",
       "      <th>Embarked_C</th>\n",
       "      <th>Embarked_Q</th>\n",
       "      <th>Embarked_S</th>\n",
       "      <th>Sex_male</th>\n",
       "    </tr>\n",
       "  </thead>\n",
       "  <tbody>\n",
       "    <tr>\n",
       "      <th>count</th>\n",
       "      <td>891.000000</td>\n",
       "      <td>891.000000</td>\n",
       "      <td>891.000000</td>\n",
       "      <td>891.000000</td>\n",
       "      <td>891.000000</td>\n",
       "      <td>891.000000</td>\n",
       "      <td>891.000000</td>\n",
       "      <td>891.000000</td>\n",
       "      <td>891.000000</td>\n",
       "      <td>891.000000</td>\n",
       "      <td>891.000000</td>\n",
       "      <td>891.000000</td>\n",
       "      <td>891.000000</td>\n",
       "    </tr>\n",
       "    <tr>\n",
       "      <th>mean</th>\n",
       "      <td>446.000000</td>\n",
       "      <td>0.383838</td>\n",
       "      <td>29.361582</td>\n",
       "      <td>0.523008</td>\n",
       "      <td>0.381594</td>\n",
       "      <td>32.204208</td>\n",
       "      <td>0.242424</td>\n",
       "      <td>0.206510</td>\n",
       "      <td>0.551066</td>\n",
       "      <td>0.188552</td>\n",
       "      <td>0.086420</td>\n",
       "      <td>0.725028</td>\n",
       "      <td>0.647587</td>\n",
       "    </tr>\n",
       "    <tr>\n",
       "      <th>std</th>\n",
       "      <td>257.353842</td>\n",
       "      <td>0.486592</td>\n",
       "      <td>13.019697</td>\n",
       "      <td>1.102743</td>\n",
       "      <td>0.806057</td>\n",
       "      <td>49.693429</td>\n",
       "      <td>0.428790</td>\n",
       "      <td>0.405028</td>\n",
       "      <td>0.497665</td>\n",
       "      <td>0.391372</td>\n",
       "      <td>0.281141</td>\n",
       "      <td>0.446751</td>\n",
       "      <td>0.477990</td>\n",
       "    </tr>\n",
       "    <tr>\n",
       "      <th>min</th>\n",
       "      <td>1.000000</td>\n",
       "      <td>0.000000</td>\n",
       "      <td>0.420000</td>\n",
       "      <td>0.000000</td>\n",
       "      <td>0.000000</td>\n",
       "      <td>0.000000</td>\n",
       "      <td>0.000000</td>\n",
       "      <td>0.000000</td>\n",
       "      <td>0.000000</td>\n",
       "      <td>0.000000</td>\n",
       "      <td>0.000000</td>\n",
       "      <td>0.000000</td>\n",
       "      <td>0.000000</td>\n",
       "    </tr>\n",
       "    <tr>\n",
       "      <th>25%</th>\n",
       "      <td>223.500000</td>\n",
       "      <td>0.000000</td>\n",
       "      <td>22.000000</td>\n",
       "      <td>0.000000</td>\n",
       "      <td>0.000000</td>\n",
       "      <td>7.910400</td>\n",
       "      <td>0.000000</td>\n",
       "      <td>0.000000</td>\n",
       "      <td>0.000000</td>\n",
       "      <td>0.000000</td>\n",
       "      <td>0.000000</td>\n",
       "      <td>0.000000</td>\n",
       "      <td>0.000000</td>\n",
       "    </tr>\n",
       "    <tr>\n",
       "      <th>50%</th>\n",
       "      <td>446.000000</td>\n",
       "      <td>0.000000</td>\n",
       "      <td>28.000000</td>\n",
       "      <td>0.000000</td>\n",
       "      <td>0.000000</td>\n",
       "      <td>14.454200</td>\n",
       "      <td>0.000000</td>\n",
       "      <td>0.000000</td>\n",
       "      <td>1.000000</td>\n",
       "      <td>0.000000</td>\n",
       "      <td>0.000000</td>\n",
       "      <td>1.000000</td>\n",
       "      <td>1.000000</td>\n",
       "    </tr>\n",
       "    <tr>\n",
       "      <th>75%</th>\n",
       "      <td>668.500000</td>\n",
       "      <td>1.000000</td>\n",
       "      <td>35.000000</td>\n",
       "      <td>1.000000</td>\n",
       "      <td>0.000000</td>\n",
       "      <td>31.000000</td>\n",
       "      <td>0.000000</td>\n",
       "      <td>0.000000</td>\n",
       "      <td>1.000000</td>\n",
       "      <td>0.000000</td>\n",
       "      <td>0.000000</td>\n",
       "      <td>1.000000</td>\n",
       "      <td>1.000000</td>\n",
       "    </tr>\n",
       "    <tr>\n",
       "      <th>max</th>\n",
       "      <td>891.000000</td>\n",
       "      <td>1.000000</td>\n",
       "      <td>80.000000</td>\n",
       "      <td>8.000000</td>\n",
       "      <td>6.000000</td>\n",
       "      <td>512.329200</td>\n",
       "      <td>1.000000</td>\n",
       "      <td>1.000000</td>\n",
       "      <td>1.000000</td>\n",
       "      <td>1.000000</td>\n",
       "      <td>1.000000</td>\n",
       "      <td>1.000000</td>\n",
       "      <td>1.000000</td>\n",
       "    </tr>\n",
       "  </tbody>\n",
       "</table>\n",
       "</div>"
      ],
      "text/plain": [
       "       PassengerId    Survived         Age       SibSp       Parch  \\\n",
       "count   891.000000  891.000000  891.000000  891.000000  891.000000   \n",
       "mean    446.000000    0.383838   29.361582    0.523008    0.381594   \n",
       "std     257.353842    0.486592   13.019697    1.102743    0.806057   \n",
       "min       1.000000    0.000000    0.420000    0.000000    0.000000   \n",
       "25%     223.500000    0.000000   22.000000    0.000000    0.000000   \n",
       "50%     446.000000    0.000000   28.000000    0.000000    0.000000   \n",
       "75%     668.500000    1.000000   35.000000    1.000000    0.000000   \n",
       "max     891.000000    1.000000   80.000000    8.000000    6.000000   \n",
       "\n",
       "             Fare    Pclass_1    Pclass_2    Pclass_3  Embarked_C  Embarked_Q  \\\n",
       "count  891.000000  891.000000  891.000000  891.000000  891.000000  891.000000   \n",
       "mean    32.204208    0.242424    0.206510    0.551066    0.188552    0.086420   \n",
       "std     49.693429    0.428790    0.405028    0.497665    0.391372    0.281141   \n",
       "min      0.000000    0.000000    0.000000    0.000000    0.000000    0.000000   \n",
       "25%      7.910400    0.000000    0.000000    0.000000    0.000000    0.000000   \n",
       "50%     14.454200    0.000000    0.000000    1.000000    0.000000    0.000000   \n",
       "75%     31.000000    0.000000    0.000000    1.000000    0.000000    0.000000   \n",
       "max    512.329200    1.000000    1.000000    1.000000    1.000000    1.000000   \n",
       "\n",
       "       Embarked_S    Sex_male  \n",
       "count  891.000000  891.000000  \n",
       "mean     0.725028    0.647587  \n",
       "std      0.446751    0.477990  \n",
       "min      0.000000    0.000000  \n",
       "25%      0.000000    0.000000  \n",
       "50%      1.000000    1.000000  \n",
       "75%      1.000000    1.000000  \n",
       "max      1.000000    1.000000  "
      ]
     },
     "execution_count": 330,
     "metadata": {},
     "output_type": "execute_result"
    }
   ],
   "source": [
    "standard_scaler = StandardScaler()\n",
    "df.describe()"
   ]
  },
  {
   "cell_type": "code",
   "execution_count": null,
   "id": "d868d3d5",
   "metadata": {},
   "outputs": [],
   "source": [
    "df_with_log_smooth = df_with_log_smooth.drop('Sex', axis=1).join(pd.get_dummies(df_with_log_smooth['Sex'], prefix='Sex', drop_first=True))\n",
    "df_with_bound_smooth = df_with_bound_smooth.drop('Sex', axis=1).join(pd.get_dummies(df_with_bound_smooth['Sex'], prefix='Sex', drop_first=True))\n",
    "df = df.drop('Sex', axis=1).join(pd.get_dummies(df['Sex'], prefix='Sex', drop_first=True))"
   ]
  },
  {
   "cell_type": "code",
   "execution_count": 331,
   "id": "6a9b0cca",
   "metadata": {
    "execution": {
     "iopub.execute_input": "2022-01-08T10:15:18.594059Z",
     "iopub.status.busy": "2022-01-08T10:15:18.590026Z",
     "iopub.status.idle": "2022-01-08T10:15:18.627062Z",
     "shell.execute_reply": "2022-01-08T10:15:18.626467Z",
     "shell.execute_reply.started": "2022-01-08T09:20:08.163710Z"
    },
    "papermill": {
     "duration": 0.18386,
     "end_time": "2022-01-08T10:15:18.627203",
     "exception": false,
     "start_time": "2022-01-08T10:15:18.443343",
     "status": "completed"
    },
    "tags": []
   },
   "outputs": [],
   "source": [
    "df_with_log_smooth_standard = df_with_log_smooth.copy()\n",
    "df_with_bound_smooth_standard = df_with_bound_smooth.copy()\n",
    "df_standard = df.copy()\n",
    "\n",
    "for feature in features_to_normalize:\n",
    "    df_with_log_smooth_standard[feature] = standard_scaler.fit_transform(df_with_log_smooth_standard[[feature]])\n",
    "    df_with_bound_smooth_standard[feature] = standard_scaler.fit_transform(df_with_bound_smooth_standard[[feature]])\n",
    "    df_standard[feature] = standard_scaler.fit_transform(df_standard[[feature]])"
   ]
  },
  {
   "cell_type": "code",
   "execution_count": 332,
   "id": "6d3e20bb",
   "metadata": {
    "execution": {
     "iopub.execute_input": "2022-01-08T10:15:18.905176Z",
     "iopub.status.busy": "2022-01-08T10:15:18.902963Z",
     "iopub.status.idle": "2022-01-08T10:15:18.947387Z",
     "shell.execute_reply": "2022-01-08T10:15:18.947862Z",
     "shell.execute_reply.started": "2022-01-08T09:20:08.215090Z"
    },
    "papermill": {
     "duration": 0.185815,
     "end_time": "2022-01-08T10:15:18.948077",
     "exception": false,
     "start_time": "2022-01-08T10:15:18.762262",
     "status": "completed"
    },
    "tags": []
   },
   "outputs": [
    {
     "data": {
      "text/html": [
       "<div>\n",
       "<style scoped>\n",
       "    .dataframe tbody tr th:only-of-type {\n",
       "        vertical-align: middle;\n",
       "    }\n",
       "\n",
       "    .dataframe tbody tr th {\n",
       "        vertical-align: top;\n",
       "    }\n",
       "\n",
       "    .dataframe thead th {\n",
       "        text-align: right;\n",
       "    }\n",
       "</style>\n",
       "<table border=\"1\" class=\"dataframe\">\n",
       "  <thead>\n",
       "    <tr style=\"text-align: right;\">\n",
       "      <th></th>\n",
       "      <th>PassengerId</th>\n",
       "      <th>Survived</th>\n",
       "      <th>Age</th>\n",
       "      <th>SibSp</th>\n",
       "      <th>Parch</th>\n",
       "      <th>Fare</th>\n",
       "      <th>Pclass_1</th>\n",
       "      <th>Pclass_2</th>\n",
       "      <th>Pclass_3</th>\n",
       "      <th>Embarked_C</th>\n",
       "      <th>Embarked_Q</th>\n",
       "      <th>Embarked_S</th>\n",
       "      <th>Sex_male</th>\n",
       "    </tr>\n",
       "  </thead>\n",
       "  <tbody>\n",
       "    <tr>\n",
       "      <th>count</th>\n",
       "      <td>891.000000</td>\n",
       "      <td>891.000000</td>\n",
       "      <td>8.910000e+02</td>\n",
       "      <td>8.910000e+02</td>\n",
       "      <td>8.910000e+02</td>\n",
       "      <td>8.910000e+02</td>\n",
       "      <td>891.000000</td>\n",
       "      <td>891.000000</td>\n",
       "      <td>891.000000</td>\n",
       "      <td>891.000000</td>\n",
       "      <td>891.000000</td>\n",
       "      <td>891.000000</td>\n",
       "      <td>891.000000</td>\n",
       "    </tr>\n",
       "    <tr>\n",
       "      <th>mean</th>\n",
       "      <td>446.000000</td>\n",
       "      <td>0.383838</td>\n",
       "      <td>3.841546e-16</td>\n",
       "      <td>3.456519e-16</td>\n",
       "      <td>6.716164e-17</td>\n",
       "      <td>-4.373606e-17</td>\n",
       "      <td>0.242424</td>\n",
       "      <td>0.206510</td>\n",
       "      <td>0.551066</td>\n",
       "      <td>0.188552</td>\n",
       "      <td>0.086420</td>\n",
       "      <td>0.725028</td>\n",
       "      <td>0.647587</td>\n",
       "    </tr>\n",
       "    <tr>\n",
       "      <th>std</th>\n",
       "      <td>257.353842</td>\n",
       "      <td>0.486592</td>\n",
       "      <td>1.000562e+00</td>\n",
       "      <td>1.000562e+00</td>\n",
       "      <td>1.000562e+00</td>\n",
       "      <td>1.000562e+00</td>\n",
       "      <td>0.428790</td>\n",
       "      <td>0.405028</td>\n",
       "      <td>0.497665</td>\n",
       "      <td>0.391372</td>\n",
       "      <td>0.281141</td>\n",
       "      <td>0.446751</td>\n",
       "      <td>0.477990</td>\n",
       "    </tr>\n",
       "    <tr>\n",
       "      <th>min</th>\n",
       "      <td>1.000000</td>\n",
       "      <td>0.000000</td>\n",
       "      <td>-2.224156e+00</td>\n",
       "      <td>-4.745452e-01</td>\n",
       "      <td>-4.736736e-01</td>\n",
       "      <td>-6.484217e-01</td>\n",
       "      <td>0.000000</td>\n",
       "      <td>0.000000</td>\n",
       "      <td>0.000000</td>\n",
       "      <td>0.000000</td>\n",
       "      <td>0.000000</td>\n",
       "      <td>0.000000</td>\n",
       "      <td>0.000000</td>\n",
       "    </tr>\n",
       "    <tr>\n",
       "      <th>25%</th>\n",
       "      <td>223.500000</td>\n",
       "      <td>0.000000</td>\n",
       "      <td>-5.657365e-01</td>\n",
       "      <td>-4.745452e-01</td>\n",
       "      <td>-4.736736e-01</td>\n",
       "      <td>-4.891482e-01</td>\n",
       "      <td>0.000000</td>\n",
       "      <td>0.000000</td>\n",
       "      <td>0.000000</td>\n",
       "      <td>0.000000</td>\n",
       "      <td>0.000000</td>\n",
       "      <td>0.000000</td>\n",
       "      <td>0.000000</td>\n",
       "    </tr>\n",
       "    <tr>\n",
       "      <th>50%</th>\n",
       "      <td>446.000000</td>\n",
       "      <td>0.000000</td>\n",
       "      <td>-1.046374e-01</td>\n",
       "      <td>-4.745452e-01</td>\n",
       "      <td>-4.736736e-01</td>\n",
       "      <td>-3.573909e-01</td>\n",
       "      <td>0.000000</td>\n",
       "      <td>0.000000</td>\n",
       "      <td>1.000000</td>\n",
       "      <td>0.000000</td>\n",
       "      <td>0.000000</td>\n",
       "      <td>1.000000</td>\n",
       "      <td>1.000000</td>\n",
       "    </tr>\n",
       "    <tr>\n",
       "      <th>75%</th>\n",
       "      <td>668.500000</td>\n",
       "      <td>1.000000</td>\n",
       "      <td>4.333115e-01</td>\n",
       "      <td>4.327934e-01</td>\n",
       "      <td>-4.736736e-01</td>\n",
       "      <td>-2.424635e-02</td>\n",
       "      <td>0.000000</td>\n",
       "      <td>0.000000</td>\n",
       "      <td>1.000000</td>\n",
       "      <td>0.000000</td>\n",
       "      <td>0.000000</td>\n",
       "      <td>1.000000</td>\n",
       "      <td>1.000000</td>\n",
       "    </tr>\n",
       "    <tr>\n",
       "      <th>max</th>\n",
       "      <td>891.000000</td>\n",
       "      <td>1.000000</td>\n",
       "      <td>3.891554e+00</td>\n",
       "      <td>6.784163e+00</td>\n",
       "      <td>6.974147e+00</td>\n",
       "      <td>9.667167e+00</td>\n",
       "      <td>1.000000</td>\n",
       "      <td>1.000000</td>\n",
       "      <td>1.000000</td>\n",
       "      <td>1.000000</td>\n",
       "      <td>1.000000</td>\n",
       "      <td>1.000000</td>\n",
       "      <td>1.000000</td>\n",
       "    </tr>\n",
       "  </tbody>\n",
       "</table>\n",
       "</div>"
      ],
      "text/plain": [
       "       PassengerId    Survived           Age         SibSp         Parch  \\\n",
       "count   891.000000  891.000000  8.910000e+02  8.910000e+02  8.910000e+02   \n",
       "mean    446.000000    0.383838  3.841546e-16  3.456519e-16  6.716164e-17   \n",
       "std     257.353842    0.486592  1.000562e+00  1.000562e+00  1.000562e+00   \n",
       "min       1.000000    0.000000 -2.224156e+00 -4.745452e-01 -4.736736e-01   \n",
       "25%     223.500000    0.000000 -5.657365e-01 -4.745452e-01 -4.736736e-01   \n",
       "50%     446.000000    0.000000 -1.046374e-01 -4.745452e-01 -4.736736e-01   \n",
       "75%     668.500000    1.000000  4.333115e-01  4.327934e-01 -4.736736e-01   \n",
       "max     891.000000    1.000000  3.891554e+00  6.784163e+00  6.974147e+00   \n",
       "\n",
       "               Fare    Pclass_1    Pclass_2    Pclass_3  Embarked_C  \\\n",
       "count  8.910000e+02  891.000000  891.000000  891.000000  891.000000   \n",
       "mean  -4.373606e-17    0.242424    0.206510    0.551066    0.188552   \n",
       "std    1.000562e+00    0.428790    0.405028    0.497665    0.391372   \n",
       "min   -6.484217e-01    0.000000    0.000000    0.000000    0.000000   \n",
       "25%   -4.891482e-01    0.000000    0.000000    0.000000    0.000000   \n",
       "50%   -3.573909e-01    0.000000    0.000000    1.000000    0.000000   \n",
       "75%   -2.424635e-02    0.000000    0.000000    1.000000    0.000000   \n",
       "max    9.667167e+00    1.000000    1.000000    1.000000    1.000000   \n",
       "\n",
       "       Embarked_Q  Embarked_S    Sex_male  \n",
       "count  891.000000  891.000000  891.000000  \n",
       "mean     0.086420    0.725028    0.647587  \n",
       "std      0.281141    0.446751    0.477990  \n",
       "min      0.000000    0.000000    0.000000  \n",
       "25%      0.000000    0.000000    0.000000  \n",
       "50%      0.000000    1.000000    1.000000  \n",
       "75%      0.000000    1.000000    1.000000  \n",
       "max      1.000000    1.000000    1.000000  "
      ]
     },
     "execution_count": 332,
     "metadata": {},
     "output_type": "execute_result"
    }
   ],
   "source": [
    "df_standard.describe()"
   ]
  },
  {
   "cell_type": "markdown",
   "id": "0573d16c",
   "metadata": {
    "papermill": {
     "duration": 0.13309,
     "end_time": "2022-01-08T10:15:19.216107",
     "exception": false,
     "start_time": "2022-01-08T10:15:19.083017",
     "status": "completed"
    },
    "tags": []
   },
   "source": [
    "#### 3.2.2.2 RobustScaler"
   ]
  },
  {
   "cell_type": "code",
   "execution_count": 333,
   "id": "4b9bb38e",
   "metadata": {
    "execution": {
     "iopub.execute_input": "2022-01-08T10:15:19.503727Z",
     "iopub.status.busy": "2022-01-08T10:15:19.502524Z",
     "iopub.status.idle": "2022-01-08T10:15:19.533779Z",
     "shell.execute_reply": "2022-01-08T10:15:19.533043Z",
     "shell.execute_reply.started": "2022-01-08T09:20:08.265315Z"
    },
    "papermill": {
     "duration": 0.183955,
     "end_time": "2022-01-08T10:15:19.533944",
     "exception": false,
     "start_time": "2022-01-08T10:15:19.349989",
     "status": "completed"
    },
    "tags": []
   },
   "outputs": [
    {
     "data": {
      "text/html": [
       "<div>\n",
       "<style scoped>\n",
       "    .dataframe tbody tr th:only-of-type {\n",
       "        vertical-align: middle;\n",
       "    }\n",
       "\n",
       "    .dataframe tbody tr th {\n",
       "        vertical-align: top;\n",
       "    }\n",
       "\n",
       "    .dataframe thead th {\n",
       "        text-align: right;\n",
       "    }\n",
       "</style>\n",
       "<table border=\"1\" class=\"dataframe\">\n",
       "  <thead>\n",
       "    <tr style=\"text-align: right;\">\n",
       "      <th></th>\n",
       "      <th>PassengerId</th>\n",
       "      <th>Survived</th>\n",
       "      <th>Age</th>\n",
       "      <th>SibSp</th>\n",
       "      <th>Parch</th>\n",
       "      <th>Fare</th>\n",
       "      <th>Pclass_1</th>\n",
       "      <th>Pclass_2</th>\n",
       "      <th>Pclass_3</th>\n",
       "      <th>Embarked_C</th>\n",
       "      <th>Embarked_Q</th>\n",
       "      <th>Embarked_S</th>\n",
       "      <th>Sex_male</th>\n",
       "    </tr>\n",
       "  </thead>\n",
       "  <tbody>\n",
       "    <tr>\n",
       "      <th>count</th>\n",
       "      <td>891.000000</td>\n",
       "      <td>891.000000</td>\n",
       "      <td>891.000000</td>\n",
       "      <td>891.000000</td>\n",
       "      <td>891.000000</td>\n",
       "      <td>891.000000</td>\n",
       "      <td>891.000000</td>\n",
       "      <td>891.000000</td>\n",
       "      <td>891.000000</td>\n",
       "      <td>891.000000</td>\n",
       "      <td>891.000000</td>\n",
       "      <td>891.000000</td>\n",
       "      <td>891.000000</td>\n",
       "    </tr>\n",
       "    <tr>\n",
       "      <th>mean</th>\n",
       "      <td>446.000000</td>\n",
       "      <td>0.383838</td>\n",
       "      <td>29.361582</td>\n",
       "      <td>0.523008</td>\n",
       "      <td>0.381594</td>\n",
       "      <td>32.204208</td>\n",
       "      <td>0.242424</td>\n",
       "      <td>0.206510</td>\n",
       "      <td>0.551066</td>\n",
       "      <td>0.188552</td>\n",
       "      <td>0.086420</td>\n",
       "      <td>0.725028</td>\n",
       "      <td>0.647587</td>\n",
       "    </tr>\n",
       "    <tr>\n",
       "      <th>std</th>\n",
       "      <td>257.353842</td>\n",
       "      <td>0.486592</td>\n",
       "      <td>13.019697</td>\n",
       "      <td>1.102743</td>\n",
       "      <td>0.806057</td>\n",
       "      <td>49.693429</td>\n",
       "      <td>0.428790</td>\n",
       "      <td>0.405028</td>\n",
       "      <td>0.497665</td>\n",
       "      <td>0.391372</td>\n",
       "      <td>0.281141</td>\n",
       "      <td>0.446751</td>\n",
       "      <td>0.477990</td>\n",
       "    </tr>\n",
       "    <tr>\n",
       "      <th>min</th>\n",
       "      <td>1.000000</td>\n",
       "      <td>0.000000</td>\n",
       "      <td>0.420000</td>\n",
       "      <td>0.000000</td>\n",
       "      <td>0.000000</td>\n",
       "      <td>0.000000</td>\n",
       "      <td>0.000000</td>\n",
       "      <td>0.000000</td>\n",
       "      <td>0.000000</td>\n",
       "      <td>0.000000</td>\n",
       "      <td>0.000000</td>\n",
       "      <td>0.000000</td>\n",
       "      <td>0.000000</td>\n",
       "    </tr>\n",
       "    <tr>\n",
       "      <th>25%</th>\n",
       "      <td>223.500000</td>\n",
       "      <td>0.000000</td>\n",
       "      <td>22.000000</td>\n",
       "      <td>0.000000</td>\n",
       "      <td>0.000000</td>\n",
       "      <td>7.910400</td>\n",
       "      <td>0.000000</td>\n",
       "      <td>0.000000</td>\n",
       "      <td>0.000000</td>\n",
       "      <td>0.000000</td>\n",
       "      <td>0.000000</td>\n",
       "      <td>0.000000</td>\n",
       "      <td>0.000000</td>\n",
       "    </tr>\n",
       "    <tr>\n",
       "      <th>50%</th>\n",
       "      <td>446.000000</td>\n",
       "      <td>0.000000</td>\n",
       "      <td>28.000000</td>\n",
       "      <td>0.000000</td>\n",
       "      <td>0.000000</td>\n",
       "      <td>14.454200</td>\n",
       "      <td>0.000000</td>\n",
       "      <td>0.000000</td>\n",
       "      <td>1.000000</td>\n",
       "      <td>0.000000</td>\n",
       "      <td>0.000000</td>\n",
       "      <td>1.000000</td>\n",
       "      <td>1.000000</td>\n",
       "    </tr>\n",
       "    <tr>\n",
       "      <th>75%</th>\n",
       "      <td>668.500000</td>\n",
       "      <td>1.000000</td>\n",
       "      <td>35.000000</td>\n",
       "      <td>1.000000</td>\n",
       "      <td>0.000000</td>\n",
       "      <td>31.000000</td>\n",
       "      <td>0.000000</td>\n",
       "      <td>0.000000</td>\n",
       "      <td>1.000000</td>\n",
       "      <td>0.000000</td>\n",
       "      <td>0.000000</td>\n",
       "      <td>1.000000</td>\n",
       "      <td>1.000000</td>\n",
       "    </tr>\n",
       "    <tr>\n",
       "      <th>max</th>\n",
       "      <td>891.000000</td>\n",
       "      <td>1.000000</td>\n",
       "      <td>80.000000</td>\n",
       "      <td>8.000000</td>\n",
       "      <td>6.000000</td>\n",
       "      <td>512.329200</td>\n",
       "      <td>1.000000</td>\n",
       "      <td>1.000000</td>\n",
       "      <td>1.000000</td>\n",
       "      <td>1.000000</td>\n",
       "      <td>1.000000</td>\n",
       "      <td>1.000000</td>\n",
       "      <td>1.000000</td>\n",
       "    </tr>\n",
       "  </tbody>\n",
       "</table>\n",
       "</div>"
      ],
      "text/plain": [
       "       PassengerId    Survived         Age       SibSp       Parch  \\\n",
       "count   891.000000  891.000000  891.000000  891.000000  891.000000   \n",
       "mean    446.000000    0.383838   29.361582    0.523008    0.381594   \n",
       "std     257.353842    0.486592   13.019697    1.102743    0.806057   \n",
       "min       1.000000    0.000000    0.420000    0.000000    0.000000   \n",
       "25%     223.500000    0.000000   22.000000    0.000000    0.000000   \n",
       "50%     446.000000    0.000000   28.000000    0.000000    0.000000   \n",
       "75%     668.500000    1.000000   35.000000    1.000000    0.000000   \n",
       "max     891.000000    1.000000   80.000000    8.000000    6.000000   \n",
       "\n",
       "             Fare    Pclass_1    Pclass_2    Pclass_3  Embarked_C  Embarked_Q  \\\n",
       "count  891.000000  891.000000  891.000000  891.000000  891.000000  891.000000   \n",
       "mean    32.204208    0.242424    0.206510    0.551066    0.188552    0.086420   \n",
       "std     49.693429    0.428790    0.405028    0.497665    0.391372    0.281141   \n",
       "min      0.000000    0.000000    0.000000    0.000000    0.000000    0.000000   \n",
       "25%      7.910400    0.000000    0.000000    0.000000    0.000000    0.000000   \n",
       "50%     14.454200    0.000000    0.000000    1.000000    0.000000    0.000000   \n",
       "75%     31.000000    0.000000    0.000000    1.000000    0.000000    0.000000   \n",
       "max    512.329200    1.000000    1.000000    1.000000    1.000000    1.000000   \n",
       "\n",
       "       Embarked_S    Sex_male  \n",
       "count  891.000000  891.000000  \n",
       "mean     0.725028    0.647587  \n",
       "std      0.446751    0.477990  \n",
       "min      0.000000    0.000000  \n",
       "25%      0.000000    0.000000  \n",
       "50%      1.000000    1.000000  \n",
       "75%      1.000000    1.000000  \n",
       "max      1.000000    1.000000  "
      ]
     },
     "execution_count": 333,
     "metadata": {},
     "output_type": "execute_result"
    }
   ],
   "source": [
    "robust_scaler = RobustScaler()\n",
    "df.describe()"
   ]
  },
  {
   "cell_type": "code",
   "execution_count": 334,
   "id": "47f7a9d4",
   "metadata": {
    "execution": {
     "iopub.execute_input": "2022-01-08T10:15:19.811853Z",
     "iopub.status.busy": "2022-01-08T10:15:19.811181Z",
     "iopub.status.idle": "2022-01-08T10:15:19.853183Z",
     "shell.execute_reply": "2022-01-08T10:15:19.852591Z",
     "shell.execute_reply.started": "2022-01-08T09:20:08.318819Z"
    },
    "papermill": {
     "duration": 0.184838,
     "end_time": "2022-01-08T10:15:19.853325",
     "exception": false,
     "start_time": "2022-01-08T10:15:19.668487",
     "status": "completed"
    },
    "tags": []
   },
   "outputs": [],
   "source": [
    "df_with_log_smooth_robust = df_with_log_smooth.copy()\n",
    "df_with_bound_smooth_robust = df_with_bound_smooth.copy()\n",
    "df_robust = df.copy()\n",
    "\n",
    "for feature in features_to_normalize:\n",
    "    df_with_log_smooth_robust[feature] = standard_scaler.fit_transform(df_with_log_smooth_robust[[feature]])\n",
    "    df_with_bound_smooth_robust[feature] = standard_scaler.fit_transform(df_with_bound_smooth_robust[[feature]])\n",
    "    df_robust[feature] = standard_scaler.fit_transform(df_robust[[feature]])"
   ]
  },
  {
   "cell_type": "code",
   "execution_count": 335,
   "id": "ecf1ac99",
   "metadata": {
    "execution": {
     "iopub.execute_input": "2022-01-08T10:15:20.132368Z",
     "iopub.status.busy": "2022-01-08T10:15:20.126342Z",
     "iopub.status.idle": "2022-01-08T10:15:20.173634Z",
     "shell.execute_reply": "2022-01-08T10:15:20.174149Z",
     "shell.execute_reply.started": "2022-01-08T09:20:08.370538Z"
    },
    "papermill": {
     "duration": 0.186442,
     "end_time": "2022-01-08T10:15:20.174324",
     "exception": false,
     "start_time": "2022-01-08T10:15:19.987882",
     "status": "completed"
    },
    "scrolled": false,
    "tags": []
   },
   "outputs": [
    {
     "data": {
      "text/html": [
       "<div>\n",
       "<style scoped>\n",
       "    .dataframe tbody tr th:only-of-type {\n",
       "        vertical-align: middle;\n",
       "    }\n",
       "\n",
       "    .dataframe tbody tr th {\n",
       "        vertical-align: top;\n",
       "    }\n",
       "\n",
       "    .dataframe thead th {\n",
       "        text-align: right;\n",
       "    }\n",
       "</style>\n",
       "<table border=\"1\" class=\"dataframe\">\n",
       "  <thead>\n",
       "    <tr style=\"text-align: right;\">\n",
       "      <th></th>\n",
       "      <th>PassengerId</th>\n",
       "      <th>Survived</th>\n",
       "      <th>Age</th>\n",
       "      <th>SibSp</th>\n",
       "      <th>Parch</th>\n",
       "      <th>Fare</th>\n",
       "      <th>Pclass_1</th>\n",
       "      <th>Pclass_2</th>\n",
       "      <th>Pclass_3</th>\n",
       "      <th>Embarked_C</th>\n",
       "      <th>Embarked_Q</th>\n",
       "      <th>Embarked_S</th>\n",
       "      <th>Sex_male</th>\n",
       "    </tr>\n",
       "  </thead>\n",
       "  <tbody>\n",
       "    <tr>\n",
       "      <th>count</th>\n",
       "      <td>891.000000</td>\n",
       "      <td>891.000000</td>\n",
       "      <td>8.910000e+02</td>\n",
       "      <td>8.910000e+02</td>\n",
       "      <td>8.910000e+02</td>\n",
       "      <td>8.910000e+02</td>\n",
       "      <td>891.000000</td>\n",
       "      <td>891.000000</td>\n",
       "      <td>891.000000</td>\n",
       "      <td>891.000000</td>\n",
       "      <td>891.000000</td>\n",
       "      <td>891.000000</td>\n",
       "      <td>891.000000</td>\n",
       "    </tr>\n",
       "    <tr>\n",
       "      <th>mean</th>\n",
       "      <td>446.000000</td>\n",
       "      <td>0.383838</td>\n",
       "      <td>3.841546e-16</td>\n",
       "      <td>3.456519e-16</td>\n",
       "      <td>6.716164e-17</td>\n",
       "      <td>-4.373606e-17</td>\n",
       "      <td>0.242424</td>\n",
       "      <td>0.206510</td>\n",
       "      <td>0.551066</td>\n",
       "      <td>0.188552</td>\n",
       "      <td>0.086420</td>\n",
       "      <td>0.725028</td>\n",
       "      <td>0.647587</td>\n",
       "    </tr>\n",
       "    <tr>\n",
       "      <th>std</th>\n",
       "      <td>257.353842</td>\n",
       "      <td>0.486592</td>\n",
       "      <td>1.000562e+00</td>\n",
       "      <td>1.000562e+00</td>\n",
       "      <td>1.000562e+00</td>\n",
       "      <td>1.000562e+00</td>\n",
       "      <td>0.428790</td>\n",
       "      <td>0.405028</td>\n",
       "      <td>0.497665</td>\n",
       "      <td>0.391372</td>\n",
       "      <td>0.281141</td>\n",
       "      <td>0.446751</td>\n",
       "      <td>0.477990</td>\n",
       "    </tr>\n",
       "    <tr>\n",
       "      <th>min</th>\n",
       "      <td>1.000000</td>\n",
       "      <td>0.000000</td>\n",
       "      <td>-2.224156e+00</td>\n",
       "      <td>-4.745452e-01</td>\n",
       "      <td>-4.736736e-01</td>\n",
       "      <td>-6.484217e-01</td>\n",
       "      <td>0.000000</td>\n",
       "      <td>0.000000</td>\n",
       "      <td>0.000000</td>\n",
       "      <td>0.000000</td>\n",
       "      <td>0.000000</td>\n",
       "      <td>0.000000</td>\n",
       "      <td>0.000000</td>\n",
       "    </tr>\n",
       "    <tr>\n",
       "      <th>25%</th>\n",
       "      <td>223.500000</td>\n",
       "      <td>0.000000</td>\n",
       "      <td>-5.657365e-01</td>\n",
       "      <td>-4.745452e-01</td>\n",
       "      <td>-4.736736e-01</td>\n",
       "      <td>-4.891482e-01</td>\n",
       "      <td>0.000000</td>\n",
       "      <td>0.000000</td>\n",
       "      <td>0.000000</td>\n",
       "      <td>0.000000</td>\n",
       "      <td>0.000000</td>\n",
       "      <td>0.000000</td>\n",
       "      <td>0.000000</td>\n",
       "    </tr>\n",
       "    <tr>\n",
       "      <th>50%</th>\n",
       "      <td>446.000000</td>\n",
       "      <td>0.000000</td>\n",
       "      <td>-1.046374e-01</td>\n",
       "      <td>-4.745452e-01</td>\n",
       "      <td>-4.736736e-01</td>\n",
       "      <td>-3.573909e-01</td>\n",
       "      <td>0.000000</td>\n",
       "      <td>0.000000</td>\n",
       "      <td>1.000000</td>\n",
       "      <td>0.000000</td>\n",
       "      <td>0.000000</td>\n",
       "      <td>1.000000</td>\n",
       "      <td>1.000000</td>\n",
       "    </tr>\n",
       "    <tr>\n",
       "      <th>75%</th>\n",
       "      <td>668.500000</td>\n",
       "      <td>1.000000</td>\n",
       "      <td>4.333115e-01</td>\n",
       "      <td>4.327934e-01</td>\n",
       "      <td>-4.736736e-01</td>\n",
       "      <td>-2.424635e-02</td>\n",
       "      <td>0.000000</td>\n",
       "      <td>0.000000</td>\n",
       "      <td>1.000000</td>\n",
       "      <td>0.000000</td>\n",
       "      <td>0.000000</td>\n",
       "      <td>1.000000</td>\n",
       "      <td>1.000000</td>\n",
       "    </tr>\n",
       "    <tr>\n",
       "      <th>max</th>\n",
       "      <td>891.000000</td>\n",
       "      <td>1.000000</td>\n",
       "      <td>3.891554e+00</td>\n",
       "      <td>6.784163e+00</td>\n",
       "      <td>6.974147e+00</td>\n",
       "      <td>9.667167e+00</td>\n",
       "      <td>1.000000</td>\n",
       "      <td>1.000000</td>\n",
       "      <td>1.000000</td>\n",
       "      <td>1.000000</td>\n",
       "      <td>1.000000</td>\n",
       "      <td>1.000000</td>\n",
       "      <td>1.000000</td>\n",
       "    </tr>\n",
       "  </tbody>\n",
       "</table>\n",
       "</div>"
      ],
      "text/plain": [
       "       PassengerId    Survived           Age         SibSp         Parch  \\\n",
       "count   891.000000  891.000000  8.910000e+02  8.910000e+02  8.910000e+02   \n",
       "mean    446.000000    0.383838  3.841546e-16  3.456519e-16  6.716164e-17   \n",
       "std     257.353842    0.486592  1.000562e+00  1.000562e+00  1.000562e+00   \n",
       "min       1.000000    0.000000 -2.224156e+00 -4.745452e-01 -4.736736e-01   \n",
       "25%     223.500000    0.000000 -5.657365e-01 -4.745452e-01 -4.736736e-01   \n",
       "50%     446.000000    0.000000 -1.046374e-01 -4.745452e-01 -4.736736e-01   \n",
       "75%     668.500000    1.000000  4.333115e-01  4.327934e-01 -4.736736e-01   \n",
       "max     891.000000    1.000000  3.891554e+00  6.784163e+00  6.974147e+00   \n",
       "\n",
       "               Fare    Pclass_1    Pclass_2    Pclass_3  Embarked_C  \\\n",
       "count  8.910000e+02  891.000000  891.000000  891.000000  891.000000   \n",
       "mean  -4.373606e-17    0.242424    0.206510    0.551066    0.188552   \n",
       "std    1.000562e+00    0.428790    0.405028    0.497665    0.391372   \n",
       "min   -6.484217e-01    0.000000    0.000000    0.000000    0.000000   \n",
       "25%   -4.891482e-01    0.000000    0.000000    0.000000    0.000000   \n",
       "50%   -3.573909e-01    0.000000    0.000000    1.000000    0.000000   \n",
       "75%   -2.424635e-02    0.000000    0.000000    1.000000    0.000000   \n",
       "max    9.667167e+00    1.000000    1.000000    1.000000    1.000000   \n",
       "\n",
       "       Embarked_Q  Embarked_S    Sex_male  \n",
       "count  891.000000  891.000000  891.000000  \n",
       "mean     0.086420    0.725028    0.647587  \n",
       "std      0.281141    0.446751    0.477990  \n",
       "min      0.000000    0.000000    0.000000  \n",
       "25%      0.000000    0.000000    0.000000  \n",
       "50%      0.000000    1.000000    1.000000  \n",
       "75%      0.000000    1.000000    1.000000  \n",
       "max      1.000000    1.000000    1.000000  "
      ]
     },
     "execution_count": 335,
     "metadata": {},
     "output_type": "execute_result"
    }
   ],
   "source": [
    "df_robust.describe()"
   ]
  },
  {
   "cell_type": "code",
   "execution_count": 336,
   "id": "738dc3f9",
   "metadata": {},
   "outputs": [
    {
     "name": "stdout",
     "output_type": "stream",
     "text": [
      "<class 'pandas.core.frame.DataFrame'>\n",
      "RangeIndex: 891 entries, 0 to 890\n",
      "Data columns (total 16 columns):\n",
      " #   Column       Non-Null Count  Dtype  \n",
      "---  ------       --------------  -----  \n",
      " 0   PassengerId  891 non-null    int64  \n",
      " 1   Survived     891 non-null    int64  \n",
      " 2   Name         891 non-null    object \n",
      " 3   Age          891 non-null    float64\n",
      " 4   SibSp        891 non-null    int64  \n",
      " 5   Parch        891 non-null    int64  \n",
      " 6   Ticket       891 non-null    object \n",
      " 7   Fare         891 non-null    float64\n",
      " 8   Cabin        204 non-null    object \n",
      " 9   Pclass_1     891 non-null    uint8  \n",
      " 10  Pclass_2     891 non-null    uint8  \n",
      " 11  Pclass_3     891 non-null    uint8  \n",
      " 12  Embarked_C   891 non-null    uint8  \n",
      " 13  Embarked_Q   891 non-null    uint8  \n",
      " 14  Embarked_S   891 non-null    uint8  \n",
      " 15  Sex_male     891 non-null    uint8  \n",
      "dtypes: float64(2), int64(4), object(3), uint8(7)\n",
      "memory usage: 68.9+ KB\n"
     ]
    }
   ],
   "source": [
    "df.info()"
   ]
  },
  {
   "cell_type": "code",
   "execution_count": 337,
   "id": "672b3bd2",
   "metadata": {
    "execution": {
     "iopub.execute_input": "2022-01-08T10:15:20.732285Z",
     "iopub.status.busy": "2022-01-08T10:15:20.726339Z",
     "iopub.status.idle": "2022-01-08T10:15:20.807709Z",
     "shell.execute_reply": "2022-01-08T10:15:20.807194Z",
     "shell.execute_reply.started": "2022-01-08T09:20:08.423348Z"
    },
    "papermill": {
     "duration": 0.225314,
     "end_time": "2022-01-08T10:15:20.807841",
     "exception": false,
     "start_time": "2022-01-08T10:15:20.582527",
     "status": "completed"
    },
    "tags": []
   },
   "outputs": [
    {
     "data": {
      "text/plain": [
       "((712, 12), (179, 12), (712,), (179,))"
      ]
     },
     "execution_count": 337,
     "metadata": {},
     "output_type": "execute_result"
    }
   ],
   "source": [
    "#Без шкалирования\n",
    "X = df.drop(columns=['Survived', 'Name', 'Ticket', 'Cabin'])\n",
    "y = df.Survived\n",
    "X_log = df_with_log_smooth.drop(columns=['Survived', 'Name', 'Ticket', 'Cabin'])\n",
    "y_log = df_with_log_smooth.Survived\n",
    "X_bound = df_with_bound_smooth.drop(columns=['Survived', 'Name', 'Ticket', 'Cabin'])\n",
    "y_bound = df_with_bound_smooth.Survived\n",
    "#С шкалированием\n",
    "#MinMax\n",
    "X_minmax = df_minmax.drop(columns=['Survived', 'Name', 'Ticket', 'Cabin'])\n",
    "y_minmax = df_minmax.Survived\n",
    "X_log_minmax = df_with_log_smooth_minmax.drop(columns=['Survived', 'Name', 'Ticket', 'Cabin'])\n",
    "y_log_minmax = df_with_log_smooth_minmax.Survived\n",
    "X_bound_minmax = df_with_bound_smooth_minmax.drop(columns=['Survived', 'Name', 'Ticket', 'Cabin'])\n",
    "y_bound_minmax = df_with_bound_smooth_minmax.Survived\n",
    "#Standard\n",
    "X_standard = df_standard.drop(columns=['Survived', 'Name', 'Ticket', 'Cabin'])\n",
    "y_standard = df_standard.Survived\n",
    "X_log_standard = df_with_log_smooth_standard.drop(columns=['Survived', 'Name', 'Ticket', 'Cabin'])\n",
    "y_log_standard = df_with_log_smooth_standard.Survived\n",
    "X_bound_standard = df_with_bound_smooth_standard.drop(columns=['Survived', 'Name', 'Ticket', 'Cabin'])\n",
    "y_bound_standard = df_with_bound_smooth_standard.Survived\n",
    "#Robust\n",
    "X_robust = df_robust.drop(columns=['Survived', 'Name', 'Ticket', 'Cabin'])\n",
    "y_robust = df_robust.Survived\n",
    "X_log_robust = df_with_log_smooth_robust.drop(columns=['Survived', 'Name', 'Ticket', 'Cabin'])\n",
    "y_log_robust = df_with_log_smooth_robust.Survived\n",
    "X_bound_robust = df_with_bound_smooth_robust.drop(columns=['Survived', 'Name', 'Ticket', 'Cabin'])\n",
    "y_bound_robust = df_with_bound_smooth_robust.Survived\n",
    "\n",
    "X_train, X_test, y_train, y_test = train_test_split(X, y, test_size=0.2, random_state=42, shuffle=True, stratify=y)\n",
    "X_log_train, X_log_test, y_log_train, y_log_test = train_test_split(X_log, y, test_size=0.2, random_state=42, shuffle=True, stratify=y)\n",
    "X_bound_train, X_bound_test, y_bound_train, y_bound_test = train_test_split(X_bound, y, test_size=0.2, random_state=42, shuffle=True, stratify=y)\n",
    "X_minmax_train, X_minmax_test, y_minmax_train, y_minmax_test = train_test_split(X_minmax, y, test_size=0.2, random_state=42, shuffle=True, stratify=y)\n",
    "X_log_minmax_train, X_log_minmax_test, y_log_minmax_train, y_log_minmax_test = train_test_split(X_log_minmax, y, test_size=0.2, random_state=42, shuffle=True, stratify=y)\n",
    "X_bound_minmax_train, X_bound_minmax_test, y_bound_minmax_train, y_bound_minmax_test = train_test_split(X_bound_minmax, y, test_size=0.2, random_state=42, shuffle=True, stratify=y)\n",
    "X_standard_train, X_standard_test, y_standard_train, y_standard_test = train_test_split(X_standard, y, test_size=0.2, random_state=42, shuffle=True, stratify=y)\n",
    "X_log_standard_train, X_log_standard_test, y_log_standard_train, y_log_standard_test = train_test_split(X_log_standard, y, test_size=0.2, random_state=42, shuffle=True, stratify=y)\n",
    "X_bound_standard_train, X_bound_standard_test, y_bound_standard_train, y_bound_standard_test = train_test_split(X_bound_standard, y, test_size=0.2, random_state=42, shuffle=True, stratify=y)\n",
    "X_robust_train, X_robust_test, y_robust_train, y_robust_test = train_test_split(X_robust, y, test_size=0.2, random_state=42, shuffle=True, stratify=y)\n",
    "X_log_robust_train, X_log_robust_test, y_log_robust_train, y_log_robust_test = train_test_split(X_log_robust, y, test_size=0.2, random_state=42, shuffle=True, stratify=y)\n",
    "X_bound_robust_train, X_bound_robust_test, y_bound_robust_train, y_bound_robust_test = train_test_split(X_bound_robust, y, test_size=0.2, random_state=42, shuffle=True, stratify=y)\n",
    "\n",
    "X_train.shape, X_test.shape, y_train.shape, y_test.shape"
   ]
  },
  {
   "cell_type": "code",
   "execution_count": 338,
   "id": "5c26e6da",
   "metadata": {
    "execution": {
     "iopub.execute_input": "2022-01-08T10:15:21.096366Z",
     "iopub.status.busy": "2022-01-08T10:15:21.095679Z",
     "iopub.status.idle": "2022-01-08T10:15:21.098589Z",
     "shell.execute_reply": "2022-01-08T10:15:21.099363Z",
     "shell.execute_reply.started": "2022-01-08T09:20:08.513044Z"
    },
    "papermill": {
     "duration": 0.152663,
     "end_time": "2022-01-08T10:15:21.099609",
     "exception": false,
     "start_time": "2022-01-08T10:15:20.946946",
     "status": "completed"
    },
    "tags": []
   },
   "outputs": [
    {
     "name": "stdout",
     "output_type": "stream",
     "text": [
      "<class 'pandas.core.frame.DataFrame'>\n",
      "Int64Index: 712 entries, 692 to 507\n",
      "Data columns (total 12 columns):\n",
      " #   Column       Non-Null Count  Dtype  \n",
      "---  ------       --------------  -----  \n",
      " 0   PassengerId  712 non-null    int64  \n",
      " 1   Age          712 non-null    float64\n",
      " 2   SibSp        712 non-null    int64  \n",
      " 3   Parch        712 non-null    int64  \n",
      " 4   Fare         712 non-null    float64\n",
      " 5   Pclass_1     712 non-null    uint8  \n",
      " 6   Pclass_2     712 non-null    uint8  \n",
      " 7   Pclass_3     712 non-null    uint8  \n",
      " 8   Embarked_C   712 non-null    uint8  \n",
      " 9   Embarked_Q   712 non-null    uint8  \n",
      " 10  Embarked_S   712 non-null    uint8  \n",
      " 11  Sex_male     712 non-null    uint8  \n",
      "dtypes: float64(2), int64(3), uint8(7)\n",
      "memory usage: 38.2 KB\n"
     ]
    }
   ],
   "source": [
    "X_train.info()"
   ]
  },
  {
   "cell_type": "code",
   "execution_count": 339,
   "id": "79dd3b41",
   "metadata": {
    "execution": {
     "iopub.execute_input": "2022-01-08T10:15:21.382811Z",
     "iopub.status.busy": "2022-01-08T10:15:21.382063Z",
     "iopub.status.idle": "2022-01-08T10:15:21.385664Z",
     "shell.execute_reply": "2022-01-08T10:15:21.385035Z",
     "shell.execute_reply.started": "2022-01-08T09:20:08.528946Z"
    },
    "papermill": {
     "duration": 0.147886,
     "end_time": "2022-01-08T10:15:21.385807",
     "exception": false,
     "start_time": "2022-01-08T10:15:21.237921",
     "status": "completed"
    },
    "tags": []
   },
   "outputs": [
    {
     "data": {
      "text/plain": [
       "692    1\n",
       "481    0\n",
       "527    0\n",
       "855    1\n",
       "801    1\n",
       "      ..\n",
       "359    1\n",
       "258    1\n",
       "736    0\n",
       "462    0\n",
       "507    1\n",
       "Name: Survived, Length: 712, dtype: int64"
      ]
     },
     "execution_count": 339,
     "metadata": {},
     "output_type": "execute_result"
    }
   ],
   "source": [
    "y_train"
   ]
  },
  {
   "cell_type": "markdown",
   "id": "255a2f25",
   "metadata": {
    "papermill": {
     "duration": 0.137227,
     "end_time": "2022-01-08T10:15:21.660167",
     "exception": false,
     "start_time": "2022-01-08T10:15:21.522940",
     "status": "completed"
    },
    "tags": []
   },
   "source": [
    "## 4.1 LogisticReggression (Логистическая регрессия)"
   ]
  },
  {
   "cell_type": "code",
   "execution_count": 340,
   "id": "4dcac2d2",
   "metadata": {
    "execution": {
     "iopub.execute_input": "2022-01-08T10:15:21.945192Z",
     "iopub.status.busy": "2022-01-08T10:15:21.944510Z",
     "iopub.status.idle": "2022-01-08T10:15:22.276090Z",
     "shell.execute_reply": "2022-01-08T10:15:22.276946Z",
     "shell.execute_reply.started": "2022-01-08T09:20:08.539467Z"
    },
    "papermill": {
     "duration": 0.478039,
     "end_time": "2022-01-08T10:15:22.277225",
     "exception": false,
     "start_time": "2022-01-08T10:15:21.799186",
     "status": "completed"
    },
    "tags": []
   },
   "outputs": [
    {
     "name": "stderr",
     "output_type": "stream",
     "text": [
      "C:\\ProgramData\\Anaconda3\\lib\\site-packages\\sklearn\\linear_model\\_sag.py:328: ConvergenceWarning: The max_iter was reached which means the coef_ did not converge\n",
      "  warnings.warn(\"The max_iter was reached which means \"\n",
      "C:\\ProgramData\\Anaconda3\\lib\\site-packages\\sklearn\\linear_model\\_sag.py:328: ConvergenceWarning: The max_iter was reached which means the coef_ did not converge\n",
      "  warnings.warn(\"The max_iter was reached which means \"\n",
      "C:\\ProgramData\\Anaconda3\\lib\\site-packages\\sklearn\\linear_model\\_sag.py:328: ConvergenceWarning: The max_iter was reached which means the coef_ did not converge\n",
      "  warnings.warn(\"The max_iter was reached which means \"\n",
      "C:\\ProgramData\\Anaconda3\\lib\\site-packages\\sklearn\\linear_model\\_sag.py:328: ConvergenceWarning: The max_iter was reached which means the coef_ did not converge\n",
      "  warnings.warn(\"The max_iter was reached which means \"\n",
      "C:\\ProgramData\\Anaconda3\\lib\\site-packages\\sklearn\\linear_model\\_sag.py:328: ConvergenceWarning: The max_iter was reached which means the coef_ did not converge\n",
      "  warnings.warn(\"The max_iter was reached which means \"\n"
     ]
    },
    {
     "name": "stdout",
     "output_type": "stream",
     "text": [
      "LogReg score for df[0]: 0.7014590347923682\n",
      "LogReg score for df[1]: 0.8080808080808081\n",
      "LogReg score for df[2]: 0.8002244668911336\n",
      "LogReg score for df[3]: 0.8013468013468014\n",
      "LogReg score for df[4]: 0.8103254769921436\n",
      "LogReg score for df[5]: 0.8002244668911336\n",
      "LogReg score for df[6]: 0.8080808080808081\n",
      "LogReg score for df[7]: 0.8114478114478114\n",
      "LogReg score for df[8]: 0.8002244668911336\n",
      "LogReg score for df[9]: 0.8080808080808081\n",
      "LogReg score for df[10]: 0.8114478114478114\n",
      "LogReg score for df[11]: 0.8002244668911336\n"
     ]
    }
   ],
   "source": [
    "dataframes_X = [X, X_log, X_bound, X_minmax, X_log_minmax, X_bound_minmax, X_standard, X_log_standard, X_bound_standard, X_robust, X_log_robust, X_bound_robust]\n",
    "dataframes_y = [y, y_log, y_bound, y_minmax, y_log_minmax, y_bound_minmax, y_standard, y_log_standard, y_bound_standard, y_robust, y_log_robust, y_bound_robust]\n",
    "label_encoder = LabelEncoder()\n",
    "for i in range(len(dataframes_y)):\n",
    "    dataframes_y[i] = label_encoder.fit_transform(dataframes_y[i])\n",
    "for i in range(len(dataframes_X)):\n",
    "    log_reg = LogisticRegression(random_state=42, solver='sag')\n",
    "    log_reg.fit(dataframes_X[i].drop('PassengerId', axis=1), dataframes_y[i])\n",
    "    print('LogReg score for df[' + str(i) + ']: ' + str(log_reg.score(dataframes_X[i].drop('PassengerId', axis=1), dataframes_y[i])))"
   ]
  },
  {
   "cell_type": "code",
   "execution_count": 341,
   "id": "9e08a4d1",
   "metadata": {},
   "outputs": [],
   "source": [
    "from sklearn.model_selection import train_test_split, StratifiedKFold, RandomizedSearchCV\n",
    "from sklearn.neural_network import MLPClassifier\n",
    "from sklearn.neighbors import KNeighborsClassifier\n",
    "from sklearn.svm import SVC\n",
    "from sklearn.gaussian_process import GaussianProcessClassifier\n",
    "from sklearn.tree import DecisionTreeClassifier\n",
    "from sklearn.ensemble import RandomForestClassifier, AdaBoostClassifier\n",
    "from sklearn.naive_bayes import GaussianNB\n",
    "from sklearn.discriminant_analysis import QuadraticDiscriminantAnalysis\n",
    "from xgboost import XGBClassifier\n",
    "from sklearn.metrics import f1_score, average_precision_score\n",
    "import joblib"
   ]
  },
  {
   "cell_type": "code",
   "execution_count": 342,
   "id": "60200ccd",
   "metadata": {},
   "outputs": [],
   "source": [
    "classifiers = {\n",
    "    'KNeighborsClassifier': KNeighborsClassifier(),\n",
    "    'DecisionTreeClassifier': DecisionTreeClassifier(),\n",
    "    'XGBClassifier': XGBClassifier(),\n",
    "    'AdaBoostClassifier': AdaBoostClassifier(),\n",
    "    'GaussianNB': GaussianNB(),\n",
    "    'QuadraticDiscriminantAnalysis': QuadraticDiscriminantAnalysis(),\n",
    "    'RandomForestClassifier': RandomForestClassifier(random_state=30)\n",
    "}"
   ]
  },
  {
   "cell_type": "code",
   "execution_count": 343,
   "id": "8afcfebb",
   "metadata": {},
   "outputs": [
    {
     "name": "stdout",
     "output_type": "stream",
     "text": [
      "KNeighborsClassifier\n",
      "На отложенной тестовой выборке: \n",
      "KNeighborsClassifier: F_мера: 0.50264,\n",
      "11\n",
      "------------------------------\n",
      "DecisionTreeClassifier\n",
      "На отложенной тестовой выборке: \n",
      "DecisionTreeClassifier: F_мера: 0.71835,\n",
      "11\n",
      "------------------------------\n",
      "XGBClassifier\n",
      "На отложенной тестовой выборке: \n",
      "XGBClassifier: F_мера: 0.74433,\n",
      "11\n",
      "------------------------------\n",
      "AdaBoostClassifier\n",
      "На отложенной тестовой выборке: \n",
      "AdaBoostClassifier: F_мера: 0.76416,\n",
      "11\n",
      "------------------------------\n",
      "GaussianNB\n",
      "На отложенной тестовой выборке: \n",
      "GaussianNB: F_мера: 0.72399,\n",
      "11\n",
      "------------------------------\n",
      "QuadraticDiscriminantAnalysis\n",
      "На отложенной тестовой выборке: \n",
      "QuadraticDiscriminantAnalysis: F_мера: 0.68494,\n",
      "11\n",
      "------------------------------\n",
      "RandomForestClassifier\n",
      "На отложенной тестовой выборке: \n",
      "RandomForestClassifier: F_мера: 0.79180,\n",
      "11\n",
      "------------------------------\n"
     ]
    },
    {
     "name": "stderr",
     "output_type": "stream",
     "text": [
      "C:\\ProgramData\\Anaconda3\\lib\\site-packages\\sklearn\\discriminant_analysis.py:808: UserWarning: Variables are collinear\n",
      "  warnings.warn(\"Variables are collinear\")\n"
     ]
    }
   ],
   "source": [
    "for name, model in classifiers.items():\n",
    "    print(name)\n",
    "  \n",
    "    model.fit(X_standard_train, y_standard_train)    \n",
    "    f1 = f1_score(y_standard_test, model.predict(X_standard_test), average = 'macro')\n",
    "    \n",
    "    \n",
    "    print('На отложенной тестовой выборке: ')\n",
    "    print('%s: F_мера: %7.5f,' %\n",
    "    (name, f1))\n",
    "    print(i)\n",
    "    print('-'*30)"
   ]
  },
  {
   "cell_type": "code",
   "execution_count": 344,
   "id": "d8cc604d",
   "metadata": {
    "execution": {
     "iopub.execute_input": "2022-01-08T10:15:24.472775Z",
     "iopub.status.busy": "2022-01-08T10:15:24.471828Z",
     "iopub.status.idle": "2022-01-08T10:15:24.474108Z",
     "shell.execute_reply": "2022-01-08T10:15:24.473500Z",
     "shell.execute_reply.started": "2022-01-08T09:20:09.571479Z"
    },
    "papermill": {
     "duration": 0.145903,
     "end_time": "2022-01-08T10:15:24.474246",
     "exception": false,
     "start_time": "2022-01-08T10:15:24.328343",
     "status": "completed"
    },
    "tags": []
   },
   "outputs": [],
   "source": [
    "# data_for_predict = pd.read_csv(\"/kaggle/input/titanic/test.csv\")\n",
    "# data_for_predict.Age = data_for_predict.Age.fillna(data_for_predict.Age.median())\n",
    "# data_for_predict.Cabin = data_for_predict.Cabin.fillna(data_for_predict.Cabin.mode()[0])\n",
    "# data_for_predict.Embarked = data_for_predict.Embarked.fillna(data_for_predict.Embarked.mode()[0])\n",
    "# data_for_predict.Fare = data_for_predict.Fare.fillna(data_for_predict.Fare.median())\n",
    "# data_for_predict = data_for_predict.drop('Pclass', axis=1).join(pd.get_dummies(data_for_predict['Pclass'], prefix='Pclass'))\n",
    "# data_for_predict = data_for_predict.drop('Embarked', axis=1).join(pd.get_dummies(data_for_predict['Embarked'], prefix='Embarked'))\n",
    "# data_for_predict = data_for_predict.drop('Sex', axis=1).join(pd.get_dummies(data_for_predict['Sex'], prefix='Sex', drop_first=True))\n",
    "# dt_clf = DecisionTreeClassifier(max_depth=5, random_state=42)\n",
    "# dt_clf.fit(dataframes_X[0].drop('PassengerId', axis=1), dataframes_y[0])\n",
    "# predict = dt_clf.predict(data_for_predict.select_dtypes(include=(int, float,'uint8')).drop('PassengerId', axis=1))\n",
    "# submission = pd.DataFrame(columns=['PassengerId', 'Survived'])\n",
    "# submission.PassengerId = data_for_predict.PassengerId\n",
    "# submission.Survived = predict\n",
    "# submission.to_csv(\"submission.csv\", index=False)"
   ]
  },
  {
   "cell_type": "markdown",
   "id": "12978c04",
   "metadata": {
    "papermill": {
     "duration": 0.139322,
     "end_time": "2022-01-08T10:15:24.756028",
     "exception": false,
     "start_time": "2022-01-08T10:15:24.616706",
     "status": "completed"
    },
    "tags": []
   },
   "source": [
    "# 5. POST анализ модели"
   ]
  },
  {
   "cell_type": "markdown",
   "id": "70941a8b",
   "metadata": {
    "papermill": {
     "duration": 0.141044,
     "end_time": "2022-01-08T10:15:25.035778",
     "exception": false,
     "start_time": "2022-01-08T10:15:24.894734",
     "status": "completed"
    },
    "tags": []
   },
   "source": [
    "Лучший результат при Baseline решении был при применении алгоритма RandomForest. Поэтому будем анализировать данную модель. "
   ]
  },
  {
   "cell_type": "markdown",
   "id": "429c7221",
   "metadata": {
    "papermill": {
     "duration": 0.147881,
     "end_time": "2022-01-08T10:15:27.425860",
     "exception": false,
     "start_time": "2022-01-08T10:15:27.277979",
     "status": "completed"
    },
    "tags": []
   },
   "source": [
    "## 5.1 Определим наиболее значимые признаки"
   ]
  },
  {
   "cell_type": "code",
   "execution_count": 229,
   "id": "3ecaec1e",
   "metadata": {
    "execution": {
     "iopub.execute_input": "2022-01-08T10:15:27.728197Z",
     "iopub.status.busy": "2022-01-08T10:15:27.727497Z",
     "iopub.status.idle": "2022-01-08T10:15:27.866359Z",
     "shell.execute_reply": "2022-01-08T10:15:27.866848Z",
     "shell.execute_reply.started": "2022-01-08T09:20:10.827386Z"
    },
    "papermill": {
     "duration": 0.289422,
     "end_time": "2022-01-08T10:15:27.867033",
     "exception": false,
     "start_time": "2022-01-08T10:15:27.577611",
     "status": "completed"
    },
    "tags": []
   },
   "outputs": [
    {
     "name": "stdout",
     "output_type": "stream",
     "text": [
      "Оптимальное количество признаков : 5\n"
     ]
    }
   ],
   "source": [
    "rfe = RFECV(estimator=model, step=1, cv=5, scoring='f1', min_features_to_select=3)\n",
    "rfe.fit(X_standard_train.drop('PassengerId', axis=1), y_standard_train)\n",
    "rfe_support = rfe.get_support()\n",
    "print(\"Оптимальное количество признаков : %d\" % rfe.n_features_)"
   ]
  },
  {
   "cell_type": "code",
   "execution_count": 230,
   "id": "7408519e",
   "metadata": {
    "execution": {
     "iopub.execute_input": "2022-01-08T10:15:28.156955Z",
     "iopub.status.busy": "2022-01-08T10:15:28.156282Z",
     "iopub.status.idle": "2022-01-08T10:15:28.168115Z",
     "shell.execute_reply": "2022-01-08T10:15:28.168630Z",
     "shell.execute_reply.started": "2022-01-08T09:20:10.970326Z"
    },
    "papermill": {
     "duration": 0.161663,
     "end_time": "2022-01-08T10:15:28.168796",
     "exception": false,
     "start_time": "2022-01-08T10:15:28.007133",
     "status": "completed"
    },
    "tags": []
   },
   "outputs": [
    {
     "name": "stdout",
     "output_type": "stream",
     "text": [
      "Выбранные признаки:\n"
     ]
    },
    {
     "data": {
      "text/html": [
       "<div>\n",
       "<style scoped>\n",
       "    .dataframe tbody tr th:only-of-type {\n",
       "        vertical-align: middle;\n",
       "    }\n",
       "\n",
       "    .dataframe tbody tr th {\n",
       "        vertical-align: top;\n",
       "    }\n",
       "\n",
       "    .dataframe thead th {\n",
       "        text-align: right;\n",
       "    }\n",
       "</style>\n",
       "<table border=\"1\" class=\"dataframe\">\n",
       "  <thead>\n",
       "    <tr style=\"text-align: right;\">\n",
       "      <th></th>\n",
       "      <th>Выбран</th>\n",
       "    </tr>\n",
       "  </thead>\n",
       "  <tbody>\n",
       "    <tr>\n",
       "      <th>Age</th>\n",
       "      <td>True</td>\n",
       "    </tr>\n",
       "    <tr>\n",
       "      <th>SibSp</th>\n",
       "      <td>True</td>\n",
       "    </tr>\n",
       "    <tr>\n",
       "      <th>Parch</th>\n",
       "      <td>False</td>\n",
       "    </tr>\n",
       "    <tr>\n",
       "      <th>Fare</th>\n",
       "      <td>True</td>\n",
       "    </tr>\n",
       "    <tr>\n",
       "      <th>Pclass_1</th>\n",
       "      <td>False</td>\n",
       "    </tr>\n",
       "    <tr>\n",
       "      <th>Pclass_2</th>\n",
       "      <td>False</td>\n",
       "    </tr>\n",
       "    <tr>\n",
       "      <th>Pclass_3</th>\n",
       "      <td>True</td>\n",
       "    </tr>\n",
       "    <tr>\n",
       "      <th>Embarked_C</th>\n",
       "      <td>False</td>\n",
       "    </tr>\n",
       "    <tr>\n",
       "      <th>Embarked_Q</th>\n",
       "      <td>False</td>\n",
       "    </tr>\n",
       "    <tr>\n",
       "      <th>Embarked_S</th>\n",
       "      <td>False</td>\n",
       "    </tr>\n",
       "    <tr>\n",
       "      <th>Sex_male</th>\n",
       "      <td>True</td>\n",
       "    </tr>\n",
       "  </tbody>\n",
       "</table>\n",
       "</div>"
      ],
      "text/plain": [
       "            Выбран\n",
       "Age           True\n",
       "SibSp         True\n",
       "Parch        False\n",
       "Fare          True\n",
       "Pclass_1     False\n",
       "Pclass_2     False\n",
       "Pclass_3      True\n",
       "Embarked_C   False\n",
       "Embarked_Q   False\n",
       "Embarked_S   False\n",
       "Sex_male      True"
      ]
     },
     "execution_count": 230,
     "metadata": {},
     "output_type": "execute_result"
    }
   ],
   "source": [
    "print(\"Выбранные признаки:\")\n",
    "pd.DataFrame(rfe_support, index=X_train.drop('PassengerId', axis=1).columns, columns=['Выбран'])"
   ]
  },
  {
   "cell_type": "code",
   "execution_count": 250,
   "id": "c87f907e",
   "metadata": {
    "execution": {
     "iopub.execute_input": "2022-01-08T10:15:28.464370Z",
     "iopub.status.busy": "2022-01-08T10:15:28.463561Z",
     "iopub.status.idle": "2022-01-08T10:15:28.515227Z",
     "shell.execute_reply": "2022-01-08T10:15:28.514561Z",
     "shell.execute_reply.started": "2022-01-08T09:20:10.983188Z"
    },
    "papermill": {
     "duration": 0.203682,
     "end_time": "2022-01-08T10:15:28.515379",
     "exception": false,
     "start_time": "2022-01-08T10:15:28.311697",
     "status": "completed"
    },
    "scrolled": true,
    "tags": []
   },
   "outputs": [
    {
     "data": {
      "text/plain": [
       "0.756104237157983"
      ]
     },
     "execution_count": 250,
     "metadata": {},
     "output_type": "execute_result"
    }
   ],
   "source": [
    "kf = KFold(n_splits=5, shuffle=True, random_state=42)\n",
    "check_features = X_standard_train.drop('PassengerId', axis=1)\n",
    "for i in range(len(rfe_support)):\n",
    "    if not rfe_support[i]:\n",
    "        check_features = check_features.drop(X_standard_train.drop('PassengerId', axis=1).columns[i], axis=1)\n",
    "dt_clf = RandomForestClassifier(random_state=30)\n",
    "dt_clf.fit(check_features, y_standard_train)\n",
    "cross_val_score(model, X=check_features, y=y_standard_train, cv=kf, scoring=\"f1\").mean()"
   ]
  },
  {
   "cell_type": "code",
   "execution_count": 253,
   "id": "b680099a",
   "metadata": {},
   "outputs": [
    {
     "name": "stdout",
     "output_type": "stream",
     "text": [
      "Collecting hyperoptNote: you may need to restart the kernel to use updated packages.\n",
      "  Downloading hyperopt-0.2.7-py2.py3-none-any.whl (1.6 MB)\n",
      "Requirement already satisfied: cloudpickle in c:\\programdata\\anaconda3\\lib\\site-packages (from hyperopt) (1.6.0)\n",
      "Requirement already satisfied: future in c:\\programdata\\anaconda3\\lib\\site-packages (from hyperopt) (0.18.2)\n",
      "Requirement already satisfied: six in c:\\programdata\\anaconda3\\lib\\site-packages (from hyperopt) (1.15.0)\n",
      "Requirement already satisfied: numpy in c:\\programdata\\anaconda3\\lib\\site-packages (from hyperopt) (1.20.1)\n",
      "Requirement already satisfied: tqdm in c:\\programdata\\anaconda3\\lib\\site-packages (from hyperopt) (4.59.0)\n",
      "Collecting py4j\n",
      "  Downloading py4j-0.10.9.7-py2.py3-none-any.whl (200 kB)\n",
      "Requirement already satisfied: scipy in c:\\programdata\\anaconda3\\lib\\site-packages (from hyperopt) (1.6.2)\n",
      "Requirement already satisfied: networkx>=2.2 in c:\\programdata\\anaconda3\\lib\\site-packages (from hyperopt) (2.5)\n",
      "Requirement already satisfied: decorator>=4.3.0 in c:\\programdata\\anaconda3\\lib\\site-packages (from networkx>=2.2->hyperopt) (5.0.6)\n",
      "Installing collected packages: py4j, hyperopt\n",
      "Successfully installed hyperopt-0.2.7 py4j-0.10.9.7\n",
      "\n"
     ]
    }
   ],
   "source": [
    "pip install hyperopt"
   ]
  },
  {
   "cell_type": "code",
   "execution_count": 254,
   "id": "d063200d",
   "metadata": {},
   "outputs": [],
   "source": [
    "from hyperopt import tpe,hp,Trials\n",
    "from hyperopt.fmin import fmin"
   ]
  },
  {
   "cell_type": "code",
   "execution_count": 263,
   "id": "441fa8ba",
   "metadata": {},
   "outputs": [
    {
     "name": "stdout",
     "output_type": "stream",
     "text": [
      "100%|██████████████████████████████████████████████| 500/500 [03:30<00:00,  2.37trial/s, best loss: 0.7480171673819742]\n"
     ]
    }
   ],
   "source": [
    "seed=2\n",
    "def objective(params):\n",
    "    est=int(params['n_estimators'])\n",
    "    md=int(params['max_depth'])\n",
    "    msl=int(params['min_samples_leaf'])\n",
    "    mss=int(params['min_samples_split'])\n",
    "    model=RandomForestClassifier(n_estimators=est,max_depth=md,min_samples_leaf=msl,min_samples_split=mss)\n",
    "    model.fit(X_standard_train, y_standard_train)\n",
    "    pred=model.predict(X_standard_test)\n",
    "    score = f1_score(y_standard_test, pred, average = 'macro')\n",
    "    return score\n",
    "\n",
    "def optimize(trial):\n",
    "    params={'n_estimators':hp.uniform('n_estimators',100,500),\n",
    "           'max_depth':hp.uniform('max_depth',5,20),\n",
    "           'min_samples_leaf':hp.uniform('min_samples_leaf',1,5),\n",
    "           'min_samples_split':hp.uniform('min_samples_split',2,6)}\n",
    "    best=fmin(fn=objective,space=params,algo=tpe.suggest,trials=trial,max_evals=500)\n",
    "    return best\n",
    "\n",
    "trial=Trials()\n",
    "best=optimize(trial)"
   ]
  },
  {
   "cell_type": "code",
   "execution_count": 264,
   "id": "8872ddc2",
   "metadata": {},
   "outputs": [
    {
     "name": "stdout",
     "output_type": "stream",
     "text": [
      "{'max_depth': 7.139980118264446, 'min_samples_leaf': 1.5512638174818996, 'min_samples_split': 2.854932347913091, 'n_estimators': 207.98325075144461}\n"
     ]
    }
   ],
   "source": [
    "print(best)"
   ]
  },
  {
   "cell_type": "code",
   "execution_count": 265,
   "id": "107d0bb7",
   "metadata": {},
   "outputs": [
    {
     "name": "stdout",
     "output_type": "stream",
     "text": [
      "{'state': 2, 'tid': 0, 'spec': None, 'result': {'loss': 0.8067476383265857, 'status': 'ok'}, 'misc': {'tid': 0, 'cmd': ('domain_attachment', 'FMinIter_Domain'), 'workdir': None, 'idxs': {'max_depth': [0], 'min_samples_leaf': [0], 'min_samples_split': [0], 'n_estimators': [0]}, 'vals': {'max_depth': [14.688586169415844], 'min_samples_leaf': [3.234857845984568], 'min_samples_split': [2.697761510233188], 'n_estimators': [165.73731184015162]}}, 'exp_key': None, 'owner': None, 'version': 0, 'book_time': datetime.datetime(2022, 10, 2, 13, 19, 43, 504000), 'refresh_time': datetime.datetime(2022, 10, 2, 13, 19, 43, 808000)}\n",
      "{'state': 2, 'tid': 1, 'spec': None, 'result': {'loss': 0.7932744565217391, 'status': 'ok'}, 'misc': {'tid': 1, 'cmd': ('domain_attachment', 'FMinIter_Domain'), 'workdir': None, 'idxs': {'max_depth': [1], 'min_samples_leaf': [1], 'min_samples_split': [1], 'n_estimators': [1]}, 'vals': {'max_depth': [13.250306235559368], 'min_samples_leaf': [2.8364867657288295], 'min_samples_split': [3.502221599356156], 'n_estimators': [461.4802654355478]}}, 'exp_key': None, 'owner': None, 'version': 0, 'book_time': datetime.datetime(2022, 10, 2, 13, 19, 43, 812000), 'refresh_time': datetime.datetime(2022, 10, 2, 13, 19, 44, 700000)}\n"
     ]
    }
   ],
   "source": [
    "for t in trial.trials[:2]:\n",
    "    print (t)"
   ]
  },
  {
   "cell_type": "code",
   "execution_count": 266,
   "id": "401e419b",
   "metadata": {},
   "outputs": [],
   "source": [
    "TID=[t['tid'] for t in trial.trials]\n",
    "Loss=[t['result']['loss'] for t in trial.trials]\n",
    "maxd=[t['misc']['vals']['max_depth'][0] for t in trial.trials]\n",
    "nest=[t['misc']['vals']['n_estimators'][0] for t in trial.trials]\n",
    "min_ss=[t['misc']['vals']['min_samples_split'][0] for t in trial.trials]\n",
    "min_sl=[t['misc']['vals']['min_samples_leaf'][0] for t in trial.trials]\n",
    "\n",
    "hyperopt_rfr=pd.DataFrame({'tid':TID,'loss':Loss,\n",
    "                          'max_depth':maxd,'n_estimators':nest,\n",
    "                          'min_samples_split':min_ss, 'min_samples_leaf':min_sl})"
   ]
  },
  {
   "cell_type": "code",
   "execution_count": 270,
   "id": "73a32bb7",
   "metadata": {
    "scrolled": true
   },
   "outputs": [
    {
     "name": "stdout",
     "output_type": "stream",
     "text": [
      "0.8108531888059447\n"
     ]
    }
   ],
   "source": [
    "rfr_opt=RandomForestClassifier(n_estimators=208,max_depth=7,min_samples_split=3,min_samples_leaf=2)\n",
    "rfr_opt.fit(X_standard_train,y_standard_train)\n",
    "pred_rfr_opt=rfr_opt.predict(X_standard_test)\n",
    "score = f1_score(y_standard_test, pred_rfr_opt, average = 'macro')\n",
    "print(score)"
   ]
  },
  {
   "cell_type": "code",
   "execution_count": 397,
   "id": "009d1595",
   "metadata": {},
   "outputs": [
    {
     "data": {
      "text/html": [
       "<div>\n",
       "<style scoped>\n",
       "    .dataframe tbody tr th:only-of-type {\n",
       "        vertical-align: middle;\n",
       "    }\n",
       "\n",
       "    .dataframe tbody tr th {\n",
       "        vertical-align: top;\n",
       "    }\n",
       "\n",
       "    .dataframe thead th {\n",
       "        text-align: right;\n",
       "    }\n",
       "</style>\n",
       "<table border=\"1\" class=\"dataframe\">\n",
       "  <thead>\n",
       "    <tr style=\"text-align: right;\">\n",
       "      <th></th>\n",
       "      <th>PassengerId</th>\n",
       "      <th>Age</th>\n",
       "      <th>SibSp</th>\n",
       "      <th>Parch</th>\n",
       "      <th>Fare</th>\n",
       "      <th>Embarked_C</th>\n",
       "      <th>Embarked_Q</th>\n",
       "      <th>Embarked_S</th>\n",
       "      <th>Pclass_1</th>\n",
       "      <th>Pclass_2</th>\n",
       "      <th>Pclass_3</th>\n",
       "      <th>Sex_male</th>\n",
       "    </tr>\n",
       "  </thead>\n",
       "  <tbody>\n",
       "    <tr>\n",
       "      <th>0</th>\n",
       "      <td>892</td>\n",
       "      <td>0.386231</td>\n",
       "      <td>-0.499470</td>\n",
       "      <td>-0.400248</td>\n",
       "      <td>-0.497413</td>\n",
       "      <td>0</td>\n",
       "      <td>1</td>\n",
       "      <td>0</td>\n",
       "      <td>0</td>\n",
       "      <td>0</td>\n",
       "      <td>1</td>\n",
       "      <td>1</td>\n",
       "    </tr>\n",
       "    <tr>\n",
       "      <th>1</th>\n",
       "      <td>893</td>\n",
       "      <td>1.371370</td>\n",
       "      <td>0.616992</td>\n",
       "      <td>-0.400248</td>\n",
       "      <td>-0.512278</td>\n",
       "      <td>0</td>\n",
       "      <td>0</td>\n",
       "      <td>1</td>\n",
       "      <td>0</td>\n",
       "      <td>0</td>\n",
       "      <td>1</td>\n",
       "      <td>0</td>\n",
       "    </tr>\n",
       "    <tr>\n",
       "      <th>2</th>\n",
       "      <td>894</td>\n",
       "      <td>2.553537</td>\n",
       "      <td>-0.499470</td>\n",
       "      <td>-0.400248</td>\n",
       "      <td>-0.464100</td>\n",
       "      <td>0</td>\n",
       "      <td>1</td>\n",
       "      <td>0</td>\n",
       "      <td>0</td>\n",
       "      <td>1</td>\n",
       "      <td>0</td>\n",
       "      <td>1</td>\n",
       "    </tr>\n",
       "    <tr>\n",
       "      <th>3</th>\n",
       "      <td>895</td>\n",
       "      <td>-0.204852</td>\n",
       "      <td>-0.499470</td>\n",
       "      <td>-0.400248</td>\n",
       "      <td>-0.482475</td>\n",
       "      <td>0</td>\n",
       "      <td>0</td>\n",
       "      <td>1</td>\n",
       "      <td>0</td>\n",
       "      <td>0</td>\n",
       "      <td>1</td>\n",
       "      <td>1</td>\n",
       "    </tr>\n",
       "    <tr>\n",
       "      <th>4</th>\n",
       "      <td>896</td>\n",
       "      <td>-0.598908</td>\n",
       "      <td>0.616992</td>\n",
       "      <td>0.619896</td>\n",
       "      <td>-0.417492</td>\n",
       "      <td>0</td>\n",
       "      <td>0</td>\n",
       "      <td>1</td>\n",
       "      <td>0</td>\n",
       "      <td>0</td>\n",
       "      <td>1</td>\n",
       "      <td>0</td>\n",
       "    </tr>\n",
       "    <tr>\n",
       "      <th>...</th>\n",
       "      <td>...</td>\n",
       "      <td>...</td>\n",
       "      <td>...</td>\n",
       "      <td>...</td>\n",
       "      <td>...</td>\n",
       "      <td>...</td>\n",
       "      <td>...</td>\n",
       "      <td>...</td>\n",
       "      <td>...</td>\n",
       "      <td>...</td>\n",
       "      <td>...</td>\n",
       "      <td>...</td>\n",
       "    </tr>\n",
       "    <tr>\n",
       "      <th>413</th>\n",
       "      <td>1305</td>\n",
       "      <td>-0.204852</td>\n",
       "      <td>-0.499470</td>\n",
       "      <td>-0.400248</td>\n",
       "      <td>-0.493455</td>\n",
       "      <td>0</td>\n",
       "      <td>0</td>\n",
       "      <td>1</td>\n",
       "      <td>0</td>\n",
       "      <td>0</td>\n",
       "      <td>1</td>\n",
       "      <td>1</td>\n",
       "    </tr>\n",
       "    <tr>\n",
       "      <th>414</th>\n",
       "      <td>1306</td>\n",
       "      <td>0.740881</td>\n",
       "      <td>-0.499470</td>\n",
       "      <td>-0.400248</td>\n",
       "      <td>1.314435</td>\n",
       "      <td>1</td>\n",
       "      <td>0</td>\n",
       "      <td>0</td>\n",
       "      <td>1</td>\n",
       "      <td>0</td>\n",
       "      <td>0</td>\n",
       "      <td>0</td>\n",
       "    </tr>\n",
       "    <tr>\n",
       "      <th>415</th>\n",
       "      <td>1307</td>\n",
       "      <td>0.701476</td>\n",
       "      <td>-0.499470</td>\n",
       "      <td>-0.400248</td>\n",
       "      <td>-0.507796</td>\n",
       "      <td>0</td>\n",
       "      <td>0</td>\n",
       "      <td>1</td>\n",
       "      <td>0</td>\n",
       "      <td>0</td>\n",
       "      <td>1</td>\n",
       "      <td>1</td>\n",
       "    </tr>\n",
       "    <tr>\n",
       "      <th>416</th>\n",
       "      <td>1308</td>\n",
       "      <td>-0.204852</td>\n",
       "      <td>-0.499470</td>\n",
       "      <td>-0.400248</td>\n",
       "      <td>-0.493455</td>\n",
       "      <td>0</td>\n",
       "      <td>0</td>\n",
       "      <td>1</td>\n",
       "      <td>0</td>\n",
       "      <td>0</td>\n",
       "      <td>1</td>\n",
       "      <td>1</td>\n",
       "    </tr>\n",
       "    <tr>\n",
       "      <th>417</th>\n",
       "      <td>1309</td>\n",
       "      <td>-0.204852</td>\n",
       "      <td>0.616992</td>\n",
       "      <td>0.619896</td>\n",
       "      <td>-0.236957</td>\n",
       "      <td>1</td>\n",
       "      <td>0</td>\n",
       "      <td>0</td>\n",
       "      <td>0</td>\n",
       "      <td>0</td>\n",
       "      <td>1</td>\n",
       "      <td>1</td>\n",
       "    </tr>\n",
       "  </tbody>\n",
       "</table>\n",
       "<p>418 rows × 12 columns</p>\n",
       "</div>"
      ],
      "text/plain": [
       "     PassengerId       Age     SibSp     Parch      Fare  Embarked_C  \\\n",
       "0            892  0.386231 -0.499470 -0.400248 -0.497413           0   \n",
       "1            893  1.371370  0.616992 -0.400248 -0.512278           0   \n",
       "2            894  2.553537 -0.499470 -0.400248 -0.464100           0   \n",
       "3            895 -0.204852 -0.499470 -0.400248 -0.482475           0   \n",
       "4            896 -0.598908  0.616992  0.619896 -0.417492           0   \n",
       "..           ...       ...       ...       ...       ...         ...   \n",
       "413         1305 -0.204852 -0.499470 -0.400248 -0.493455           0   \n",
       "414         1306  0.740881 -0.499470 -0.400248  1.314435           1   \n",
       "415         1307  0.701476 -0.499470 -0.400248 -0.507796           0   \n",
       "416         1308 -0.204852 -0.499470 -0.400248 -0.493455           0   \n",
       "417         1309 -0.204852  0.616992  0.619896 -0.236957           1   \n",
       "\n",
       "     Embarked_Q  Embarked_S  Pclass_1  Pclass_2  Pclass_3  Sex_male  \n",
       "0             1           0         0         0         1         1  \n",
       "1             0           1         0         0         1         0  \n",
       "2             1           0         0         1         0         1  \n",
       "3             0           1         0         0         1         1  \n",
       "4             0           1         0         0         1         0  \n",
       "..          ...         ...       ...       ...       ...       ...  \n",
       "413           0           1         0         0         1         1  \n",
       "414           0           0         1         0         0         0  \n",
       "415           0           1         0         0         1         1  \n",
       "416           0           1         0         0         1         1  \n",
       "417           0           0         0         0         1         1  \n",
       "\n",
       "[418 rows x 12 columns]"
      ]
     },
     "execution_count": 397,
     "metadata": {},
     "output_type": "execute_result"
    }
   ],
   "source": [
    "X_standard"
   ]
  },
  {
   "cell_type": "code",
   "execution_count": 396,
   "id": "de01e46d",
   "metadata": {},
   "outputs": [
    {
     "data": {
      "text/html": [
       "<div>\n",
       "<style scoped>\n",
       "    .dataframe tbody tr th:only-of-type {\n",
       "        vertical-align: middle;\n",
       "    }\n",
       "\n",
       "    .dataframe tbody tr th {\n",
       "        vertical-align: top;\n",
       "    }\n",
       "\n",
       "    .dataframe thead th {\n",
       "        text-align: right;\n",
       "    }\n",
       "</style>\n",
       "<table border=\"1\" class=\"dataframe\">\n",
       "  <thead>\n",
       "    <tr style=\"text-align: right;\">\n",
       "      <th></th>\n",
       "      <th>PassengerId</th>\n",
       "      <th>Age</th>\n",
       "      <th>SibSp</th>\n",
       "      <th>Parch</th>\n",
       "      <th>Fare</th>\n",
       "      <th>Pclass_1</th>\n",
       "      <th>Pclass_2</th>\n",
       "      <th>Pclass_3</th>\n",
       "      <th>Embarked_C</th>\n",
       "      <th>Embarked_Q</th>\n",
       "      <th>Embarked_S</th>\n",
       "      <th>Sex_male</th>\n",
       "    </tr>\n",
       "  </thead>\n",
       "  <tbody>\n",
       "    <tr>\n",
       "      <th>692</th>\n",
       "      <td>693</td>\n",
       "      <td>-0.104637</td>\n",
       "      <td>-0.474545</td>\n",
       "      <td>-0.473674</td>\n",
       "      <td>0.489104</td>\n",
       "      <td>0</td>\n",
       "      <td>0</td>\n",
       "      <td>1</td>\n",
       "      <td>0</td>\n",
       "      <td>0</td>\n",
       "      <td>1</td>\n",
       "      <td>1</td>\n",
       "    </tr>\n",
       "    <tr>\n",
       "      <th>481</th>\n",
       "      <td>482</td>\n",
       "      <td>-0.104637</td>\n",
       "      <td>-0.474545</td>\n",
       "      <td>-0.473674</td>\n",
       "      <td>-0.648422</td>\n",
       "      <td>0</td>\n",
       "      <td>1</td>\n",
       "      <td>0</td>\n",
       "      <td>0</td>\n",
       "      <td>0</td>\n",
       "      <td>1</td>\n",
       "      <td>1</td>\n",
       "    </tr>\n",
       "    <tr>\n",
       "      <th>527</th>\n",
       "      <td>528</td>\n",
       "      <td>-0.104637</td>\n",
       "      <td>-0.474545</td>\n",
       "      <td>-0.473674</td>\n",
       "      <td>3.817033</td>\n",
       "      <td>1</td>\n",
       "      <td>0</td>\n",
       "      <td>0</td>\n",
       "      <td>0</td>\n",
       "      <td>0</td>\n",
       "      <td>1</td>\n",
       "      <td>1</td>\n",
       "    </tr>\n",
       "    <tr>\n",
       "      <th>855</th>\n",
       "      <td>856</td>\n",
       "      <td>-0.873136</td>\n",
       "      <td>-0.474545</td>\n",
       "      <td>0.767630</td>\n",
       "      <td>-0.460162</td>\n",
       "      <td>0</td>\n",
       "      <td>0</td>\n",
       "      <td>1</td>\n",
       "      <td>0</td>\n",
       "      <td>0</td>\n",
       "      <td>1</td>\n",
       "      <td>0</td>\n",
       "    </tr>\n",
       "    <tr>\n",
       "      <th>801</th>\n",
       "      <td>802</td>\n",
       "      <td>0.125912</td>\n",
       "      <td>0.432793</td>\n",
       "      <td>0.767630</td>\n",
       "      <td>-0.119886</td>\n",
       "      <td>0</td>\n",
       "      <td>1</td>\n",
       "      <td>0</td>\n",
       "      <td>0</td>\n",
       "      <td>0</td>\n",
       "      <td>1</td>\n",
       "      <td>0</td>\n",
       "    </tr>\n",
       "    <tr>\n",
       "      <th>...</th>\n",
       "      <td>...</td>\n",
       "      <td>...</td>\n",
       "      <td>...</td>\n",
       "      <td>...</td>\n",
       "      <td>...</td>\n",
       "      <td>...</td>\n",
       "      <td>...</td>\n",
       "      <td>...</td>\n",
       "      <td>...</td>\n",
       "      <td>...</td>\n",
       "      <td>...</td>\n",
       "      <td>...</td>\n",
       "    </tr>\n",
       "    <tr>\n",
       "      <th>359</th>\n",
       "      <td>360</td>\n",
       "      <td>-0.104637</td>\n",
       "      <td>-0.474545</td>\n",
       "      <td>-0.473674</td>\n",
       "      <td>-0.489776</td>\n",
       "      <td>0</td>\n",
       "      <td>0</td>\n",
       "      <td>1</td>\n",
       "      <td>0</td>\n",
       "      <td>1</td>\n",
       "      <td>0</td>\n",
       "      <td>0</td>\n",
       "    </tr>\n",
       "    <tr>\n",
       "      <th>258</th>\n",
       "      <td>259</td>\n",
       "      <td>0.433312</td>\n",
       "      <td>-0.474545</td>\n",
       "      <td>-0.473674</td>\n",
       "      <td>9.667167</td>\n",
       "      <td>1</td>\n",
       "      <td>0</td>\n",
       "      <td>0</td>\n",
       "      <td>1</td>\n",
       "      <td>0</td>\n",
       "      <td>0</td>\n",
       "      <td>0</td>\n",
       "    </tr>\n",
       "    <tr>\n",
       "      <th>736</th>\n",
       "      <td>737</td>\n",
       "      <td>1.432359</td>\n",
       "      <td>0.432793</td>\n",
       "      <td>3.250237</td>\n",
       "      <td>0.043708</td>\n",
       "      <td>0</td>\n",
       "      <td>0</td>\n",
       "      <td>1</td>\n",
       "      <td>0</td>\n",
       "      <td>0</td>\n",
       "      <td>1</td>\n",
       "      <td>0</td>\n",
       "    </tr>\n",
       "    <tr>\n",
       "      <th>462</th>\n",
       "      <td>463</td>\n",
       "      <td>1.355510</td>\n",
       "      <td>-0.474545</td>\n",
       "      <td>-0.473674</td>\n",
       "      <td>0.126764</td>\n",
       "      <td>1</td>\n",
       "      <td>0</td>\n",
       "      <td>0</td>\n",
       "      <td>0</td>\n",
       "      <td>0</td>\n",
       "      <td>1</td>\n",
       "      <td>1</td>\n",
       "    </tr>\n",
       "    <tr>\n",
       "      <th>507</th>\n",
       "      <td>508</td>\n",
       "      <td>-0.104637</td>\n",
       "      <td>-0.474545</td>\n",
       "      <td>-0.473674</td>\n",
       "      <td>-0.113846</td>\n",
       "      <td>1</td>\n",
       "      <td>0</td>\n",
       "      <td>0</td>\n",
       "      <td>0</td>\n",
       "      <td>0</td>\n",
       "      <td>1</td>\n",
       "      <td>1</td>\n",
       "    </tr>\n",
       "  </tbody>\n",
       "</table>\n",
       "<p>712 rows × 12 columns</p>\n",
       "</div>"
      ],
      "text/plain": [
       "     PassengerId       Age     SibSp     Parch      Fare  Pclass_1  Pclass_2  \\\n",
       "692          693 -0.104637 -0.474545 -0.473674  0.489104         0         0   \n",
       "481          482 -0.104637 -0.474545 -0.473674 -0.648422         0         1   \n",
       "527          528 -0.104637 -0.474545 -0.473674  3.817033         1         0   \n",
       "855          856 -0.873136 -0.474545  0.767630 -0.460162         0         0   \n",
       "801          802  0.125912  0.432793  0.767630 -0.119886         0         1   \n",
       "..           ...       ...       ...       ...       ...       ...       ...   \n",
       "359          360 -0.104637 -0.474545 -0.473674 -0.489776         0         0   \n",
       "258          259  0.433312 -0.474545 -0.473674  9.667167         1         0   \n",
       "736          737  1.432359  0.432793  3.250237  0.043708         0         0   \n",
       "462          463  1.355510 -0.474545 -0.473674  0.126764         1         0   \n",
       "507          508 -0.104637 -0.474545 -0.473674 -0.113846         1         0   \n",
       "\n",
       "     Pclass_3  Embarked_C  Embarked_Q  Embarked_S  Sex_male  \n",
       "692         1           0           0           1         1  \n",
       "481         0           0           0           1         1  \n",
       "527         0           0           0           1         1  \n",
       "855         1           0           0           1         0  \n",
       "801         0           0           0           1         0  \n",
       "..        ...         ...         ...         ...       ...  \n",
       "359         1           0           1           0         0  \n",
       "258         0           1           0           0         0  \n",
       "736         1           0           0           1         0  \n",
       "462         0           0           0           1         1  \n",
       "507         0           0           0           1         1  \n",
       "\n",
       "[712 rows x 12 columns]"
      ]
     },
     "execution_count": 396,
     "metadata": {},
     "output_type": "execute_result"
    }
   ],
   "source": [
    "X_standard_train"
   ]
  },
  {
   "cell_type": "code",
   "execution_count": 392,
   "id": "25d16577",
   "metadata": {},
   "outputs": [],
   "source": [
    "dft = pd.read_csv(\"test.csv\")"
   ]
  },
  {
   "cell_type": "code",
   "execution_count": 393,
   "id": "f401c171",
   "metadata": {},
   "outputs": [],
   "source": [
    "dft['Embarked'] = dft['Embarked'].fillna('S')\n",
    "dft.Age = dft.Age.fillna(dft.Age.median())\n",
    "dft.Fare = dft.Fare.fillna(dft.Fare.median())\n",
    "dft.Embarked = dft.Embarked.fillna(dft.Embarked.mode()[0])\n",
    "\n",
    "dft = dft.drop('Embarked', axis=1).join(pd.get_dummies(dft['Embarked'], prefix='Embarked'))\n",
    "dft = dft.drop('Pclass', axis=1).join(pd.get_dummies(dft['Pclass'], prefix='Pclass'))\n",
    "dft = dft.drop('Sex', axis=1).join(pd.get_dummies(dft['Sex'], prefix='Sex', drop_first=True))\n",
    "\n",
    "standard_scaler = StandardScaler()\n",
    "features_to_normalize = ['Age', 'SibSp', 'Parch', 'Fare']\n",
    "dft_standard = dft.copy()\n",
    "for feature in features_to_normalize:\n",
    "    dft_standard[feature] = standard_scaler.fit_transform(dft_standard[[feature]])\n",
    "\n",
    "X_standard = dft_standard.drop(columns=['Name', 'Ticket', 'Cabin'])"
   ]
  },
  {
   "cell_type": "code",
   "execution_count": 398,
   "id": "b1871fe9",
   "metadata": {
    "scrolled": true
   },
   "outputs": [],
   "source": [
    "pred_rfr_opt = rfr_opt.predict(X_standard)\n",
    "submission = pd.DataFrame(columns=['PassengerId', 'Survived'])\n",
    "submission.PassengerId = X_standard.PassengerId\n",
    "submission.Survived = pred_rfr_opt\n",
    "submission.to_csv(\"submission.csv\", index=False)"
   ]
  },
  {
   "cell_type": "code",
   "execution_count": null,
   "id": "618dde50",
   "metadata": {},
   "outputs": [],
   "source": [
    "score = f1_score(y_standard_test, pred_rfr_opt, average = 'macro')"
   ]
  },
  {
   "cell_type": "markdown",
   "id": "a9b973c2",
   "metadata": {
    "papermill": {
     "duration": 0.159865,
     "end_time": "2022-01-08T10:15:52.510956",
     "exception": false,
     "start_time": "2022-01-08T10:15:52.351091",
     "status": "completed"
    },
    "tags": []
   },
   "source": [
    "# 8. Подбор гиперпараметров BaseLine модели"
   ]
  },
  {
   "cell_type": "markdown",
   "id": "cf060184",
   "metadata": {
    "papermill": {
     "duration": 0.158339,
     "end_time": "2022-01-08T10:15:52.828867",
     "exception": false,
     "start_time": "2022-01-08T10:15:52.670528",
     "status": "completed"
    },
    "tags": []
   },
   "source": [
    "Так как модель RandomForest дала большую точность при Baseline решении, то будем подбирать параметры для неё.\n",
    "\n",
    "У данной модели есть следующие гиперпараметры:\n",
    "* **criterion(\"gini\", \"entropy\")** - определяет функцию, которая используется для измерения качества разделения\n",
    "* **splitter(\"best\", \"random\")** - определяет стратегию, которая используется для выбора разделения на каждом узле\n",
    "* **max_depth** - определяет максимальную глубину дерева, предыдущие эксперименты показали, что для данной модели оптимальная глубина равна 5\n",
    "* **min_samples_split** - минимальное количество выборок для разделения узла\n",
    "* **min_samples_leaf** - контроллирует, что конечный узел будет учитываться только, если при этом остаётся не меньше min_samples_leaf выборок справа и слева от узла, помогает сгладить модель\n",
    "* **max_features** - определяет максимальное количество фич, по которым определяется лучшее разделение\n"
   ]
  },
  {
   "cell_type": "code",
   "execution_count": 66,
   "id": "8b1d87b6",
   "metadata": {
    "execution": {
     "iopub.execute_input": "2022-01-08T10:15:53.159424Z",
     "iopub.status.busy": "2022-01-08T10:15:53.158411Z",
     "iopub.status.idle": "2022-01-08T10:15:53.231347Z",
     "shell.execute_reply": "2022-01-08T10:15:53.230804Z",
     "shell.execute_reply.started": "2022-01-08T09:20:27.550455Z"
    },
    "papermill": {
     "duration": 0.24183,
     "end_time": "2022-01-08T10:15:53.231491",
     "exception": false,
     "start_time": "2022-01-08T10:15:52.989661",
     "status": "completed"
    },
    "tags": []
   },
   "outputs": [
    {
     "name": "stdout",
     "output_type": "stream",
     "text": [
      "Точность при criterion = \"gini\":\n",
      "0.7418548601157297\n",
      "Точность при criterion = \"entropy\":\n",
      "0.747585105112279\n"
     ]
    }
   ],
   "source": [
    "dt_clf = DecisionTreeClassifier(random_state=42, max_depth=5, criterion=\"gini\")\n",
    "dt_clf.fit(t.drop('Survived', axis=1), t.Survived)\n",
    "print(\"Точность при criterion = \\\"gini\\\":\")\n",
    "print(cross_val_score(dt_clf, X=t.drop('Survived', axis=1), y=t.Survived, cv=kf, scoring=\"f1\").mean())\n",
    "dt_clf = DecisionTreeClassifier(random_state=42, max_depth=5, criterion=\"entropy\")\n",
    "dt_clf.fit(t.drop('Survived', axis=1), t.Survived)\n",
    "print(\"Точность при criterion = \\\"entropy\\\":\")\n",
    "print(cross_val_score(dt_clf, X=t.drop('Survived', axis=1), y=t.Survived, cv=kf, scoring=\"f1\").mean())"
   ]
  },
  {
   "cell_type": "code",
   "execution_count": 67,
   "id": "9da07958",
   "metadata": {
    "execution": {
     "iopub.execute_input": "2022-01-08T10:15:53.559039Z",
     "iopub.status.busy": "2022-01-08T10:15:53.558099Z",
     "iopub.status.idle": "2022-01-08T10:15:53.628649Z",
     "shell.execute_reply": "2022-01-08T10:15:53.629151Z",
     "shell.execute_reply.started": "2022-01-08T09:20:27.637917Z"
    },
    "papermill": {
     "duration": 0.239865,
     "end_time": "2022-01-08T10:15:53.629318",
     "exception": false,
     "start_time": "2022-01-08T10:15:53.389453",
     "status": "completed"
    },
    "tags": []
   },
   "outputs": [
    {
     "name": "stdout",
     "output_type": "stream",
     "text": [
      "Точность при splitter = \"best\":\n",
      "0.7418548601157297\n",
      "Точность при splitter = \"random\":\n",
      "0.7351177720008867\n"
     ]
    }
   ],
   "source": [
    "dt_clf = DecisionTreeClassifier(random_state=42, max_depth=5, splitter=\"best\")\n",
    "dt_clf.fit(t.drop('Survived', axis=1), t.Survived)\n",
    "print(\"Точность при splitter = \\\"best\\\":\")\n",
    "print(cross_val_score(dt_clf, X=t.drop('Survived', axis=1), y=t.Survived, cv=kf, scoring=\"f1\").mean())\n",
    "dt_clf = DecisionTreeClassifier(random_state=42, max_depth=5, splitter=\"random\")\n",
    "dt_clf.fit(t.drop('Survived', axis=1), t.Survived)\n",
    "print(\"Точность при splitter = \\\"random\\\":\")\n",
    "print(cross_val_score(dt_clf, X=t.drop('Survived', axis=1), y=t.Survived, cv=kf, scoring=\"f1\").mean())"
   ]
  },
  {
   "cell_type": "code",
   "execution_count": 68,
   "id": "ca703a88",
   "metadata": {
    "execution": {
     "iopub.execute_input": "2022-01-08T10:15:53.964472Z",
     "iopub.status.busy": "2022-01-08T10:15:53.963480Z",
     "iopub.status.idle": "2022-01-08T10:15:54.801553Z",
     "shell.execute_reply": "2022-01-08T10:15:54.800898Z",
     "shell.execute_reply.started": "2022-01-08T09:20:27.724475Z"
    },
    "papermill": {
     "duration": 1.013185,
     "end_time": "2022-01-08T10:15:54.801685",
     "exception": false,
     "start_time": "2022-01-08T10:15:53.788500",
     "status": "completed"
    },
    "tags": []
   },
   "outputs": [
    {
     "name": "stdout",
     "output_type": "stream",
     "text": [
      "Оптимальная значение min_samples_split : 15. Достигается точность: 0.7434359944657427\n"
     ]
    },
    {
     "data": {
      "text/plain": [
       "<AxesSubplot:>"
      ]
     },
     "execution_count": 68,
     "metadata": {},
     "output_type": "execute_result"
    },
    {
     "data": {
      "image/png": "[encoded data removed]",
      "text/plain": [
       "<Figure size 1440x360 with 1 Axes>"
      ]
     },
     "metadata": {
      "needs_background": "light"
     },
     "output_type": "display_data"
    }
   ],
   "source": [
    "plt.figure(figsize=(20, 5))\n",
    "x, y = [], []\n",
    "for i in range(2,20):\n",
    "    x.append(i)\n",
    "    dt_clf = DecisionTreeClassifier(random_state=42, max_depth=5, min_samples_split=i)\n",
    "    y.append(cross_val_score(dt_clf, X=t.drop('Survived', axis=1), y=t.Survived, cv=kf, scoring=\"f1\").mean())\n",
    "print(f\"Оптимальная значение min_samples_split : {y.index(max(y)) + 1}. Достигается точность: {y[y.index(max(y))]}\")\n",
    "sns.scatterplot(x=x, y=y)"
   ]
  },
  {
   "cell_type": "code",
   "execution_count": 69,
   "id": "d5c8d181",
   "metadata": {
    "execution": {
     "iopub.execute_input": "2022-01-08T10:15:55.126262Z",
     "iopub.status.busy": "2022-01-08T10:15:55.125582Z",
     "iopub.status.idle": "2022-01-08T10:15:55.944949Z",
     "shell.execute_reply": "2022-01-08T10:15:55.945410Z",
     "shell.execute_reply.started": "2022-01-08T09:20:28.574916Z"
    },
    "papermill": {
     "duration": 0.982334,
     "end_time": "2022-01-08T10:15:55.945596",
     "exception": false,
     "start_time": "2022-01-08T10:15:54.963262",
     "status": "completed"
    },
    "tags": []
   },
   "outputs": [
    {
     "name": "stdout",
     "output_type": "stream",
     "text": [
      "Оптимальная значение min_samples_leaf : 7. Достигается точность: 0.7607150765404811\n"
     ]
    },
    {
     "data": {
      "text/plain": [
       "<AxesSubplot:>"
      ]
     },
     "execution_count": 69,
     "metadata": {},
     "output_type": "execute_result"
    },
    {
     "data": {
      "image/png": "[encoded data removed]",
      "text/plain": [
       "<Figure size 1440x360 with 1 Axes>"
      ]
     },
     "metadata": {
      "needs_background": "light"
     },
     "output_type": "display_data"
    }
   ],
   "source": [
    "plt.figure(figsize=(20, 5))\n",
    "x, y = [], []\n",
    "for i in range(1,20):\n",
    "    x.append(i)\n",
    "    dt_clf = DecisionTreeClassifier(random_state=42, max_depth=5, min_samples_leaf=i)\n",
    "    y.append(cross_val_score(dt_clf, X=t.drop('Survived', axis=1), y=t.Survived, cv=kf, scoring=\"f1\").mean())\n",
    "print(f\"Оптимальная значение min_samples_leaf : {y.index(max(y)) + 1}. Достигается точность: {y[y.index(max(y))]}\")\n",
    "sns.scatterplot(x=x, y=y)"
   ]
  },
  {
   "cell_type": "code",
   "execution_count": 70,
   "id": "707b2292",
   "metadata": {
    "execution": {
     "iopub.execute_input": "2022-01-08T10:15:56.286738Z",
     "iopub.status.busy": "2022-01-08T10:15:56.285697Z",
     "iopub.status.idle": "2022-01-08T10:15:56.545405Z",
     "shell.execute_reply": "2022-01-08T10:15:56.545855Z",
     "shell.execute_reply.started": "2022-01-08T09:20:29.461669Z"
    },
    "papermill": {
     "duration": 0.433542,
     "end_time": "2022-01-08T10:15:56.546075",
     "exception": false,
     "start_time": "2022-01-08T10:15:56.112533",
     "status": "completed"
    },
    "tags": []
   },
   "outputs": [
    {
     "name": "stdout",
     "output_type": "stream",
     "text": [
      "Оптимальная значение min_samples_split : 1. Достигается точность: 0.7554582960001213\n"
     ]
    },
    {
     "data": {
      "text/plain": [
       "<AxesSubplot:>"
      ]
     },
     "execution_count": 70,
     "metadata": {},
     "output_type": "execute_result"
    },
    {
     "data": {
      "image/png": "[encoded data removed]",
      "text/plain": [
       "<Figure size 1440x360 with 1 Axes>"
      ]
     },
     "metadata": {
      "needs_background": "light"
     },
     "output_type": "display_data"
    }
   ],
   "source": [
    "plt.figure(figsize=(20, 5))\n",
    "x, y = [], []\n",
    "for i in range(1,len(t.drop('Survived', axis=1).columns)):\n",
    "    x.append(i)\n",
    "    dt_clf = DecisionTreeClassifier(random_state=42, max_depth=5, max_features=i)\n",
    "    y.append(cross_val_score(dt_clf, X=t.drop('Survived', axis=1), y=t.Survived, cv=kf, scoring=\"f1\").mean())\n",
    "print(f\"Оптимальная значение min_samples_split : {y.index(max(y)) + 1}. Достигается точность: {y[y.index(max(y))]}\")\n",
    "sns.scatterplot(x=x, y=y)"
   ]
  },
  {
   "cell_type": "markdown",
   "id": "62ef6cad",
   "metadata": {
    "papermill": {
     "duration": 0.164422,
     "end_time": "2022-01-08T10:15:56.874763",
     "exception": false,
     "start_time": "2022-01-08T10:15:56.710341",
     "status": "completed"
    },
    "tags": []
   },
   "source": [
    "Подбор гиперпараметров для остальных классификаторов будем проводить при прогоне пайплайна. "
   ]
  },
  {
   "cell_type": "markdown",
   "id": "74ce97b0",
   "metadata": {
    "papermill": {
     "duration": 0.163967,
     "end_time": "2022-01-08T10:15:57.204553",
     "exception": false,
     "start_time": "2022-01-08T10:15:57.040586",
     "status": "completed"
    },
    "tags": []
   },
   "source": [
    "# 9. Создание конвеера решения для выпуска в production"
   ]
  },
  {
   "cell_type": "markdown",
   "id": "e9f1760e",
   "metadata": {
    "papermill": {
     "duration": 0.165013,
     "end_time": "2022-01-08T10:15:57.533677",
     "exception": false,
     "start_time": "2022-01-08T10:15:57.368664",
     "status": "completed"
    },
    "tags": []
   },
   "source": [
    "## 9.1 Пользовательские трансформеры\n",
    "Создадим свои трансформеры для каждого преобразования."
   ]
  },
  {
   "cell_type": "code",
   "execution_count": 71,
   "id": "4dfb9a8f",
   "metadata": {
    "execution": {
     "iopub.execute_input": "2022-01-08T10:15:57.867720Z",
     "iopub.status.busy": "2022-01-08T10:15:57.866697Z",
     "iopub.status.idle": "2022-01-08T10:15:57.869537Z",
     "shell.execute_reply": "2022-01-08T10:15:57.869045Z",
     "shell.execute_reply.started": "2022-01-08T09:20:29.775302Z"
    },
    "papermill": {
     "duration": 0.17124,
     "end_time": "2022-01-08T10:15:57.869695",
     "exception": false,
     "start_time": "2022-01-08T10:15:57.698455",
     "status": "completed"
    },
    "tags": []
   },
   "outputs": [],
   "source": [
    "from sklearn.base import BaseEstimator, TransformerMixin"
   ]
  },
  {
   "cell_type": "markdown",
   "id": "dba196a1",
   "metadata": {
    "papermill": {
     "duration": 0.161964,
     "end_time": "2022-01-08T10:15:58.197213",
     "exception": false,
     "start_time": "2022-01-08T10:15:58.035249",
     "status": "completed"
    },
    "tags": []
   },
   "source": [
    "### 9.1.1 Трансформер для заполнения пропусков"
   ]
  },
  {
   "cell_type": "code",
   "execution_count": 72,
   "id": "0f63d698",
   "metadata": {
    "execution": {
     "iopub.execute_input": "2022-01-08T10:15:58.528859Z",
     "iopub.status.busy": "2022-01-08T10:15:58.528236Z",
     "iopub.status.idle": "2022-01-08T10:15:58.536352Z",
     "shell.execute_reply": "2022-01-08T10:15:58.536832Z",
     "shell.execute_reply.started": "2022-01-08T09:20:29.781782Z"
    },
    "papermill": {
     "duration": 0.176082,
     "end_time": "2022-01-08T10:15:58.537016",
     "exception": false,
     "start_time": "2022-01-08T10:15:58.360934",
     "status": "completed"
    },
    "tags": []
   },
   "outputs": [],
   "source": [
    "class FillNaTransformer(BaseEstimator, TransformerMixin):\n",
    "    #estimator method\n",
    "    def fit(self, X, y = None):\n",
    "        return self\n",
    "    #transformation\n",
    "    def transform(self, X, y = None, features = None):\n",
    "        type(X)\n",
    "        temp = X.copy()\n",
    "        if features:\n",
    "            for i in features:\n",
    "                if temp.dtypes[i] == 'O':\n",
    "                    temp[i] = temp[i].fillna(temp[i].mode()[0])\n",
    "                else:\n",
    "                    temp[i] = temp[i].fillna(temp[i].median())\n",
    "        else:\n",
    "            temp.Age = temp.Age.fillna(temp.Age.median())\n",
    "            temp.Embarked = temp.Embarked.fillna(temp.Embarked.mode()[0])\n",
    "            temp.Fare = temp.Fare.fillna(temp.Fare.median())\n",
    "        return temp"
   ]
  },
  {
   "cell_type": "markdown",
   "id": "2c3efe18",
   "metadata": {
    "papermill": {
     "duration": 0.162449,
     "end_time": "2022-01-08T10:15:58.863202",
     "exception": false,
     "start_time": "2022-01-08T10:15:58.700753",
     "status": "completed"
    },
    "tags": []
   },
   "source": [
    "### 9.1.2 Трансформер для обработки выбросов"
   ]
  },
  {
   "cell_type": "code",
   "execution_count": 73,
   "id": "13877437",
   "metadata": {
    "execution": {
     "iopub.execute_input": "2022-01-08T10:15:59.193940Z",
     "iopub.status.busy": "2022-01-08T10:15:59.193260Z",
     "iopub.status.idle": "2022-01-08T10:15:59.204807Z",
     "shell.execute_reply": "2022-01-08T10:15:59.205296Z",
     "shell.execute_reply.started": "2022-01-08T09:20:29.794515Z"
    },
    "papermill": {
     "duration": 0.178129,
     "end_time": "2022-01-08T10:15:59.205459",
     "exception": false,
     "start_time": "2022-01-08T10:15:59.027330",
     "status": "completed"
    },
    "tags": []
   },
   "outputs": [],
   "source": [
    "def bounds_smoothing(feature):\n",
    "    \"\"\"Функция принимает набор значений 1-го признака и\n",
    "    возвращает массив индексов тех значений, которые являются выбросами\"\"\"\n",
    "    q1, q3 = np.percentile(feature, [25, 75])\n",
    "    iqr = q3 - q1\n",
    "    lower_bound = q1 - 1.5 * iqr\n",
    "    upper_bound = q3 + 1.5 * iqr\n",
    "    feature = np.where(feature < lower_bound, lower_bound, feature)\n",
    "    feature = np.where(feature > upper_bound, upper_bound, feature)\n",
    "    return feature\n",
    "class SmoothOutliersTransformer(BaseEstimator, TransformerMixin):\n",
    "    #constructor\n",
    "    def __init__(self, method = \"log1p\"):\n",
    "        self.method = method\n",
    "    #estimator method\n",
    "    def fit(self, X, y = None):\n",
    "        return self\n",
    "    #transformation\n",
    "    def transform(self, X, y = None, features = None):\n",
    "        type(X)\n",
    "        temp = X.copy()\n",
    "        if features:\n",
    "            if self.method == \"log1p\":\n",
    "                for i in features:\n",
    "                    temp[i] = np.log1p(temp[i])\n",
    "            if self.method == \"bounds\":\n",
    "                for i in features:\n",
    "                    temp[i] = bounds_smoothing(temp[i])\n",
    "        else:\n",
    "            if self.method == \"log1p\":\n",
    "                temp.Fare = np.log1p(temp.Fare)\n",
    "                temp.Age = np.log1p(temp.Age)\n",
    "                temp.SibSp = np.log1p(temp.SibSp)\n",
    "                temp.Parch = np.log1p(temp.Parch)\n",
    "            if self.method == \"bounds\":\n",
    "                temp.Fare = bounds_smoothing(temp.Fare)\n",
    "                temp.Age = bounds_smoothing(temp.Age)\n",
    "                temp.SibSp = bounds_smoothing(temp.SibSp)\n",
    "                temp.Parch = bounds_smoothing(temp.Parch)\n",
    "        return temp"
   ]
  },
  {
   "cell_type": "markdown",
   "id": "28d38dc3",
   "metadata": {
    "papermill": {
     "duration": 0.164518,
     "end_time": "2022-01-08T10:15:59.533194",
     "exception": false,
     "start_time": "2022-01-08T10:15:59.368676",
     "status": "completed"
    },
    "tags": []
   },
   "source": [
    "### 9.1.3 Трансофрмер для One-hot-encoding"
   ]
  },
  {
   "cell_type": "code",
   "execution_count": 74,
   "id": "7d7af607",
   "metadata": {
    "execution": {
     "iopub.execute_input": "2022-01-08T10:15:59.872827Z",
     "iopub.status.busy": "2022-01-08T10:15:59.863281Z",
     "iopub.status.idle": "2022-01-08T10:15:59.876308Z",
     "shell.execute_reply": "2022-01-08T10:15:59.877275Z",
     "shell.execute_reply.started": "2022-01-08T09:20:29.808922Z"
    },
    "papermill": {
     "duration": 0.18137,
     "end_time": "2022-01-08T10:15:59.877551",
     "exception": false,
     "start_time": "2022-01-08T10:15:59.696181",
     "status": "completed"
    },
    "tags": []
   },
   "outputs": [],
   "source": [
    "class OnehotTransformer(BaseEstimator, TransformerMixin):\n",
    "    #estimator method\n",
    "    def fit(self, X, y = None):\n",
    "        return self\n",
    "    #transformation\n",
    "    def transform(self, X, y = None, features = None):\n",
    "        type(X)\n",
    "        temp = X.copy()\n",
    "        if features:\n",
    "            for i in features:\n",
    "                if temp[i].unique().size == 2:\n",
    "                    temp[i] = temp.drop(i, axis=1).join(pd.get_dummies(temp[i], prefix=i, drop_first=True))\n",
    "                else:\n",
    "                    temp[i] = temp.drop(i, axis=1).join(pd.get_dummies(temp[i], prefix=i))\n",
    "        else:\n",
    "            temp = temp.drop('Pclass', axis=1).join(pd.get_dummies(temp['Pclass'], prefix='Pclass'))\n",
    "            temp = temp.drop('Embarked', axis=1).join(pd.get_dummies(temp['Embarked'], prefix='Embarked'))\n",
    "            temp = temp.drop('Sex', axis=1).join(pd.get_dummies(temp['Sex'], prefix='Sex', drop_first=True))\n",
    "            if temp.columns.str.contains('AgeCategory').any():\n",
    "                temp = temp.drop('AgeCategory', axis=1).join(pd.get_dummies(temp['AgeCategory'], prefix='AgeCategory'))\n",
    "#             if temp.columns.str.contains('NewName').any():\n",
    "#                 temp = temp.join(pd.get_dummies(temp['NewName'], prefix='NewName'))\n",
    "        return temp"
   ]
  },
  {
   "cell_type": "markdown",
   "id": "4c62bfb1",
   "metadata": {
    "papermill": {
     "duration": 0.163727,
     "end_time": "2022-01-08T10:16:00.227567",
     "exception": false,
     "start_time": "2022-01-08T10:16:00.063840",
     "status": "completed"
    },
    "tags": []
   },
   "source": [
    "### 9.1.4 Трансформер для нормализации"
   ]
  },
  {
   "cell_type": "code",
   "execution_count": 75,
   "id": "b09ef106",
   "metadata": {
    "execution": {
     "iopub.execute_input": "2022-01-08T10:16:00.557506Z",
     "iopub.status.busy": "2022-01-08T10:16:00.556826Z",
     "iopub.status.idle": "2022-01-08T10:16:00.567374Z",
     "shell.execute_reply": "2022-01-08T10:16:00.567825Z",
     "shell.execute_reply.started": "2022-01-08T09:20:29.825503Z"
    },
    "papermill": {
     "duration": 0.177327,
     "end_time": "2022-01-08T10:16:00.568019",
     "exception": false,
     "start_time": "2022-01-08T10:16:00.390692",
     "status": "completed"
    },
    "tags": []
   },
   "outputs": [],
   "source": [
    "class NormalizeTransformer(BaseEstimator, TransformerMixin):\n",
    "    #constructor\n",
    "    def __init__(self, method = \"minmax\"):\n",
    "        self.method = method\n",
    "    #estimator method\n",
    "    def fit(self, X, y = None):\n",
    "        return self\n",
    "    #transformation\n",
    "    def transform(self, X, y = None):\n",
    "        temp = X.copy()\n",
    "        if self.method == \"minmax\":\n",
    "            min_max_scaler = MinMaxScaler()\n",
    "            temp['Age'] = min_max_scaler.fit_transform(temp[['Age']])\n",
    "            temp['Fare'] = min_max_scaler.fit_transform(temp[['Fare']])\n",
    "            if temp.columns.str.contains('FullFamily').any():\n",
    "                temp['FullFamily'] = min_max_scaler.fit_transform(temp[['FullFamily']])\n",
    "        if self.method == \"standard\":\n",
    "            standard_scaler = StandardScaler()\n",
    "            temp['Age'] = standard_scaler.fit_transform(temp[['Age']])\n",
    "            temp['Fare'] = standard_scaler.fit_transform(temp[['Fare']])\n",
    "            if temp.columns.str.contains('FullFamily').any():\n",
    "                temp['FullFamily'] = standard_scaler.fit_transform(temp[['FullFamily']])\n",
    "        if self.method == \"robust\":\n",
    "            robust_scaler = RobustScaler()\n",
    "            temp['Age'] = robust_scaler.fit_transform(temp[['Age']])\n",
    "            temp['Fare'] = robust_scaler.fit_transform(temp[['Fare']])\n",
    "            if temp.columns.str.contains('FullFamily').any():\n",
    "                temp['FullFamily'] = robust_scaler.fit_transform(temp[['FullFamily']])\n",
    "        return temp"
   ]
  },
  {
   "cell_type": "markdown",
   "id": "6dadeda0",
   "metadata": {
    "papermill": {
     "duration": 0.168785,
     "end_time": "2022-01-08T10:16:00.899394",
     "exception": false,
     "start_time": "2022-01-08T10:16:00.730609",
     "status": "completed"
    },
    "tags": []
   },
   "source": [
    "### 9.1.5 Трансформеры для создания новых признаков"
   ]
  },
  {
   "cell_type": "code",
   "execution_count": 76,
   "id": "41368aae",
   "metadata": {
    "execution": {
     "iopub.execute_input": "2022-01-08T10:16:01.232388Z",
     "iopub.status.busy": "2022-01-08T10:16:01.231686Z",
     "iopub.status.idle": "2022-01-08T10:16:01.252094Z",
     "shell.execute_reply": "2022-01-08T10:16:01.251512Z",
     "shell.execute_reply.started": "2022-01-08T09:20:29.841649Z"
    },
    "papermill": {
     "duration": 0.187517,
     "end_time": "2022-01-08T10:16:01.252254",
     "exception": false,
     "start_time": "2022-01-08T10:16:01.064737",
     "status": "completed"
    },
    "tags": []
   },
   "outputs": [],
   "source": [
    "class NewFeaturesTransformer(BaseEstimator, TransformerMixin):\n",
    "    #constructor\n",
    "    def __init__(self, features = \"all\"):\n",
    "        self.features = features\n",
    "    #estimator method\n",
    "    def fit(self, X, y = None):\n",
    "        return self\n",
    "    #transformation\n",
    "    def transform(self, X, y = None):\n",
    "        temp = X.copy()\n",
    "        if self.features == \"all\":\n",
    "            has_family = (temp.Parch > 0) | (temp.SibSp > 0)\n",
    "            has_family = has_family.apply(lambda x: int(x))\n",
    "            has_family.name = \"HasFamily\"\n",
    "            temp = temp.join(has_family)\n",
    "            has_cabin = temp.Cabin.isna()\n",
    "            has_cabin = has_cabin.apply(lambda x: int(x))\n",
    "            has_cabin.name = \"HasCabin\"\n",
    "            temp = temp.drop('Cabin', axis=1).join(has_cabin)\n",
    "            temp['Name'] = temp.Name.apply(lambda x: 'Master' if 'Master' in x\n",
    "                       else 'Miss' if 'Miss' in x\n",
    "                       else 'Sir' if 'Sir' in x\n",
    "                       else 'Dr' if 'Dr.' in x\n",
    "                       else 'Lady' if 'Lady.' in x\n",
    "                       else 'Mr' if 'Mr.' in x\n",
    "                       else 'Mrs' if 'Mrs.' in x\n",
    "                       else 'Other')\n",
    "            temp['NewName'] = temp['Name'].map(name_mapper)\n",
    "            full_family = temp.Parch + temp.SibSp\n",
    "            full_family.name = \"FullFamily\"\n",
    "            temp = temp.join(full_family)\n",
    "            age_category = temp.Age.apply(lambda x: get_age_category(x))\n",
    "            age_category.name = \"AgeCategory\"\n",
    "            temp = temp.join(age_category)\n",
    "        if self.features == \"hasfamily\":\n",
    "            has_family = (temp.Parch > 0) | (temp.SibSp > 0)\n",
    "            has_family = has_family.apply(lambda x: int(x))\n",
    "            has_family.name = \"HasFamily\"\n",
    "            temp = temp.join(has_family)\n",
    "        if self.features == \"hascabin\":\n",
    "            has_cabin = temp.Cabin.isna()\n",
    "            has_cabin = has_cabin.apply(lambda x: int(x))\n",
    "            has_cabin.name = \"HasCabin\"\n",
    "            temp = temp.drop('Cabin', axis=1).join(has_cabin)\n",
    "        if self.features == \"fullfamily\":\n",
    "            full_family = temp.Parch + temp.SibSp\n",
    "            full_family.name = \"FullFamily\"\n",
    "            temp = temp.join(full_family)\n",
    "        if self.features == \"agecategory\":\n",
    "            age_category = temp.Age.apply(lambda x: get_age_category(x))\n",
    "            age_category.name = \"AgeCategory\"\n",
    "            temp = temp.join(age_category)\n",
    "        if self.features == \"name\":\n",
    "            temp['Name'] = temp.Name.apply(lambda x: 'Master' if 'Master' in x\n",
    "                       else 'Miss' if 'Miss' in x\n",
    "                       else 'Sir' if 'Sir' in x\n",
    "                       else 'Dr' if 'Dr.' in x\n",
    "                       else 'Lady' if 'Lady.' in x\n",
    "                       else 'Mr' if 'Mr.' in x\n",
    "                       else 'Mrs' if 'Mrs.' in x\n",
    "                       else 'Other')\n",
    "            temp['NewName'] = temp['Name'].map(name_mapper)\n",
    "        return temp"
   ]
  },
  {
   "cell_type": "markdown",
   "id": "61a9175d",
   "metadata": {
    "papermill": {
     "duration": 0.164421,
     "end_time": "2022-01-08T10:16:01.580735",
     "exception": false,
     "start_time": "2022-01-08T10:16:01.416314",
     "status": "completed"
    },
    "tags": []
   },
   "source": [
    "### 9.1.6 Трансформеры для отбора признаков"
   ]
  },
  {
   "cell_type": "code",
   "execution_count": 77,
   "id": "5e8e7ff9",
   "metadata": {
    "execution": {
     "iopub.execute_input": "2022-01-08T10:16:01.922582Z",
     "iopub.status.busy": "2022-01-08T10:16:01.921856Z",
     "iopub.status.idle": "2022-01-08T10:16:01.928227Z",
     "shell.execute_reply": "2022-01-08T10:16:01.927724Z",
     "shell.execute_reply.started": "2022-01-08T09:20:30.059767Z"
    },
    "papermill": {
     "duration": 0.180572,
     "end_time": "2022-01-08T10:16:01.928370",
     "exception": false,
     "start_time": "2022-01-08T10:16:01.747798",
     "status": "completed"
    },
    "tags": []
   },
   "outputs": [],
   "source": [
    "from sklearn.linear_model import ElasticNet\n",
    "def ranking(ranks, names, order=1):\n",
    "    minmax = MinMaxScaler()\n",
    "    ranks = minmax.fit_transform(order*np.array([ranks]).T).T[0]\n",
    "    ranks = map(lambda x: round(x,2), ranks)\n",
    "    return dict(zip(names,ranks))\n",
    "\n",
    "class ChooseFeaturesTransformer(BaseEstimator, TransformerMixin):\n",
    "    def __init__(self, ranking=False):\n",
    "        self.ranking = ranking\n",
    "    #estimator method\n",
    "    def fit(self, X, y = None):\n",
    "        temp = X.copy()\n",
    "        temp = temp.select_dtypes(include=(int, float,'uint8'))\n",
    "        if self.ranking:\n",
    "            reg = ElasticNet(random_state=42)\n",
    "            reg.fit(temp, y)\n",
    "            colnames = temp.columns\n",
    "            rfe = RFE(reg)\n",
    "            rfe.fit(temp, y)\n",
    "            self.rfe_support = rfe.get_support()\n",
    "        return self\n",
    "    #transformation\n",
    "    def transform(self, X, y = None):\n",
    "        type(X)\n",
    "        temp = X.copy()\n",
    "        temp = temp.select_dtypes(include=(int, float,'uint8'))\n",
    "        if self.ranking:\n",
    "            origin_columns = temp.columns\n",
    "            for i in range(len(self.rfe_support)):\n",
    "                if not self.rfe_support[i]:\n",
    "                    temp = temp.drop(origin_columns[i], axis=1)\n",
    "        ranking_index = temp.columns\n",
    "        return temp"
   ]
  },
  {
   "cell_type": "markdown",
   "id": "8c429538",
   "metadata": {
    "papermill": {
     "duration": 0.164513,
     "end_time": "2022-01-08T10:16:02.257885",
     "exception": false,
     "start_time": "2022-01-08T10:16:02.093372",
     "status": "completed"
    },
    "tags": []
   },
   "source": [
    "## 9.2 Создание пайплайна"
   ]
  },
  {
   "cell_type": "markdown",
   "id": "4d754438",
   "metadata": {
    "papermill": {
     "duration": 0.163998,
     "end_time": "2022-01-08T10:16:02.586330",
     "exception": false,
     "start_time": "2022-01-08T10:16:02.422332",
     "status": "completed"
    },
    "tags": []
   },
   "source": [
    "Не смотря на то, что при baseline решении лучшую точность показала модель с деревом решении, решил добавить в пайплайн все три модели и разные гиперпараметры."
   ]
  },
  {
   "cell_type": "code",
   "execution_count": 78,
   "id": "913ab6bc",
   "metadata": {
    "execution": {
     "iopub.execute_input": "2022-01-08T10:16:02.922972Z",
     "iopub.status.busy": "2022-01-08T10:16:02.921931Z",
     "iopub.status.idle": "2022-01-08T11:16:13.444199Z",
     "shell.execute_reply": "2022-01-08T11:16:13.443566Z"
    },
    "papermill": {
     "duration": 3610.693086,
     "end_time": "2022-01-08T11:16:13.444402",
     "exception": false,
     "start_time": "2022-01-08T10:16:02.751316",
     "status": "completed"
    },
    "tags": []
   },
   "outputs": [
    {
     "name": "stdout",
     "output_type": "stream",
     "text": [
      "Fitting 5 folds for each of 18684 candidates, totalling 93420 fits\n"
     ]
    },
    {
     "name": "stderr",
     "output_type": "stream",
     "text": [
      "[Parallel(n_jobs=-1)]: Using backend LokyBackend with 4 concurrent workers.\n",
      "[Parallel(n_jobs=-1)]: Done  42 tasks      | elapsed:    4.0s\n",
      "[Parallel(n_jobs=-1)]: Done 192 tasks      | elapsed:   10.1s\n",
      "[Parallel(n_jobs=-1)]: Done 442 tasks      | elapsed:   19.9s\n",
      "[Parallel(n_jobs=-1)]: Done 792 tasks      | elapsed:   34.2s\n",
      "[Parallel(n_jobs=-1)]: Done 1242 tasks      | elapsed:   52.3s\n",
      "[Parallel(n_jobs=-1)]: Done 1792 tasks      | elapsed:  1.2min\n",
      "[Parallel(n_jobs=-1)]: Done 2442 tasks      | elapsed:  1.7min\n",
      "[Parallel(n_jobs=-1)]: Done 3192 tasks      | elapsed:  2.4min\n",
      "[Parallel(n_jobs=-1)]: Done 4042 tasks      | elapsed:  3.1min\n",
      "[Parallel(n_jobs=-1)]: Done 4992 tasks      | elapsed:  3.9min\n",
      "/opt/conda/lib/python3.7/site-packages/sklearn/linear_model/_sag.py:330: ConvergenceWarning: The max_iter was reached which means the coef_ did not converge\n",
      "  \"the coef_ did not converge\", ConvergenceWarning)\n",
      "/opt/conda/lib/python3.7/site-packages/sklearn/linear_model/_sag.py:330: ConvergenceWarning: The max_iter was reached which means the coef_ did not converge\n",
      "  \"the coef_ did not converge\", ConvergenceWarning)\n",
      "/opt/conda/lib/python3.7/site-packages/sklearn/linear_model/_sag.py:330: ConvergenceWarning: The max_iter was reached which means the coef_ did not converge\n",
      "  \"the coef_ did not converge\", ConvergenceWarning)\n",
      "/opt/conda/lib/python3.7/site-packages/sklearn/linear_model/_sag.py:330: ConvergenceWarning: The max_iter was reached which means the coef_ did not converge\n",
      "  \"the coef_ did not converge\", ConvergenceWarning)\n",
      "/opt/conda/lib/python3.7/site-packages/sklearn/linear_model/_sag.py:330: ConvergenceWarning: The max_iter was reached which means the coef_ did not converge\n",
      "  \"the coef_ did not converge\", ConvergenceWarning)\n",
      "/opt/conda/lib/python3.7/site-packages/sklearn/linear_model/_sag.py:330: ConvergenceWarning: The max_iter was reached which means the coef_ did not converge\n",
      "  \"the coef_ did not converge\", ConvergenceWarning)\n",
      "/opt/conda/lib/python3.7/site-packages/sklearn/linear_model/_sag.py:330: ConvergenceWarning: The max_iter was reached which means the coef_ did not converge\n",
      "  \"the coef_ did not converge\", ConvergenceWarning)\n",
      "/opt/conda/lib/python3.7/site-packages/sklearn/linear_model/_sag.py:330: ConvergenceWarning: The max_iter was reached which means the coef_ did not converge\n",
      "  \"the coef_ did not converge\", ConvergenceWarning)\n",
      "/opt/conda/lib/python3.7/site-packages/sklearn/linear_model/_sag.py:330: ConvergenceWarning: The max_iter was reached which means the coef_ did not converge\n",
      "  \"the coef_ did not converge\", ConvergenceWarning)\n",
      "/opt/conda/lib/python3.7/site-packages/sklearn/linear_model/_sag.py:330: ConvergenceWarning: The max_iter was reached which means the coef_ did not converge\n",
      "  \"the coef_ did not converge\", ConvergenceWarning)\n",
      "/opt/conda/lib/python3.7/site-packages/sklearn/linear_model/_sag.py:330: ConvergenceWarning: The max_iter was reached which means the coef_ did not converge\n",
      "  \"the coef_ did not converge\", ConvergenceWarning)\n",
      "/opt/conda/lib/python3.7/site-packages/sklearn/linear_model/_sag.py:330: ConvergenceWarning: The max_iter was reached which means the coef_ did not converge\n",
      "  \"the coef_ did not converge\", ConvergenceWarning)\n",
      "/opt/conda/lib/python3.7/site-packages/sklearn/linear_model/_sag.py:330: ConvergenceWarning: The max_iter was reached which means the coef_ did not converge\n",
      "  \"the coef_ did not converge\", ConvergenceWarning)\n",
      "/opt/conda/lib/python3.7/site-packages/sklearn/linear_model/_sag.py:330: ConvergenceWarning: The max_iter was reached which means the coef_ did not converge\n",
      "  \"the coef_ did not converge\", ConvergenceWarning)\n",
      "/opt/conda/lib/python3.7/site-packages/sklearn/linear_model/_sag.py:330: ConvergenceWarning: The max_iter was reached which means the coef_ did not converge\n",
      "  \"the coef_ did not converge\", ConvergenceWarning)\n",
      "/opt/conda/lib/python3.7/site-packages/sklearn/linear_model/_sag.py:330: ConvergenceWarning: The max_iter was reached which means the coef_ did not converge\n",
      "  \"the coef_ did not converge\", ConvergenceWarning)\n",
      "/opt/conda/lib/python3.7/site-packages/sklearn/linear_model/_sag.py:330: ConvergenceWarning: The max_iter was reached which means the coef_ did not converge\n",
      "  \"the coef_ did not converge\", ConvergenceWarning)\n",
      "/opt/conda/lib/python3.7/site-packages/sklearn/linear_model/_sag.py:330: ConvergenceWarning: The max_iter was reached which means the coef_ did not converge\n",
      "  \"the coef_ did not converge\", ConvergenceWarning)\n",
      "/opt/conda/lib/python3.7/site-packages/sklearn/linear_model/_sag.py:330: ConvergenceWarning: The max_iter was reached which means the coef_ did not converge\n",
      "  \"the coef_ did not converge\", ConvergenceWarning)\n",
      "/opt/conda/lib/python3.7/site-packages/sklearn/linear_model/_sag.py:330: ConvergenceWarning: The max_iter was reached which means the coef_ did not converge\n",
      "  \"the coef_ did not converge\", ConvergenceWarning)\n",
      "/opt/conda/lib/python3.7/site-packages/sklearn/linear_model/_sag.py:330: ConvergenceWarning: The max_iter was reached which means the coef_ did not converge\n",
      "  \"the coef_ did not converge\", ConvergenceWarning)\n",
      "/opt/conda/lib/python3.7/site-packages/sklearn/linear_model/_sag.py:330: ConvergenceWarning: The max_iter was reached which means the coef_ did not converge\n",
      "  \"the coef_ did not converge\", ConvergenceWarning)\n",
      "/opt/conda/lib/python3.7/site-packages/sklearn/linear_model/_sag.py:330: ConvergenceWarning: The max_iter was reached which means the coef_ did not converge\n",
      "  \"the coef_ did not converge\", ConvergenceWarning)\n",
      "/opt/conda/lib/python3.7/site-packages/sklearn/linear_model/_sag.py:330: ConvergenceWarning: The max_iter was reached which means the coef_ did not converge\n",
      "  \"the coef_ did not converge\", ConvergenceWarning)\n",
      "/opt/conda/lib/python3.7/site-packages/sklearn/linear_model/_sag.py:330: ConvergenceWarning: The max_iter was reached which means the coef_ did not converge\n",
      "  \"the coef_ did not converge\", ConvergenceWarning)\n",
      "/opt/conda/lib/python3.7/site-packages/sklearn/linear_model/_sag.py:330: ConvergenceWarning: The max_iter was reached which means the coef_ did not converge\n",
      "  \"the coef_ did not converge\", ConvergenceWarning)\n",
      "/opt/conda/lib/python3.7/site-packages/sklearn/linear_model/_sag.py:330: ConvergenceWarning: The max_iter was reached which means the coef_ did not converge\n",
      "  \"the coef_ did not converge\", ConvergenceWarning)\n",
      "/opt/conda/lib/python3.7/site-packages/sklearn/linear_model/_sag.py:330: ConvergenceWarning: The max_iter was reached which means the coef_ did not converge\n",
      "  \"the coef_ did not converge\", ConvergenceWarning)\n",
      "/opt/conda/lib/python3.7/site-packages/sklearn/linear_model/_sag.py:330: ConvergenceWarning: The max_iter was reached which means the coef_ did not converge\n",
      "  \"the coef_ did not converge\", ConvergenceWarning)\n",
      "/opt/conda/lib/python3.7/site-packages/sklearn/linear_model/_sag.py:330: ConvergenceWarning: The max_iter was reached which means the coef_ did not converge\n",
      "  \"the coef_ did not converge\", ConvergenceWarning)\n",
      "/opt/conda/lib/python3.7/site-packages/sklearn/linear_model/_sag.py:330: ConvergenceWarning: The max_iter was reached which means the coef_ did not converge\n",
      "  \"the coef_ did not converge\", ConvergenceWarning)\n",
      "/opt/conda/lib/python3.7/site-packages/sklearn/linear_model/_sag.py:330: ConvergenceWarning: The max_iter was reached which means the coef_ did not converge\n",
      "  \"the coef_ did not converge\", ConvergenceWarning)\n",
      "/opt/conda/lib/python3.7/site-packages/sklearn/linear_model/_sag.py:330: ConvergenceWarning: The max_iter was reached which means the coef_ did not converge\n",
      "  \"the coef_ did not converge\", ConvergenceWarning)\n",
      "/opt/conda/lib/python3.7/site-packages/sklearn/linear_model/_sag.py:330: ConvergenceWarning: The max_iter was reached which means the coef_ did not converge\n",
      "  \"the coef_ did not converge\", ConvergenceWarning)\n",
      "/opt/conda/lib/python3.7/site-packages/sklearn/linear_model/_sag.py:330: ConvergenceWarning: The max_iter was reached which means the coef_ did not converge\n",
      "  \"the coef_ did not converge\", ConvergenceWarning)\n",
      "/opt/conda/lib/python3.7/site-packages/sklearn/linear_model/_sag.py:330: ConvergenceWarning: The max_iter was reached which means the coef_ did not converge\n",
      "  \"the coef_ did not converge\", ConvergenceWarning)\n",
      "/opt/conda/lib/python3.7/site-packages/sklearn/linear_model/_sag.py:330: ConvergenceWarning: The max_iter was reached which means the coef_ did not converge\n",
      "  \"the coef_ did not converge\", ConvergenceWarning)\n",
      "/opt/conda/lib/python3.7/site-packages/sklearn/linear_model/_sag.py:330: ConvergenceWarning: The max_iter was reached which means the coef_ did not converge\n",
      "  \"the coef_ did not converge\", ConvergenceWarning)\n",
      "/opt/conda/lib/python3.7/site-packages/sklearn/linear_model/_sag.py:330: ConvergenceWarning: The max_iter was reached which means the coef_ did not converge\n",
      "  \"the coef_ did not converge\", ConvergenceWarning)\n",
      "/opt/conda/lib/python3.7/site-packages/sklearn/linear_model/_sag.py:330: ConvergenceWarning: The max_iter was reached which means the coef_ did not converge\n",
      "  \"the coef_ did not converge\", ConvergenceWarning)\n",
      "/opt/conda/lib/python3.7/site-packages/sklearn/linear_model/_sag.py:330: ConvergenceWarning: The max_iter was reached which means the coef_ did not converge\n",
      "  \"the coef_ did not converge\", ConvergenceWarning)\n",
      "/opt/conda/lib/python3.7/site-packages/sklearn/linear_model/_sag.py:330: ConvergenceWarning: The max_iter was reached which means the coef_ did not converge\n",
      "  \"the coef_ did not converge\", ConvergenceWarning)\n",
      "/opt/conda/lib/python3.7/site-packages/sklearn/linear_model/_sag.py:330: ConvergenceWarning: The max_iter was reached which means the coef_ did not converge\n",
      "  \"the coef_ did not converge\", ConvergenceWarning)\n",
      "/opt/conda/lib/python3.7/site-packages/sklearn/linear_model/_sag.py:330: ConvergenceWarning: The max_iter was reached which means the coef_ did not converge\n",
      "  \"the coef_ did not converge\", ConvergenceWarning)\n",
      "/opt/conda/lib/python3.7/site-packages/sklearn/linear_model/_sag.py:330: ConvergenceWarning: The max_iter was reached which means the coef_ did not converge\n",
      "  \"the coef_ did not converge\", ConvergenceWarning)\n",
      "/opt/conda/lib/python3.7/site-packages/sklearn/linear_model/_sag.py:330: ConvergenceWarning: The max_iter was reached which means the coef_ did not converge\n",
      "  \"the coef_ did not converge\", ConvergenceWarning)\n",
      "/opt/conda/lib/python3.7/site-packages/sklearn/linear_model/_sag.py:330: ConvergenceWarning: The max_iter was reached which means the coef_ did not converge\n",
      "  \"the coef_ did not converge\", ConvergenceWarning)\n",
      "/opt/conda/lib/python3.7/site-packages/sklearn/linear_model/_sag.py:330: ConvergenceWarning: The max_iter was reached which means the coef_ did not converge\n",
      "  \"the coef_ did not converge\", ConvergenceWarning)\n",
      "/opt/conda/lib/python3.7/site-packages/sklearn/linear_model/_sag.py:330: ConvergenceWarning: The max_iter was reached which means the coef_ did not converge\n",
      "  \"the coef_ did not converge\", ConvergenceWarning)\n",
      "/opt/conda/lib/python3.7/site-packages/sklearn/linear_model/_sag.py:330: ConvergenceWarning: The max_iter was reached which means the coef_ did not converge\n",
      "  \"the coef_ did not converge\", ConvergenceWarning)\n",
      "/opt/conda/lib/python3.7/site-packages/sklearn/linear_model/_sag.py:330: ConvergenceWarning: The max_iter was reached which means the coef_ did not converge\n",
      "  \"the coef_ did not converge\", ConvergenceWarning)\n",
      "/opt/conda/lib/python3.7/site-packages/sklearn/linear_model/_sag.py:330: ConvergenceWarning: The max_iter was reached which means the coef_ did not converge\n",
      "  \"the coef_ did not converge\", ConvergenceWarning)\n",
      "/opt/conda/lib/python3.7/site-packages/sklearn/linear_model/_sag.py:330: ConvergenceWarning: The max_iter was reached which means the coef_ did not converge\n",
      "  \"the coef_ did not converge\", ConvergenceWarning)\n",
      "/opt/conda/lib/python3.7/site-packages/sklearn/linear_model/_sag.py:330: ConvergenceWarning: The max_iter was reached which means the coef_ did not converge\n",
      "  \"the coef_ did not converge\", ConvergenceWarning)\n",
      "/opt/conda/lib/python3.7/site-packages/sklearn/linear_model/_sag.py:330: ConvergenceWarning: The max_iter was reached which means the coef_ did not converge\n",
      "  \"the coef_ did not converge\", ConvergenceWarning)\n",
      "/opt/conda/lib/python3.7/site-packages/sklearn/linear_model/_sag.py:330: ConvergenceWarning: The max_iter was reached which means the coef_ did not converge\n",
      "  \"the coef_ did not converge\", ConvergenceWarning)\n",
      "/opt/conda/lib/python3.7/site-packages/sklearn/linear_model/_sag.py:330: ConvergenceWarning: The max_iter was reached which means the coef_ did not converge\n",
      "  \"the coef_ did not converge\", ConvergenceWarning)\n",
      "/opt/conda/lib/python3.7/site-packages/sklearn/linear_model/_sag.py:330: ConvergenceWarning: The max_iter was reached which means the coef_ did not converge\n",
      "  \"the coef_ did not converge\", ConvergenceWarning)\n",
      "/opt/conda/lib/python3.7/site-packages/sklearn/linear_model/_sag.py:330: ConvergenceWarning: The max_iter was reached which means the coef_ did not converge\n",
      "  \"the coef_ did not converge\", ConvergenceWarning)\n",
      "/opt/conda/lib/python3.7/site-packages/sklearn/linear_model/_sag.py:330: ConvergenceWarning: The max_iter was reached which means the coef_ did not converge\n",
      "  \"the coef_ did not converge\", ConvergenceWarning)\n",
      "/opt/conda/lib/python3.7/site-packages/sklearn/linear_model/_sag.py:330: ConvergenceWarning: The max_iter was reached which means the coef_ did not converge\n",
      "  \"the coef_ did not converge\", ConvergenceWarning)\n",
      "/opt/conda/lib/python3.7/site-packages/sklearn/linear_model/_sag.py:330: ConvergenceWarning: The max_iter was reached which means the coef_ did not converge\n",
      "  \"the coef_ did not converge\", ConvergenceWarning)\n",
      "/opt/conda/lib/python3.7/site-packages/sklearn/linear_model/_sag.py:330: ConvergenceWarning: The max_iter was reached which means the coef_ did not converge\n",
      "  \"the coef_ did not converge\", ConvergenceWarning)\n",
      "/opt/conda/lib/python3.7/site-packages/sklearn/linear_model/_sag.py:330: ConvergenceWarning: The max_iter was reached which means the coef_ did not converge\n",
      "  \"the coef_ did not converge\", ConvergenceWarning)\n",
      "/opt/conda/lib/python3.7/site-packages/sklearn/linear_model/_sag.py:330: ConvergenceWarning: The max_iter was reached which means the coef_ did not converge\n",
      "  \"the coef_ did not converge\", ConvergenceWarning)\n",
      "/opt/conda/lib/python3.7/site-packages/sklearn/linear_model/_sag.py:330: ConvergenceWarning: The max_iter was reached which means the coef_ did not converge\n",
      "  \"the coef_ did not converge\", ConvergenceWarning)\n",
      "/opt/conda/lib/python3.7/site-packages/sklearn/linear_model/_sag.py:330: ConvergenceWarning: The max_iter was reached which means the coef_ did not converge\n",
      "  \"the coef_ did not converge\", ConvergenceWarning)\n",
      "/opt/conda/lib/python3.7/site-packages/sklearn/linear_model/_sag.py:330: ConvergenceWarning: The max_iter was reached which means the coef_ did not converge\n",
      "  \"the coef_ did not converge\", ConvergenceWarning)\n",
      "/opt/conda/lib/python3.7/site-packages/sklearn/linear_model/_sag.py:330: ConvergenceWarning: The max_iter was reached which means the coef_ did not converge\n",
      "  \"the coef_ did not converge\", ConvergenceWarning)\n",
      "/opt/conda/lib/python3.7/site-packages/sklearn/linear_model/_sag.py:330: ConvergenceWarning: The max_iter was reached which means the coef_ did not converge\n",
      "  \"the coef_ did not converge\", ConvergenceWarning)\n",
      "/opt/conda/lib/python3.7/site-packages/sklearn/linear_model/_sag.py:330: ConvergenceWarning: The max_iter was reached which means the coef_ did not converge\n",
      "  \"the coef_ did not converge\", ConvergenceWarning)\n",
      "/opt/conda/lib/python3.7/site-packages/sklearn/linear_model/_sag.py:330: ConvergenceWarning: The max_iter was reached which means the coef_ did not converge\n",
      "  \"the coef_ did not converge\", ConvergenceWarning)\n",
      "/opt/conda/lib/python3.7/site-packages/sklearn/linear_model/_sag.py:330: ConvergenceWarning: The max_iter was reached which means the coef_ did not converge\n",
      "  \"the coef_ did not converge\", ConvergenceWarning)\n",
      "/opt/conda/lib/python3.7/site-packages/sklearn/linear_model/_sag.py:330: ConvergenceWarning: The max_iter was reached which means the coef_ did not converge\n",
      "  \"the coef_ did not converge\", ConvergenceWarning)\n",
      "/opt/conda/lib/python3.7/site-packages/sklearn/linear_model/_sag.py:330: ConvergenceWarning: The max_iter was reached which means the coef_ did not converge\n",
      "  \"the coef_ did not converge\", ConvergenceWarning)\n",
      "/opt/conda/lib/python3.7/site-packages/sklearn/linear_model/_sag.py:330: ConvergenceWarning: The max_iter was reached which means the coef_ did not converge\n",
      "  \"the coef_ did not converge\", ConvergenceWarning)\n",
      "/opt/conda/lib/python3.7/site-packages/sklearn/linear_model/_sag.py:330: ConvergenceWarning: The max_iter was reached which means the coef_ did not converge\n",
      "  \"the coef_ did not converge\", ConvergenceWarning)\n",
      "/opt/conda/lib/python3.7/site-packages/sklearn/linear_model/_sag.py:330: ConvergenceWarning: The max_iter was reached which means the coef_ did not converge\n",
      "  \"the coef_ did not converge\", ConvergenceWarning)\n",
      "/opt/conda/lib/python3.7/site-packages/sklearn/linear_model/_sag.py:330: ConvergenceWarning: The max_iter was reached which means the coef_ did not converge\n",
      "  \"the coef_ did not converge\", ConvergenceWarning)\n",
      "/opt/conda/lib/python3.7/site-packages/sklearn/linear_model/_sag.py:330: ConvergenceWarning: The max_iter was reached which means the coef_ did not converge\n",
      "  \"the coef_ did not converge\", ConvergenceWarning)\n",
      "/opt/conda/lib/python3.7/site-packages/sklearn/linear_model/_sag.py:330: ConvergenceWarning: The max_iter was reached which means the coef_ did not converge\n",
      "  \"the coef_ did not converge\", ConvergenceWarning)\n",
      "/opt/conda/lib/python3.7/site-packages/sklearn/linear_model/_sag.py:330: ConvergenceWarning: The max_iter was reached which means the coef_ did not converge\n",
      "  \"the coef_ did not converge\", ConvergenceWarning)\n",
      "/opt/conda/lib/python3.7/site-packages/sklearn/linear_model/_sag.py:330: ConvergenceWarning: The max_iter was reached which means the coef_ did not converge\n",
      "  \"the coef_ did not converge\", ConvergenceWarning)\n",
      "/opt/conda/lib/python3.7/site-packages/sklearn/linear_model/_sag.py:330: ConvergenceWarning: The max_iter was reached which means the coef_ did not converge\n",
      "  \"the coef_ did not converge\", ConvergenceWarning)\n",
      "/opt/conda/lib/python3.7/site-packages/sklearn/linear_model/_sag.py:330: ConvergenceWarning: The max_iter was reached which means the coef_ did not converge\n",
      "  \"the coef_ did not converge\", ConvergenceWarning)\n",
      "/opt/conda/lib/python3.7/site-packages/sklearn/linear_model/_sag.py:330: ConvergenceWarning: The max_iter was reached which means the coef_ did not converge\n",
      "  \"the coef_ did not converge\", ConvergenceWarning)\n",
      "/opt/conda/lib/python3.7/site-packages/sklearn/linear_model/_sag.py:330: ConvergenceWarning: The max_iter was reached which means the coef_ did not converge\n",
      "  \"the coef_ did not converge\", ConvergenceWarning)\n",
      "/opt/conda/lib/python3.7/site-packages/sklearn/linear_model/_sag.py:330: ConvergenceWarning: The max_iter was reached which means the coef_ did not converge\n",
      "  \"the coef_ did not converge\", ConvergenceWarning)\n",
      "/opt/conda/lib/python3.7/site-packages/sklearn/linear_model/_sag.py:330: ConvergenceWarning: The max_iter was reached which means the coef_ did not converge\n",
      "  \"the coef_ did not converge\", ConvergenceWarning)\n",
      "/opt/conda/lib/python3.7/site-packages/sklearn/linear_model/_sag.py:330: ConvergenceWarning: The max_iter was reached which means the coef_ did not converge\n",
      "  \"the coef_ did not converge\", ConvergenceWarning)\n",
      "/opt/conda/lib/python3.7/site-packages/sklearn/linear_model/_sag.py:330: ConvergenceWarning: The max_iter was reached which means the coef_ did not converge\n",
      "  \"the coef_ did not converge\", ConvergenceWarning)\n",
      "/opt/conda/lib/python3.7/site-packages/sklearn/linear_model/_sag.py:330: ConvergenceWarning: The max_iter was reached which means the coef_ did not converge\n",
      "  \"the coef_ did not converge\", ConvergenceWarning)\n",
      "/opt/conda/lib/python3.7/site-packages/sklearn/linear_model/_sag.py:330: ConvergenceWarning: The max_iter was reached which means the coef_ did not converge\n",
      "  \"the coef_ did not converge\", ConvergenceWarning)\n",
      "/opt/conda/lib/python3.7/site-packages/sklearn/linear_model/_sag.py:330: ConvergenceWarning: The max_iter was reached which means the coef_ did not converge\n",
      "  \"the coef_ did not converge\", ConvergenceWarning)\n",
      "/opt/conda/lib/python3.7/site-packages/sklearn/linear_model/_sag.py:330: ConvergenceWarning: The max_iter was reached which means the coef_ did not converge\n",
      "  \"the coef_ did not converge\", ConvergenceWarning)\n",
      "/opt/conda/lib/python3.7/site-packages/sklearn/linear_model/_sag.py:330: ConvergenceWarning: The max_iter was reached which means the coef_ did not converge\n",
      "  \"the coef_ did not converge\", ConvergenceWarning)\n",
      "/opt/conda/lib/python3.7/site-packages/sklearn/linear_model/_sag.py:330: ConvergenceWarning: The max_iter was reached which means the coef_ did not converge\n",
      "  \"the coef_ did not converge\", ConvergenceWarning)\n",
      "/opt/conda/lib/python3.7/site-packages/sklearn/linear_model/_sag.py:330: ConvergenceWarning: The max_iter was reached which means the coef_ did not converge\n",
      "  \"the coef_ did not converge\", ConvergenceWarning)\n",
      "/opt/conda/lib/python3.7/site-packages/sklearn/linear_model/_sag.py:330: ConvergenceWarning: The max_iter was reached which means the coef_ did not converge\n",
      "  \"the coef_ did not converge\", ConvergenceWarning)\n",
      "/opt/conda/lib/python3.7/site-packages/sklearn/linear_model/_sag.py:330: ConvergenceWarning: The max_iter was reached which means the coef_ did not converge\n",
      "  \"the coef_ did not converge\", ConvergenceWarning)\n",
      "/opt/conda/lib/python3.7/site-packages/sklearn/linear_model/_sag.py:330: ConvergenceWarning: The max_iter was reached which means the coef_ did not converge\n",
      "  \"the coef_ did not converge\", ConvergenceWarning)\n",
      "/opt/conda/lib/python3.7/site-packages/sklearn/linear_model/_sag.py:330: ConvergenceWarning: The max_iter was reached which means the coef_ did not converge\n",
      "  \"the coef_ did not converge\", ConvergenceWarning)\n",
      "/opt/conda/lib/python3.7/site-packages/sklearn/linear_model/_sag.py:330: ConvergenceWarning: The max_iter was reached which means the coef_ did not converge\n",
      "  \"the coef_ did not converge\", ConvergenceWarning)\n",
      "/opt/conda/lib/python3.7/site-packages/sklearn/linear_model/_sag.py:330: ConvergenceWarning: The max_iter was reached which means the coef_ did not converge\n",
      "  \"the coef_ did not converge\", ConvergenceWarning)\n",
      "/opt/conda/lib/python3.7/site-packages/sklearn/linear_model/_sag.py:330: ConvergenceWarning: The max_iter was reached which means the coef_ did not converge\n",
      "  \"the coef_ did not converge\", ConvergenceWarning)\n",
      "/opt/conda/lib/python3.7/site-packages/sklearn/linear_model/_sag.py:330: ConvergenceWarning: The max_iter was reached which means the coef_ did not converge\n",
      "  \"the coef_ did not converge\", ConvergenceWarning)\n",
      "/opt/conda/lib/python3.7/site-packages/sklearn/linear_model/_sag.py:330: ConvergenceWarning: The max_iter was reached which means the coef_ did not converge\n",
      "  \"the coef_ did not converge\", ConvergenceWarning)\n",
      "/opt/conda/lib/python3.7/site-packages/sklearn/linear_model/_sag.py:330: ConvergenceWarning: The max_iter was reached which means the coef_ did not converge\n",
      "  \"the coef_ did not converge\", ConvergenceWarning)\n",
      "/opt/conda/lib/python3.7/site-packages/sklearn/linear_model/_sag.py:330: ConvergenceWarning: The max_iter was reached which means the coef_ did not converge\n",
      "  \"the coef_ did not converge\", ConvergenceWarning)\n",
      "/opt/conda/lib/python3.7/site-packages/sklearn/linear_model/_sag.py:330: ConvergenceWarning: The max_iter was reached which means the coef_ did not converge\n",
      "  \"the coef_ did not converge\", ConvergenceWarning)\n",
      "/opt/conda/lib/python3.7/site-packages/sklearn/linear_model/_sag.py:330: ConvergenceWarning: The max_iter was reached which means the coef_ did not converge\n",
      "  \"the coef_ did not converge\", ConvergenceWarning)\n",
      "/opt/conda/lib/python3.7/site-packages/sklearn/linear_model/_sag.py:330: ConvergenceWarning: The max_iter was reached which means the coef_ did not converge\n",
      "  \"the coef_ did not converge\", ConvergenceWarning)\n",
      "/opt/conda/lib/python3.7/site-packages/sklearn/linear_model/_sag.py:330: ConvergenceWarning: The max_iter was reached which means the coef_ did not converge\n",
      "  \"the coef_ did not converge\", ConvergenceWarning)\n",
      "/opt/conda/lib/python3.7/site-packages/sklearn/linear_model/_sag.py:330: ConvergenceWarning: The max_iter was reached which means the coef_ did not converge\n",
      "  \"the coef_ did not converge\", ConvergenceWarning)\n",
      "/opt/conda/lib/python3.7/site-packages/sklearn/linear_model/_sag.py:330: ConvergenceWarning: The max_iter was reached which means the coef_ did not converge\n",
      "  \"the coef_ did not converge\", ConvergenceWarning)\n",
      "/opt/conda/lib/python3.7/site-packages/sklearn/linear_model/_sag.py:330: ConvergenceWarning: The max_iter was reached which means the coef_ did not converge\n",
      "  \"the coef_ did not converge\", ConvergenceWarning)\n",
      "/opt/conda/lib/python3.7/site-packages/sklearn/linear_model/_sag.py:330: ConvergenceWarning: The max_iter was reached which means the coef_ did not converge\n",
      "  \"the coef_ did not converge\", ConvergenceWarning)\n",
      "/opt/conda/lib/python3.7/site-packages/sklearn/linear_model/_sag.py:330: ConvergenceWarning: The max_iter was reached which means the coef_ did not converge\n",
      "  \"the coef_ did not converge\", ConvergenceWarning)\n",
      "/opt/conda/lib/python3.7/site-packages/sklearn/linear_model/_sag.py:330: ConvergenceWarning: The max_iter was reached which means the coef_ did not converge\n",
      "  \"the coef_ did not converge\", ConvergenceWarning)\n",
      "/opt/conda/lib/python3.7/site-packages/sklearn/linear_model/_sag.py:330: ConvergenceWarning: The max_iter was reached which means the coef_ did not converge\n",
      "  \"the coef_ did not converge\", ConvergenceWarning)\n",
      "/opt/conda/lib/python3.7/site-packages/sklearn/linear_model/_sag.py:330: ConvergenceWarning: The max_iter was reached which means the coef_ did not converge\n",
      "  \"the coef_ did not converge\", ConvergenceWarning)\n",
      "/opt/conda/lib/python3.7/site-packages/sklearn/linear_model/_sag.py:330: ConvergenceWarning: The max_iter was reached which means the coef_ did not converge\n",
      "  \"the coef_ did not converge\", ConvergenceWarning)\n",
      "/opt/conda/lib/python3.7/site-packages/sklearn/linear_model/_sag.py:330: ConvergenceWarning: The max_iter was reached which means the coef_ did not converge\n",
      "  \"the coef_ did not converge\", ConvergenceWarning)\n",
      "/opt/conda/lib/python3.7/site-packages/sklearn/linear_model/_sag.py:330: ConvergenceWarning: The max_iter was reached which means the coef_ did not converge\n",
      "  \"the coef_ did not converge\", ConvergenceWarning)\n",
      "/opt/conda/lib/python3.7/site-packages/sklearn/linear_model/_sag.py:330: ConvergenceWarning: The max_iter was reached which means the coef_ did not converge\n",
      "  \"the coef_ did not converge\", ConvergenceWarning)\n",
      "/opt/conda/lib/python3.7/site-packages/sklearn/linear_model/_sag.py:330: ConvergenceWarning: The max_iter was reached which means the coef_ did not converge\n",
      "  \"the coef_ did not converge\", ConvergenceWarning)\n",
      "/opt/conda/lib/python3.7/site-packages/sklearn/linear_model/_sag.py:330: ConvergenceWarning: The max_iter was reached which means the coef_ did not converge\n",
      "  \"the coef_ did not converge\", ConvergenceWarning)\n",
      "/opt/conda/lib/python3.7/site-packages/sklearn/linear_model/_sag.py:330: ConvergenceWarning: The max_iter was reached which means the coef_ did not converge\n",
      "  \"the coef_ did not converge\", ConvergenceWarning)\n",
      "/opt/conda/lib/python3.7/site-packages/sklearn/linear_model/_sag.py:330: ConvergenceWarning: The max_iter was reached which means the coef_ did not converge\n",
      "  \"the coef_ did not converge\", ConvergenceWarning)\n",
      "/opt/conda/lib/python3.7/site-packages/sklearn/linear_model/_sag.py:330: ConvergenceWarning: The max_iter was reached which means the coef_ did not converge\n",
      "  \"the coef_ did not converge\", ConvergenceWarning)\n",
      "/opt/conda/lib/python3.7/site-packages/sklearn/linear_model/_sag.py:330: ConvergenceWarning: The max_iter was reached which means the coef_ did not converge\n",
      "  \"the coef_ did not converge\", ConvergenceWarning)\n",
      "/opt/conda/lib/python3.7/site-packages/sklearn/linear_model/_sag.py:330: ConvergenceWarning: The max_iter was reached which means the coef_ did not converge\n",
      "  \"the coef_ did not converge\", ConvergenceWarning)\n",
      "/opt/conda/lib/python3.7/site-packages/sklearn/linear_model/_sag.py:330: ConvergenceWarning: The max_iter was reached which means the coef_ did not converge\n",
      "  \"the coef_ did not converge\", ConvergenceWarning)\n",
      "/opt/conda/lib/python3.7/site-packages/sklearn/linear_model/_sag.py:330: ConvergenceWarning: The max_iter was reached which means the coef_ did not converge\n",
      "  \"the coef_ did not converge\", ConvergenceWarning)\n",
      "/opt/conda/lib/python3.7/site-packages/sklearn/linear_model/_sag.py:330: ConvergenceWarning: The max_iter was reached which means the coef_ did not converge\n",
      "  \"the coef_ did not converge\", ConvergenceWarning)\n",
      "/opt/conda/lib/python3.7/site-packages/sklearn/linear_model/_sag.py:330: ConvergenceWarning: The max_iter was reached which means the coef_ did not converge\n",
      "  \"the coef_ did not converge\", ConvergenceWarning)\n",
      "/opt/conda/lib/python3.7/site-packages/sklearn/linear_model/_sag.py:330: ConvergenceWarning: The max_iter was reached which means the coef_ did not converge\n",
      "  \"the coef_ did not converge\", ConvergenceWarning)\n",
      "/opt/conda/lib/python3.7/site-packages/sklearn/linear_model/_sag.py:330: ConvergenceWarning: The max_iter was reached which means the coef_ did not converge\n",
      "  \"the coef_ did not converge\", ConvergenceWarning)\n",
      "/opt/conda/lib/python3.7/site-packages/sklearn/linear_model/_sag.py:330: ConvergenceWarning: The max_iter was reached which means the coef_ did not converge\n",
      "  \"the coef_ did not converge\", ConvergenceWarning)\n",
      "/opt/conda/lib/python3.7/site-packages/sklearn/linear_model/_sag.py:330: ConvergenceWarning: The max_iter was reached which means the coef_ did not converge\n",
      "  \"the coef_ did not converge\", ConvergenceWarning)\n",
      "/opt/conda/lib/python3.7/site-packages/sklearn/linear_model/_sag.py:330: ConvergenceWarning: The max_iter was reached which means the coef_ did not converge\n",
      "  \"the coef_ did not converge\", ConvergenceWarning)\n",
      "/opt/conda/lib/python3.7/site-packages/sklearn/linear_model/_sag.py:330: ConvergenceWarning: The max_iter was reached which means the coef_ did not converge\n",
      "  \"the coef_ did not converge\", ConvergenceWarning)\n",
      "/opt/conda/lib/python3.7/site-packages/sklearn/linear_model/_sag.py:330: ConvergenceWarning: The max_iter was reached which means the coef_ did not converge\n",
      "  \"the coef_ did not converge\", ConvergenceWarning)\n",
      "/opt/conda/lib/python3.7/site-packages/sklearn/linear_model/_sag.py:330: ConvergenceWarning: The max_iter was reached which means the coef_ did not converge\n",
      "  \"the coef_ did not converge\", ConvergenceWarning)\n",
      "/opt/conda/lib/python3.7/site-packages/sklearn/linear_model/_sag.py:330: ConvergenceWarning: The max_iter was reached which means the coef_ did not converge\n",
      "  \"the coef_ did not converge\", ConvergenceWarning)\n",
      "/opt/conda/lib/python3.7/site-packages/sklearn/linear_model/_sag.py:330: ConvergenceWarning: The max_iter was reached which means the coef_ did not converge\n",
      "  \"the coef_ did not converge\", ConvergenceWarning)\n",
      "/opt/conda/lib/python3.7/site-packages/sklearn/linear_model/_sag.py:330: ConvergenceWarning: The max_iter was reached which means the coef_ did not converge\n",
      "  \"the coef_ did not converge\", ConvergenceWarning)\n",
      "/opt/conda/lib/python3.7/site-packages/sklearn/linear_model/_sag.py:330: ConvergenceWarning: The max_iter was reached which means the coef_ did not converge\n",
      "  \"the coef_ did not converge\", ConvergenceWarning)\n",
      "/opt/conda/lib/python3.7/site-packages/sklearn/linear_model/_sag.py:330: ConvergenceWarning: The max_iter was reached which means the coef_ did not converge\n",
      "  \"the coef_ did not converge\", ConvergenceWarning)\n",
      "/opt/conda/lib/python3.7/site-packages/sklearn/linear_model/_sag.py:330: ConvergenceWarning: The max_iter was reached which means the coef_ did not converge\n",
      "  \"the coef_ did not converge\", ConvergenceWarning)\n",
      "/opt/conda/lib/python3.7/site-packages/sklearn/linear_model/_sag.py:330: ConvergenceWarning: The max_iter was reached which means the coef_ did not converge\n",
      "  \"the coef_ did not converge\", ConvergenceWarning)\n",
      "/opt/conda/lib/python3.7/site-packages/sklearn/linear_model/_sag.py:330: ConvergenceWarning: The max_iter was reached which means the coef_ did not converge\n",
      "  \"the coef_ did not converge\", ConvergenceWarning)\n",
      "/opt/conda/lib/python3.7/site-packages/sklearn/linear_model/_sag.py:330: ConvergenceWarning: The max_iter was reached which means the coef_ did not converge\n",
      "  \"the coef_ did not converge\", ConvergenceWarning)\n",
      "/opt/conda/lib/python3.7/site-packages/sklearn/linear_model/_sag.py:330: ConvergenceWarning: The max_iter was reached which means the coef_ did not converge\n",
      "  \"the coef_ did not converge\", ConvergenceWarning)\n",
      "/opt/conda/lib/python3.7/site-packages/sklearn/linear_model/_sag.py:330: ConvergenceWarning: The max_iter was reached which means the coef_ did not converge\n",
      "  \"the coef_ did not converge\", ConvergenceWarning)\n",
      "/opt/conda/lib/python3.7/site-packages/sklearn/linear_model/_sag.py:330: ConvergenceWarning: The max_iter was reached which means the coef_ did not converge\n",
      "  \"the coef_ did not converge\", ConvergenceWarning)\n",
      "/opt/conda/lib/python3.7/site-packages/sklearn/linear_model/_sag.py:330: ConvergenceWarning: The max_iter was reached which means the coef_ did not converge\n",
      "  \"the coef_ did not converge\", ConvergenceWarning)\n",
      "/opt/conda/lib/python3.7/site-packages/sklearn/linear_model/_sag.py:330: ConvergenceWarning: The max_iter was reached which means the coef_ did not converge\n",
      "  \"the coef_ did not converge\", ConvergenceWarning)\n",
      "/opt/conda/lib/python3.7/site-packages/sklearn/linear_model/_sag.py:330: ConvergenceWarning: The max_iter was reached which means the coef_ did not converge\n",
      "  \"the coef_ did not converge\", ConvergenceWarning)\n",
      "/opt/conda/lib/python3.7/site-packages/sklearn/linear_model/_sag.py:330: ConvergenceWarning: The max_iter was reached which means the coef_ did not converge\n",
      "  \"the coef_ did not converge\", ConvergenceWarning)\n",
      "/opt/conda/lib/python3.7/site-packages/sklearn/linear_model/_sag.py:330: ConvergenceWarning: The max_iter was reached which means the coef_ did not converge\n",
      "  \"the coef_ did not converge\", ConvergenceWarning)\n",
      "/opt/conda/lib/python3.7/site-packages/sklearn/linear_model/_sag.py:330: ConvergenceWarning: The max_iter was reached which means the coef_ did not converge\n",
      "  \"the coef_ did not converge\", ConvergenceWarning)\n",
      "/opt/conda/lib/python3.7/site-packages/sklearn/linear_model/_sag.py:330: ConvergenceWarning: The max_iter was reached which means the coef_ did not converge\n",
      "  \"the coef_ did not converge\", ConvergenceWarning)\n",
      "/opt/conda/lib/python3.7/site-packages/sklearn/linear_model/_sag.py:330: ConvergenceWarning: The max_iter was reached which means the coef_ did not converge\n",
      "  \"the coef_ did not converge\", ConvergenceWarning)\n",
      "/opt/conda/lib/python3.7/site-packages/sklearn/linear_model/_sag.py:330: ConvergenceWarning: The max_iter was reached which means the coef_ did not converge\n",
      "  \"the coef_ did not converge\", ConvergenceWarning)\n",
      "/opt/conda/lib/python3.7/site-packages/sklearn/linear_model/_sag.py:330: ConvergenceWarning: The max_iter was reached which means the coef_ did not converge\n",
      "  \"the coef_ did not converge\", ConvergenceWarning)\n",
      "/opt/conda/lib/python3.7/site-packages/sklearn/linear_model/_sag.py:330: ConvergenceWarning: The max_iter was reached which means the coef_ did not converge\n",
      "  \"the coef_ did not converge\", ConvergenceWarning)\n",
      "/opt/conda/lib/python3.7/site-packages/sklearn/linear_model/_sag.py:330: ConvergenceWarning: The max_iter was reached which means the coef_ did not converge\n",
      "  \"the coef_ did not converge\", ConvergenceWarning)\n",
      "/opt/conda/lib/python3.7/site-packages/sklearn/linear_model/_sag.py:330: ConvergenceWarning: The max_iter was reached which means the coef_ did not converge\n",
      "  \"the coef_ did not converge\", ConvergenceWarning)\n",
      "/opt/conda/lib/python3.7/site-packages/sklearn/linear_model/_sag.py:330: ConvergenceWarning: The max_iter was reached which means the coef_ did not converge\n",
      "  \"the coef_ did not converge\", ConvergenceWarning)\n",
      "/opt/conda/lib/python3.7/site-packages/sklearn/linear_model/_sag.py:330: ConvergenceWarning: The max_iter was reached which means the coef_ did not converge\n",
      "  \"the coef_ did not converge\", ConvergenceWarning)\n",
      "/opt/conda/lib/python3.7/site-packages/sklearn/linear_model/_sag.py:330: ConvergenceWarning: The max_iter was reached which means the coef_ did not converge\n",
      "  \"the coef_ did not converge\", ConvergenceWarning)\n",
      "/opt/conda/lib/python3.7/site-packages/sklearn/linear_model/_sag.py:330: ConvergenceWarning: The max_iter was reached which means the coef_ did not converge\n",
      "  \"the coef_ did not converge\", ConvergenceWarning)\n",
      "/opt/conda/lib/python3.7/site-packages/sklearn/linear_model/_sag.py:330: ConvergenceWarning: The max_iter was reached which means the coef_ did not converge\n",
      "  \"the coef_ did not converge\", ConvergenceWarning)\n",
      "/opt/conda/lib/python3.7/site-packages/sklearn/linear_model/_sag.py:330: ConvergenceWarning: The max_iter was reached which means the coef_ did not converge\n",
      "  \"the coef_ did not converge\", ConvergenceWarning)\n",
      "/opt/conda/lib/python3.7/site-packages/sklearn/linear_model/_sag.py:330: ConvergenceWarning: The max_iter was reached which means the coef_ did not converge\n",
      "  \"the coef_ did not converge\", ConvergenceWarning)\n",
      "/opt/conda/lib/python3.7/site-packages/sklearn/linear_model/_sag.py:330: ConvergenceWarning: The max_iter was reached which means the coef_ did not converge\n",
      "  \"the coef_ did not converge\", ConvergenceWarning)\n",
      "/opt/conda/lib/python3.7/site-packages/sklearn/linear_model/_sag.py:330: ConvergenceWarning: The max_iter was reached which means the coef_ did not converge\n",
      "  \"the coef_ did not converge\", ConvergenceWarning)\n",
      "/opt/conda/lib/python3.7/site-packages/sklearn/linear_model/_sag.py:330: ConvergenceWarning: The max_iter was reached which means the coef_ did not converge\n",
      "  \"the coef_ did not converge\", ConvergenceWarning)\n",
      "/opt/conda/lib/python3.7/site-packages/sklearn/linear_model/_sag.py:330: ConvergenceWarning: The max_iter was reached which means the coef_ did not converge\n",
      "  \"the coef_ did not converge\", ConvergenceWarning)\n",
      "/opt/conda/lib/python3.7/site-packages/sklearn/linear_model/_sag.py:330: ConvergenceWarning: The max_iter was reached which means the coef_ did not converge\n",
      "  \"the coef_ did not converge\", ConvergenceWarning)\n",
      "/opt/conda/lib/python3.7/site-packages/sklearn/linear_model/_sag.py:330: ConvergenceWarning: The max_iter was reached which means the coef_ did not converge\n",
      "  \"the coef_ did not converge\", ConvergenceWarning)\n",
      "/opt/conda/lib/python3.7/site-packages/sklearn/linear_model/_sag.py:330: ConvergenceWarning: The max_iter was reached which means the coef_ did not converge\n",
      "  \"the coef_ did not converge\", ConvergenceWarning)\n",
      "/opt/conda/lib/python3.7/site-packages/sklearn/linear_model/_sag.py:330: ConvergenceWarning: The max_iter was reached which means the coef_ did not converge\n",
      "  \"the coef_ did not converge\", ConvergenceWarning)\n",
      "/opt/conda/lib/python3.7/site-packages/sklearn/linear_model/_sag.py:330: ConvergenceWarning: The max_iter was reached which means the coef_ did not converge\n",
      "  \"the coef_ did not converge\", ConvergenceWarning)\n",
      "/opt/conda/lib/python3.7/site-packages/sklearn/linear_model/_sag.py:330: ConvergenceWarning: The max_iter was reached which means the coef_ did not converge\n",
      "  \"the coef_ did not converge\", ConvergenceWarning)\n",
      "/opt/conda/lib/python3.7/site-packages/sklearn/linear_model/_sag.py:330: ConvergenceWarning: The max_iter was reached which means the coef_ did not converge\n",
      "  \"the coef_ did not converge\", ConvergenceWarning)\n",
      "/opt/conda/lib/python3.7/site-packages/sklearn/linear_model/_sag.py:330: ConvergenceWarning: The max_iter was reached which means the coef_ did not converge\n",
      "  \"the coef_ did not converge\", ConvergenceWarning)\n",
      "/opt/conda/lib/python3.7/site-packages/sklearn/linear_model/_sag.py:330: ConvergenceWarning: The max_iter was reached which means the coef_ did not converge\n",
      "  \"the coef_ did not converge\", ConvergenceWarning)\n",
      "/opt/conda/lib/python3.7/site-packages/sklearn/linear_model/_sag.py:330: ConvergenceWarning: The max_iter was reached which means the coef_ did not converge\n",
      "  \"the coef_ did not converge\", ConvergenceWarning)\n",
      "/opt/conda/lib/python3.7/site-packages/sklearn/linear_model/_sag.py:330: ConvergenceWarning: The max_iter was reached which means the coef_ did not converge\n",
      "  \"the coef_ did not converge\", ConvergenceWarning)\n",
      "/opt/conda/lib/python3.7/site-packages/sklearn/linear_model/_sag.py:330: ConvergenceWarning: The max_iter was reached which means the coef_ did not converge\n",
      "  \"the coef_ did not converge\", ConvergenceWarning)\n",
      "/opt/conda/lib/python3.7/site-packages/sklearn/linear_model/_sag.py:330: ConvergenceWarning: The max_iter was reached which means the coef_ did not converge\n",
      "  \"the coef_ did not converge\", ConvergenceWarning)\n",
      "/opt/conda/lib/python3.7/site-packages/sklearn/linear_model/_sag.py:330: ConvergenceWarning: The max_iter was reached which means the coef_ did not converge\n",
      "  \"the coef_ did not converge\", ConvergenceWarning)\n",
      "/opt/conda/lib/python3.7/site-packages/sklearn/linear_model/_sag.py:330: ConvergenceWarning: The max_iter was reached which means the coef_ did not converge\n",
      "  \"the coef_ did not converge\", ConvergenceWarning)\n",
      "/opt/conda/lib/python3.7/site-packages/sklearn/linear_model/_sag.py:330: ConvergenceWarning: The max_iter was reached which means the coef_ did not converge\n",
      "  \"the coef_ did not converge\", ConvergenceWarning)\n",
      "/opt/conda/lib/python3.7/site-packages/sklearn/linear_model/_sag.py:330: ConvergenceWarning: The max_iter was reached which means the coef_ did not converge\n",
      "  \"the coef_ did not converge\", ConvergenceWarning)\n",
      "/opt/conda/lib/python3.7/site-packages/sklearn/linear_model/_sag.py:330: ConvergenceWarning: The max_iter was reached which means the coef_ did not converge\n",
      "  \"the coef_ did not converge\", ConvergenceWarning)\n",
      "/opt/conda/lib/python3.7/site-packages/sklearn/linear_model/_sag.py:330: ConvergenceWarning: The max_iter was reached which means the coef_ did not converge\n",
      "  \"the coef_ did not converge\", ConvergenceWarning)\n",
      "/opt/conda/lib/python3.7/site-packages/sklearn/linear_model/_sag.py:330: ConvergenceWarning: The max_iter was reached which means the coef_ did not converge\n",
      "  \"the coef_ did not converge\", ConvergenceWarning)\n",
      "/opt/conda/lib/python3.7/site-packages/sklearn/linear_model/_sag.py:330: ConvergenceWarning: The max_iter was reached which means the coef_ did not converge\n",
      "  \"the coef_ did not converge\", ConvergenceWarning)\n",
      "/opt/conda/lib/python3.7/site-packages/sklearn/linear_model/_sag.py:330: ConvergenceWarning: The max_iter was reached which means the coef_ did not converge\n",
      "  \"the coef_ did not converge\", ConvergenceWarning)\n",
      "/opt/conda/lib/python3.7/site-packages/sklearn/linear_model/_sag.py:330: ConvergenceWarning: The max_iter was reached which means the coef_ did not converge\n",
      "  \"the coef_ did not converge\", ConvergenceWarning)\n",
      "/opt/conda/lib/python3.7/site-packages/sklearn/linear_model/_sag.py:330: ConvergenceWarning: The max_iter was reached which means the coef_ did not converge\n",
      "  \"the coef_ did not converge\", ConvergenceWarning)\n",
      "/opt/conda/lib/python3.7/site-packages/sklearn/linear_model/_sag.py:330: ConvergenceWarning: The max_iter was reached which means the coef_ did not converge\n",
      "  \"the coef_ did not converge\", ConvergenceWarning)\n",
      "/opt/conda/lib/python3.7/site-packages/sklearn/linear_model/_sag.py:330: ConvergenceWarning: The max_iter was reached which means the coef_ did not converge\n",
      "  \"the coef_ did not converge\", ConvergenceWarning)\n",
      "/opt/conda/lib/python3.7/site-packages/sklearn/linear_model/_sag.py:330: ConvergenceWarning: The max_iter was reached which means the coef_ did not converge\n",
      "  \"the coef_ did not converge\", ConvergenceWarning)\n",
      "/opt/conda/lib/python3.7/site-packages/sklearn/linear_model/_sag.py:330: ConvergenceWarning: The max_iter was reached which means the coef_ did not converge\n",
      "  \"the coef_ did not converge\", ConvergenceWarning)\n",
      "/opt/conda/lib/python3.7/site-packages/sklearn/linear_model/_sag.py:330: ConvergenceWarning: The max_iter was reached which means the coef_ did not converge\n",
      "  \"the coef_ did not converge\", ConvergenceWarning)\n",
      "/opt/conda/lib/python3.7/site-packages/sklearn/linear_model/_sag.py:330: ConvergenceWarning: The max_iter was reached which means the coef_ did not converge\n",
      "  \"the coef_ did not converge\", ConvergenceWarning)\n",
      "/opt/conda/lib/python3.7/site-packages/sklearn/linear_model/_sag.py:330: ConvergenceWarning: The max_iter was reached which means the coef_ did not converge\n",
      "  \"the coef_ did not converge\", ConvergenceWarning)\n",
      "/opt/conda/lib/python3.7/site-packages/sklearn/linear_model/_sag.py:330: ConvergenceWarning: The max_iter was reached which means the coef_ did not converge\n",
      "  \"the coef_ did not converge\", ConvergenceWarning)\n",
      "/opt/conda/lib/python3.7/site-packages/sklearn/linear_model/_sag.py:330: ConvergenceWarning: The max_iter was reached which means the coef_ did not converge\n",
      "  \"the coef_ did not converge\", ConvergenceWarning)\n",
      "/opt/conda/lib/python3.7/site-packages/sklearn/linear_model/_sag.py:330: ConvergenceWarning: The max_iter was reached which means the coef_ did not converge\n",
      "  \"the coef_ did not converge\", ConvergenceWarning)\n",
      "/opt/conda/lib/python3.7/site-packages/sklearn/linear_model/_sag.py:330: ConvergenceWarning: The max_iter was reached which means the coef_ did not converge\n",
      "  \"the coef_ did not converge\", ConvergenceWarning)\n",
      "/opt/conda/lib/python3.7/site-packages/sklearn/linear_model/_sag.py:330: ConvergenceWarning: The max_iter was reached which means the coef_ did not converge\n",
      "  \"the coef_ did not converge\", ConvergenceWarning)\n",
      "/opt/conda/lib/python3.7/site-packages/sklearn/linear_model/_sag.py:330: ConvergenceWarning: The max_iter was reached which means the coef_ did not converge\n",
      "  \"the coef_ did not converge\", ConvergenceWarning)\n",
      "/opt/conda/lib/python3.7/site-packages/sklearn/linear_model/_sag.py:330: ConvergenceWarning: The max_iter was reached which means the coef_ did not converge\n",
      "  \"the coef_ did not converge\", ConvergenceWarning)\n",
      "/opt/conda/lib/python3.7/site-packages/sklearn/linear_model/_sag.py:330: ConvergenceWarning: The max_iter was reached which means the coef_ did not converge\n",
      "  \"the coef_ did not converge\", ConvergenceWarning)\n",
      "/opt/conda/lib/python3.7/site-packages/sklearn/linear_model/_sag.py:330: ConvergenceWarning: The max_iter was reached which means the coef_ did not converge\n",
      "  \"the coef_ did not converge\", ConvergenceWarning)\n",
      "/opt/conda/lib/python3.7/site-packages/sklearn/linear_model/_sag.py:330: ConvergenceWarning: The max_iter was reached which means the coef_ did not converge\n",
      "  \"the coef_ did not converge\", ConvergenceWarning)\n",
      "/opt/conda/lib/python3.7/site-packages/sklearn/linear_model/_sag.py:330: ConvergenceWarning: The max_iter was reached which means the coef_ did not converge\n",
      "  \"the coef_ did not converge\", ConvergenceWarning)\n",
      "/opt/conda/lib/python3.7/site-packages/sklearn/linear_model/_sag.py:330: ConvergenceWarning: The max_iter was reached which means the coef_ did not converge\n",
      "  \"the coef_ did not converge\", ConvergenceWarning)\n",
      "/opt/conda/lib/python3.7/site-packages/sklearn/linear_model/_sag.py:330: ConvergenceWarning: The max_iter was reached which means the coef_ did not converge\n",
      "  \"the coef_ did not converge\", ConvergenceWarning)\n",
      "/opt/conda/lib/python3.7/site-packages/sklearn/linear_model/_sag.py:330: ConvergenceWarning: The max_iter was reached which means the coef_ did not converge\n",
      "  \"the coef_ did not converge\", ConvergenceWarning)\n",
      "/opt/conda/lib/python3.7/site-packages/sklearn/linear_model/_sag.py:330: ConvergenceWarning: The max_iter was reached which means the coef_ did not converge\n",
      "  \"the coef_ did not converge\", ConvergenceWarning)\n",
      "/opt/conda/lib/python3.7/site-packages/sklearn/linear_model/_sag.py:330: ConvergenceWarning: The max_iter was reached which means the coef_ did not converge\n",
      "  \"the coef_ did not converge\", ConvergenceWarning)\n",
      "/opt/conda/lib/python3.7/site-packages/sklearn/linear_model/_sag.py:330: ConvergenceWarning: The max_iter was reached which means the coef_ did not converge\n",
      "  \"the coef_ did not converge\", ConvergenceWarning)\n",
      "/opt/conda/lib/python3.7/site-packages/sklearn/linear_model/_sag.py:330: ConvergenceWarning: The max_iter was reached which means the coef_ did not converge\n",
      "  \"the coef_ did not converge\", ConvergenceWarning)\n",
      "/opt/conda/lib/python3.7/site-packages/sklearn/linear_model/_sag.py:330: ConvergenceWarning: The max_iter was reached which means the coef_ did not converge\n",
      "  \"the coef_ did not converge\", ConvergenceWarning)\n",
      "/opt/conda/lib/python3.7/site-packages/sklearn/linear_model/_sag.py:330: ConvergenceWarning: The max_iter was reached which means the coef_ did not converge\n",
      "  \"the coef_ did not converge\", ConvergenceWarning)\n",
      "/opt/conda/lib/python3.7/site-packages/sklearn/linear_model/_sag.py:330: ConvergenceWarning: The max_iter was reached which means the coef_ did not converge\n",
      "  \"the coef_ did not converge\", ConvergenceWarning)\n",
      "/opt/conda/lib/python3.7/site-packages/sklearn/linear_model/_sag.py:330: ConvergenceWarning: The max_iter was reached which means the coef_ did not converge\n",
      "  \"the coef_ did not converge\", ConvergenceWarning)\n",
      "/opt/conda/lib/python3.7/site-packages/sklearn/linear_model/_sag.py:330: ConvergenceWarning: The max_iter was reached which means the coef_ did not converge\n",
      "  \"the coef_ did not converge\", ConvergenceWarning)\n",
      "/opt/conda/lib/python3.7/site-packages/sklearn/linear_model/_sag.py:330: ConvergenceWarning: The max_iter was reached which means the coef_ did not converge\n",
      "  \"the coef_ did not converge\", ConvergenceWarning)\n",
      "/opt/conda/lib/python3.7/site-packages/sklearn/linear_model/_sag.py:330: ConvergenceWarning: The max_iter was reached which means the coef_ did not converge\n",
      "  \"the coef_ did not converge\", ConvergenceWarning)\n",
      "/opt/conda/lib/python3.7/site-packages/sklearn/linear_model/_sag.py:330: ConvergenceWarning: The max_iter was reached which means the coef_ did not converge\n",
      "  \"the coef_ did not converge\", ConvergenceWarning)\n",
      "/opt/conda/lib/python3.7/site-packages/sklearn/linear_model/_sag.py:330: ConvergenceWarning: The max_iter was reached which means the coef_ did not converge\n",
      "  \"the coef_ did not converge\", ConvergenceWarning)\n",
      "/opt/conda/lib/python3.7/site-packages/sklearn/linear_model/_sag.py:330: ConvergenceWarning: The max_iter was reached which means the coef_ did not converge\n",
      "  \"the coef_ did not converge\", ConvergenceWarning)\n",
      "/opt/conda/lib/python3.7/site-packages/sklearn/linear_model/_sag.py:330: ConvergenceWarning: The max_iter was reached which means the coef_ did not converge\n",
      "  \"the coef_ did not converge\", ConvergenceWarning)\n",
      "/opt/conda/lib/python3.7/site-packages/sklearn/linear_model/_sag.py:330: ConvergenceWarning: The max_iter was reached which means the coef_ did not converge\n",
      "  \"the coef_ did not converge\", ConvergenceWarning)\n",
      "/opt/conda/lib/python3.7/site-packages/sklearn/linear_model/_sag.py:330: ConvergenceWarning: The max_iter was reached which means the coef_ did not converge\n",
      "  \"the coef_ did not converge\", ConvergenceWarning)\n",
      "/opt/conda/lib/python3.7/site-packages/sklearn/linear_model/_sag.py:330: ConvergenceWarning: The max_iter was reached which means the coef_ did not converge\n",
      "  \"the coef_ did not converge\", ConvergenceWarning)\n",
      "/opt/conda/lib/python3.7/site-packages/sklearn/linear_model/_sag.py:330: ConvergenceWarning: The max_iter was reached which means the coef_ did not converge\n",
      "  \"the coef_ did not converge\", ConvergenceWarning)\n",
      "/opt/conda/lib/python3.7/site-packages/sklearn/linear_model/_sag.py:330: ConvergenceWarning: The max_iter was reached which means the coef_ did not converge\n",
      "  \"the coef_ did not converge\", ConvergenceWarning)\n",
      "/opt/conda/lib/python3.7/site-packages/sklearn/linear_model/_sag.py:330: ConvergenceWarning: The max_iter was reached which means the coef_ did not converge\n",
      "  \"the coef_ did not converge\", ConvergenceWarning)\n",
      "/opt/conda/lib/python3.7/site-packages/sklearn/linear_model/_sag.py:330: ConvergenceWarning: The max_iter was reached which means the coef_ did not converge\n",
      "  \"the coef_ did not converge\", ConvergenceWarning)\n",
      "/opt/conda/lib/python3.7/site-packages/sklearn/linear_model/_sag.py:330: ConvergenceWarning: The max_iter was reached which means the coef_ did not converge\n",
      "  \"the coef_ did not converge\", ConvergenceWarning)\n",
      "/opt/conda/lib/python3.7/site-packages/sklearn/linear_model/_sag.py:330: ConvergenceWarning: The max_iter was reached which means the coef_ did not converge\n",
      "  \"the coef_ did not converge\", ConvergenceWarning)\n",
      "/opt/conda/lib/python3.7/site-packages/sklearn/linear_model/_sag.py:330: ConvergenceWarning: The max_iter was reached which means the coef_ did not converge\n",
      "  \"the coef_ did not converge\", ConvergenceWarning)\n",
      "/opt/conda/lib/python3.7/site-packages/sklearn/linear_model/_sag.py:330: ConvergenceWarning: The max_iter was reached which means the coef_ did not converge\n",
      "  \"the coef_ did not converge\", ConvergenceWarning)\n",
      "/opt/conda/lib/python3.7/site-packages/sklearn/linear_model/_sag.py:330: ConvergenceWarning: The max_iter was reached which means the coef_ did not converge\n",
      "  \"the coef_ did not converge\", ConvergenceWarning)\n",
      "/opt/conda/lib/python3.7/site-packages/sklearn/linear_model/_sag.py:330: ConvergenceWarning: The max_iter was reached which means the coef_ did not converge\n",
      "  \"the coef_ did not converge\", ConvergenceWarning)\n",
      "/opt/conda/lib/python3.7/site-packages/sklearn/linear_model/_sag.py:330: ConvergenceWarning: The max_iter was reached which means the coef_ did not converge\n",
      "  \"the coef_ did not converge\", ConvergenceWarning)\n",
      "/opt/conda/lib/python3.7/site-packages/sklearn/linear_model/_sag.py:330: ConvergenceWarning: The max_iter was reached which means the coef_ did not converge\n",
      "  \"the coef_ did not converge\", ConvergenceWarning)\n",
      "/opt/conda/lib/python3.7/site-packages/sklearn/linear_model/_sag.py:330: ConvergenceWarning: The max_iter was reached which means the coef_ did not converge\n",
      "  \"the coef_ did not converge\", ConvergenceWarning)\n",
      "/opt/conda/lib/python3.7/site-packages/sklearn/linear_model/_sag.py:330: ConvergenceWarning: The max_iter was reached which means the coef_ did not converge\n",
      "  \"the coef_ did not converge\", ConvergenceWarning)\n",
      "/opt/conda/lib/python3.7/site-packages/sklearn/linear_model/_sag.py:330: ConvergenceWarning: The max_iter was reached which means the coef_ did not converge\n",
      "  \"the coef_ did not converge\", ConvergenceWarning)\n",
      "/opt/conda/lib/python3.7/site-packages/sklearn/linear_model/_sag.py:330: ConvergenceWarning: The max_iter was reached which means the coef_ did not converge\n",
      "  \"the coef_ did not converge\", ConvergenceWarning)\n",
      "/opt/conda/lib/python3.7/site-packages/sklearn/linear_model/_sag.py:330: ConvergenceWarning: The max_iter was reached which means the coef_ did not converge\n",
      "  \"the coef_ did not converge\", ConvergenceWarning)\n",
      "/opt/conda/lib/python3.7/site-packages/sklearn/linear_model/_sag.py:330: ConvergenceWarning: The max_iter was reached which means the coef_ did not converge\n",
      "  \"the coef_ did not converge\", ConvergenceWarning)\n",
      "/opt/conda/lib/python3.7/site-packages/sklearn/linear_model/_sag.py:330: ConvergenceWarning: The max_iter was reached which means the coef_ did not converge\n",
      "  \"the coef_ did not converge\", ConvergenceWarning)\n",
      "/opt/conda/lib/python3.7/site-packages/sklearn/linear_model/_sag.py:330: ConvergenceWarning: The max_iter was reached which means the coef_ did not converge\n",
      "  \"the coef_ did not converge\", ConvergenceWarning)\n",
      "/opt/conda/lib/python3.7/site-packages/sklearn/linear_model/_sag.py:330: ConvergenceWarning: The max_iter was reached which means the coef_ did not converge\n",
      "  \"the coef_ did not converge\", ConvergenceWarning)\n",
      "/opt/conda/lib/python3.7/site-packages/sklearn/linear_model/_sag.py:330: ConvergenceWarning: The max_iter was reached which means the coef_ did not converge\n",
      "  \"the coef_ did not converge\", ConvergenceWarning)\n",
      "/opt/conda/lib/python3.7/site-packages/sklearn/linear_model/_sag.py:330: ConvergenceWarning: The max_iter was reached which means the coef_ did not converge\n",
      "  \"the coef_ did not converge\", ConvergenceWarning)\n",
      "/opt/conda/lib/python3.7/site-packages/sklearn/linear_model/_sag.py:330: ConvergenceWarning: The max_iter was reached which means the coef_ did not converge\n",
      "  \"the coef_ did not converge\", ConvergenceWarning)\n",
      "/opt/conda/lib/python3.7/site-packages/sklearn/linear_model/_sag.py:330: ConvergenceWarning: The max_iter was reached which means the coef_ did not converge\n",
      "  \"the coef_ did not converge\", ConvergenceWarning)\n",
      "/opt/conda/lib/python3.7/site-packages/sklearn/linear_model/_sag.py:330: ConvergenceWarning: The max_iter was reached which means the coef_ did not converge\n",
      "  \"the coef_ did not converge\", ConvergenceWarning)\n",
      "/opt/conda/lib/python3.7/site-packages/sklearn/linear_model/_sag.py:330: ConvergenceWarning: The max_iter was reached which means the coef_ did not converge\n",
      "  \"the coef_ did not converge\", ConvergenceWarning)\n",
      "/opt/conda/lib/python3.7/site-packages/sklearn/linear_model/_sag.py:330: ConvergenceWarning: The max_iter was reached which means the coef_ did not converge\n",
      "  \"the coef_ did not converge\", ConvergenceWarning)\n",
      "/opt/conda/lib/python3.7/site-packages/sklearn/linear_model/_sag.py:330: ConvergenceWarning: The max_iter was reached which means the coef_ did not converge\n",
      "  \"the coef_ did not converge\", ConvergenceWarning)\n",
      "/opt/conda/lib/python3.7/site-packages/sklearn/linear_model/_sag.py:330: ConvergenceWarning: The max_iter was reached which means the coef_ did not converge\n",
      "  \"the coef_ did not converge\", ConvergenceWarning)\n",
      "/opt/conda/lib/python3.7/site-packages/sklearn/linear_model/_sag.py:330: ConvergenceWarning: The max_iter was reached which means the coef_ did not converge\n",
      "  \"the coef_ did not converge\", ConvergenceWarning)\n",
      "/opt/conda/lib/python3.7/site-packages/sklearn/linear_model/_sag.py:330: ConvergenceWarning: The max_iter was reached which means the coef_ did not converge\n",
      "  \"the coef_ did not converge\", ConvergenceWarning)\n",
      "/opt/conda/lib/python3.7/site-packages/sklearn/linear_model/_sag.py:330: ConvergenceWarning: The max_iter was reached which means the coef_ did not converge\n",
      "  \"the coef_ did not converge\", ConvergenceWarning)\n",
      "/opt/conda/lib/python3.7/site-packages/sklearn/linear_model/_sag.py:330: ConvergenceWarning: The max_iter was reached which means the coef_ did not converge\n",
      "  \"the coef_ did not converge\", ConvergenceWarning)\n",
      "/opt/conda/lib/python3.7/site-packages/sklearn/linear_model/_sag.py:330: ConvergenceWarning: The max_iter was reached which means the coef_ did not converge\n",
      "  \"the coef_ did not converge\", ConvergenceWarning)\n",
      "/opt/conda/lib/python3.7/site-packages/sklearn/linear_model/_sag.py:330: ConvergenceWarning: The max_iter was reached which means the coef_ did not converge\n",
      "  \"the coef_ did not converge\", ConvergenceWarning)\n",
      "/opt/conda/lib/python3.7/site-packages/sklearn/linear_model/_sag.py:330: ConvergenceWarning: The max_iter was reached which means the coef_ did not converge\n",
      "  \"the coef_ did not converge\", ConvergenceWarning)\n",
      "/opt/conda/lib/python3.7/site-packages/sklearn/linear_model/_sag.py:330: ConvergenceWarning: The max_iter was reached which means the coef_ did not converge\n",
      "  \"the coef_ did not converge\", ConvergenceWarning)\n",
      "/opt/conda/lib/python3.7/site-packages/sklearn/linear_model/_sag.py:330: ConvergenceWarning: The max_iter was reached which means the coef_ did not converge\n",
      "  \"the coef_ did not converge\", ConvergenceWarning)\n",
      "/opt/conda/lib/python3.7/site-packages/sklearn/linear_model/_sag.py:330: ConvergenceWarning: The max_iter was reached which means the coef_ did not converge\n",
      "  \"the coef_ did not converge\", ConvergenceWarning)\n",
      "/opt/conda/lib/python3.7/site-packages/sklearn/linear_model/_sag.py:330: ConvergenceWarning: The max_iter was reached which means the coef_ did not converge\n",
      "  \"the coef_ did not converge\", ConvergenceWarning)\n",
      "/opt/conda/lib/python3.7/site-packages/sklearn/linear_model/_sag.py:330: ConvergenceWarning: The max_iter was reached which means the coef_ did not converge\n",
      "  \"the coef_ did not converge\", ConvergenceWarning)\n",
      "/opt/conda/lib/python3.7/site-packages/sklearn/linear_model/_sag.py:330: ConvergenceWarning: The max_iter was reached which means the coef_ did not converge\n",
      "  \"the coef_ did not converge\", ConvergenceWarning)\n",
      "/opt/conda/lib/python3.7/site-packages/sklearn/linear_model/_sag.py:330: ConvergenceWarning: The max_iter was reached which means the coef_ did not converge\n",
      "  \"the coef_ did not converge\", ConvergenceWarning)\n",
      "/opt/conda/lib/python3.7/site-packages/sklearn/linear_model/_sag.py:330: ConvergenceWarning: The max_iter was reached which means the coef_ did not converge\n",
      "  \"the coef_ did not converge\", ConvergenceWarning)\n",
      "/opt/conda/lib/python3.7/site-packages/sklearn/linear_model/_sag.py:330: ConvergenceWarning: The max_iter was reached which means the coef_ did not converge\n",
      "  \"the coef_ did not converge\", ConvergenceWarning)\n",
      "/opt/conda/lib/python3.7/site-packages/sklearn/linear_model/_sag.py:330: ConvergenceWarning: The max_iter was reached which means the coef_ did not converge\n",
      "  \"the coef_ did not converge\", ConvergenceWarning)\n",
      "/opt/conda/lib/python3.7/site-packages/sklearn/linear_model/_sag.py:330: ConvergenceWarning: The max_iter was reached which means the coef_ did not converge\n",
      "  \"the coef_ did not converge\", ConvergenceWarning)\n",
      "/opt/conda/lib/python3.7/site-packages/sklearn/linear_model/_sag.py:330: ConvergenceWarning: The max_iter was reached which means the coef_ did not converge\n",
      "  \"the coef_ did not converge\", ConvergenceWarning)\n",
      "/opt/conda/lib/python3.7/site-packages/sklearn/linear_model/_sag.py:330: ConvergenceWarning: The max_iter was reached which means the coef_ did not converge\n",
      "  \"the coef_ did not converge\", ConvergenceWarning)\n",
      "/opt/conda/lib/python3.7/site-packages/sklearn/linear_model/_sag.py:330: ConvergenceWarning: The max_iter was reached which means the coef_ did not converge\n",
      "  \"the coef_ did not converge\", ConvergenceWarning)\n",
      "/opt/conda/lib/python3.7/site-packages/sklearn/linear_model/_sag.py:330: ConvergenceWarning: The max_iter was reached which means the coef_ did not converge\n",
      "  \"the coef_ did not converge\", ConvergenceWarning)\n",
      "/opt/conda/lib/python3.7/site-packages/sklearn/linear_model/_sag.py:330: ConvergenceWarning: The max_iter was reached which means the coef_ did not converge\n",
      "  \"the coef_ did not converge\", ConvergenceWarning)\n",
      "/opt/conda/lib/python3.7/site-packages/sklearn/linear_model/_sag.py:330: ConvergenceWarning: The max_iter was reached which means the coef_ did not converge\n",
      "  \"the coef_ did not converge\", ConvergenceWarning)\n",
      "/opt/conda/lib/python3.7/site-packages/sklearn/linear_model/_sag.py:330: ConvergenceWarning: The max_iter was reached which means the coef_ did not converge\n",
      "  \"the coef_ did not converge\", ConvergenceWarning)\n",
      "/opt/conda/lib/python3.7/site-packages/sklearn/linear_model/_sag.py:330: ConvergenceWarning: The max_iter was reached which means the coef_ did not converge\n",
      "  \"the coef_ did not converge\", ConvergenceWarning)\n",
      "/opt/conda/lib/python3.7/site-packages/sklearn/linear_model/_sag.py:330: ConvergenceWarning: The max_iter was reached which means the coef_ did not converge\n",
      "  \"the coef_ did not converge\", ConvergenceWarning)\n",
      "/opt/conda/lib/python3.7/site-packages/sklearn/linear_model/_sag.py:330: ConvergenceWarning: The max_iter was reached which means the coef_ did not converge\n",
      "  \"the coef_ did not converge\", ConvergenceWarning)\n",
      "/opt/conda/lib/python3.7/site-packages/sklearn/linear_model/_sag.py:330: ConvergenceWarning: The max_iter was reached which means the coef_ did not converge\n",
      "  \"the coef_ did not converge\", ConvergenceWarning)\n",
      "/opt/conda/lib/python3.7/site-packages/sklearn/linear_model/_sag.py:330: ConvergenceWarning: The max_iter was reached which means the coef_ did not converge\n",
      "  \"the coef_ did not converge\", ConvergenceWarning)\n",
      "/opt/conda/lib/python3.7/site-packages/sklearn/linear_model/_sag.py:330: ConvergenceWarning: The max_iter was reached which means the coef_ did not converge\n",
      "  \"the coef_ did not converge\", ConvergenceWarning)\n",
      "/opt/conda/lib/python3.7/site-packages/sklearn/linear_model/_sag.py:330: ConvergenceWarning: The max_iter was reached which means the coef_ did not converge\n",
      "  \"the coef_ did not converge\", ConvergenceWarning)\n",
      "/opt/conda/lib/python3.7/site-packages/sklearn/linear_model/_sag.py:330: ConvergenceWarning: The max_iter was reached which means the coef_ did not converge\n",
      "  \"the coef_ did not converge\", ConvergenceWarning)\n",
      "/opt/conda/lib/python3.7/site-packages/sklearn/linear_model/_sag.py:330: ConvergenceWarning: The max_iter was reached which means the coef_ did not converge\n",
      "  \"the coef_ did not converge\", ConvergenceWarning)\n",
      "/opt/conda/lib/python3.7/site-packages/sklearn/linear_model/_sag.py:330: ConvergenceWarning: The max_iter was reached which means the coef_ did not converge\n",
      "  \"the coef_ did not converge\", ConvergenceWarning)\n",
      "/opt/conda/lib/python3.7/site-packages/sklearn/linear_model/_sag.py:330: ConvergenceWarning: The max_iter was reached which means the coef_ did not converge\n",
      "  \"the coef_ did not converge\", ConvergenceWarning)\n",
      "/opt/conda/lib/python3.7/site-packages/sklearn/linear_model/_sag.py:330: ConvergenceWarning: The max_iter was reached which means the coef_ did not converge\n",
      "  \"the coef_ did not converge\", ConvergenceWarning)\n",
      "/opt/conda/lib/python3.7/site-packages/sklearn/linear_model/_sag.py:330: ConvergenceWarning: The max_iter was reached which means the coef_ did not converge\n",
      "  \"the coef_ did not converge\", ConvergenceWarning)\n",
      "/opt/conda/lib/python3.7/site-packages/sklearn/linear_model/_sag.py:330: ConvergenceWarning: The max_iter was reached which means the coef_ did not converge\n",
      "  \"the coef_ did not converge\", ConvergenceWarning)\n",
      "/opt/conda/lib/python3.7/site-packages/sklearn/linear_model/_sag.py:330: ConvergenceWarning: The max_iter was reached which means the coef_ did not converge\n",
      "  \"the coef_ did not converge\", ConvergenceWarning)\n",
      "/opt/conda/lib/python3.7/site-packages/sklearn/linear_model/_sag.py:330: ConvergenceWarning: The max_iter was reached which means the coef_ did not converge\n",
      "  \"the coef_ did not converge\", ConvergenceWarning)\n",
      "/opt/conda/lib/python3.7/site-packages/sklearn/linear_model/_sag.py:330: ConvergenceWarning: The max_iter was reached which means the coef_ did not converge\n",
      "  \"the coef_ did not converge\", ConvergenceWarning)\n",
      "/opt/conda/lib/python3.7/site-packages/sklearn/linear_model/_sag.py:330: ConvergenceWarning: The max_iter was reached which means the coef_ did not converge\n",
      "  \"the coef_ did not converge\", ConvergenceWarning)\n",
      "/opt/conda/lib/python3.7/site-packages/sklearn/linear_model/_sag.py:330: ConvergenceWarning: The max_iter was reached which means the coef_ did not converge\n",
      "  \"the coef_ did not converge\", ConvergenceWarning)\n",
      "/opt/conda/lib/python3.7/site-packages/sklearn/linear_model/_sag.py:330: ConvergenceWarning: The max_iter was reached which means the coef_ did not converge\n",
      "  \"the coef_ did not converge\", ConvergenceWarning)\n",
      "/opt/conda/lib/python3.7/site-packages/sklearn/linear_model/_sag.py:330: ConvergenceWarning: The max_iter was reached which means the coef_ did not converge\n",
      "  \"the coef_ did not converge\", ConvergenceWarning)\n",
      "/opt/conda/lib/python3.7/site-packages/sklearn/linear_model/_sag.py:330: ConvergenceWarning: The max_iter was reached which means the coef_ did not converge\n",
      "  \"the coef_ did not converge\", ConvergenceWarning)\n",
      "[Parallel(n_jobs=-1)]: Done 6042 tasks      | elapsed:  4.6min\n",
      "[Parallel(n_jobs=-1)]: Done 7192 tasks      | elapsed:  5.3min\n",
      "[Parallel(n_jobs=-1)]: Done 8442 tasks      | elapsed:  6.0min\n",
      "[Parallel(n_jobs=-1)]: Done 9792 tasks      | elapsed:  6.7min\n",
      "[Parallel(n_jobs=-1)]: Done 11242 tasks      | elapsed:  7.5min\n",
      "[Parallel(n_jobs=-1)]: Done 12792 tasks      | elapsed:  8.4min\n",
      "[Parallel(n_jobs=-1)]: Done 14442 tasks      | elapsed:  9.4min\n",
      "[Parallel(n_jobs=-1)]: Done 16192 tasks      | elapsed: 10.4min\n",
      "[Parallel(n_jobs=-1)]: Done 18042 tasks      | elapsed: 11.4min\n",
      "[Parallel(n_jobs=-1)]: Done 19992 tasks      | elapsed: 12.5min\n",
      "[Parallel(n_jobs=-1)]: Done 22042 tasks      | elapsed: 13.7min\n",
      "[Parallel(n_jobs=-1)]: Done 24192 tasks      | elapsed: 14.8min\n",
      "[Parallel(n_jobs=-1)]: Done 26442 tasks      | elapsed: 16.1min\n",
      "[Parallel(n_jobs=-1)]: Done 28792 tasks      | elapsed: 17.5min\n",
      "[Parallel(n_jobs=-1)]: Done 31242 tasks      | elapsed: 18.8min\n",
      "[Parallel(n_jobs=-1)]: Done 33792 tasks      | elapsed: 20.3min\n",
      "[Parallel(n_jobs=-1)]: Done 36442 tasks      | elapsed: 21.8min\n",
      "[Parallel(n_jobs=-1)]: Done 39192 tasks      | elapsed: 23.3min\n",
      "[Parallel(n_jobs=-1)]: Done 42042 tasks      | elapsed: 24.9min\n",
      "[Parallel(n_jobs=-1)]: Done 44992 tasks      | elapsed: 26.6min\n",
      "[Parallel(n_jobs=-1)]: Done 48042 tasks      | elapsed: 28.3min\n",
      "[Parallel(n_jobs=-1)]: Done 51192 tasks      | elapsed: 30.3min\n",
      "[Parallel(n_jobs=-1)]: Done 54442 tasks      | elapsed: 32.6min\n",
      "[Parallel(n_jobs=-1)]: Done 57792 tasks      | elapsed: 35.0min\n",
      "[Parallel(n_jobs=-1)]: Done 61242 tasks      | elapsed: 37.4min\n",
      "[Parallel(n_jobs=-1)]: Done 64792 tasks      | elapsed: 40.0min\n",
      "[Parallel(n_jobs=-1)]: Done 68442 tasks      | elapsed: 42.6min\n",
      "[Parallel(n_jobs=-1)]: Done 72192 tasks      | elapsed: 45.2min\n",
      "[Parallel(n_jobs=-1)]: Done 76042 tasks      | elapsed: 47.9min\n",
      "[Parallel(n_jobs=-1)]: Done 79992 tasks      | elapsed: 50.7min\n",
      "[Parallel(n_jobs=-1)]: Done 84042 tasks      | elapsed: 53.6min\n",
      "[Parallel(n_jobs=-1)]: Done 88192 tasks      | elapsed: 56.5min\n",
      "[Parallel(n_jobs=-1)]: Done 92442 tasks      | elapsed: 59.5min\n",
      "[Parallel(n_jobs=-1)]: Done 93420 out of 93420 | elapsed: 60.1min finished\n"
     ]
    }
   ],
   "source": [
    "clean_df = pd.read_csv(\"/kaggle/input/titanic/train.csv\")\n",
    "pipe = Pipeline([\n",
    "                ('fillna', FillNaTransformer()),\n",
    "                ('new_features', NewFeaturesTransformer()),\n",
    "                ('smooth_outliers', SmoothOutliersTransformer()),\n",
    "                ('onehot', OnehotTransformer()),\n",
    "                ('normalize', NormalizeTransformer()),\n",
    "                ('choose_features', ChooseFeaturesTransformer()),\n",
    "                ('classifier', DecisionTreeClassifier())\n",
    "])\n",
    "search_space = [{'fillna': [FillNaTransformer()],\n",
    "                'smooth_outliers': [SmoothOutliersTransformer()],\n",
    "                'smooth_outliers__method' :['log1p', 'bounds', 'none'],\n",
    "                'onehot': [OnehotTransformer()],\n",
    "                'normalize': [NormalizeTransformer()],\n",
    "                'normalize__method': ['minmax','standard','robust'],\n",
    "                'new_features': [NewFeaturesTransformer()],\n",
    "                'new_features__features': ['all'],\n",
    "                'choose_features': [ChooseFeaturesTransformer()],\n",
    "                'choose_features__ranking': [False, True],\n",
    "                'classifier': [DecisionTreeClassifier()],\n",
    "                'classifier__random_state': [1, 5, 10, 13, 21, 42],\n",
    "                'classifier__max_depth': range(1,10)},\n",
    "                {'fillna': [FillNaTransformer()],\n",
    "                'new_features': [NewFeaturesTransformer()],\n",
    "                'new_features__features': ['all', 'hasfamily', 'hascabin', 'fullfamily', 'agecategory', 'name'],\n",
    "                'smooth_outliers': [SmoothOutliersTransformer()],\n",
    "                'smooth_outliers__method' :['log1p', 'bounds', 'none'],\n",
    "                'onehot': [OnehotTransformer()],\n",
    "                'normalize': [NormalizeTransformer()],\n",
    "                'normalize__method': ['minmax','standard','robust'],\n",
    "                'choose_features': [ChooseFeaturesTransformer()],\n",
    "                'choose_features__ranking': [False, True],\n",
    "                'classifier': [LogisticRegression()],\n",
    "                'classifier__random_state': [42],\n",
    "                'classifier__solver': ['sag'],\n",
    "                'classifier__penalty' : ['l2','none']},\n",
    "                {'fillna': [FillNaTransformer()],\n",
    "                'new_features': [NewFeaturesTransformer()],\n",
    "                'new_features__features': ['all', 'hasfamily', 'hascabin', 'fullfamily', 'agecategory', 'name'],\n",
    "                'smooth_outliers': [SmoothOutliersTransformer()],\n",
    "                'smooth_outliers__method' :['log1p', 'bounds', 'none'],\n",
    "                'onehot': [OnehotTransformer()],\n",
    "                'normalize': [NormalizeTransformer()],\n",
    "                'normalize__method': ['minmax','standard','robust'],\n",
    "                'choose_features': [ChooseFeaturesTransformer()],\n",
    "                'choose_features__ranking': [False, True],\n",
    "                'classifier': [LogisticRegression()],\n",
    "                'classifier__random_state': [42],\n",
    "                'classifier__solver': ['liblinear'],\n",
    "                'classifier__penalty' : ['l1','l2']},\n",
    "                {'fillna': [FillNaTransformer()],\n",
    "                'new_features': [NewFeaturesTransformer()],\n",
    "                'new_features__features': ['all', 'hasfamily', 'hascabin', 'fullfamily', 'agecategory', 'name'],\n",
    "                'smooth_outliers': [SmoothOutliersTransformer()],\n",
    "                'smooth_outliers__method' :['log1p', 'bounds', 'none'],\n",
    "                'onehot': [OnehotTransformer()],\n",
    "                'normalize': [NormalizeTransformer()],\n",
    "                'normalize__method': ['minmax','standard','robust'],\n",
    "                'choose_features': [ChooseFeaturesTransformer()],\n",
    "                'choose_features__ranking': [False, True],\n",
    "                'classifier': [KNeighborsClassifier()],\n",
    "                'classifier__n_neighbors': [1, 3, 5, 7, 10, 12, 14, 16, 18, 20],\n",
    "                'classifier__weights': ['uniform', 'distance'],\n",
    "                'classifier__algorithm' : ['auto', 'ball_tree', 'kd_tree', 'brute'],\n",
    "                'classifier__p' : [1, 2]}\n",
    "                ]\n",
    "gridsearch = GridSearchCV(pipe, search_space, cv=5, verbose=1, scoring='f1', n_jobs=-1)\n",
    "ranking_index = []\n",
    "best_model = gridsearch.fit(clean_df.drop(['PassengerId', 'Survived'], axis=1), clean_df.Survived)"
   ]
  },
  {
   "cell_type": "markdown",
   "id": "983a407e",
   "metadata": {
    "papermill": {
     "duration": 0.182304,
     "end_time": "2022-01-08T11:16:13.808381",
     "exception": false,
     "start_time": "2022-01-08T11:16:13.626077",
     "status": "completed"
    },
    "tags": []
   },
   "source": [
    "**Модель с лучшими параметрами:**"
   ]
  },
  {
   "cell_type": "code",
   "execution_count": 79,
   "id": "15796d69",
   "metadata": {
    "execution": {
     "iopub.execute_input": "2022-01-08T11:16:14.176286Z",
     "iopub.status.busy": "2022-01-08T11:16:14.175656Z",
     "iopub.status.idle": "2022-01-08T11:16:14.185143Z",
     "shell.execute_reply": "2022-01-08T11:16:14.185630Z"
    },
    "papermill": {
     "duration": 0.194685,
     "end_time": "2022-01-08T11:16:14.185796",
     "exception": false,
     "start_time": "2022-01-08T11:16:13.991111",
     "status": "completed"
    },
    "tags": []
   },
   "outputs": [
    {
     "data": {
      "text/plain": [
       "{'choose_features': ChooseFeaturesTransformer(),\n",
       " 'choose_features__ranking': False,\n",
       " 'classifier': DecisionTreeClassifier(max_depth=4, random_state=1),\n",
       " 'classifier__max_depth': 4,\n",
       " 'classifier__random_state': 1,\n",
       " 'fillna': FillNaTransformer(),\n",
       " 'new_features': NewFeaturesTransformer(),\n",
       " 'new_features__features': 'all',\n",
       " 'normalize': NormalizeTransformer(method='robust'),\n",
       " 'normalize__method': 'robust',\n",
       " 'onehot': OnehotTransformer(),\n",
       " 'smooth_outliers': SmoothOutliersTransformer(method='none'),\n",
       " 'smooth_outliers__method': 'none'}"
      ]
     },
     "execution_count": 79,
     "metadata": {},
     "output_type": "execute_result"
    }
   ],
   "source": [
    "best_model.best_params_"
   ]
  },
  {
   "cell_type": "markdown",
   "id": "20628dab",
   "metadata": {
    "papermill": {
     "duration": 0.18172,
     "end_time": "2022-01-08T11:16:14.548567",
     "exception": false,
     "start_time": "2022-01-08T11:16:14.366847",
     "status": "completed"
    },
    "tags": []
   },
   "source": [
    "**Лучший score на тестовых данных:**"
   ]
  },
  {
   "cell_type": "code",
   "execution_count": 80,
   "id": "b36c9df2",
   "metadata": {
    "execution": {
     "iopub.execute_input": "2022-01-08T11:16:14.915933Z",
     "iopub.status.busy": "2022-01-08T11:16:14.915310Z",
     "iopub.status.idle": "2022-01-08T11:16:14.919613Z",
     "shell.execute_reply": "2022-01-08T11:16:14.920282Z"
    },
    "papermill": {
     "duration": 0.189553,
     "end_time": "2022-01-08T11:16:14.920439",
     "exception": false,
     "start_time": "2022-01-08T11:16:14.730886",
     "status": "completed"
    },
    "tags": []
   },
   "outputs": [
    {
     "data": {
      "text/plain": [
       "0.768269682757861"
      ]
     },
     "execution_count": 80,
     "metadata": {},
     "output_type": "execute_result"
    }
   ],
   "source": [
    "best_model.best_score_"
   ]
  },
  {
   "cell_type": "markdown",
   "id": "b549a785",
   "metadata": {
    "papermill": {
     "duration": 0.183902,
     "end_time": "2022-01-08T11:16:15.283792",
     "exception": false,
     "start_time": "2022-01-08T11:16:15.099890",
     "status": "completed"
    },
    "tags": []
   },
   "source": [
    "**Предсказание с помощью лучшей модели:**"
   ]
  },
  {
   "cell_type": "code",
   "execution_count": 81,
   "id": "3625c8b5",
   "metadata": {
    "execution": {
     "iopub.execute_input": "2022-01-08T11:16:15.657135Z",
     "iopub.status.busy": "2022-01-08T11:16:15.656463Z",
     "iopub.status.idle": "2022-01-08T11:16:15.718940Z",
     "shell.execute_reply": "2022-01-08T11:16:15.719512Z"
    },
    "papermill": {
     "duration": 0.253402,
     "end_time": "2022-01-08T11:16:15.719690",
     "exception": false,
     "start_time": "2022-01-08T11:16:15.466288",
     "status": "completed"
    },
    "tags": []
   },
   "outputs": [],
   "source": [
    "data_for_predict = pd.read_csv(\"/kaggle/input/titanic/test.csv\")\n",
    "predict = best_model.predict(data_for_predict.drop('PassengerId', axis=1))\n",
    "submission = pd.DataFrame(columns=['PassengerId', 'Survived'])\n",
    "submission.PassengerId = data_for_predict.PassengerId\n",
    "submission.Survived = predict\n",
    "submission.to_csv(\"submission.csv\", index=False)"
   ]
  },
  {
   "cell_type": "markdown",
   "id": "df2379d1",
   "metadata": {
    "papermill": {
     "duration": 0.18516,
     "end_time": "2022-01-08T11:16:16.088984",
     "exception": false,
     "start_time": "2022-01-08T11:16:15.903824",
     "status": "completed"
    },
    "tags": []
   },
   "source": [
    "## 9.3 Сохранение модели"
   ]
  },
  {
   "cell_type": "code",
   "execution_count": 82,
   "id": "a925a643",
   "metadata": {
    "execution": {
     "iopub.execute_input": "2022-01-08T11:16:16.455391Z",
     "iopub.status.busy": "2022-01-08T11:16:16.454726Z",
     "iopub.status.idle": "2022-01-08T11:16:16.593853Z",
     "shell.execute_reply": "2022-01-08T11:16:16.594443Z"
    },
    "papermill": {
     "duration": 0.324513,
     "end_time": "2022-01-08T11:16:16.594626",
     "exception": false,
     "start_time": "2022-01-08T11:16:16.270113",
     "status": "completed"
    },
    "tags": []
   },
   "outputs": [],
   "source": [
    "import pickle\n",
    "pickle.dump(best_model, open(\"my_pipline.pkl\", \"wb\"))\n",
    "model_from_file = pickle.load(open(\"my_pipline.pkl\", \"rb\"))"
   ]
  }
 ],
 "metadata": {
  "kernelspec": {
   "display_name": "Python 3",
   "language": "python",
   "name": "python3"
  },
  "language_info": {
   "codemirror_mode": {
    "name": "ipython",
    "version": 3
   },
   "file_extension": ".py",
   "mimetype": "text/x-python",
   "name": "python",
   "nbconvert_exporter": "python",
   "pygments_lexer": "ipython3",
   "version": "3.8.8"
  },
  "papermill": {
   "default_parameters": {},
   "duration": 3705.912787,
   "end_time": "2022-01-08T11:16:17.797021",
   "environment_variables": {},
   "exception": null,
   "input_path": "__notebook__.ipynb",
   "output_path": "__notebook__.ipynb",
   "parameters": {},
   "start_time": "2022-01-08T10:14:31.884234",
   "version": "2.3.3"
  }
 },
 "nbformat": 4,
 "nbformat_minor": 5
}
