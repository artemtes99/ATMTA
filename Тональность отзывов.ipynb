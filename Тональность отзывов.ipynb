{
 "cells": [
  {
   "cell_type": "code",
   "execution_count": 1,
   "id": "66c676a7",
   "metadata": {
    "_cell_guid": "b1076dfc-b9ad-4769-8c92-a6c4dae69d19",
    "_uuid": "8f2839f25d086af736a60e9eeb907d3b93b6e0e5",
    "execution": {
     "iopub.execute_input": "2022-06-02T08:21:42.515519Z",
     "iopub.status.busy": "2022-06-02T08:21:42.514796Z",
     "iopub.status.idle": "2022-06-02T08:21:42.532488Z",
     "shell.execute_reply": "2022-06-02T08:21:42.531311Z"
    },
    "papermill": {
     "duration": 0.072706,
     "end_time": "2022-06-02T08:21:42.535885",
     "exception": false,
     "start_time": "2022-06-02T08:21:42.463179",
     "status": "completed"
    },
    "tags": []
   },
   "outputs": [
    {
     "name": "stdout",
     "output_type": "stream",
     "text": [
      "/kaggle/input/tonality-reviews/sample_submission.csv\n",
      "/kaggle/input/tonality-reviews/train.csv\n",
      "/kaggle/input/tonality-reviews/test.csv\n"
     ]
    }
   ],
   "source": [
    "# This Python 3 environment comes with many helpful analytics libraries installed\n",
    "# It is defined by the kaggle/python Docker image: https://github.com/kaggle/docker-python\n",
    "# For example, here's several helpful packages to load\n",
    "\n",
    "import numpy as np # linear algebra\n",
    "import pandas as pd # data processing, CSV file I/O (e.g. pd.read_csv)\n",
    "\n",
    "# Input data files are available in the read-only \"../input/\" directory\n",
    "# For example, running this (by clicking run or pressing Shift+Enter) will list all files under the input directory\n",
    "\n",
    "import os\n",
    "for dirname, _, filenames in os.walk('/kaggle/input'):\n",
    "    for filename in filenames:\n",
    "        print(os.path.join(dirname, filename))\n",
    "\n",
    "# You can write up to 20GB to the current directory (/kaggle/working/) that gets preserved as output when you create a version using \"Save & Run All\" \n",
    "# You can also write temporary files to /kaggle/temp/, but they won't be saved outside of the current session"
   ]
  },
  {
   "cell_type": "code",
   "execution_count": 2,
   "id": "e4bd8b96",
   "metadata": {
    "execution": {
     "iopub.execute_input": "2022-06-02T08:21:42.634801Z",
     "iopub.status.busy": "2022-06-02T08:21:42.633851Z",
     "iopub.status.idle": "2022-06-02T08:21:59.470287Z",
     "shell.execute_reply": "2022-06-02T08:21:59.469473Z"
    },
    "papermill": {
     "duration": 16.887514,
     "end_time": "2022-06-02T08:21:59.472826",
     "exception": false,
     "start_time": "2022-06-02T08:21:42.585312",
     "status": "completed"
    },
    "tags": []
   },
   "outputs": [
    {
     "name": "stdout",
     "output_type": "stream",
     "text": [
      "Collecting pymorphy2\r\n",
      "  Downloading pymorphy2-0.9.1-py3-none-any.whl (55 kB)\r\n",
      "\u001b[2K     \u001b[90m━━━━━━━━━━━━━━━━━━━━━━━━━━━━━━━━━━━━━━━\u001b[0m \u001b[32m55.5/55.5 KB\u001b[0m \u001b[31m235.7 kB/s\u001b[0m eta \u001b[36m0:00:00\u001b[0m\r\n",
      "\u001b[?25hRequirement already satisfied: docopt>=0.6 in /opt/conda/lib/python3.7/site-packages (from pymorphy2) (0.6.2)\r\n",
      "Collecting pymorphy2-dicts-ru<3.0,>=2.4\r\n",
      "  Downloading pymorphy2_dicts_ru-2.4.417127.4579844-py2.py3-none-any.whl (8.2 MB)\r\n",
      "\u001b[2K     \u001b[90m━━━━━━━━━━━━━━━━━━━━━━━━━━━━━━━━━━━━━━━━\u001b[0m \u001b[32m8.2/8.2 MB\u001b[0m \u001b[31m6.8 MB/s\u001b[0m eta \u001b[36m0:00:00\u001b[0m\r\n",
      "\u001b[?25hCollecting dawg-python>=0.7.1\r\n",
      "  Downloading DAWG_Python-0.7.2-py2.py3-none-any.whl (11 kB)\r\n",
      "Installing collected packages: pymorphy2-dicts-ru, dawg-python, pymorphy2\r\n",
      "Successfully installed dawg-python-0.7.2 pymorphy2-0.9.1 pymorphy2-dicts-ru-2.4.417127.4579844\r\n",
      "\u001b[33mWARNING: Running pip as the 'root' user can result in broken permissions and conflicting behaviour with the system package manager. It is recommended to use a virtual environment instead: https://pip.pypa.io/warnings/venv\u001b[0m\u001b[33m\r\n",
      "\u001b[0m"
     ]
    }
   ],
   "source": [
    "!pip3 install pymorphy2"
   ]
  },
  {
   "cell_type": "code",
   "execution_count": 3,
   "id": "f45bb6fd",
   "metadata": {
    "execution": {
     "iopub.execute_input": "2022-06-02T08:21:59.603813Z",
     "iopub.status.busy": "2022-06-02T08:21:59.603539Z",
     "iopub.status.idle": "2022-06-02T08:22:02.225382Z",
     "shell.execute_reply": "2022-06-02T08:22:02.224485Z"
    },
    "papermill": {
     "duration": 2.688828,
     "end_time": "2022-06-02T08:22:02.227894",
     "exception": false,
     "start_time": "2022-06-02T08:21:59.539066",
     "status": "completed"
    },
    "tags": []
   },
   "outputs": [
    {
     "name": "stdout",
     "output_type": "stream",
     "text": [
      "[nltk_data] Downloading package wordnet to /usr/share/nltk_data...\n",
      "[nltk_data]   Package wordnet is already up-to-date!\n",
      "[nltk_data] Downloading package punkt to /usr/share/nltk_data...\n",
      "[nltk_data]   Package punkt is already up-to-date!\n"
     ]
    }
   ],
   "source": [
    "import matplotlib.pyplot as plt\n",
    "import seaborn as sns\n",
    "from sklearn.model_selection import train_test_split\n",
    "from sklearn.model_selection import StratifiedKFold, KFold, GridSearchCV\n",
    "\n",
    "from sklearn.feature_extraction.text import TfidfVectorizer, CountVectorizer\n",
    "from sklearn.naive_bayes import MultinomialNB\n",
    "from sklearn.svm import SVC\n",
    "from sklearn.ensemble import GradientBoostingClassifier\n",
    "from sklearn.linear_model import LogisticRegression\n",
    "from sklearn.neighbors import KNeighborsClassifier\n",
    "from sklearn.metrics import accuracy_score, confusion_matrix, f1_score\n",
    "\n",
    "from gensim.corpora.dictionary import Dictionary\n",
    "from gensim.models import LdaModel, LsiModel, TfidfModel, Word2Vec, FastText, Doc2Vec\n",
    "\n",
    "import re\n",
    "import time\n",
    "import string\n",
    "import nltk\n",
    "nltk.download('wordnet')\n",
    "nltk.download('punkt')\n",
    "from nltk.tokenize import sent_tokenize, word_tokenize, RegexpTokenizer\n",
    "from nltk.stem.porter import PorterStemmer\n",
    "from nltk.stem import WordNetLemmatizer \n",
    "from nltk.corpus import stopwords\n",
    "\n",
    "from sklearn.decomposition import PCA, KernelPCA, IncrementalPCA\n",
    "from sklearn.manifold import TSNE\n",
    "import matplotlib.pyplot as plt\n",
    "import seaborn as sns\n",
    "import os\n",
    "import pandas as pd\n",
    "import numpy as np\n",
    "from collections import Counter\n",
    "import itertools\n",
    "import pymorphy2\n",
    "\n",
    "from tqdm import tqdm"
   ]
  },
  {
   "cell_type": "markdown",
   "id": "b61e1c4a",
   "metadata": {
    "papermill": {
     "duration": 0.062641,
     "end_time": "2022-06-02T08:22:02.356726",
     "exception": false,
     "start_time": "2022-06-02T08:22:02.294085",
     "status": "completed"
    },
    "tags": []
   },
   "source": [
    "# Загружаем данные, кратко посмотрим содержание датасетов"
   ]
  },
  {
   "cell_type": "code",
   "execution_count": 4,
   "id": "0a09223c",
   "metadata": {
    "execution": {
     "iopub.execute_input": "2022-06-02T08:22:02.485534Z",
     "iopub.status.busy": "2022-06-02T08:22:02.485268Z",
     "iopub.status.idle": "2022-06-02T08:22:03.063290Z",
     "shell.execute_reply": "2022-06-02T08:22:03.062296Z"
    },
    "papermill": {
     "duration": 0.645448,
     "end_time": "2022-06-02T08:22:03.066049",
     "exception": false,
     "start_time": "2022-06-02T08:22:02.420601",
     "status": "completed"
    },
    "tags": []
   },
   "outputs": [
    {
     "data": {
      "text/html": [
       "<div>\n",
       "<style scoped>\n",
       "    .dataframe tbody tr th:only-of-type {\n",
       "        vertical-align: middle;\n",
       "    }\n",
       "\n",
       "    .dataframe tbody tr th {\n",
       "        vertical-align: top;\n",
       "    }\n",
       "\n",
       "    .dataframe thead th {\n",
       "        text-align: right;\n",
       "    }\n",
       "</style>\n",
       "<table border=\"1\" class=\"dataframe\">\n",
       "  <thead>\n",
       "    <tr style=\"text-align: right;\">\n",
       "      <th></th>\n",
       "      <th>Text</th>\n",
       "      <th>Score</th>\n",
       "    </tr>\n",
       "  </thead>\n",
       "  <tbody>\n",
       "    <tr>\n",
       "      <th>0</th>\n",
       "      <td>Итак, начнем с того, что решила я оформить кре...</td>\n",
       "      <td>Negative</td>\n",
       "    </tr>\n",
       "    <tr>\n",
       "      <th>1</th>\n",
       "      <td>Сначала было все банально. Взял в кредит mp3 п...</td>\n",
       "      <td>Negative</td>\n",
       "    </tr>\n",
       "    <tr>\n",
       "      <th>2</th>\n",
       "      <td>Закрыл сегодня в Бинбанк-онлайн пару вкладов, ...</td>\n",
       "      <td>Negative</td>\n",
       "    </tr>\n",
       "    <tr>\n",
       "      <th>3</th>\n",
       "      <td>Прошла неделя после объединения ББ столица, од...</td>\n",
       "      <td>Negative</td>\n",
       "    </tr>\n",
       "    <tr>\n",
       "      <th>4</th>\n",
       "      <td>11.01.2016 при посещение отделения банка по ад...</td>\n",
       "      <td>Negative</td>\n",
       "    </tr>\n",
       "  </tbody>\n",
       "</table>\n",
       "</div>"
      ],
      "text/plain": [
       "                                                Text     Score\n",
       "0  Итак, начнем с того, что решила я оформить кре...  Negative\n",
       "1  Сначала было все банально. Взял в кредит mp3 п...  Negative\n",
       "2  Закрыл сегодня в Бинбанк-онлайн пару вкладов, ...  Negative\n",
       "3  Прошла неделя после объединения ББ столица, од...  Negative\n",
       "4  11.01.2016 при посещение отделения банка по ад...  Negative"
      ]
     },
     "execution_count": 4,
     "metadata": {},
     "output_type": "execute_result"
    }
   ],
   "source": [
    "train = pd.read_pickle('/kaggle/input/tonality-reviews/train.csv')\n",
    "train.head()"
   ]
  },
  {
   "cell_type": "code",
   "execution_count": 5,
   "id": "ee04192d",
   "metadata": {
    "execution": {
     "iopub.execute_input": "2022-06-02T08:22:03.198112Z",
     "iopub.status.busy": "2022-06-02T08:22:03.197468Z",
     "iopub.status.idle": "2022-06-02T08:22:03.370638Z",
     "shell.execute_reply": "2022-06-02T08:22:03.369300Z"
    },
    "papermill": {
     "duration": 0.241698,
     "end_time": "2022-06-02T08:22:03.373270",
     "exception": false,
     "start_time": "2022-06-02T08:22:03.131572",
     "status": "completed"
    },
    "tags": []
   },
   "outputs": [
    {
     "data": {
      "text/html": [
       "<div>\n",
       "<style scoped>\n",
       "    .dataframe tbody tr th:only-of-type {\n",
       "        vertical-align: middle;\n",
       "    }\n",
       "\n",
       "    .dataframe tbody tr th {\n",
       "        vertical-align: top;\n",
       "    }\n",
       "\n",
       "    .dataframe thead th {\n",
       "        text-align: right;\n",
       "    }\n",
       "</style>\n",
       "<table border=\"1\" class=\"dataframe\">\n",
       "  <thead>\n",
       "    <tr style=\"text-align: right;\">\n",
       "      <th></th>\n",
       "      <th>Text</th>\n",
       "    </tr>\n",
       "  </thead>\n",
       "  <tbody>\n",
       "    <tr>\n",
       "      <th>0</th>\n",
       "      <td>Добрый день, являюсь клиентом банка всего 3 ме...</td>\n",
       "    </tr>\n",
       "    <tr>\n",
       "      <th>1</th>\n",
       "      <td>Удивлена ленью и некомпетентностью сотрудников...</td>\n",
       "    </tr>\n",
       "    <tr>\n",
       "      <th>2</th>\n",
       "      <td>И все-таки самый худший банк, с которым мне ко...</td>\n",
       "    </tr>\n",
       "    <tr>\n",
       "      <th>3</th>\n",
       "      <td>Здравствуйте!27 сентября 2014 года я вносил 33...</td>\n",
       "    </tr>\n",
       "    <tr>\n",
       "      <th>4</th>\n",
       "      <td>Уже больше года являюсь клиентом банка. В цело...</td>\n",
       "    </tr>\n",
       "  </tbody>\n",
       "</table>\n",
       "</div>"
      ],
      "text/plain": [
       "                                                Text\n",
       "0  Добрый день, являюсь клиентом банка всего 3 ме...\n",
       "1  Удивлена ленью и некомпетентностью сотрудников...\n",
       "2  И все-таки самый худший банк, с которым мне ко...\n",
       "3  Здравствуйте!27 сентября 2014 года я вносил 33...\n",
       "4  Уже больше года являюсь клиентом банка. В цело..."
      ]
     },
     "execution_count": 5,
     "metadata": {},
     "output_type": "execute_result"
    }
   ],
   "source": [
    "test = pd.read_pickle('/kaggle/input/tonality-reviews/test.csv').to_frame()\n",
    "test.head()"
   ]
  },
  {
   "cell_type": "markdown",
   "id": "93f1aee3",
   "metadata": {
    "papermill": {
     "duration": 0.064137,
     "end_time": "2022-06-02T08:22:03.512192",
     "exception": false,
     "start_time": "2022-06-02T08:22:03.448055",
     "status": "completed"
    },
    "tags": []
   },
   "source": [
    "### Была идея рассмотреть две библиотеки: pymorphy2 и natasha, но под капотом natasha использует тот же pymorphy"
   ]
  },
  {
   "cell_type": "code",
   "execution_count": 6,
   "id": "5ca7a4ca",
   "metadata": {
    "execution": {
     "iopub.execute_input": "2022-06-02T08:22:03.642772Z",
     "iopub.status.busy": "2022-06-02T08:22:03.642465Z",
     "iopub.status.idle": "2022-06-02T08:22:03.934447Z",
     "shell.execute_reply": "2022-06-02T08:22:03.933654Z"
    },
    "papermill": {
     "duration": 0.360297,
     "end_time": "2022-06-02T08:22:03.936947",
     "exception": false,
     "start_time": "2022-06-02T08:22:03.576650",
     "status": "completed"
    },
    "tags": []
   },
   "outputs": [],
   "source": [
    "morph = pymorphy2.MorphAnalyzer()\n",
    "# Стоп-слова и пунктуация нам не нужны\n",
    "stop_words = set(stopwords.words('russian'))\n",
    "punkt = list(string.punctuation)"
   ]
  },
  {
   "cell_type": "code",
   "execution_count": 7,
   "id": "93e99ded",
   "metadata": {
    "execution": {
     "iopub.execute_input": "2022-06-02T08:22:04.074508Z",
     "iopub.status.busy": "2022-06-02T08:22:04.073948Z",
     "iopub.status.idle": "2022-06-02T08:22:04.085735Z",
     "shell.execute_reply": "2022-06-02T08:22:04.084977Z"
    },
    "papermill": {
     "duration": 0.080701,
     "end_time": "2022-06-02T08:22:04.088012",
     "exception": false,
     "start_time": "2022-06-02T08:22:04.007311",
     "status": "completed"
    },
    "tags": []
   },
   "outputs": [],
   "source": [
    "# Взял из ноутбука предобработку, добавил отсев односимвольных слов, так как они точно не несут никакого смысла\n",
    "def remove_URL(text):\n",
    "    url = re.compile(r'https?://\\S+|www\\.\\S+')\n",
    "    return url.sub(r' ',text)\n",
    "\n",
    "# убрать HTML разметку\n",
    "def remove_html(text):\n",
    "    html=re.compile(r'<.*?>')\n",
    "    return html.sub(r' ',text)\n",
    "\n",
    "def remove_mail(text):\n",
    "    mail=re.compile(r'^([a-z0-9_\\.-]+)@([a-z0-9_\\.-]+)\\.([a-z\\.]{2,6})$')\n",
    "    return mail.sub(r' ',text)\n",
    "\n",
    "# убрать эмодзи\n",
    "def remove_emoji(text):\n",
    "    emoji_pattern = re.compile(\"[\"\n",
    "                           u\"\\U0001F600-\\U0001F64F\"  # emoticons\n",
    "                           u\"\\U0001F300-\\U0001F5FF\"  # symbols & pictographs\n",
    "                           u\"\\U0001F680-\\U0001F6FF\"  # transport & map symbols\n",
    "                           u\"\\U0001F1E0-\\U0001F1FF\"  # flags (iOS)\n",
    "                           u\"\\U00002702-\\U000027B0\"\n",
    "                           u\"\\U000024C2-\\U0001F251\"\n",
    "                           \"]+\", flags=re.UNICODE)\n",
    "    return emoji_pattern.sub(r' ', text)\n",
    "\n",
    "# напишем нашу функцию токенизации, с учетом всего рассмотренного\n",
    "stop_words = set(stopwords.words(\"russian\"))\n",
    "def mytokenize(text):\n",
    "    text = remove_html(text)\n",
    "    text = remove_URL(text)\n",
    "    text = remove_emoji(text)\n",
    "    text = remove_mail(text)\n",
    "    text = text.lower()\n",
    "    text = re.sub(\"[^а-яёйa-z0-9]\", \" \", text)\n",
    "    text = re.sub(\"\\s+\", \" \", text)\n",
    "    text = word_tokenize(text)\n",
    "    text = [word for word in text if word.isalpha()]\n",
    "    text = [word for word in text if not word in stop_words]\n",
    "    text = [word for word in text if len(word)>1]\n",
    "#     text = [morph.normal_forms(word)[0] for word in text]\n",
    "    return text"
   ]
  },
  {
   "cell_type": "code",
   "execution_count": 8,
   "id": "a3c2e638",
   "metadata": {
    "execution": {
     "iopub.execute_input": "2022-06-02T08:22:04.221730Z",
     "iopub.status.busy": "2022-06-02T08:22:04.221423Z",
     "iopub.status.idle": "2022-06-02T08:35:45.294612Z",
     "shell.execute_reply": "2022-06-02T08:35:45.291060Z"
    },
    "papermill": {
     "duration": 821.203696,
     "end_time": "2022-06-02T08:35:45.359437",
     "exception": false,
     "start_time": "2022-06-02T08:22:04.155741",
     "status": "completed"
    },
    "tags": []
   },
   "outputs": [
    {
     "data": {
      "text/html": [
       "<div>\n",
       "<style scoped>\n",
       "    .dataframe tbody tr th:only-of-type {\n",
       "        vertical-align: middle;\n",
       "    }\n",
       "\n",
       "    .dataframe tbody tr th {\n",
       "        vertical-align: top;\n",
       "    }\n",
       "\n",
       "    .dataframe thead th {\n",
       "        text-align: right;\n",
       "    }\n",
       "</style>\n",
       "<table border=\"1\" class=\"dataframe\">\n",
       "  <thead>\n",
       "    <tr style=\"text-align: right;\">\n",
       "      <th></th>\n",
       "      <th>Text</th>\n",
       "      <th>Score</th>\n",
       "      <th>tokens</th>\n",
       "      <th>prep_text</th>\n",
       "    </tr>\n",
       "  </thead>\n",
       "  <tbody>\n",
       "    <tr>\n",
       "      <th>0</th>\n",
       "      <td>Итак, начнем с того, что решила я оформить кре...</td>\n",
       "      <td>0</td>\n",
       "      <td>[итак, начать, решить, оформить, кредитный, ка...</td>\n",
       "      <td>итак начать решить оформить кредитный карта мо...</td>\n",
       "    </tr>\n",
       "    <tr>\n",
       "      <th>1</th>\n",
       "      <td>Сначала было все банально. Взял в кредит mp3 п...</td>\n",
       "      <td>0</td>\n",
       "      <td>[сначала, банально, взять, кредит, плеер, мес,...</td>\n",
       "      <td>сначала банально взять кредит плеер мес платит...</td>\n",
       "    </tr>\n",
       "    <tr>\n",
       "      <th>2</th>\n",
       "      <td>Закрыл сегодня в Бинбанк-онлайн пару вкладов, ...</td>\n",
       "      <td>0</td>\n",
       "      <td>[закрыть, сегодня, бинбанк, онлайн, пара, вкла...</td>\n",
       "      <td>закрыть сегодня бинбанк онлайн пара вклад день...</td>\n",
       "    </tr>\n",
       "    <tr>\n",
       "      <th>3</th>\n",
       "      <td>Прошла неделя после объединения ББ столица, од...</td>\n",
       "      <td>0</td>\n",
       "      <td>[пройти, неделя, объединение, бб, столица, одн...</td>\n",
       "      <td>пройти неделя объединение бб столица однако би...</td>\n",
       "    </tr>\n",
       "    <tr>\n",
       "      <th>4</th>\n",
       "      <td>11.01.2016 при посещение отделения банка по ад...</td>\n",
       "      <td>0</td>\n",
       "      <td>[посещение, отделение, банк, адрес, спб, наб, ...</td>\n",
       "      <td>посещение отделение банк адрес спб наб обводны...</td>\n",
       "    </tr>\n",
       "  </tbody>\n",
       "</table>\n",
       "</div>"
      ],
      "text/plain": [
       "                                                Text  Score  \\\n",
       "0  Итак, начнем с того, что решила я оформить кре...      0   \n",
       "1  Сначала было все банально. Взял в кредит mp3 п...      0   \n",
       "2  Закрыл сегодня в Бинбанк-онлайн пару вкладов, ...      0   \n",
       "3  Прошла неделя после объединения ББ столица, од...      0   \n",
       "4  11.01.2016 при посещение отделения банка по ад...      0   \n",
       "\n",
       "                                              tokens  \\\n",
       "0  [итак, начать, решить, оформить, кредитный, ка...   \n",
       "1  [сначала, банально, взять, кредит, плеер, мес,...   \n",
       "2  [закрыть, сегодня, бинбанк, онлайн, пара, вкла...   \n",
       "3  [пройти, неделя, объединение, бб, столица, одн...   \n",
       "4  [посещение, отделение, банк, адрес, спб, наб, ...   \n",
       "\n",
       "                                           prep_text  \n",
       "0  итак начать решить оформить кредитный карта мо...  \n",
       "1  сначала банально взять кредит плеер мес платит...  \n",
       "2  закрыть сегодня бинбанк онлайн пара вклад день...  \n",
       "3  пройти неделя объединение бб столица однако би...  \n",
       "4  посещение отделение банк адрес спб наб обводны...  "
      ]
     },
     "execution_count": 8,
     "metadata": {},
     "output_type": "execute_result"
    }
   ],
   "source": [
    "# Токенизация\n",
    "train['tokens'] = train.Text.apply(mytokenize)\n",
    "test['tokens'] = test.Text.apply(mytokenize)\n",
    "\n",
    "# Лемматизация (pymorphy) + соединение слов в отзыве в строку\n",
    "train['prep_text'] = ''\n",
    "test['prep_text'] = ''\n",
    "for i in range(len(train)):\n",
    "    train.tokens[i] = [morph.parse(word)[0].normal_form for word in train.tokens[i]]\n",
    "    train['prep_text'][i] = ' '.join(train['tokens'][i])\n",
    "for i in range(len(test)):\n",
    "    test.tokens[i] = [morph.parse(word)[0].normal_form for word in test.tokens[i]]\n",
    "    test['prep_text'][i] = ' '.join(test['tokens'][i])\n",
    "\n",
    "# Перевод в числовой вид решающей переменной\n",
    "train['Score'].replace('Positive', 1, inplace=True)\n",
    "train['Score'].replace('Negative', 0, inplace=True)\n",
    "\n",
    "# Результат\n",
    "train.head()"
   ]
  },
  {
   "cell_type": "markdown",
   "id": "9fcd2ab1",
   "metadata": {
    "papermill": {
     "duration": 0.063641,
     "end_time": "2022-06-02T08:35:45.487064",
     "exception": false,
     "start_time": "2022-06-02T08:35:45.423423",
     "status": "completed"
    },
    "tags": []
   },
   "source": [
    "### Есть идея оценивать эмодзи по тональности, но я не нашёл библиотеки с разделением на положительные/негативные эмодзи, вручную делать это крайне долго (можно обучить модель для этого, но тут задание не предполагает этого)"
   ]
  },
  {
   "cell_type": "markdown",
   "id": "b407782d",
   "metadata": {
    "papermill": {
     "duration": 0.063761,
     "end_time": "2022-06-02T08:35:45.615154",
     "exception": false,
     "start_time": "2022-06-02T08:35:45.551393",
     "status": "completed"
    },
    "tags": []
   },
   "source": [
    "# TF-IDF (реализован в виде функции TfidfVectorizer())\n",
    "### Bag-of-words (реализован в виде функции CountVectorizer()) (реализован в версии 6)."
   ]
  },
  {
   "cell_type": "markdown",
   "id": "f1f0efdc",
   "metadata": {
    "papermill": {
     "duration": 0.063762,
     "end_time": "2022-06-02T08:35:45.742769",
     "exception": false,
     "start_time": "2022-06-02T08:35:45.679007",
     "status": "completed"
    },
    "tags": []
   },
   "source": [
    "## Отдельно составлю список слов (из положительных/отрицательных/всех отзывов с количеством их употребления."
   ]
  },
  {
   "cell_type": "code",
   "execution_count": 9,
   "id": "c907372b",
   "metadata": {
    "execution": {
     "iopub.execute_input": "2022-06-02T08:35:45.873681Z",
     "iopub.status.busy": "2022-06-02T08:35:45.873409Z",
     "iopub.status.idle": "2022-06-02T08:35:46.243978Z",
     "shell.execute_reply": "2022-06-02T08:35:46.242994Z"
    },
    "papermill": {
     "duration": 0.438181,
     "end_time": "2022-06-02T08:35:46.246047",
     "exception": false,
     "start_time": "2022-06-02T08:35:45.807866",
     "status": "completed"
    },
    "tags": []
   },
   "outputs": [
    {
     "name": "stdout",
     "output_type": "stream",
     "text": [
      "1    8018\n",
      "0    7981\n",
      "Name: Score, dtype: int64\n"
     ]
    },
    {
     "data": {
      "image/png": "[encoded data removed]",
      "text/plain": [
       "<Figure size 432x288 with 1 Axes>"
      ]
     },
     "metadata": {
      "needs_background": "light"
     },
     "output_type": "display_data"
    }
   ],
   "source": [
    "# Распределение практически 50/50, это хорошо\n",
    "score = train['Score'].value_counts()\n",
    "sns.barplot(x=score.index,y=score)\n",
    "print(score)"
   ]
  },
  {
   "cell_type": "code",
   "execution_count": 10,
   "id": "fc5c0314",
   "metadata": {
    "execution": {
     "iopub.execute_input": "2022-06-02T08:35:46.382100Z",
     "iopub.status.busy": "2022-06-02T08:35:46.381809Z",
     "iopub.status.idle": "2022-06-02T08:35:47.574861Z",
     "shell.execute_reply": "2022-06-02T08:35:47.573500Z"
    },
    "papermill": {
     "duration": 1.263498,
     "end_time": "2022-06-02T08:35:47.577355",
     "exception": false,
     "start_time": "2022-06-02T08:35:46.313857",
     "status": "completed"
    },
    "tags": []
   },
   "outputs": [
    {
     "name": "stdout",
     "output_type": "stream",
     "text": [
      "Всего 3017424 слов\n",
      "Всего уникальных 44155 слов\n"
     ]
    },
    {
     "data": {
      "text/plain": [
       "банк            96978\n",
       "карта           45170\n",
       "это             26734\n",
       "день            23415\n",
       "мой             22753\n",
       "кредит          21493\n",
       "сотрудник       21154\n",
       "который         20787\n",
       "счёт            20199\n",
       "деньга          19950\n",
       "отделение       19511\n",
       "клиент          19494\n",
       "год             15149\n",
       "вопрос          14377\n",
       "сказать         14312\n",
       "очень           13683\n",
       "свой            13678\n",
       "время           13150\n",
       "сумма           12998\n",
       "кредитный       12707\n",
       "офис            11354\n",
       "альфа           11297\n",
       "получить        11082\n",
       "мочь            10963\n",
       "такой           10936\n",
       "проблема        10035\n",
       "заявление        9669\n",
       "работа           9285\n",
       "договор          9048\n",
       "платёж           8973\n",
       "телефон          8972\n",
       "банкомат         8892\n",
       "позвонить        8867\n",
       "документ         8748\n",
       "месяц            8720\n",
       "ответ            8576\n",
       "обслуживание     8446\n",
       "дать             8419\n",
       "хотеть           8391\n",
       "решить           8370\n",
       "услуга           8224\n",
       "звонить          8213\n",
       "какой            8079\n",
       "претензия        8073\n",
       "работать         8037\n",
       "ваш              7920\n",
       "вклад            7713\n",
       "прийти           7668\n",
       "другой           7451\n",
       "номер            7348\n",
       "dtype: int64"
      ]
     },
     "execution_count": 10,
     "metadata": {},
     "output_type": "execute_result"
    }
   ],
   "source": [
    "# Составляем общий список слов для анализа полученных данных\n",
    "# Вычисление уникальных слов для посчёта их количества\n",
    "vocab = []\n",
    "raw_vocab = list(itertools.chain(*train.tokens.values, *test.tokens.values))\n",
    "print('Всего', len(raw_vocab), \"слов\")\n",
    "vocab = pd.Series(raw_vocab).value_counts()\n",
    "print('Всего уникальных', len(vocab), \"слов\")\n",
    "vocab[:50]"
   ]
  },
  {
   "cell_type": "code",
   "execution_count": 11,
   "id": "06ffa60b",
   "metadata": {
    "execution": {
     "iopub.execute_input": "2022-06-02T08:35:47.715521Z",
     "iopub.status.busy": "2022-06-02T08:35:47.715251Z",
     "iopub.status.idle": "2022-06-02T08:35:48.088669Z",
     "shell.execute_reply": "2022-06-02T08:35:48.087813Z"
    },
    "papermill": {
     "duration": 0.445188,
     "end_time": "2022-06-02T08:35:48.091032",
     "exception": false,
     "start_time": "2022-06-02T08:35:47.645844",
     "status": "completed"
    },
    "tags": []
   },
   "outputs": [
    {
     "name": "stdout",
     "output_type": "stream",
     "text": [
      "False    34551\n",
      "True      9604\n",
      "dtype: int64\n"
     ]
    },
    {
     "data": {
      "text/plain": [
       "<AxesSubplot:>"
      ]
     },
     "execution_count": 11,
     "metadata": {},
     "output_type": "execute_result"
    },
    {
     "data": {
      "image/png": "[encoded data removed]",
      "text/plain": [
       "<Figure size 432x288 with 1 Axes>"
      ]
     },
     "metadata": {
      "needs_background": "light"
     },
     "output_type": "display_data"
    }
   ],
   "source": [
    "# Крайне много слов, которые употребляются очень редко (менее 10 упоминаний на весь корпус текста)\n",
    "print(vocab.groupby(vocab>10).count())\n",
    "sns.barplot(x=['>10', '<=10'],y=vocab.groupby(vocab>10).count())"
   ]
  },
  {
   "cell_type": "code",
   "execution_count": 12,
   "id": "6c9507ae",
   "metadata": {
    "execution": {
     "iopub.execute_input": "2022-06-02T08:35:48.232369Z",
     "iopub.status.busy": "2022-06-02T08:35:48.231964Z",
     "iopub.status.idle": "2022-06-02T08:35:48.247758Z",
     "shell.execute_reply": "2022-06-02T08:35:48.246983Z"
    },
    "papermill": {
     "duration": 0.089054,
     "end_time": "2022-06-02T08:35:48.250011",
     "exception": false,
     "start_time": "2022-06-02T08:35:48.160957",
     "status": "completed"
    },
    "tags": []
   },
   "outputs": [],
   "source": [
    "# Зафиксируем список слов, количество которых в общем списке меньше 10\n",
    "set_less10 = frozenset(vocab[vocab<10].index)"
   ]
  },
  {
   "cell_type": "code",
   "execution_count": 13,
   "id": "26925505",
   "metadata": {
    "execution": {
     "iopub.execute_input": "2022-06-02T08:35:48.412739Z",
     "iopub.status.busy": "2022-06-02T08:35:48.412317Z",
     "iopub.status.idle": "2022-06-02T08:35:49.872170Z",
     "shell.execute_reply": "2022-06-02T08:35:49.870788Z"
    },
    "papermill": {
     "duration": 1.54997,
     "end_time": "2022-06-02T08:35:49.874308",
     "exception": false,
     "start_time": "2022-06-02T08:35:48.324338",
     "status": "completed"
    },
    "tags": []
   },
   "outputs": [
    {
     "name": "stdout",
     "output_type": "stream",
     "text": [
      "Всего 2941569 слов\n",
      "Всего уникальных 10092 слов\n"
     ]
    }
   ],
   "source": [
    "# Попробуем убрать редкие слова\n",
    "vocab_more10 = []\n",
    "vocab_more10 = list(itertools.chain(*train.tokens.values, *test.tokens.values))\n",
    "vocab_more10 = [item for item in vocab_more10 if item not in set_less10]\n",
    "print('Всего', len(vocab_more10), \"слов\")\n",
    "vocab_more10 = pd.Series(vocab_more10).value_counts()\n",
    "print('Всего уникальных', len(vocab_more10), \"слов\")\n",
    "# Количество изменилось всего на почти 30000 слов (~2-3%), а количество уникальных снизилось на 70%"
   ]
  },
  {
   "cell_type": "code",
   "execution_count": 14,
   "id": "80736a4b",
   "metadata": {
    "execution": {
     "iopub.execute_input": "2022-06-02T08:35:50.015546Z",
     "iopub.status.busy": "2022-06-02T08:35:50.015271Z",
     "iopub.status.idle": "2022-06-02T08:35:51.139493Z",
     "shell.execute_reply": "2022-06-02T08:35:51.137905Z"
    },
    "papermill": {
     "duration": 1.198848,
     "end_time": "2022-06-02T08:35:51.142992",
     "exception": false,
     "start_time": "2022-06-02T08:35:49.944144",
     "status": "completed"
    },
    "tags": []
   },
   "outputs": [
    {
     "name": "stdout",
     "output_type": "stream",
     "text": [
      "Всего 1317105 слов\n",
      "Всего уникальных 26541 слов\n",
      "банк         43168\n",
      "карта        20981\n",
      "это          11985\n",
      "мой          11165\n",
      "день         11101\n",
      "счёт         10352\n",
      "сотрудник     9934\n",
      "деньга        9668\n",
      "который       9634\n",
      "кредит        9110\n",
      "клиент        8317\n",
      "отделение     8100\n",
      "сказать       7454\n",
      "альфа         7297\n",
      "сумма         6844\n",
      "год           6096\n",
      "кредитный     5977\n",
      "свой          5814\n",
      "вопрос        5758\n",
      "претензия     5496\n",
      "мочь          5461\n",
      "время         5386\n",
      "заявление     5358\n",
      "договор       5127\n",
      "звонить       5109\n",
      "получить      5088\n",
      "ответ         5060\n",
      "телефон       4992\n",
      "такой         4819\n",
      "номер         4778\n",
      "dtype: int64\n",
      "Всего 1289104 слов\n",
      "Всего уникальных 9869 слов\n"
     ]
    }
   ],
   "source": [
    "# Выведем топ 15 слов из негативных отзывов\n",
    "neg_vocab = []\n",
    "neg_vocab = list(itertools.chain(*train[train['Score']==0].tokens.values))\n",
    "print('Всего', len(neg_vocab), \"слов\")\n",
    "neg_vocab = pd.Series(neg_vocab).value_counts()\n",
    "print('Всего уникальных', len(neg_vocab), \"слов\")\n",
    "print(neg_vocab[:30])\n",
    "\n",
    "# Попробуем убрать редкие слова\n",
    "neg_vocab = []\n",
    "neg_vocab = list(itertools.chain(*train[train['Score']==0].tokens.values))\n",
    "neg_vocab_more10 = [item for item in neg_vocab if item not in set_less10]\n",
    "print('Всего', len(neg_vocab_more10), \"слов\")\n",
    "neg_vocab_more10 = pd.Series(neg_vocab_more10).value_counts()\n",
    "print('Всего уникальных', len(neg_vocab_more10), \"слов\")\n",
    "# Количество изменилось всего на почти 30000 слов (~2-3%), а количество уникальных снизилось на 60%"
   ]
  },
  {
   "cell_type": "code",
   "execution_count": 15,
   "id": "c58971f9",
   "metadata": {
    "execution": {
     "iopub.execute_input": "2022-06-02T08:35:51.290312Z",
     "iopub.status.busy": "2022-06-02T08:35:51.289648Z",
     "iopub.status.idle": "2022-06-02T08:35:52.355592Z",
     "shell.execute_reply": "2022-06-02T08:35:52.354616Z"
    },
    "papermill": {
     "duration": 1.143309,
     "end_time": "2022-06-02T08:35:52.358761",
     "exception": false,
     "start_time": "2022-06-02T08:35:51.215452",
     "status": "completed"
    },
    "tags": []
   },
   "outputs": [
    {
     "name": "stdout",
     "output_type": "stream",
     "text": [
      "Всего 1084541 слов\n",
      "Всего уникальных 29322 слов\n",
      "банк            34358\n",
      "карта           15062\n",
      "это              9225\n",
      "очень            8322\n",
      "кредит           8129\n",
      "день             7573\n",
      "отделение        7442\n",
      "клиент           7316\n",
      "мой              7075\n",
      "сотрудник        7058\n",
      "который          6889\n",
      "деньга           6197\n",
      "год              5939\n",
      "вопрос           5712\n",
      "счёт             5625\n",
      "время            5068\n",
      "свой             5021\n",
      "офис             4895\n",
      "работа           4662\n",
      "проблема         4406\n",
      "кредитный        4220\n",
      "спасибо          4172\n",
      "обслуживание     3973\n",
      "сказать          3938\n",
      "хотеть           3867\n",
      "такой            3831\n",
      "вклад            3805\n",
      "получить         3598\n",
      "сумма            3497\n",
      "документ         3327\n",
      "dtype: int64\n",
      "Всего 1052398 слов\n",
      "Всего уникальных 9944 слов\n"
     ]
    }
   ],
   "source": [
    "# Аналогично выведем топ 15 слов из позитивных отзывов\n",
    "pos_vocab = []\n",
    "pos_vocab = list(itertools.chain(*train[train['Score']==1].tokens.values))\n",
    "print('Всего', len(pos_vocab), \"слов\")\n",
    "pos_vocab = pd.Series(pos_vocab).value_counts()\n",
    "print('Всего уникальных', len(pos_vocab), \"слов\")\n",
    "print(pos_vocab[:30])\n",
    "\n",
    "# Попробуем убрать редкие слова\n",
    "pos_vocab = []\n",
    "pos_vocab = list(itertools.chain(*train[train['Score']==1].tokens.values))\n",
    "pos_vocab_more10 = [item for item in pos_vocab if item not in set_less10]\n",
    "print('Всего', len(pos_vocab_more10), \"слов\")\n",
    "pos_vocab_more10 = pd.Series(pos_vocab_more10).value_counts()\n",
    "print('Всего уникальных', len(pos_vocab_more10), \"слов\")\n",
    "# Количество изменилось всего на почти 30000 слов (~2-3%), а количество уникальных снизилось на 60%"
   ]
  },
  {
   "cell_type": "markdown",
   "id": "7f9c3daa",
   "metadata": {
    "papermill": {
     "duration": 0.073157,
     "end_time": "2022-06-02T08:35:52.506540",
     "exception": false,
     "start_time": "2022-06-02T08:35:52.433383",
     "status": "completed"
    },
    "tags": []
   },
   "source": [
    "## Основные слова у позитивных и негативных отзывов примерно одинаковы, значит они несут не так много смысла. Также в корпусе текстов очень много редких слов, которые редко несут в себе ключевой смысл, значит их можно убрать."
   ]
  },
  {
   "cell_type": "markdown",
   "id": "fee2de4f",
   "metadata": {
    "papermill": {
     "duration": 0.07312,
     "end_time": "2022-06-02T08:35:52.653187",
     "exception": false,
     "start_time": "2022-06-02T08:35:52.580067",
     "status": "completed"
    },
    "tags": []
   },
   "source": [
    "## TfIdfVectorizer\n",
    "### также опробовать с ним алгоритмы: knn, logreg"
   ]
  },
  {
   "cell_type": "code",
   "execution_count": 16,
   "id": "93ed500e",
   "metadata": {
    "execution": {
     "iopub.execute_input": "2022-06-02T08:35:52.802137Z",
     "iopub.status.busy": "2022-06-02T08:35:52.801826Z",
     "iopub.status.idle": "2022-06-02T08:36:10.550258Z",
     "shell.execute_reply": "2022-06-02T08:36:10.549407Z"
    },
    "papermill": {
     "duration": 17.826877,
     "end_time": "2022-06-02T08:36:10.552960",
     "exception": false,
     "start_time": "2022-06-02T08:35:52.726083",
     "status": "completed"
    },
    "tags": []
   },
   "outputs": [],
   "source": [
    "# TfidfVectorizer (с биграммами)\n",
    "vectorizer = TfidfVectorizer(ngram_range=(1, 2), max_df=0.2, min_df=10)\n",
    "vectorizer.fit(train['prep_text'].append(test['prep_text']))\n",
    "X = vectorizer.transform(train['prep_text'])\n",
    "X_test = vectorizer.transform(test['prep_text'])\n",
    "y = train['Score']"
   ]
  },
  {
   "cell_type": "code",
   "execution_count": 17,
   "id": "d713a6c4",
   "metadata": {
    "execution": {
     "iopub.execute_input": "2022-06-02T08:36:10.703645Z",
     "iopub.status.busy": "2022-06-02T08:36:10.702737Z",
     "iopub.status.idle": "2022-06-02T08:36:10.709183Z",
     "shell.execute_reply": "2022-06-02T08:36:10.708338Z"
    },
    "papermill": {
     "duration": 0.083391,
     "end_time": "2022-06-02T08:36:10.711266",
     "exception": false,
     "start_time": "2022-06-02T08:36:10.627875",
     "status": "completed"
    },
    "tags": []
   },
   "outputs": [
    {
     "data": {
      "text/plain": [
       "<15999x45999 sparse matrix of type '<class 'numpy.float64'>'\n",
       "\twith 2271495 stored elements in Compressed Sparse Row format>"
      ]
     },
     "execution_count": 17,
     "metadata": {},
     "output_type": "execute_result"
    }
   ],
   "source": [
    "# Проверяем размерности\n",
    "X"
   ]
  },
  {
   "cell_type": "code",
   "execution_count": 18,
   "id": "c01463e7",
   "metadata": {
    "execution": {
     "iopub.execute_input": "2022-06-02T08:36:10.859285Z",
     "iopub.status.busy": "2022-06-02T08:36:10.858877Z",
     "iopub.status.idle": "2022-06-02T08:36:10.864808Z",
     "shell.execute_reply": "2022-06-02T08:36:10.863891Z"
    },
    "papermill": {
     "duration": 0.08256,
     "end_time": "2022-06-02T08:36:10.867427",
     "exception": false,
     "start_time": "2022-06-02T08:36:10.784867",
     "status": "completed"
    },
    "tags": []
   },
   "outputs": [
    {
     "data": {
      "text/plain": [
       "<4000x45999 sparse matrix of type '<class 'numpy.float64'>'\n",
       "\twith 578561 stored elements in Compressed Sparse Row format>"
      ]
     },
     "execution_count": 18,
     "metadata": {},
     "output_type": "execute_result"
    }
   ],
   "source": [
    "X_test"
   ]
  },
  {
   "cell_type": "code",
   "execution_count": null,
   "id": "1da17988",
   "metadata": {
    "papermill": {
     "duration": 0.073229,
     "end_time": "2022-06-02T08:36:11.013310",
     "exception": false,
     "start_time": "2022-06-02T08:36:10.940081",
     "status": "completed"
    },
    "tags": []
   },
   "outputs": [],
   "source": []
  },
  {
   "cell_type": "code",
   "execution_count": 19,
   "id": "c2e92624",
   "metadata": {
    "execution": {
     "iopub.execute_input": "2022-06-02T08:36:11.161568Z",
     "iopub.status.busy": "2022-06-02T08:36:11.160969Z",
     "iopub.status.idle": "2022-06-02T08:48:18.795837Z",
     "shell.execute_reply": "2022-06-02T08:48:18.795163Z"
    },
    "papermill": {
     "duration": 727.78313,
     "end_time": "2022-06-02T08:48:18.869675",
     "exception": false,
     "start_time": "2022-06-02T08:36:11.086545",
     "status": "completed"
    },
    "tags": []
   },
   "outputs": [
    {
     "name": "stdout",
     "output_type": "stream",
     "text": [
      "(15999, 1000) (4000, 1000)\n"
     ]
    },
    {
     "data": {
      "text/plain": [
       "array([[ 0.17920203, -0.07374076,  0.02296663, ..., -0.00351308,\n",
       "        -0.00950609,  0.01736267],\n",
       "       [ 0.17943003, -0.08683475, -0.02720853, ..., -0.00208947,\n",
       "         0.01527541,  0.01037595],\n",
       "       [ 0.10981697, -0.01283114,  0.06431044, ...,  0.0159171 ,\n",
       "         0.01319301,  0.00936961],\n",
       "       [ 0.15561744,  0.02220759,  0.03550838, ...,  0.02283557,\n",
       "        -0.00478875,  0.00320794],\n",
       "       [ 0.16390351, -0.08137228, -0.03079205, ...,  0.00671066,\n",
       "        -0.00465314,  0.00352631]])"
      ]
     },
     "execution_count": 19,
     "metadata": {},
     "output_type": "execute_result"
    }
   ],
   "source": [
    "from sklearn.decomposition import TruncatedSVD\n",
    "\n",
    "# Попробуем обобщить модель, объединив слова в категории с помощью латентно-семантического анализа\n",
    "lsa_model = TruncatedSVD(n_components=1000, n_iter=10, random_state=42)\n",
    "lsa=lsa_model.fit_transform(np.concatenate((X.toarray(), X_test.toarray()), axis=0))\n",
    "\n",
    "X_test = lsa[-4000:]\n",
    "lsa = lsa[:-4000]\n",
    "\n",
    "# Проверка размерностей\n",
    "print(lsa.shape, X_test.shape)\n",
    "lsa[:5]"
   ]
  },
  {
   "cell_type": "code",
   "execution_count": 20,
   "id": "8d851f84",
   "metadata": {
    "execution": {
     "iopub.execute_input": "2022-06-02T08:48:19.026559Z",
     "iopub.status.busy": "2022-06-02T08:48:19.026267Z",
     "iopub.status.idle": "2022-06-02T08:48:19.087285Z",
     "shell.execute_reply": "2022-06-02T08:48:19.086408Z"
    },
    "papermill": {
     "duration": 0.144748,
     "end_time": "2022-06-02T08:48:19.089388",
     "exception": false,
     "start_time": "2022-06-02T08:48:18.944640",
     "status": "completed"
    },
    "tags": []
   },
   "outputs": [
    {
     "name": "stdout",
     "output_type": "stream",
     "text": [
      "(12799, 1000) (3200, 1000)\n"
     ]
    }
   ],
   "source": [
    "X_train, X_val, y_train, y_val = train_test_split(lsa, y, test_size=0.2, random_state=42)\n",
    "# Взял функцию из otzivi, она там хорошо и лаконично показывает результат, добавил отображение времени в секундах\n",
    "result = pd.DataFrame(columns=['vecModel', 'model', 'accuracy_score', 'f1_score', 'time'])\n",
    "def run_model(vecModel, model, X_train, X_val, y_train, y_val, result):\n",
    "    start_time = time.clock()\n",
    "    y_val_pred = model.fit(X_train, y_train).predict(X_val)\n",
    "    result_time = time.clock() - start_time\n",
    "    result.loc[result.shape[0]] = [vecModel, str(model), accuracy_score(y_val, y_val_pred), f1_score(y_val, y_val_pred), result_time]\n",
    "    return vecModel, model\n",
    "print(X_train.shape, X_val.shape)"
   ]
  },
  {
   "cell_type": "code",
   "execution_count": 21,
   "id": "a510aa08",
   "metadata": {
    "execution": {
     "iopub.execute_input": "2022-06-02T08:48:19.241186Z",
     "iopub.status.busy": "2022-06-02T08:48:19.240624Z",
     "iopub.status.idle": "2022-06-02T08:57:06.515765Z",
     "shell.execute_reply": "2022-06-02T08:57:06.514830Z"
    },
    "papermill": {
     "duration": 527.43171,
     "end_time": "2022-06-02T08:57:06.596427",
     "exception": false,
     "start_time": "2022-06-02T08:48:19.164717",
     "status": "completed"
    },
    "tags": []
   },
   "outputs": [
    {
     "name": "stderr",
     "output_type": "stream",
     "text": [
      "/opt/conda/lib/python3.7/site-packages/ipykernel_launcher.py:5: DeprecationWarning: time.clock has been deprecated in Python 3.3 and will be removed from Python 3.8: use time.perf_counter or time.process_time instead\n",
      "  \"\"\"\n",
      "/opt/conda/lib/python3.7/site-packages/ipykernel_launcher.py:7: DeprecationWarning: time.clock has been deprecated in Python 3.3 and will be removed from Python 3.8: use time.perf_counter or time.process_time instead\n",
      "  import sys\n",
      "/opt/conda/lib/python3.7/site-packages/ipykernel_launcher.py:5: DeprecationWarning: time.clock has been deprecated in Python 3.3 and will be removed from Python 3.8: use time.perf_counter or time.process_time instead\n",
      "  \"\"\"\n",
      "/opt/conda/lib/python3.7/site-packages/ipykernel_launcher.py:7: DeprecationWarning: time.clock has been deprecated in Python 3.3 and will be removed from Python 3.8: use time.perf_counter or time.process_time instead\n",
      "  import sys\n",
      "/opt/conda/lib/python3.7/site-packages/ipykernel_launcher.py:5: DeprecationWarning: time.clock has been deprecated in Python 3.3 and will be removed from Python 3.8: use time.perf_counter or time.process_time instead\n",
      "  \"\"\"\n",
      "/opt/conda/lib/python3.7/site-packages/ipykernel_launcher.py:7: DeprecationWarning: time.clock has been deprecated in Python 3.3 and will be removed from Python 3.8: use time.perf_counter or time.process_time instead\n",
      "  import sys\n",
      "/opt/conda/lib/python3.7/site-packages/ipykernel_launcher.py:5: DeprecationWarning: time.clock has been deprecated in Python 3.3 and will be removed from Python 3.8: use time.perf_counter or time.process_time instead\n",
      "  \"\"\"\n",
      "/opt/conda/lib/python3.7/site-packages/ipykernel_launcher.py:7: DeprecationWarning: time.clock has been deprecated in Python 3.3 and will be removed from Python 3.8: use time.perf_counter or time.process_time instead\n",
      "  import sys\n"
     ]
    },
    {
     "data": {
      "text/plain": [
       "('tf-idf_10to0,2_bigram_lsa1000', SVC(C=3, gamma=0.2))"
      ]
     },
     "execution_count": 21,
     "metadata": {},
     "output_type": "execute_result"
    }
   ],
   "source": [
    "# Наивный Байес не подходит к работе с LDA/LSI, потому что с понижением размерности переменные становятся зависимыми,\n",
    "# а Наивный Байес работает только с независимыми переменными\n",
    "run_model('tf-idf_10to0,2_bigram_lsa1000', GradientBoostingClassifier(), X_train, X_val, y_train, y_val, result)\n",
    "run_model('tf-idf_10to0,2_bigram_lsa1000', LogisticRegression(), X_train, X_val, y_train, y_val, result)\n",
    "run_model('tf-idf_10to0,2_bigram_lsa1000', KNeighborsClassifier(), X_train, X_val, y_train, y_val, result)\n",
    "run_model('tf-idf_10to0,2_bigram_lsa1000', SVC(C=3, gamma=0.2), X_train, X_val, y_train, y_val, result)"
   ]
  },
  {
   "cell_type": "code",
   "execution_count": 22,
   "id": "60867a99",
   "metadata": {
    "execution": {
     "iopub.execute_input": "2022-06-02T08:57:06.754286Z",
     "iopub.status.busy": "2022-06-02T08:57:06.753342Z",
     "iopub.status.idle": "2022-06-02T08:57:06.765798Z",
     "shell.execute_reply": "2022-06-02T08:57:06.765015Z"
    },
    "papermill": {
     "duration": 0.094379,
     "end_time": "2022-06-02T08:57:06.768084",
     "exception": false,
     "start_time": "2022-06-02T08:57:06.673705",
     "status": "completed"
    },
    "tags": []
   },
   "outputs": [
    {
     "data": {
      "text/html": [
       "<div>\n",
       "<style scoped>\n",
       "    .dataframe tbody tr th:only-of-type {\n",
       "        vertical-align: middle;\n",
       "    }\n",
       "\n",
       "    .dataframe tbody tr th {\n",
       "        vertical-align: top;\n",
       "    }\n",
       "\n",
       "    .dataframe thead th {\n",
       "        text-align: right;\n",
       "    }\n",
       "</style>\n",
       "<table border=\"1\" class=\"dataframe\">\n",
       "  <thead>\n",
       "    <tr style=\"text-align: right;\">\n",
       "      <th></th>\n",
       "      <th>vecModel</th>\n",
       "      <th>model</th>\n",
       "      <th>accuracy_score</th>\n",
       "      <th>f1_score</th>\n",
       "      <th>time</th>\n",
       "    </tr>\n",
       "  </thead>\n",
       "  <tbody>\n",
       "    <tr>\n",
       "      <th>0</th>\n",
       "      <td>tf-idf_10to0,2_bigram_lsa1000</td>\n",
       "      <td>GradientBoostingClassifier()</td>\n",
       "      <td>0.917813</td>\n",
       "      <td>0.916904</td>\n",
       "      <td>465.382047</td>\n",
       "    </tr>\n",
       "    <tr>\n",
       "      <th>1</th>\n",
       "      <td>tf-idf_10to0,2_bigram_lsa1000</td>\n",
       "      <td>LogisticRegression()</td>\n",
       "      <td>0.953750</td>\n",
       "      <td>0.953459</td>\n",
       "      <td>1.907316</td>\n",
       "    </tr>\n",
       "    <tr>\n",
       "      <th>2</th>\n",
       "      <td>tf-idf_10to0,2_bigram_lsa1000</td>\n",
       "      <td>KNeighborsClassifier()</td>\n",
       "      <td>0.784375</td>\n",
       "      <td>0.801724</td>\n",
       "      <td>6.510486</td>\n",
       "    </tr>\n",
       "    <tr>\n",
       "      <th>3</th>\n",
       "      <td>tf-idf_10to0,2_bigram_lsa1000</td>\n",
       "      <td>SVC(C=3, gamma=0.2)</td>\n",
       "      <td>0.958438</td>\n",
       "      <td>0.958110</td>\n",
       "      <td>58.734586</td>\n",
       "    </tr>\n",
       "  </tbody>\n",
       "</table>\n",
       "</div>"
      ],
      "text/plain": [
       "                        vecModel                         model  \\\n",
       "0  tf-idf_10to0,2_bigram_lsa1000  GradientBoostingClassifier()   \n",
       "1  tf-idf_10to0,2_bigram_lsa1000          LogisticRegression()   \n",
       "2  tf-idf_10to0,2_bigram_lsa1000        KNeighborsClassifier()   \n",
       "3  tf-idf_10to0,2_bigram_lsa1000           SVC(C=3, gamma=0.2)   \n",
       "\n",
       "   accuracy_score  f1_score        time  \n",
       "0        0.917813  0.916904  465.382047  \n",
       "1        0.953750  0.953459    1.907316  \n",
       "2        0.784375  0.801724    6.510486  \n",
       "3        0.958438  0.958110   58.734586  "
      ]
     },
     "execution_count": 22,
     "metadata": {},
     "output_type": "execute_result"
    }
   ],
   "source": [
    "result"
   ]
  },
  {
   "cell_type": "markdown",
   "id": "f32f3028",
   "metadata": {
    "papermill": {
     "duration": 0.078277,
     "end_time": "2022-06-02T08:57:06.924248",
     "exception": false,
     "start_time": "2022-06-02T08:57:06.845971",
     "status": "completed"
    },
    "tags": []
   },
   "source": [
    "# Bag-Of_words:\n",
    "### Многие алгоритмы на нём будут работать так себе, но для нас это базовое решение, от которого мы будем смотреть динамику результатов."
   ]
  },
  {
   "cell_type": "markdown",
   "id": "83cb8b17",
   "metadata": {
    "papermill": {
     "duration": 0.079441,
     "end_time": "2022-06-02T08:57:07.091148",
     "exception": false,
     "start_time": "2022-06-02T08:57:07.011707",
     "status": "completed"
    },
    "tags": []
   },
   "source": [
    "model accuracy_score f1_score time\n",
    "\n",
    "GaussianNB() 0.658125 0.594815 11.616017\n",
    "\n",
    "SVC(C=3, gamma=0.2) 0.507500 0.074031 583.801286\n",
    "\n",
    "GradientBoostingClassifier() 0.914375 0.913016 51.207989"
   ]
  },
  {
   "cell_type": "markdown",
   "id": "fd0c0695",
   "metadata": {
    "papermill": {
     "duration": 0.079056,
     "end_time": "2022-06-02T08:57:07.250505",
     "exception": false,
     "start_time": "2022-06-02T08:57:07.171449",
     "status": "completed"
    },
    "tags": []
   },
   "source": [
    "# TF-IDF\n",
    "### Все алгоритмы показали улучшение результата из-за снижения размера переменных, особенно SVM"
   ]
  },
  {
   "cell_type": "markdown",
   "id": "8b7fd8d5",
   "metadata": {
    "papermill": {
     "duration": 0.079304,
     "end_time": "2022-06-02T08:57:07.408519",
     "exception": false,
     "start_time": "2022-06-02T08:57:07.329215",
     "status": "completed"
    },
    "tags": []
   },
   "source": [
    "model accuracy_score f1_score time\n",
    "\n",
    "GaussianNB() 0.669375 0.634921 10.025226\n",
    "\n",
    "GradientBoostingClassifier() 0.912188 0.910935 81.996412\n",
    "\n",
    "LogisticRegression() 0.952812 0.952768 5.771546\n",
    "\n",
    "KNeighborsClassifier() 0.815000 0.787966 3.658578\n",
    "\n",
    "SVC(C=3, gamma=0.2) 0.956875 0.956821 80.215084"
   ]
  },
  {
   "cell_type": "markdown",
   "id": "fa9ac81c",
   "metadata": {
    "papermill": {
     "duration": 0.077763,
     "end_time": "2022-06-02T08:57:07.565396",
     "exception": false,
     "start_time": "2022-06-02T08:57:07.487633",
     "status": "completed"
    },
    "tags": []
   },
   "source": [
    "# TF-IDF без редких слов\n",
    "\n",
    "### Скорость работы выросла у всех, кроме KNN\n",
    "\n",
    "### Наивный Байес показал большую прибавку к точности, остальные работают примерно так же"
   ]
  },
  {
   "cell_type": "markdown",
   "id": "3c042a1e",
   "metadata": {
    "papermill": {
     "duration": 0.077326,
     "end_time": "2022-06-02T08:57:07.720884",
     "exception": false,
     "start_time": "2022-06-02T08:57:07.643558",
     "status": "completed"
    },
    "tags": []
   },
   "source": [
    "model accuracy_score f1_score time\n",
    "\n",
    "GaussianNB()\t0.807500\t0.808219\t2.358762\n",
    "\n",
    "GradientBoostingClassifier()\t0.912188\t0.910935\t43.745193\n",
    "\n",
    "LogisticRegression()\t0.953125\t0.953066\t3.721916\n",
    "\n",
    "KNeighborsClassifier()\t0.824688\t0.801837\t3.795682\n",
    "\n",
    "SVC(C=3, gamma=0.2)\t0.957500\t0.957367\t71.331705"
   ]
  },
  {
   "cell_type": "markdown",
   "id": "e9ae4a1c",
   "metadata": {
    "papermill": {
     "duration": 0.077053,
     "end_time": "2022-06-02T08:57:07.875571",
     "exception": false,
     "start_time": "2022-06-02T08:57:07.798518",
     "status": "completed"
    },
    "tags": []
   },
   "source": [
    "# TF-IDF без редких и частых слов\n",
    "\n",
    "### Все алгоритмы стали работать чуть хуже.\n",
    "\n",
    "### Логистическая регрессия стала работать крайне быстро, хороший вариант для интерактивной работы\n",
    "\n",
    "### По совету я стал использовать мультиномиального Наивного Байеса, он показал заметное улучшение результата относительно гауссова Наивного Байеса"
   ]
  },
  {
   "cell_type": "markdown",
   "id": "1bd8026e",
   "metadata": {
    "papermill": {
     "duration": 0.076937,
     "end_time": "2022-06-02T08:57:08.029879",
     "exception": false,
     "start_time": "2022-06-02T08:57:07.952942",
     "status": "completed"
    },
    "tags": []
   },
   "source": [
    "model\taccuracy_score\tf1_score\ttime\n",
    "\n",
    "MultinomialNB()\t0.926250\t0.925505\t1.036015\n",
    "\n",
    "GradientBoostingClassifier()\t0.896875\t0.894163\t34.258743\n",
    "\n",
    "LogisticRegression()\t0.952812\t0.952590\t0.250303\n",
    "\n",
    "KNeighborsClassifier()\t0.815937\t0.794702\t2.969132\n",
    "\n",
    "SVC(C=3, gamma=0.2)\t0.952812\t0.952471\t65.909516"
   ]
  },
  {
   "cell_type": "markdown",
   "id": "bcd8cec6",
   "metadata": {
    "papermill": {
     "duration": 0.077196,
     "end_time": "2022-06-02T08:57:08.184726",
     "exception": false,
     "start_time": "2022-06-02T08:57:08.107530",
     "status": "completed"
    },
    "tags": []
   },
   "source": [
    "# TF-IDF без редких и частых слов с биграммами\n",
    "\n",
    "### Все алгоритмы стали работать немного лучше, относительно других вариантов предобработки, кроме решения с деревьями (градиентный бустинг)\n",
    "\n",
    "### Все алгоритмы стали работать заметно дольше"
   ]
  },
  {
   "cell_type": "markdown",
   "id": "98ca39f6",
   "metadata": {
    "papermill": {
     "duration": 0.077444,
     "end_time": "2022-06-02T08:57:08.339489",
     "exception": false,
     "start_time": "2022-06-02T08:57:08.262045",
     "status": "completed"
    },
    "tags": []
   },
   "source": [
    "vecModel\tmodel\taccuracy_score\tf1_score\ttime\n",
    "\n",
    "MultinomialNB()\t0.931250\t0.930861\t4.595049\n",
    "\n",
    "GradientBoostingClassifier()\t0.902813\t0.900225\t61.432362\n",
    "\n",
    "LogisticRegression()\t0.953438\t0.953218\t5.404199\n",
    "\n",
    "KNeighborsClassifier()\t0.827187\t0.810681\t4.028652\n",
    "\n",
    "SVC(C=3, gamma=0.2)\t0.959375\t0.959119\t170.842733"
   ]
  },
  {
   "cell_type": "markdown",
   "id": "b9022fd5",
   "metadata": {
    "papermill": {
     "duration": 0.079718,
     "end_time": "2022-06-02T08:57:08.497866",
     "exception": false,
     "start_time": "2022-06-02T08:57:08.418148",
     "status": "completed"
    },
    "tags": []
   },
   "source": [
    "# LSA (Латентно-семантический анализ) и LDA (Латентное размещение Дирихле)"
   ]
  },
  {
   "cell_type": "markdown",
   "id": "ee153083",
   "metadata": {
    "papermill": {
     "duration": 0.078835,
     "end_time": "2022-06-02T08:57:08.655559",
     "exception": false,
     "start_time": "2022-06-02T08:57:08.576724",
     "status": "completed"
    },
    "tags": []
   },
   "source": [
    "# TF-IDF без редких и частых слов, с LSI (1000 категорий)\n",
    "\n",
    "### Результаты ухудшились.\n",
    "\n",
    "### Нормализация портит результат"
   ]
  },
  {
   "cell_type": "markdown",
   "id": "ca415ca3",
   "metadata": {
    "papermill": {
     "duration": 0.077934,
     "end_time": "2022-06-02T08:57:08.812002",
     "exception": false,
     "start_time": "2022-06-02T08:57:08.734068",
     "status": "completed"
    },
    "tags": []
   },
   "source": [
    "model\taccuracy_score\tf1_score\ttime\n",
    "\n",
    "GradientBoostingClassifier()\t0.911563\t0.910244\t490.110150\n",
    "\n",
    "LogisticRegression()\t0.950937\t0.950706\t2.274439\n",
    "\n",
    "KNeighborsClassifier()\t0.712500\t0.759916\t6.646384\n",
    "\n",
    "SVC(C=3, gamma=0.2)\t0.952500\t0.952231\t67.665378"
   ]
  },
  {
   "cell_type": "markdown",
   "id": "76c6d874",
   "metadata": {
    "papermill": {
     "duration": 0.078465,
     "end_time": "2022-06-02T08:57:08.968535",
     "exception": false,
     "start_time": "2022-06-02T08:57:08.890070",
     "status": "completed"
    },
    "tags": []
   },
   "source": [
    "# TF-IDF без редких и частых слов с биграммами, с LSI (1000)\n",
    "\n",
    "### Долго, но результат получается неплохой\n",
    "\n",
    "### Дальнейшее уменьшение размерности портит результат на всех алгоритмах, кроме градбустинга (из-за обобщающих свойств)"
   ]
  },
  {
   "cell_type": "markdown",
   "id": "adabbe67",
   "metadata": {
    "papermill": {
     "duration": 0.077325,
     "end_time": "2022-06-02T08:57:09.123483",
     "exception": false,
     "start_time": "2022-06-02T08:57:09.046158",
     "status": "completed"
    },
    "tags": []
   },
   "source": [
    "model\taccuracy_score\tf1_score\ttime\n",
    "\n",
    "GradientBoostingClassifier()\t0.919687\t0.918902\t492.319498\n",
    "\n",
    "LogisticRegression()\t0.953438\t0.953159\t1.947848\n",
    "\n",
    "KNeighborsClassifier()\t0.794375\t0.812322\t6.562554\n",
    "\n",
    "SVC(C=3, gamma=0.2)\t0.958438\t0.958216\t71.395366"
   ]
  },
  {
   "cell_type": "markdown",
   "id": "cb479798",
   "metadata": {
    "papermill": {
     "duration": 0.079605,
     "end_time": "2022-06-02T08:57:09.283142",
     "exception": false,
     "start_time": "2022-06-02T08:57:09.203537",
     "status": "completed"
    },
    "tags": []
   },
   "source": [
    "# TF-IDF без редких и частых слов, с LDA"
   ]
  },
  {
   "cell_type": "markdown",
   "id": "2e82ae84",
   "metadata": {
    "papermill": {
     "duration": 0.078755,
     "end_time": "2022-06-02T08:57:09.443789",
     "exception": false,
     "start_time": "2022-06-02T08:57:09.365034",
     "status": "completed"
    },
    "tags": []
   },
   "source": []
  },
  {
   "cell_type": "markdown",
   "id": "11fbd89f",
   "metadata": {
    "papermill": {
     "duration": 0.080842,
     "end_time": "2022-06-02T08:57:09.608160",
     "exception": false,
     "start_time": "2022-06-02T08:57:09.527318",
     "status": "completed"
    },
    "tags": []
   },
   "source": [
    "# TF-IDF без редких и частых слов с биграммами, с LDA"
   ]
  },
  {
   "cell_type": "markdown",
   "id": "87453d21",
   "metadata": {
    "papermill": {
     "duration": 0.077485,
     "end_time": "2022-06-02T08:57:09.765629",
     "exception": false,
     "start_time": "2022-06-02T08:57:09.688144",
     "status": "completed"
    },
    "tags": []
   },
   "source": []
  },
  {
   "cell_type": "markdown",
   "id": "dd198882",
   "metadata": {
    "papermill": {
     "duration": 0.079978,
     "end_time": "2022-06-02T08:57:09.925136",
     "exception": false,
     "start_time": "2022-06-02T08:57:09.845158",
     "status": "completed"
    },
    "tags": []
   },
   "source": [
    "# Сохранение и загрузка результата"
   ]
  },
  {
   "cell_type": "code",
   "execution_count": 23,
   "id": "0293859f",
   "metadata": {
    "execution": {
     "iopub.execute_input": "2022-06-02T08:57:10.104181Z",
     "iopub.status.busy": "2022-06-02T08:57:10.103566Z",
     "iopub.status.idle": "2022-06-02T08:57:10.135987Z",
     "shell.execute_reply": "2022-06-02T08:57:10.134972Z"
    },
    "papermill": {
     "duration": 0.118939,
     "end_time": "2022-06-02T08:57:10.138260",
     "exception": false,
     "start_time": "2022-06-02T08:57:10.019321",
     "status": "completed"
    },
    "tags": []
   },
   "outputs": [
    {
     "data": {
      "text/html": [
       "<div>\n",
       "<style scoped>\n",
       "    .dataframe tbody tr th:only-of-type {\n",
       "        vertical-align: middle;\n",
       "    }\n",
       "\n",
       "    .dataframe tbody tr th {\n",
       "        vertical-align: top;\n",
       "    }\n",
       "\n",
       "    .dataframe thead th {\n",
       "        text-align: right;\n",
       "    }\n",
       "</style>\n",
       "<table border=\"1\" class=\"dataframe\">\n",
       "  <thead>\n",
       "    <tr style=\"text-align: right;\">\n",
       "      <th></th>\n",
       "      <th>id</th>\n",
       "      <th>Score</th>\n",
       "    </tr>\n",
       "  </thead>\n",
       "  <tbody>\n",
       "    <tr>\n",
       "      <th>0</th>\n",
       "      <td>0</td>\n",
       "      <td>Positive</td>\n",
       "    </tr>\n",
       "    <tr>\n",
       "      <th>1</th>\n",
       "      <td>1</td>\n",
       "      <td>Positive</td>\n",
       "    </tr>\n",
       "    <tr>\n",
       "      <th>2</th>\n",
       "      <td>2</td>\n",
       "      <td>Positive</td>\n",
       "    </tr>\n",
       "    <tr>\n",
       "      <th>3</th>\n",
       "      <td>3</td>\n",
       "      <td>Positive</td>\n",
       "    </tr>\n",
       "    <tr>\n",
       "      <th>4</th>\n",
       "      <td>4</td>\n",
       "      <td>Positive</td>\n",
       "    </tr>\n",
       "  </tbody>\n",
       "</table>\n",
       "</div>"
      ],
      "text/plain": [
       "   id     Score\n",
       "0   0  Positive\n",
       "1   1  Positive\n",
       "2   2  Positive\n",
       "3   3  Positive\n",
       "4   4  Positive"
      ]
     },
     "execution_count": 23,
     "metadata": {},
     "output_type": "execute_result"
    }
   ],
   "source": [
    "# Формат загружаемого предсказывания\n",
    "sample = pd.read_csv('/kaggle/input/tonality-reviews/sample_submission.csv')\n",
    "sample.head()"
   ]
  },
  {
   "cell_type": "code",
   "execution_count": 24,
   "id": "c8a2063c",
   "metadata": {
    "execution": {
     "iopub.execute_input": "2022-06-02T08:57:10.307033Z",
     "iopub.status.busy": "2022-06-02T08:57:10.306455Z",
     "iopub.status.idle": "2022-06-02T08:58:37.576692Z",
     "shell.execute_reply": "2022-06-02T08:58:37.575998Z"
    },
    "papermill": {
     "duration": 87.434271,
     "end_time": "2022-06-02T08:58:37.656791",
     "exception": false,
     "start_time": "2022-06-02T08:57:10.222520",
     "status": "completed"
    },
    "tags": []
   },
   "outputs": [
    {
     "data": {
      "text/html": [
       "<div>\n",
       "<style scoped>\n",
       "    .dataframe tbody tr th:only-of-type {\n",
       "        vertical-align: middle;\n",
       "    }\n",
       "\n",
       "    .dataframe tbody tr th {\n",
       "        vertical-align: top;\n",
       "    }\n",
       "\n",
       "    .dataframe thead th {\n",
       "        text-align: right;\n",
       "    }\n",
       "</style>\n",
       "<table border=\"1\" class=\"dataframe\">\n",
       "  <thead>\n",
       "    <tr style=\"text-align: right;\">\n",
       "      <th></th>\n",
       "      <th>id</th>\n",
       "      <th>Score</th>\n",
       "    </tr>\n",
       "  </thead>\n",
       "  <tbody>\n",
       "    <tr>\n",
       "      <th>0</th>\n",
       "      <td>0</td>\n",
       "      <td>Positive</td>\n",
       "    </tr>\n",
       "    <tr>\n",
       "      <th>1</th>\n",
       "      <td>1</td>\n",
       "      <td>Negative</td>\n",
       "    </tr>\n",
       "    <tr>\n",
       "      <th>2</th>\n",
       "      <td>2</td>\n",
       "      <td>Negative</td>\n",
       "    </tr>\n",
       "    <tr>\n",
       "      <th>3</th>\n",
       "      <td>3</td>\n",
       "      <td>Negative</td>\n",
       "    </tr>\n",
       "    <tr>\n",
       "      <th>4</th>\n",
       "      <td>4</td>\n",
       "      <td>Positive</td>\n",
       "    </tr>\n",
       "    <tr>\n",
       "      <th>...</th>\n",
       "      <td>...</td>\n",
       "      <td>...</td>\n",
       "    </tr>\n",
       "    <tr>\n",
       "      <th>3995</th>\n",
       "      <td>3995</td>\n",
       "      <td>Negative</td>\n",
       "    </tr>\n",
       "    <tr>\n",
       "      <th>3996</th>\n",
       "      <td>3996</td>\n",
       "      <td>Negative</td>\n",
       "    </tr>\n",
       "    <tr>\n",
       "      <th>3997</th>\n",
       "      <td>3997</td>\n",
       "      <td>Negative</td>\n",
       "    </tr>\n",
       "    <tr>\n",
       "      <th>3998</th>\n",
       "      <td>3998</td>\n",
       "      <td>Negative</td>\n",
       "    </tr>\n",
       "    <tr>\n",
       "      <th>3999</th>\n",
       "      <td>3999</td>\n",
       "      <td>Positive</td>\n",
       "    </tr>\n",
       "  </tbody>\n",
       "</table>\n",
       "<p>4000 rows × 2 columns</p>\n",
       "</div>"
      ],
      "text/plain": [
       "        id     Score\n",
       "0        0  Positive\n",
       "1        1  Negative\n",
       "2        2  Negative\n",
       "3        3  Negative\n",
       "4        4  Positive\n",
       "...    ...       ...\n",
       "3995  3995  Negative\n",
       "3996  3996  Negative\n",
       "3997  3997  Negative\n",
       "3998  3998  Negative\n",
       "3999  3999  Positive\n",
       "\n",
       "[4000 rows x 2 columns]"
      ]
     },
     "execution_count": 24,
     "metadata": {},
     "output_type": "execute_result"
    }
   ],
   "source": [
    "model = SVC(C=3, gamma=0.2)\n",
    "y_pred = model.fit(lsa, y).predict(X_test)\n",
    "submission = pd.DataFrame(y_pred, columns=['Score'])\n",
    "submission = submission.reset_index().rename(columns={\"index\": \"id\"})\n",
    "# Перевод в изначальный вид решающей переменной\n",
    "submission['Score'].replace(1, 'Positive', inplace=True)\n",
    "submission['Score'].replace(0, 'Negative', inplace=True)\n",
    "submission"
   ]
  },
  {
   "cell_type": "code",
   "execution_count": 25,
   "id": "a292210a",
   "metadata": {
    "execution": {
     "iopub.execute_input": "2022-06-02T08:58:37.815883Z",
     "iopub.status.busy": "2022-06-02T08:58:37.815584Z",
     "iopub.status.idle": "2022-06-02T08:58:37.832568Z",
     "shell.execute_reply": "2022-06-02T08:58:37.831818Z"
    },
    "papermill": {
     "duration": 0.099375,
     "end_time": "2022-06-02T08:58:37.834806",
     "exception": false,
     "start_time": "2022-06-02T08:58:37.735431",
     "status": "completed"
    },
    "tags": []
   },
   "outputs": [],
   "source": [
    "submission.to_csv('submit.csv',index=False)"
   ]
  },
  {
   "cell_type": "code",
   "execution_count": null,
   "id": "09db230d",
   "metadata": {
    "papermill": {
     "duration": 0.078514,
     "end_time": "2022-06-02T08:58:37.992952",
     "exception": false,
     "start_time": "2022-06-02T08:58:37.914438",
     "status": "completed"
    },
    "tags": []
   },
   "outputs": [],
   "source": []
  }
 ],
 "metadata": {
  "kernelspec": {
   "display_name": "Python 3",
   "language": "python",
   "name": "python3"
  },
  "language_info": {
   "codemirror_mode": {
    "name": "ipython",
    "version": 3
   },
   "file_extension": ".py",
   "mimetype": "text/x-python",
   "name": "python",
   "nbconvert_exporter": "python",
   "pygments_lexer": "ipython3",
   "version": "3.7.12"
  },
  "papermill": {
   "default_parameters": {},
   "duration": 2228.355136,
   "end_time": "2022-06-02T08:58:39.803466",
   "environment_variables": {},
   "exception": null,
   "input_path": "__notebook__.ipynb",
   "output_path": "__notebook__.ipynb",
   "parameters": {},
   "start_time": "2022-06-02T08:21:31.448330",
   "version": "2.3.4"
  }
 },
 "nbformat": 4,
 "nbformat_minor": 5
}
